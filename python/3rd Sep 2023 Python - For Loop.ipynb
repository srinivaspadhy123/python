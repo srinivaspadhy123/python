{
 "cells": [
  {
   "cell_type": "code",
   "execution_count": 10,
   "id": "9a3eaad1",
   "metadata": {},
   "outputs": [],
   "source": [
    "# 1. Write a Python program to print the numbers from 1 to 10 using a `for` loop."
   ]
  },
  {
   "cell_type": "code",
   "execution_count": 1,
   "id": "ed35ca2a",
   "metadata": {},
   "outputs": [
    {
     "name": "stdout",
     "output_type": "stream",
     "text": [
      "1\n",
      "2\n",
      "3\n",
      "4\n",
      "5\n",
      "6\n",
      "7\n",
      "8\n",
      "9\n",
      "10\n"
     ]
    }
   ],
   "source": [
    "for i in range(1,11,1):\n",
    "    print(i)"
   ]
  },
  {
   "cell_type": "code",
   "execution_count": 2,
   "id": "a4c56d88",
   "metadata": {},
   "outputs": [],
   "source": [
    "# 2. Create a program that calculates the sum of all numbers in a list using a `for` loop."
   ]
  },
  {
   "cell_type": "code",
   "execution_count": 3,
   "id": "0704a342",
   "metadata": {},
   "outputs": [
    {
     "name": "stdout",
     "output_type": "stream",
     "text": [
      "321\n"
     ]
    }
   ],
   "source": [
    "l = [2,34,89,1,34,54,93,2,4,8]\n",
    "s=0\n",
    "for i in l:\n",
    "    s+=i\n",
    "print(s)"
   ]
  },
  {
   "cell_type": "code",
   "execution_count": 4,
   "id": "14d36fd6",
   "metadata": {},
   "outputs": [],
   "source": [
    "# 3. Write a program to print the characters of a string in reverse order using a `for` loop."
   ]
  },
  {
   "cell_type": "code",
   "execution_count": 23,
   "id": "359222ef",
   "metadata": {},
   "outputs": [
    {
     "name": "stdout",
     "output_type": "stream",
     "text": [
      "yhdapsavinirs\n"
     ]
    }
   ],
   "source": [
    "s='srinivaspadhy'\n",
    "reverse = ''\n",
    "for i in range(len(s)-1,-1,-1):\n",
    "    reverse=reverse+s[i]\n",
    "print(reverse)\n"
   ]
  },
  {
   "cell_type": "code",
   "execution_count": 5,
   "id": "34f90d1d",
   "metadata": {},
   "outputs": [],
   "source": [
    "# 4. Develop a program that finds the factorial of a given number using a `for` loop."
   ]
  },
  {
   "cell_type": "code",
   "execution_count": 25,
   "id": "96340984",
   "metadata": {},
   "outputs": [
    {
     "name": "stdout",
     "output_type": "stream",
     "text": [
      "120\n"
     ]
    }
   ],
   "source": [
    "n = 5\n",
    "fact = 1\n",
    "for i in range(1,n+1,1):\n",
    "    fact*=i\n",
    "print(fact)"
   ]
  },
  {
   "cell_type": "code",
   "execution_count": 26,
   "id": "40f78094",
   "metadata": {},
   "outputs": [],
   "source": [
    "# 5. Create a program to print the multiplication table of a given number using a `for` loop."
   ]
  },
  {
   "cell_type": "code",
   "execution_count": 27,
   "id": "08c27f93",
   "metadata": {},
   "outputs": [
    {
     "name": "stdout",
     "output_type": "stream",
     "text": [
      "10 * 1 = 10\n",
      "10 * 2 = 20\n",
      "10 * 3 = 30\n",
      "10 * 4 = 40\n",
      "10 * 5 = 50\n",
      "10 * 6 = 60\n",
      "10 * 7 = 70\n",
      "10 * 8 = 80\n",
      "10 * 9 = 90\n",
      "10 * 10 = 100\n"
     ]
    }
   ],
   "source": [
    "n = 10\n",
    "for i in range(1,11,1):\n",
    "    print(f\"10 * {i} = {n*i}\")"
   ]
  },
  {
   "cell_type": "code",
   "execution_count": 28,
   "id": "0b731bd6",
   "metadata": {},
   "outputs": [],
   "source": [
    "# 6. Write a program that counts the number of even and odd numbers in a list using a `for` loop."
   ]
  },
  {
   "cell_type": "code",
   "execution_count": 31,
   "id": "5a4e6766",
   "metadata": {},
   "outputs": [
    {
     "name": "stdout",
     "output_type": "stream",
     "text": [
      "odd_count =  6\n",
      "even_count =  7\n"
     ]
    }
   ],
   "source": [
    "l = [2,4,5,6,7,9,12,31,43,45,46,86,10]\n",
    "even_count = 0\n",
    "odd_count = 0\n",
    "for i in l:\n",
    "    if i%2==0:\n",
    "        even_count+=1\n",
    "    else:\n",
    "        odd_count+=1\n",
    "print(\"odd_count = \",odd_count)\n",
    "print(\"even_count = \",even_count)"
   ]
  },
  {
   "cell_type": "code",
   "execution_count": 32,
   "id": "9fefa9a4",
   "metadata": {},
   "outputs": [],
   "source": [
    "# 7. Develop a program that prints the squares of numbers from 1 to 5 using a `for` loop."
   ]
  },
  {
   "cell_type": "code",
   "execution_count": 33,
   "id": "b2f5cf58",
   "metadata": {},
   "outputs": [
    {
     "name": "stdout",
     "output_type": "stream",
     "text": [
      "square of 1 is 1\n",
      "square of 2 is 4\n",
      "square of 3 is 9\n",
      "square of 4 is 16\n",
      "square of 5 is 25\n"
     ]
    }
   ],
   "source": [
    "for i in range(1,6,1):\n",
    "    print(f\"square of {i} is {i*i}\")"
   ]
  },
  {
   "cell_type": "code",
   "execution_count": 34,
   "id": "b681c509",
   "metadata": {},
   "outputs": [],
   "source": [
    "# 8. Create a program to find the length of a string without using the `len()` function."
   ]
  },
  {
   "cell_type": "code",
   "execution_count": 35,
   "id": "1badc9e9",
   "metadata": {},
   "outputs": [
    {
     "name": "stdout",
     "output_type": "stream",
     "text": [
      "8\n"
     ]
    }
   ],
   "source": [
    "s = \"srinivas\"\n",
    "l=0\n",
    "for i in s:\n",
    "    l+=1\n",
    "print(l)"
   ]
  },
  {
   "cell_type": "code",
   "execution_count": 36,
   "id": "eea4bdea",
   "metadata": {},
   "outputs": [],
   "source": [
    "# 9. Write a program that calculates the average of a list of numbers using a `for` loop."
   ]
  },
  {
   "cell_type": "code",
   "execution_count": 37,
   "id": "2b9c48aa",
   "metadata": {},
   "outputs": [
    {
     "name": "stdout",
     "output_type": "stream",
     "text": [
      "23.53846153846154\n"
     ]
    }
   ],
   "source": [
    "l = [2,4,5,6,7,9,12,31,43,45,46,86,10]\n",
    "s=0\n",
    "for i in l:\n",
    "    s+=i\n",
    "average = s/len(l)\n",
    "print(average)"
   ]
  },
  {
   "cell_type": "code",
   "execution_count": 38,
   "id": "5edcec5a",
   "metadata": {},
   "outputs": [],
   "source": [
    "# 10. Develop a program that prints the first `n` Fibonacci numbers using a `for` loop."
   ]
  },
  {
   "cell_type": "code",
   "execution_count": 39,
   "id": "1469a873",
   "metadata": {},
   "outputs": [
    {
     "name": "stdout",
     "output_type": "stream",
     "text": [
      "[0, 1, 1, 2, 3, 5, 8, 13, 21, 34]\n"
     ]
    }
   ],
   "source": [
    "n = 10\n",
    "fibonacci_sequence = []\n",
    "first = 0\n",
    "second = 1\n",
    "for _ in range(n):\n",
    "    fibonacci_sequence.append(first)\n",
    "    next_number = first + second\n",
    "    first, second = second, next_number\n",
    "print(fibonacci_sequence)"
   ]
  },
  {
   "cell_type": "code",
   "execution_count": 49,
   "id": "98b393ab",
   "metadata": {},
   "outputs": [],
   "source": [
    "# 11. Write a program to check if a given list contains any duplicates using a `for` loop."
   ]
  },
  {
   "cell_type": "code",
   "execution_count": 59,
   "id": "8361aedc",
   "metadata": {},
   "outputs": [
    {
     "name": "stdout",
     "output_type": "stream",
     "text": [
      "True\n"
     ]
    }
   ],
   "source": [
    "l = [2,3,4,5,3,8,9,45,65,45,9,5]\n",
    "# l = [2,3,4,5,6,7,8,9]\n",
    "flag = False\n",
    "for index,i in enumerate(l):\n",
    "    if i in l[index+1:]:\n",
    "        flag = True\n",
    "        break\n",
    "    flag=False\n",
    "\n",
    "print(flag)"
   ]
  },
  {
   "cell_type": "code",
   "execution_count": 60,
   "id": "b55e7350",
   "metadata": {},
   "outputs": [],
   "source": [
    "# 12. Create a program that prints the prime numbers in a given range using a `for` loop."
   ]
  },
  {
   "cell_type": "code",
   "execution_count": 61,
   "id": "f093fe4c",
   "metadata": {},
   "outputs": [
    {
     "name": "stdout",
     "output_type": "stream",
     "text": [
      "11\n",
      "13\n",
      "17\n",
      "19\n",
      "23\n",
      "29\n",
      "31\n",
      "37\n",
      "41\n",
      "43\n",
      "47\n"
     ]
    }
   ],
   "source": [
    "def is_prime(n):\n",
    "    if n <= 1:\n",
    "        return False\n",
    "    if n <= 3:\n",
    "        return True\n",
    "    if n % 2 == 0 or n % 3 == 0:\n",
    "        return False\n",
    "\n",
    "    i = 5\n",
    "    while i * i <= n:\n",
    "        if n % i == 0 or n % (i + 2) == 0:\n",
    "            return False\n",
    "        i += 6\n",
    "\n",
    "    return True\n",
    "\n",
    "def print_prime_numbers_in_range(start, end):\n",
    "    for num in range(start, end + 1):\n",
    "        if is_prime(num):\n",
    "            print(num)\n",
    "\n",
    "print_prime_numbers_in_range(10,50)"
   ]
  },
  {
   "cell_type": "code",
   "execution_count": 62,
   "id": "8207f2d6",
   "metadata": {},
   "outputs": [],
   "source": [
    "# 13. Develop a program that counts the number of vowels in a string using a `for` loop."
   ]
  },
  {
   "cell_type": "code",
   "execution_count": 63,
   "id": "b661e401",
   "metadata": {},
   "outputs": [
    {
     "name": "stdout",
     "output_type": "stream",
     "text": [
      "{'i': 2, 'a': 2}\n"
     ]
    }
   ],
   "source": [
    "s = 'srinivaspadhy'\n",
    "vowel = 'aeiou'\n",
    "d = {}\n",
    "for i in s.lower():\n",
    "    if i in vowel:\n",
    "        d[i] = s.count(i)\n",
    "print(d)"
   ]
  },
  {
   "cell_type": "code",
   "execution_count": 64,
   "id": "a7f5576e",
   "metadata": {},
   "outputs": [],
   "source": [
    "# 14. Write a program to find the maximum element in a 2D list using a nested `for` loop."
   ]
  },
  {
   "cell_type": "code",
   "execution_count": 65,
   "id": "1d5ab8c8",
   "metadata": {},
   "outputs": [
    {
     "name": "stdout",
     "output_type": "stream",
     "text": [
      "92\n"
     ]
    }
   ],
   "source": [
    "l = [[3,45,6,78,20],[2,56,4,2,89],[8,19,92,68,39]]\n",
    "high = 0\n",
    "for i in l:\n",
    "    for j in i:\n",
    "        if j > high:\n",
    "            high = j\n",
    "if high > 0:\n",
    "    print(high)"
   ]
  },
  {
   "cell_type": "code",
   "execution_count": 66,
   "id": "4785202b",
   "metadata": {},
   "outputs": [],
   "source": [
    "# 15. Create a program that removes all occurrences of a specific element from a list using a `for` loop."
   ]
  },
  {
   "cell_type": "code",
   "execution_count": 67,
   "id": "887b475f",
   "metadata": {},
   "outputs": [
    {
     "name": "stdout",
     "output_type": "stream",
     "text": [
      "[2, 3, 4, 5, 3, 8, 45, 65, 45, 5]\n"
     ]
    }
   ],
   "source": [
    "l = [2,3,4,5,3,8,9,45,65,45,9,5]\n",
    "n = 9\n",
    "for i in l:\n",
    "    if n == i:\n",
    "        l.pop(l.index(i))\n",
    "print(l)\n"
   ]
  },
  {
   "cell_type": "code",
   "execution_count": 68,
   "id": "51bb11ba",
   "metadata": {},
   "outputs": [],
   "source": [
    "# 16. Develop a program that generates a multiplication table for numbers from 1 to 5 using a nested `for` loop."
   ]
  },
  {
   "cell_type": "code",
   "execution_count": 69,
   "id": "ed82124f",
   "metadata": {},
   "outputs": [
    {
     "name": "stdout",
     "output_type": "stream",
     "text": [
      "1 * 1 = 1\n",
      "1 * 2 = 2\n",
      "1 * 3 = 3\n",
      "1 * 4 = 4\n",
      "1 * 5 = 5\n",
      "1 * 6 = 6\n",
      "1 * 7 = 7\n",
      "1 * 8 = 8\n",
      "1 * 9 = 9\n",
      "1 * 10 = 10\n",
      "2 * 1 = 2\n",
      "2 * 2 = 4\n",
      "2 * 3 = 6\n",
      "2 * 4 = 8\n",
      "2 * 5 = 10\n",
      "2 * 6 = 12\n",
      "2 * 7 = 14\n",
      "2 * 8 = 16\n",
      "2 * 9 = 18\n",
      "2 * 10 = 20\n",
      "3 * 1 = 3\n",
      "3 * 2 = 6\n",
      "3 * 3 = 9\n",
      "3 * 4 = 12\n",
      "3 * 5 = 15\n",
      "3 * 6 = 18\n",
      "3 * 7 = 21\n",
      "3 * 8 = 24\n",
      "3 * 9 = 27\n",
      "3 * 10 = 30\n",
      "4 * 1 = 4\n",
      "4 * 2 = 8\n",
      "4 * 3 = 12\n",
      "4 * 4 = 16\n",
      "4 * 5 = 20\n",
      "4 * 6 = 24\n",
      "4 * 7 = 28\n",
      "4 * 8 = 32\n",
      "4 * 9 = 36\n",
      "4 * 10 = 40\n",
      "5 * 1 = 5\n",
      "5 * 2 = 10\n",
      "5 * 3 = 15\n",
      "5 * 4 = 20\n",
      "5 * 5 = 25\n",
      "5 * 6 = 30\n",
      "5 * 7 = 35\n",
      "5 * 8 = 40\n",
      "5 * 9 = 45\n",
      "5 * 10 = 50\n"
     ]
    }
   ],
   "source": [
    "for i in range(1,6,1):\n",
    "    for j in range(1,11,1):\n",
    "        print(f\"{i} * {j} = {i*j}\")"
   ]
  },
  {
   "cell_type": "code",
   "execution_count": 70,
   "id": "437b6dec",
   "metadata": {},
   "outputs": [],
   "source": [
    "# 17. Write a program that converts a list of Fahrenheit temperatures to Celsius using a `for` loop."
   ]
  },
  {
   "cell_type": "code",
   "execution_count": 72,
   "id": "e82b548f",
   "metadata": {},
   "outputs": [
    {
     "name": "stdout",
     "output_type": "stream",
     "text": [
      "[52.77777777777778, 135.55555555555557, 31.666666666666668, 38.88888888888889, 31.666666666666668, -17.77777777777778, 32.22222222222222, 18.333333333333336, 20.0]\n"
     ]
    }
   ],
   "source": [
    "far = [127,276,89,102,89,0,90,65,68]\n",
    "cel = [(i-32)*(5/9) for i in far]\n",
    "print(cel)"
   ]
  },
  {
   "cell_type": "code",
   "execution_count": 73,
   "id": "2dd3372c",
   "metadata": {},
   "outputs": [],
   "source": [
    "# 18. Create a program to print the common elements from two lists using a `for` loop."
   ]
  },
  {
   "cell_type": "code",
   "execution_count": 74,
   "id": "806fad73",
   "metadata": {},
   "outputs": [
    {
     "name": "stdout",
     "output_type": "stream",
     "text": [
      "3\n",
      "7\n",
      "0\n"
     ]
    }
   ],
   "source": [
    "l = [3,5,7,8,0,45]\n",
    "l1 = [3,7,0,23,9]\n",
    "for i in l:\n",
    "    if i in l1:\n",
    "        print(i)"
   ]
  },
  {
   "cell_type": "code",
   "execution_count": 75,
   "id": "3acda51f",
   "metadata": {},
   "outputs": [],
   "source": [
    "# 19. Develop a program that prints the pattern of right-angled triangles using a `for` loop. Use ‘*’ to draw the pattern"
   ]
  },
  {
   "cell_type": "code",
   "execution_count": 102,
   "id": "800dc28a",
   "metadata": {},
   "outputs": [
    {
     "name": "stdout",
     "output_type": "stream",
     "text": [
      "     *\n",
      "    **\n",
      "   ***\n",
      "  ****\n",
      " *****\n"
     ]
    }
   ],
   "source": [
    "for i in range(1,6,1):\n",
    "    for j in range(6,i,-1):\n",
    "        print(\" \",end='')\n",
    "    for k in range(1,i+1,1):\n",
    "        print(\"*\",end='')\n",
    "    print()"
   ]
  },
  {
   "cell_type": "code",
   "execution_count": 103,
   "id": "93bce51a",
   "metadata": {},
   "outputs": [],
   "source": [
    "# 20. Write a program to find the greatest common divisor (GCD) of two numbers using a `for` loop."
   ]
  },
  {
   "cell_type": "code",
   "execution_count": 121,
   "id": "95e8f19e",
   "metadata": {},
   "outputs": [
    {
     "name": "stdout",
     "output_type": "stream",
     "text": [
      "24\n"
     ]
    }
   ],
   "source": [
    "n,m = 48,72\n",
    "gcd_list = [i for i in range(1,n+1) if n%i == 0 and m%i ==0]\n",
    "print(gcd_list[len(gcd_list)-1])\n",
    "            "
   ]
  },
  {
   "cell_type": "code",
   "execution_count": 132,
   "id": "faef4b05",
   "metadata": {},
   "outputs": [],
   "source": [
    "# 21. Create a program that calculates the sum of the digits of numbers in a list using a list comprehension."
   ]
  },
  {
   "cell_type": "code",
   "execution_count": 157,
   "id": "e952cb87",
   "metadata": {},
   "outputs": [
    {
     "name": "stdout",
     "output_type": "stream",
     "text": [
      "[12, 18, 24, 18, 29, 33]\n"
     ]
    }
   ],
   "source": [
    "l = [345,567,789,3456,8957,98475]\n",
    "sum_list = [sum(int(i) for i in str(j)) for j in l]\n",
    "print(sum_list)"
   ]
  },
  {
   "cell_type": "code",
   "execution_count": 133,
   "id": "2370d407",
   "metadata": {},
   "outputs": [],
   "source": [
    "# 22. Write a program to find the prime factors of a given number using a `for` loop and list comprehension. "
   ]
  },
  {
   "cell_type": "code",
   "execution_count": 179,
   "id": "a9e05cfe",
   "metadata": {},
   "outputs": [
    {
     "name": "stdout",
     "output_type": "stream",
     "text": [
      "[2, 3, 5, 6, 10, 15, 30]\n",
      "[2, 3, 5]\n"
     ]
    }
   ],
   "source": [
    "n = 30\n",
    "factors = [i for i in range(2, n + 1) if n % i == 0]\n",
    "print(factors)\n",
    "prime_factors = [factor for factor in factors if all(factor % divisor != 0 for divisor in range(2, factor))]\n",
    "\n",
    "print(prime_factors)"
   ]
  },
  {
   "cell_type": "code",
   "execution_count": 178,
   "id": "05c8b19a",
   "metadata": {},
   "outputs": [],
   "source": []
  },
  {
   "cell_type": "code",
   "execution_count": 134,
   "id": "1b846d16",
   "metadata": {},
   "outputs": [],
   "source": [
    "# 23. Develop a program that extracts unique elements from a list and stores them in a new list using a list comprehension."
   ]
  },
  {
   "cell_type": "code",
   "execution_count": 2,
   "id": "ed93d303",
   "metadata": {},
   "outputs": [
    {
     "name": "stdout",
     "output_type": "stream",
     "text": [
      "[2, 4, 8, 65]\n"
     ]
    }
   ],
   "source": [
    "l = [2,3,4,5,3,8,9,45,65,45,9,5]\n",
    "# for i in l:\n",
    "#     if not l.count(i) > 1:\n",
    "unique_list = [i for i in l if not l.count(i) > 1]\n",
    "print(unique_list)"
   ]
  },
  {
   "cell_type": "code",
   "execution_count": 135,
   "id": "b2acaaab",
   "metadata": {},
   "outputs": [],
   "source": [
    "# 24. Create a program that generates a list of all palindromic numbers up to a specified limit using a list comprehension."
   ]
  },
  {
   "cell_type": "code",
   "execution_count": 5,
   "id": "0256eeb4",
   "metadata": {},
   "outputs": [
    {
     "name": "stdout",
     "output_type": "stream",
     "text": [
      "[1, 2, 3, 4, 5, 6, 7, 8, 9, 11, 22, 33, 44, 55, 66, 77, 88, 99, 101, 111, 121, 131, 141, 151, 161, 171, 181, 191, 202, 212, 222, 232, 242, 252, 262, 272, 282, 292, 303, 313, 323, 333, 343, 353, 363, 373, 383, 393, 404, 414, 424, 434, 444, 454, 464, 474, 484, 494, 505, 515, 525, 535, 545, 555, 565, 575, 585, 595, 606, 616, 626, 636, 646, 656, 666, 676, 686, 696, 707, 717, 727, 737, 747, 757, 767, 777, 787, 797, 808, 818, 828, 838, 848, 858, 868, 878, 888, 898, 909, 919, 929, 939, 949, 959, 969, 979, 989, 999]\n"
     ]
    }
   ],
   "source": [
    "n = 1000\n",
    "pallindrome = [i for i in range(1,n,1) if str(i)[::-1]==str(i)]\n",
    "print(pallindrome)"
   ]
  },
  {
   "cell_type": "code",
   "execution_count": 136,
   "id": "353d6faa",
   "metadata": {},
   "outputs": [],
   "source": [
    "# 25. Write a program to flatten a nested list using list comprehension."
   ]
  },
  {
   "cell_type": "code",
   "execution_count": 17,
   "id": "f874b98c",
   "metadata": {},
   "outputs": [
    {
     "name": "stdout",
     "output_type": "stream",
     "text": [
      "[1, 45, 67, 23, 43, 24, 54, 67]\n"
     ]
    }
   ],
   "source": [
    "l = [1,45,67,23,43,[24,54,67]]\n",
    "flat = [i for sub_list in l for i in (sub_list if isinstance(sub_list,list) else [sub_list])]\n",
    "print(flat)"
   ]
  },
  {
   "cell_type": "code",
   "execution_count": 137,
   "id": "327c6e52",
   "metadata": {},
   "outputs": [],
   "source": [
    "# 26. Develop a program that computes the sum of even and odd numbers in a list separately using list comprehension."
   ]
  },
  {
   "cell_type": "code",
   "execution_count": 20,
   "id": "d8de35b8",
   "metadata": {},
   "outputs": [
    {
     "name": "stdout",
     "output_type": "stream",
     "text": [
      "[20]\n",
      "[24]\n"
     ]
    }
   ],
   "source": [
    "l = [2,3,4,5,6,7,8,9]\n",
    "even_sum = [sum(i for i in l if i%2 == 0)]\n",
    "odd_sum = [sum(i for i in l if i%2 != 0)]\n",
    "print(even_sum)\n",
    "print(odd_sum)"
   ]
  },
  {
   "cell_type": "code",
   "execution_count": 138,
   "id": "4ed57c8a",
   "metadata": {},
   "outputs": [],
   "source": [
    "# 27. Create a program that generates a list of squares of odd numbers between 1 and 10 using list comprehension."
   ]
  },
  {
   "cell_type": "code",
   "execution_count": 22,
   "id": "6400d1c6",
   "metadata": {},
   "outputs": [
    {
     "name": "stdout",
     "output_type": "stream",
     "text": [
      "[1, 9, 25, 49, 81]\n"
     ]
    }
   ],
   "source": [
    "odd_squares = [i*i for i in range(1,11,1) if i%2 != 0]\n",
    "print(odd_squares)"
   ]
  },
  {
   "cell_type": "code",
   "execution_count": 139,
   "id": "7697c4a3",
   "metadata": {},
   "outputs": [],
   "source": [
    "# 28. Write a program that combines two lists into a dictionary using list comprehension."
   ]
  },
  {
   "cell_type": "code",
   "execution_count": 30,
   "id": "6da94650",
   "metadata": {},
   "outputs": [
    {
     "name": "stdout",
     "output_type": "stream",
     "text": [
      "{'two': 2, 'three': 3, 'four': 4, 'five': 5, 'six': 6, 'seven': 7, 'eight': 8, 'nine': 9}\n"
     ]
    }
   ],
   "source": [
    "l = [2,3,4,5,6,7,8,9]\n",
    "index = [\"two\",\"three\",\"four\",\"five\",\"six\",\"seven\",\"eight\",\"nine\"]\n",
    "dict_comp = {i:v for v,i in zip(l,index)}\n",
    "print(dict_comp)"
   ]
  },
  {
   "cell_type": "code",
   "execution_count": 140,
   "id": "b8be493f",
   "metadata": {},
   "outputs": [],
   "source": [
    "# 29. Develop a program that extracts the vowels from a string and stores them in a list using list comprehension."
   ]
  },
  {
   "cell_type": "code",
   "execution_count": 31,
   "id": "b0b33245",
   "metadata": {},
   "outputs": [
    {
     "name": "stdout",
     "output_type": "stream",
     "text": [
      "['i', 'i', 'a']\n"
     ]
    }
   ],
   "source": [
    "s = \"srinivas\"\n",
    "vowels = 'aeiou'\n",
    "vowels_list = [i for i in s.lower() if i in vowels]\n",
    "print(vowels_list)\n",
    "        "
   ]
  },
  {
   "cell_type": "code",
   "execution_count": 141,
   "id": "bff20e90",
   "metadata": {},
   "outputs": [],
   "source": [
    "# 30. Create a program that removes all non-numeric characters from a list of strings using list comprehension."
   ]
  },
  {
   "cell_type": "code",
   "execution_count": 37,
   "id": "7507968e",
   "metadata": {},
   "outputs": [
    {
     "data": {
      "text/plain": [
       "['srinivas', 'padhy', 'pwskills']"
      ]
     },
     "execution_count": 37,
     "metadata": {},
     "output_type": "execute_result"
    }
   ],
   "source": [
    "l = [\"srini345vas\",\"padhy789\",\"pwski234lls\"]\n",
    "[\"\".join(s for s in i if not s.isdigit()) for i in l]"
   ]
  },
  {
   "cell_type": "code",
   "execution_count": 47,
   "id": "e77c513f",
   "metadata": {},
   "outputs": [],
   "source": [
    "# 31. Write a program to generate a list of prime numbers using the Sieve of Eratosthenes algorithm and list comprehension."
   ]
  },
  {
   "cell_type": "code",
   "execution_count": 57,
   "id": "223e7b48",
   "metadata": {},
   "outputs": [
    {
     "name": "stdout",
     "output_type": "stream",
     "text": [
      "[2, 3, 5, 7, 11, 13, 17, 19, 23, 29, 31, 37, 41, 43, 47]\n"
     ]
    }
   ],
   "source": [
    "n = 50\n",
    "primes = [True] * (n + 1)\n",
    "primes[0] = primes[1] = False\n",
    "p = 2\n",
    "while p ** 2 <= n:\n",
    "    if primes[p]:\n",
    "        for i in range(p ** 2, n + 1, p):\n",
    "            primes[i] = False\n",
    "    p += 1\n",
    "prime_numbers = [i for i in range(2, n + 1) if primes[i]]\n",
    "print(prime_numbers)"
   ]
  },
  {
   "cell_type": "code",
   "execution_count": 58,
   "id": "9ad105c7",
   "metadata": {},
   "outputs": [],
   "source": [
    "# 32. Create a program that generates a list of all Pythagorean triplets up to a specified limit using list comprehension."
   ]
  },
  {
   "cell_type": "code",
   "execution_count": 64,
   "id": "b1970950",
   "metadata": {},
   "outputs": [
    {
     "data": {
      "text/plain": [
       "[(3, 4, 5),\n",
       " (5, 12, 13),\n",
       " (6, 8, 10),\n",
       " (7, 24, 25),\n",
       " (8, 15, 17),\n",
       " (9, 12, 15),\n",
       " (10, 24, 26),\n",
       " (12, 16, 20),\n",
       " (12, 35, 37),\n",
       " (15, 20, 25),\n",
       " (15, 36, 39),\n",
       " (16, 30, 34),\n",
       " (18, 24, 30),\n",
       " (20, 21, 29),\n",
       " (21, 28, 35),\n",
       " (24, 32, 40),\n",
       " (27, 36, 45)]"
      ]
     },
     "execution_count": 64,
     "metadata": {},
     "output_type": "execute_result"
    }
   ],
   "source": [
    "n = 40\n",
    "[(a,b,int(((a**2 + b**2)**0.5))) for a in range(1,n) for b in range(a,n) if ((a**2 + b**2)**0.5).is_integer()]"
   ]
  },
  {
   "cell_type": "code",
   "execution_count": 49,
   "id": "c6f2bea9",
   "metadata": {},
   "outputs": [],
   "source": [
    "# 33. Develop a program that generates a list of all possible combinations of two lists using list comprehension."
   ]
  },
  {
   "cell_type": "code",
   "execution_count": 66,
   "id": "aeaa20a7",
   "metadata": {},
   "outputs": [
    {
     "name": "stdout",
     "output_type": "stream",
     "text": [
      "[(1, 'one'), (1, 'two'), (1, 'three'), (1, 'four'), (1, 'five'), (2, 'one'), (2, 'two'), (2, 'three'), (2, 'four'), (2, 'five'), (3, 'one'), (3, 'two'), (3, 'three'), (3, 'four'), (3, 'five'), (4, 'one'), (4, 'two'), (4, 'three'), (4, 'four'), (4, 'five'), (5, 'one'), (5, 'two'), (5, 'three'), (5, 'four'), (5, 'five')]\n"
     ]
    }
   ],
   "source": [
    "from itertools import product\n",
    "l = [1,2,3,4,5]\n",
    "l1 = [\"one\",\"two\",\"three\",\"four\",\"five\"]\n",
    "comb = [(i,j) for i,j in product(l,l1)]\n",
    "print(comb)"
   ]
  },
  {
   "cell_type": "code",
   "execution_count": 50,
   "id": "f2cf1ce3",
   "metadata": {},
   "outputs": [],
   "source": [
    "# 34. Write a program that calculates the mean, median, and mode of a list of numbers using list comprehension."
   ]
  },
  {
   "cell_type": "code",
   "execution_count": 75,
   "id": "d53d8ab2",
   "metadata": {},
   "outputs": [
    {
     "name": "stdout",
     "output_type": "stream",
     "text": [
      "[4.333333333333333] [4.5] [5]\n"
     ]
    }
   ],
   "source": [
    "from statistics import mean,median,mode\n",
    "\n",
    "l = [1,2,3,4,5,3,4,5,2,3,2,3,2,2,2,5,5,5,5,6,6,7,5,7,1,3,8,9,7,8]\n",
    "list_mean = [mean(i for i in l)]\n",
    "list_median = [median(i for i in l)]\n",
    "list_mode = [mode(i for i in l)]\n",
    "print(list_mean,list_median,list_mode)"
   ]
  },
  {
   "cell_type": "code",
   "execution_count": 51,
   "id": "e1c43fa5",
   "metadata": {},
   "outputs": [],
   "source": [
    "# 35. Create a program that generates Pascal's triangle up to a specified number of rows using list comprehension."
   ]
  },
  {
   "cell_type": "code",
   "execution_count": null,
   "id": "27e260e1",
   "metadata": {},
   "outputs": [],
   "source": [
    "num_rows = 5\n",
    "triangle = []\n",
    "for i in range(num_rows):\n",
    "    if i == 0:\n",
    "        triangle.append([1])\n",
    "    else:\n",
    "        previous_row = triangle[i - 1]\n",
    "        new_row = [1] + [previous_row[j] + previous_row[j + 1] for j in range(i - 1)] + [1]\n",
    "        triangle.append(new_row)\n",
    "pascals_triangle = triangle\n",
    "\n",
    "for row in pascals_triangle:\n",
    "    print(row)"
   ]
  },
  {
   "cell_type": "code",
   "execution_count": 52,
   "id": "60cd12da",
   "metadata": {},
   "outputs": [],
   "source": [
    "# 36. Develop a program that calculates the sum of the digits of a factorial of numbers from 1 to 5 using list comprehension."
   ]
  },
  {
   "cell_type": "code",
   "execution_count": 79,
   "id": "b0e2e6d1",
   "metadata": {},
   "outputs": [
    {
     "name": "stdout",
     "output_type": "stream",
     "text": [
      "The sum of digits in 1! is 1\n",
      "The sum of digits in 2! is 2\n",
      "The sum of digits in 3! is 6\n",
      "The sum of digits in 4! is 6\n",
      "The sum of digits in 5! is 3\n"
     ]
    }
   ],
   "source": [
    "import math\n",
    "    \n",
    "factorial_sums = [sum(int(digit) for digit in str(math.factorial(n))) for n in range(1, 6)]   \n",
    "for n, factorial_sum in zip(range(1, 6), factorial_sums):\n",
    "    print(f\"The sum of digits in {n}! is {factorial_sum}\")"
   ]
  },
  {
   "cell_type": "code",
   "execution_count": 53,
   "id": "8cf9fd79",
   "metadata": {},
   "outputs": [],
   "source": [
    "# 37. Write a program that finds the longest word in a sentence using list comprehension."
   ]
  },
  {
   "cell_type": "code",
   "execution_count": 82,
   "id": "1f97bf2b",
   "metadata": {},
   "outputs": [
    {
     "data": {
      "text/plain": [
       "['sentence']"
      ]
     },
     "execution_count": 82,
     "metadata": {},
     "output_type": "execute_result"
    }
   ],
   "source": [
    "sentence = \"This is a sample sentence to find the longest word.\"\n",
    "words = sentence.split()\n",
    "len_max = [max((word for word in words),key=len)]\n",
    "len_max"
   ]
  },
  {
   "cell_type": "code",
   "execution_count": 54,
   "id": "bb904d60",
   "metadata": {},
   "outputs": [],
   "source": [
    "# 38. Create a program that filters a list of strings to include only those with more than three vowels using list comprehension."
   ]
  },
  {
   "cell_type": "code",
   "execution_count": 90,
   "id": "bb3d1296",
   "metadata": {},
   "outputs": [
    {
     "name": "stdout",
     "output_type": "stream",
     "text": [
      "['srinivaspadhy', 'datascience']\n"
     ]
    }
   ],
   "source": [
    "string_list = [\"srinivaspadhy\", \"pwskills\", \"programming\", \"Python\",\"datascience\"]\n",
    "filtered_strings = [string for string in string_list if sum(1 for char in string if char in vowels) > 3]\n",
    "print(filtered_strings)"
   ]
  },
  {
   "cell_type": "code",
   "execution_count": 55,
   "id": "41d1407b",
   "metadata": {},
   "outputs": [],
   "source": [
    "# 39. Develop a program that calculates the sum of the digits of numbers from 1 to 1000 using list comprehension."
   ]
  },
  {
   "cell_type": "code",
   "execution_count": 91,
   "id": "e4bc2994",
   "metadata": {},
   "outputs": [
    {
     "name": "stdout",
     "output_type": "stream",
     "text": [
      "[1, 2, 3, 4, 5, 6, 7, 8, 9, 1, 2, 3, 4, 5, 6, 7, 8, 9, 10, 2, 3, 4, 5, 6, 7, 8, 9, 10, 11, 3, 4, 5, 6, 7, 8, 9, 10, 11, 12, 4, 5, 6, 7, 8, 9, 10, 11, 12, 13, 5, 6, 7, 8, 9, 10, 11, 12, 13, 14, 6, 7, 8, 9, 10, 11, 12, 13, 14, 15, 7, 8, 9, 10, 11, 12, 13, 14, 15, 16, 8, 9, 10, 11, 12, 13, 14, 15, 16, 17, 9, 10, 11, 12, 13, 14, 15, 16, 17, 18, 1, 2, 3, 4, 5, 6, 7, 8, 9, 10, 2, 3, 4, 5, 6, 7, 8, 9, 10, 11, 3, 4, 5, 6, 7, 8, 9, 10, 11, 12, 4, 5, 6, 7, 8, 9, 10, 11, 12, 13, 5, 6, 7, 8, 9, 10, 11, 12, 13, 14, 6, 7, 8, 9, 10, 11, 12, 13, 14, 15, 7, 8, 9, 10, 11, 12, 13, 14, 15, 16, 8, 9, 10, 11, 12, 13, 14, 15, 16, 17, 9, 10, 11, 12, 13, 14, 15, 16, 17, 18, 10, 11, 12, 13, 14, 15, 16, 17, 18, 19, 2, 3, 4, 5, 6, 7, 8, 9, 10, 11, 3, 4, 5, 6, 7, 8, 9, 10, 11, 12, 4, 5, 6, 7, 8, 9, 10, 11, 12, 13, 5, 6, 7, 8, 9, 10, 11, 12, 13, 14, 6, 7, 8, 9, 10, 11, 12, 13, 14, 15, 7, 8, 9, 10, 11, 12, 13, 14, 15, 16, 8, 9, 10, 11, 12, 13, 14, 15, 16, 17, 9, 10, 11, 12, 13, 14, 15, 16, 17, 18, 10, 11, 12, 13, 14, 15, 16, 17, 18, 19, 11, 12, 13, 14, 15, 16, 17, 18, 19, 20, 3, 4, 5, 6, 7, 8, 9, 10, 11, 12, 4, 5, 6, 7, 8, 9, 10, 11, 12, 13, 5, 6, 7, 8, 9, 10, 11, 12, 13, 14, 6, 7, 8, 9, 10, 11, 12, 13, 14, 15, 7, 8, 9, 10, 11, 12, 13, 14, 15, 16, 8, 9, 10, 11, 12, 13, 14, 15, 16, 17, 9, 10, 11, 12, 13, 14, 15, 16, 17, 18, 10, 11, 12, 13, 14, 15, 16, 17, 18, 19, 11, 12, 13, 14, 15, 16, 17, 18, 19, 20, 12, 13, 14, 15, 16, 17, 18, 19, 20, 21, 4, 5, 6, 7, 8, 9, 10, 11, 12, 13, 5, 6, 7, 8, 9, 10, 11, 12, 13, 14, 6, 7, 8, 9, 10, 11, 12, 13, 14, 15, 7, 8, 9, 10, 11, 12, 13, 14, 15, 16, 8, 9, 10, 11, 12, 13, 14, 15, 16, 17, 9, 10, 11, 12, 13, 14, 15, 16, 17, 18, 10, 11, 12, 13, 14, 15, 16, 17, 18, 19, 11, 12, 13, 14, 15, 16, 17, 18, 19, 20, 12, 13, 14, 15, 16, 17, 18, 19, 20, 21, 13, 14, 15, 16, 17, 18, 19, 20, 21, 22, 5, 6, 7, 8, 9, 10, 11, 12, 13, 14, 6, 7, 8, 9, 10, 11, 12, 13, 14, 15, 7, 8, 9, 10, 11, 12, 13, 14, 15, 16, 8, 9, 10, 11, 12, 13, 14, 15, 16, 17, 9, 10, 11, 12, 13, 14, 15, 16, 17, 18, 10, 11, 12, 13, 14, 15, 16, 17, 18, 19, 11, 12, 13, 14, 15, 16, 17, 18, 19, 20, 12, 13, 14, 15, 16, 17, 18, 19, 20, 21, 13, 14, 15, 16, 17, 18, 19, 20, 21, 22, 14, 15, 16, 17, 18, 19, 20, 21, 22, 23, 6, 7, 8, 9, 10, 11, 12, 13, 14, 15, 7, 8, 9, 10, 11, 12, 13, 14, 15, 16, 8, 9, 10, 11, 12, 13, 14, 15, 16, 17, 9, 10, 11, 12, 13, 14, 15, 16, 17, 18, 10, 11, 12, 13, 14, 15, 16, 17, 18, 19, 11, 12, 13, 14, 15, 16, 17, 18, 19, 20, 12, 13, 14, 15, 16, 17, 18, 19, 20, 21, 13, 14, 15, 16, 17, 18, 19, 20, 21, 22, 14, 15, 16, 17, 18, 19, 20, 21, 22, 23, 15, 16, 17, 18, 19, 20, 21, 22, 23, 24, 7, 8, 9, 10, 11, 12, 13, 14, 15, 16, 8, 9, 10, 11, 12, 13, 14, 15, 16, 17, 9, 10, 11, 12, 13, 14, 15, 16, 17, 18, 10, 11, 12, 13, 14, 15, 16, 17, 18, 19, 11, 12, 13, 14, 15, 16, 17, 18, 19, 20, 12, 13, 14, 15, 16, 17, 18, 19, 20, 21, 13, 14, 15, 16, 17, 18, 19, 20, 21, 22, 14, 15, 16, 17, 18, 19, 20, 21, 22, 23, 15, 16, 17, 18, 19, 20, 21, 22, 23, 24, 16, 17, 18, 19, 20, 21, 22, 23, 24, 25, 8, 9, 10, 11, 12, 13, 14, 15, 16, 17, 9, 10, 11, 12, 13, 14, 15, 16, 17, 18, 10, 11, 12, 13, 14, 15, 16, 17, 18, 19, 11, 12, 13, 14, 15, 16, 17, 18, 19, 20, 12, 13, 14, 15, 16, 17, 18, 19, 20, 21, 13, 14, 15, 16, 17, 18, 19, 20, 21, 22, 14, 15, 16, 17, 18, 19, 20, 21, 22, 23, 15, 16, 17, 18, 19, 20, 21, 22, 23, 24, 16, 17, 18, 19, 20, 21, 22, 23, 24, 25, 17, 18, 19, 20, 21, 22, 23, 24, 25, 26, 9, 10, 11, 12, 13, 14, 15, 16, 17, 18, 10, 11, 12, 13, 14, 15, 16, 17, 18, 19, 11, 12, 13, 14, 15, 16, 17, 18, 19, 20, 12, 13, 14, 15, 16, 17, 18, 19, 20, 21, 13, 14, 15, 16, 17, 18, 19, 20, 21, 22, 14, 15, 16, 17, 18, 19, 20, 21, 22, 23, 15, 16, 17, 18, 19, 20, 21, 22, 23, 24, 16, 17, 18, 19, 20, 21, 22, 23, 24, 25, 17, 18, 19, 20, 21, 22, 23, 24, 25, 26, 18, 19, 20, 21, 22, 23, 24, 25, 26, 27, 1]\n"
     ]
    }
   ],
   "source": [
    "digit_sums = [sum(int(digit) for digit in str(n)) for n in range(1, 1001)]\n",
    "print(digit_sums)"
   ]
  },
  {
   "cell_type": "code",
   "execution_count": 56,
   "id": "51d7394b",
   "metadata": {},
   "outputs": [],
   "source": [
    "# 40. Write a program that generates a list of prime palindromic numbers using list comprehension."
   ]
  },
  {
   "cell_type": "code",
   "execution_count": 92,
   "id": "982d21e6",
   "metadata": {},
   "outputs": [
    {
     "name": "stdout",
     "output_type": "stream",
     "text": [
      "[2, 3, 5, 7, 11, 101, 131, 151, 181, 191, 313, 353, 373, 383, 727, 757, 787, 797, 919, 929]\n"
     ]
    }
   ],
   "source": [
    "def is_prime(n):\n",
    "    if n <= 1:\n",
    "        return False\n",
    "    if n <= 3:\n",
    "        return True\n",
    "    if n % 2 == 0 or n % 3 == 0:\n",
    "        return False\n",
    "    i = 5\n",
    "    while i * i <= n:\n",
    "        if n % i == 0 or n % (i + 2) == 0:\n",
    "            return False\n",
    "        i += 6\n",
    "    return True\n",
    "\n",
    "def is_pal(n):\n",
    "    return str(n) == str(n)[::-1]\n",
    "prime_pal_numbers = [n for n in range(2, 1000) if is_prime(n) and is_pal(n)]\n",
    "print(prime_pal_numbers)"
   ]
  }
 ],
 "metadata": {
  "kernelspec": {
   "display_name": "Python 3 (ipykernel)",
   "language": "python",
   "name": "python3"
  },
  "language_info": {
   "codemirror_mode": {
    "name": "ipython",
    "version": 3
   },
   "file_extension": ".py",
   "mimetype": "text/x-python",
   "name": "python",
   "nbconvert_exporter": "python",
   "pygments_lexer": "ipython3",
   "version": "3.11.3"
  }
 },
 "nbformat": 4,
 "nbformat_minor": 5
}
