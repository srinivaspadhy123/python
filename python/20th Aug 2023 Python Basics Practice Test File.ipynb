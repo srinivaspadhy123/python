{
 "cells": [
  {
   "cell_type": "markdown",
   "id": "2bd3709f",
   "metadata": {},
   "source": [
    "\n",
    "# String Based Assignment Problem"
   ]
  },
  {
   "cell_type": "code",
   "execution_count": 1,
   "id": "320f1130",
   "metadata": {},
   "outputs": [],
   "source": [
    "# 1. Write a program to reverse a string."
   ]
  },
  {
   "cell_type": "code",
   "execution_count": 2,
   "id": "4e178f71",
   "metadata": {},
   "outputs": [
    {
     "name": "stdout",
     "output_type": "stream",
     "text": [
      "savinirS\n"
     ]
    }
   ],
   "source": [
    "s = \"Srinivas\"\n",
    "print(s[::-1])"
   ]
  },
  {
   "cell_type": "code",
   "execution_count": 3,
   "id": "771c6315",
   "metadata": {},
   "outputs": [],
   "source": [
    "# 2. Check if a string is a palindrome."
   ]
  },
  {
   "cell_type": "code",
   "execution_count": 4,
   "id": "4537c38f",
   "metadata": {},
   "outputs": [
    {
     "name": "stdout",
     "output_type": "stream",
     "text": [
      "It is pallindrome\n"
     ]
    }
   ],
   "source": [
    "s = \"madam\"\n",
    "if s[::-1] == s:\n",
    "    print(\"It is pallindrome\")\n",
    "else:    \n",
    "    print(\"It is not pallindrome\")"
   ]
  },
  {
   "cell_type": "code",
   "execution_count": 5,
   "id": "7bcb0b95",
   "metadata": {},
   "outputs": [],
   "source": [
    "# 3. Convert a string to uppercase."
   ]
  },
  {
   "cell_type": "code",
   "execution_count": 6,
   "id": "b599f935",
   "metadata": {},
   "outputs": [
    {
     "data": {
      "text/plain": [
       "'SRINIVAS'"
      ]
     },
     "execution_count": 6,
     "metadata": {},
     "output_type": "execute_result"
    }
   ],
   "source": [
    "s = \"srinivas\"\n",
    "s.upper()"
   ]
  },
  {
   "cell_type": "code",
   "execution_count": 7,
   "id": "f8df7e0c",
   "metadata": {},
   "outputs": [],
   "source": [
    "# 4. Convert a string to lowercase."
   ]
  },
  {
   "cell_type": "code",
   "execution_count": 8,
   "id": "0430d62e",
   "metadata": {},
   "outputs": [
    {
     "data": {
      "text/plain": [
       "'srinivas'"
      ]
     },
     "execution_count": 8,
     "metadata": {},
     "output_type": "execute_result"
    }
   ],
   "source": [
    "s = \"srinivas\"\n",
    "s.lower()"
   ]
  },
  {
   "cell_type": "code",
   "execution_count": 9,
   "id": "0bc9040e",
   "metadata": {},
   "outputs": [],
   "source": [
    "# 5. Count the number of vowels in a string."
   ]
  },
  {
   "cell_type": "code",
   "execution_count": 10,
   "id": "e1324b1a",
   "metadata": {},
   "outputs": [
    {
     "name": "stdout",
     "output_type": "stream",
     "text": [
      "3\n"
     ]
    }
   ],
   "source": [
    "s = \"srinivas\"\n",
    "count = 0\n",
    "for i in s:\n",
    "    if i=='a' or i=='e' or i=='i' or i=='o' or i=='u':\n",
    "        count+=1\n",
    "print(count)\n",
    "    "
   ]
  },
  {
   "cell_type": "code",
   "execution_count": 11,
   "id": "88ffd8fa",
   "metadata": {},
   "outputs": [],
   "source": [
    "# 6. Count the number of consonants in a string."
   ]
  },
  {
   "cell_type": "code",
   "execution_count": 12,
   "id": "65e4fd68",
   "metadata": {},
   "outputs": [
    {
     "name": "stdout",
     "output_type": "stream",
     "text": [
      "5\n"
     ]
    }
   ],
   "source": [
    "s = \"srinivas\"\n",
    "count = 0\n",
    "for i in s:\n",
    "    if i!='a' and i!='e' and i!='i' and i!='o' and i!='u':\n",
    "        count+=1\n",
    "print(count)"
   ]
  },
  {
   "cell_type": "code",
   "execution_count": 13,
   "id": "d9516ac9",
   "metadata": {},
   "outputs": [],
   "source": [
    "# 7. Remove all whitespaces from a string."
   ]
  },
  {
   "cell_type": "code",
   "execution_count": 14,
   "id": "9a5e860c",
   "metadata": {},
   "outputs": [
    {
     "data": {
      "text/plain": [
       "'srinivas'"
      ]
     },
     "execution_count": 14,
     "metadata": {},
     "output_type": "execute_result"
    }
   ],
   "source": [
    "s = \"srin  ivas  \"\n",
    "s.replace(\" \",'')"
   ]
  },
  {
   "cell_type": "code",
   "execution_count": 15,
   "id": "af4cdb0e",
   "metadata": {},
   "outputs": [],
   "source": [
    "# 8. Find the length of a string without using the `len()` function."
   ]
  },
  {
   "cell_type": "code",
   "execution_count": 16,
   "id": "6a5b53cf",
   "metadata": {},
   "outputs": [
    {
     "name": "stdout",
     "output_type": "stream",
     "text": [
      "8\n"
     ]
    }
   ],
   "source": [
    "s = \"srinivas\"\n",
    "count =0\n",
    "for i in s:\n",
    "    count+=1\n",
    "print(count)"
   ]
  },
  {
   "cell_type": "code",
   "execution_count": 17,
   "id": "955add4f",
   "metadata": {},
   "outputs": [],
   "source": [
    "# 9. Check if a string contains a specific word."
   ]
  },
  {
   "cell_type": "code",
   "execution_count": 18,
   "id": "a13893d9",
   "metadata": {},
   "outputs": [
    {
     "name": "stdout",
     "output_type": "stream",
     "text": [
      "True\n"
     ]
    }
   ],
   "source": [
    "s = \"srinivas padhy\"\n",
    "if \"padhy\" in s:\n",
    "    print(True)\n",
    "else:\n",
    "    print(False)"
   ]
  },
  {
   "cell_type": "code",
   "execution_count": 19,
   "id": "b04ead30",
   "metadata": {},
   "outputs": [],
   "source": [
    "# 10. Replace a word in a string with another word."
   ]
  },
  {
   "cell_type": "code",
   "execution_count": 20,
   "id": "dbd7765c",
   "metadata": {},
   "outputs": [
    {
     "data": {
      "text/plain": [
       "'Mr. Srinivas padhy'"
      ]
     },
     "execution_count": 20,
     "metadata": {},
     "output_type": "execute_result"
    }
   ],
   "source": [
    "s = \"srinivas padhy\"\n",
    "s.replace(\"srinivas\",\"Mr. Srinivas\")"
   ]
  },
  {
   "cell_type": "code",
   "execution_count": 21,
   "id": "41956da4",
   "metadata": {},
   "outputs": [],
   "source": [
    "# 11. Count the occurrences of a word in a string."
   ]
  },
  {
   "cell_type": "code",
   "execution_count": 22,
   "id": "b9dfae21",
   "metadata": {},
   "outputs": [
    {
     "data": {
      "text/plain": [
       "5"
      ]
     },
     "execution_count": 22,
     "metadata": {},
     "output_type": "execute_result"
    }
   ],
   "source": [
    "s = \"srinivas padhy, sri, sri, sri , sri, padhy, padhy, padhy\"\n",
    "s.count(\"sri\")"
   ]
  },
  {
   "cell_type": "code",
   "execution_count": 23,
   "id": "236550e8",
   "metadata": {},
   "outputs": [],
   "source": [
    "# 12. Find the first occurrence of a word in a string."
   ]
  },
  {
   "cell_type": "code",
   "execution_count": 24,
   "id": "f1294165",
   "metadata": {},
   "outputs": [
    {
     "data": {
      "text/plain": [
       "0"
      ]
     },
     "execution_count": 24,
     "metadata": {},
     "output_type": "execute_result"
    }
   ],
   "source": [
    "s = \"srinivas padhy\"\n",
    "s.find('sri')"
   ]
  },
  {
   "cell_type": "code",
   "execution_count": 25,
   "id": "8c047bd9",
   "metadata": {},
   "outputs": [],
   "source": [
    "# 13. Find the last occurrence of a word in a string."
   ]
  },
  {
   "cell_type": "code",
   "execution_count": 26,
   "id": "132b7942",
   "metadata": {},
   "outputs": [
    {
     "data": {
      "text/plain": [
       "21"
      ]
     },
     "execution_count": 26,
     "metadata": {},
     "output_type": "execute_result"
    }
   ],
   "source": [
    "s = \"srinivas padhy, sri, sri, sri , sri, padhy, padhy, padhy\"\n",
    "f = \"sri\"\n",
    "f = f[::-1]\n",
    "s[::-1].index(f)"
   ]
  },
  {
   "cell_type": "code",
   "execution_count": 27,
   "id": "84188660",
   "metadata": {},
   "outputs": [],
   "source": [
    "# 14. Split a string into a list of words."
   ]
  },
  {
   "cell_type": "code",
   "execution_count": 28,
   "id": "15d3309f",
   "metadata": {},
   "outputs": [
    {
     "data": {
      "text/plain": [
       "['srinivas',\n",
       " 'padhy,',\n",
       " 'sri,',\n",
       " 'sri,',\n",
       " 'sri',\n",
       " ',',\n",
       " 'sri,',\n",
       " 'padhy,',\n",
       " 'padhy,',\n",
       " 'padhy']"
      ]
     },
     "execution_count": 28,
     "metadata": {},
     "output_type": "execute_result"
    }
   ],
   "source": [
    "s = \"srinivas padhy, sri, sri, sri , sri, padhy, padhy, padhy\"\n",
    "s.split()"
   ]
  },
  {
   "cell_type": "code",
   "execution_count": null,
   "id": "b8fed3c2",
   "metadata": {},
   "outputs": [],
   "source": [
    "# 15. Join a list of words into a string."
   ]
  },
  {
   "cell_type": "code",
   "execution_count": 29,
   "id": "61728cf5",
   "metadata": {},
   "outputs": [
    {
     "data": {
      "text/plain": [
       "'srinivas padhy, sri, sri, sri , sri, padhy, padhy, padhy'"
      ]
     },
     "execution_count": 29,
     "metadata": {},
     "output_type": "execute_result"
    }
   ],
   "source": [
    "s = \"srinivas padhy, sri, sri, sri , sri, padhy, padhy, padhy\"\n",
    "l = s.split()\n",
    "s = (' ').join(l)\n",
    "s"
   ]
  },
  {
   "cell_type": "code",
   "execution_count": null,
   "id": "c59c6d6c",
   "metadata": {},
   "outputs": [],
   "source": [
    "# 16. Convert a string where words are separated by spaces to one where words\n",
    "# are separated by underscores."
   ]
  },
  {
   "cell_type": "code",
   "execution_count": 30,
   "id": "550e563c",
   "metadata": {},
   "outputs": [
    {
     "data": {
      "text/plain": [
       "'srinivas_padhy_sri_sri_sri__sri_padhy_padhy_padhy'"
      ]
     },
     "execution_count": 30,
     "metadata": {},
     "output_type": "execute_result"
    }
   ],
   "source": [
    "s = \"srinivas padhy sri sri sri  sri padhy padhy padhy\"\n",
    "s.replace(' ','_')"
   ]
  },
  {
   "cell_type": "code",
   "execution_count": null,
   "id": "9dfcdbb5",
   "metadata": {},
   "outputs": [],
   "source": [
    "# 17. Check if a string starts with a specific word or phrase."
   ]
  },
  {
   "cell_type": "code",
   "execution_count": 31,
   "id": "6930a0e8",
   "metadata": {},
   "outputs": [
    {
     "data": {
      "text/plain": [
       "True"
      ]
     },
     "execution_count": 31,
     "metadata": {},
     "output_type": "execute_result"
    }
   ],
   "source": [
    "s = \"srinivas padhy, sri, sri, sri , sri, padhy, padhy, padhy\"\n",
    "s.startswith(\"sri\")"
   ]
  },
  {
   "cell_type": "code",
   "execution_count": null,
   "id": "0c3eb740",
   "metadata": {},
   "outputs": [],
   "source": [
    "# 18. Check if a string ends with a specific word or phrase."
   ]
  },
  {
   "cell_type": "code",
   "execution_count": 32,
   "id": "95f1894f",
   "metadata": {},
   "outputs": [
    {
     "data": {
      "text/plain": [
       "False"
      ]
     },
     "execution_count": 32,
     "metadata": {},
     "output_type": "execute_result"
    }
   ],
   "source": [
    "s = \"srinivas padhy, sri, sri, sri , sri, padhy, padhy, padhy\"\n",
    "s.endswith(\"sri\")"
   ]
  },
  {
   "cell_type": "code",
   "execution_count": null,
   "id": "5a13f124",
   "metadata": {},
   "outputs": [],
   "source": [
    "# 19. Convert a string to title case (e.g., \"hello world\" to \"Hello World\")."
   ]
  },
  {
   "cell_type": "code",
   "execution_count": 33,
   "id": "2e1d1085",
   "metadata": {},
   "outputs": [
    {
     "data": {
      "text/plain": [
       "'Hello World'"
      ]
     },
     "execution_count": 33,
     "metadata": {},
     "output_type": "execute_result"
    }
   ],
   "source": [
    "s = \"hello world\"\n",
    "s.title()"
   ]
  },
  {
   "cell_type": "code",
   "execution_count": null,
   "id": "892bc3b5",
   "metadata": {},
   "outputs": [],
   "source": [
    "# 20. Find the longest word in a string."
   ]
  },
  {
   "cell_type": "code",
   "execution_count": 34,
   "id": "b2479ddf",
   "metadata": {},
   "outputs": [
    {
     "name": "stdout",
     "output_type": "stream",
     "text": [
      "8\n"
     ]
    }
   ],
   "source": [
    "s = \"srinivas padhy, sri, sri, sri , sri, padhy, padhy, padhy\"\n",
    "l = s.split()\n",
    "c=0\n",
    "for i in l:\n",
    "    if len(i)>c:\n",
    "        c=len(i)\n",
    "        \n",
    "print(c)\n",
    "    \n",
    "    \n",
    "    "
   ]
  },
  {
   "cell_type": "code",
   "execution_count": null,
   "id": "c56ac3a9",
   "metadata": {},
   "outputs": [],
   "source": [
    "# 21. Find the shortest word in a string."
   ]
  },
  {
   "cell_type": "code",
   "execution_count": 35,
   "id": "8ba65909",
   "metadata": {},
   "outputs": [
    {
     "name": "stdout",
     "output_type": "stream",
     "text": [
      "3\n"
     ]
    }
   ],
   "source": [
    "s = \"srinivas padhy, sri, sri, sri, sri, padhy, padhy, padhy\"\n",
    "l = s.split(', ')\n",
    "c= len(l[0])\n",
    "for i in l:\n",
    "    if len(i)<c:\n",
    "        c=len(i)\n",
    "        \n",
    "print(c)"
   ]
  },
  {
   "cell_type": "code",
   "execution_count": null,
   "id": "b6b34637",
   "metadata": {},
   "outputs": [],
   "source": [
    "# 22. Reverse the order of words in a string."
   ]
  },
  {
   "cell_type": "code",
   "execution_count": 36,
   "id": "03692a1f",
   "metadata": {},
   "outputs": [
    {
     "data": {
      "text/plain": [
       "'yhdap savinirs, irs, irs, irs, irs, yhdap, yhdap, yhdap'"
      ]
     },
     "execution_count": 36,
     "metadata": {},
     "output_type": "execute_result"
    }
   ],
   "source": [
    "s = \"srinivas padhy, sri, sri, sri, sri, padhy, padhy, padhy\"\n",
    "l = s.split(', ')\n",
    "ls = []\n",
    "for i in l:\n",
    "    i = i[::-1]\n",
    "    ls.append(i)\n",
    "s1 = \", \".join(ls)\n",
    "s1"
   ]
  },
  {
   "cell_type": "code",
   "execution_count": null,
   "id": "92e3c267",
   "metadata": {},
   "outputs": [],
   "source": [
    "# 23. Check if a string is alphanumeric."
   ]
  },
  {
   "cell_type": "code",
   "execution_count": 37,
   "id": "36013199",
   "metadata": {},
   "outputs": [
    {
     "data": {
      "text/plain": [
       "True"
      ]
     },
     "execution_count": 37,
     "metadata": {},
     "output_type": "execute_result"
    }
   ],
   "source": [
    "s = \"srinivas23\"\n",
    "s.isalnum()"
   ]
  },
  {
   "cell_type": "code",
   "execution_count": null,
   "id": "c161eefa",
   "metadata": {},
   "outputs": [],
   "source": [
    "# 24. Extract all digits from a string."
   ]
  },
  {
   "cell_type": "code",
   "execution_count": 38,
   "id": "212cc7e6",
   "metadata": {},
   "outputs": [
    {
     "data": {
      "text/plain": [
       "'23'"
      ]
     },
     "execution_count": 38,
     "metadata": {},
     "output_type": "execute_result"
    }
   ],
   "source": [
    "s = \"srinivas23\"\n",
    "s1=\"\"\n",
    "for i in s:\n",
    "    if i.isdigit():\n",
    "        s1=s1+i\n",
    "s1"
   ]
  },
  {
   "cell_type": "code",
   "execution_count": null,
   "id": "19c6f29a",
   "metadata": {},
   "outputs": [],
   "source": [
    "# 25. Extract all alphabets from a string."
   ]
  },
  {
   "cell_type": "code",
   "execution_count": 39,
   "id": "442b0189",
   "metadata": {},
   "outputs": [
    {
     "data": {
      "text/plain": [
       "'srinivas'"
      ]
     },
     "execution_count": 39,
     "metadata": {},
     "output_type": "execute_result"
    }
   ],
   "source": [
    "s = \"srinivas23\"\n",
    "s1=\"\"\n",
    "for i in s:\n",
    "    if i.isalpha():\n",
    "        s1=s1+i\n",
    "s1"
   ]
  },
  {
   "cell_type": "code",
   "execution_count": null,
   "id": "ee335d98",
   "metadata": {},
   "outputs": [],
   "source": [
    "# 26. Count the number of uppercase letters in a string."
   ]
  },
  {
   "cell_type": "code",
   "execution_count": 40,
   "id": "bcb330c2",
   "metadata": {},
   "outputs": [
    {
     "data": {
      "text/plain": [
       "2"
      ]
     },
     "execution_count": 40,
     "metadata": {},
     "output_type": "execute_result"
    }
   ],
   "source": [
    "s=\"Srinivas Padhy\"\n",
    "count=0\n",
    "for i in s:\n",
    "    if i.isupper():\n",
    "        count+=1\n",
    "count"
   ]
  },
  {
   "cell_type": "code",
   "execution_count": null,
   "id": "922b20d3",
   "metadata": {},
   "outputs": [],
   "source": [
    "# 27. Count the number of lowercase letters in a string."
   ]
  },
  {
   "cell_type": "code",
   "execution_count": 41,
   "id": "bad0d6b6",
   "metadata": {},
   "outputs": [
    {
     "data": {
      "text/plain": [
       "11"
      ]
     },
     "execution_count": 41,
     "metadata": {},
     "output_type": "execute_result"
    }
   ],
   "source": [
    "s=\"Srinivas Padhy\"\n",
    "count=0\n",
    "for i in s:\n",
    "    if i.islower():\n",
    "        count+=1\n",
    "count"
   ]
  },
  {
   "cell_type": "code",
   "execution_count": null,
   "id": "a6438eb9",
   "metadata": {},
   "outputs": [],
   "source": [
    "# 28. Swap the case of each character in a string."
   ]
  },
  {
   "cell_type": "code",
   "execution_count": 42,
   "id": "4f2bb6e9",
   "metadata": {},
   "outputs": [
    {
     "data": {
      "text/plain": [
       "'sRINIVAS pADHY'"
      ]
     },
     "execution_count": 42,
     "metadata": {},
     "output_type": "execute_result"
    }
   ],
   "source": [
    "s=\"Srinivas Padhy\"\n",
    "s1=s.swapcase()\n",
    "s1"
   ]
  },
  {
   "cell_type": "code",
   "execution_count": null,
   "id": "eae3e5c0",
   "metadata": {},
   "outputs": [],
   "source": [
    "# 29. Remove a specific word from a string."
   ]
  },
  {
   "cell_type": "code",
   "execution_count": 43,
   "id": "0e895dd9",
   "metadata": {},
   "outputs": [
    {
     "data": {
      "text/plain": [
       "'Srinivas '"
      ]
     },
     "execution_count": 43,
     "metadata": {},
     "output_type": "execute_result"
    }
   ],
   "source": [
    "s=\"Srinivas Padhy\"\n",
    "s1 = s.strip('Padhy')\n",
    "s1"
   ]
  },
  {
   "cell_type": "code",
   "execution_count": null,
   "id": "df3c6155",
   "metadata": {},
   "outputs": [],
   "source": [
    "# 30. Check if a string is a valid email address."
   ]
  },
  {
   "cell_type": "code",
   "execution_count": 44,
   "id": "21202ec0",
   "metadata": {},
   "outputs": [
    {
     "name": "stdout",
     "output_type": "stream",
     "text": [
      "valid\n"
     ]
    }
   ],
   "source": [
    "s = \"srinivaspadhybm@Gmail.com\"\n",
    "s1 = s.lower()\n",
    "if '@' in s1:\n",
    "    s1 = s1.split('@')\n",
    "    if '.com' in s1[1]:\n",
    "        print('valid')"
   ]
  },
  {
   "cell_type": "code",
   "execution_count": null,
   "id": "9e900eba",
   "metadata": {},
   "outputs": [],
   "source": [
    "# 31. Extract the username from an email address string."
   ]
  },
  {
   "cell_type": "code",
   "execution_count": 45,
   "id": "6ed4a2f5",
   "metadata": {},
   "outputs": [
    {
     "data": {
      "text/plain": [
       "'srinivaspadhybm'"
      ]
     },
     "execution_count": 45,
     "metadata": {},
     "output_type": "execute_result"
    }
   ],
   "source": [
    "s = \"srinivaspadhybm@Gmail.com\"\n",
    "s1 = s.split('@')\n",
    "username = s1[0]\n",
    "username"
   ]
  },
  {
   "cell_type": "code",
   "execution_count": null,
   "id": "52b59885",
   "metadata": {},
   "outputs": [],
   "source": [
    "# 32. Extract the domain name from an email address string."
   ]
  },
  {
   "cell_type": "code",
   "execution_count": 46,
   "id": "c1bdf10a",
   "metadata": {},
   "outputs": [
    {
     "data": {
      "text/plain": [
       "'Gmail.com'"
      ]
     },
     "execution_count": 46,
     "metadata": {},
     "output_type": "execute_result"
    }
   ],
   "source": [
    "s = \"srinivaspadhybm@Gmail.com\"\n",
    "s1 = s.split('@')\n",
    "domain = s1[1]\n",
    "domain"
   ]
  },
  {
   "cell_type": "code",
   "execution_count": null,
   "id": "ae5d950c",
   "metadata": {},
   "outputs": [],
   "source": [
    "# 33. Replace multiple spaces in a string with a single space."
   ]
  },
  {
   "cell_type": "code",
   "execution_count": 47,
   "id": "5ad7cf49",
   "metadata": {},
   "outputs": [
    {
     "data": {
      "text/plain": [
       "'srinivas padhy'"
      ]
     },
     "execution_count": 47,
     "metadata": {},
     "output_type": "execute_result"
    }
   ],
   "source": [
    "s = \"srinivas         padhy\"\n",
    "' '.join(s.split())"
   ]
  },
  {
   "cell_type": "code",
   "execution_count": null,
   "id": "12b84369",
   "metadata": {},
   "outputs": [],
   "source": [
    "# 34. Check if a string is a valid URL."
   ]
  },
  {
   "cell_type": "code",
   "execution_count": 48,
   "id": "bef55d17",
   "metadata": {},
   "outputs": [
    {
     "name": "stdout",
     "output_type": "stream",
     "text": [
      "valid\n"
     ]
    }
   ],
   "source": [
    "s = \"www.pwskills.com\"\n",
    "s = s.split('.')\n",
    "if s[0] == 'www' and s[-1] == 'com':\n",
    "    print('valid')\n"
   ]
  },
  {
   "cell_type": "code",
   "execution_count": null,
   "id": "510e58f8",
   "metadata": {},
   "outputs": [],
   "source": [
    "# 35. Extract the protocol (http or https) from a URL string."
   ]
  },
  {
   "cell_type": "code",
   "execution_count": 49,
   "id": "3b05d72e",
   "metadata": {},
   "outputs": [
    {
     "data": {
      "text/plain": [
       "'https'"
      ]
     },
     "execution_count": 49,
     "metadata": {},
     "output_type": "execute_result"
    }
   ],
   "source": [
    "s = \"https://www.netflix.com/watch/81206817?trackId=200257858\"\n",
    "s1 = s.split(':')\n",
    "s1[0]"
   ]
  },
  {
   "cell_type": "code",
   "execution_count": null,
   "id": "99f3e575",
   "metadata": {},
   "outputs": [],
   "source": [
    "# 36. Find the frequency of each character in a string."
   ]
  },
  {
   "cell_type": "code",
   "execution_count": 50,
   "id": "eb6500fc",
   "metadata": {},
   "outputs": [
    {
     "data": {
      "text/plain": [
       "{'m': 20, 'a': 18, 'd': 11}"
      ]
     },
     "execution_count": 50,
     "metadata": {},
     "output_type": "execute_result"
    }
   ],
   "source": [
    "s = \"madammadammdadmmadammdammadammadammadammadammadam\"\n",
    "s = s.lower()\n",
    "d = {}\n",
    "for c in s:\n",
    "    if c in d:\n",
    "        d[c]=d[c]+1\n",
    "    else:\n",
    "        d[c]=1\n",
    "d"
   ]
  },
  {
   "cell_type": "code",
   "execution_count": null,
   "id": "18fa167a",
   "metadata": {},
   "outputs": [],
   "source": [
    "# 37. Remove all punctuation from a string."
   ]
  },
  {
   "cell_type": "code",
   "execution_count": 51,
   "id": "f8e8c7ed",
   "metadata": {},
   "outputs": [
    {
     "data": {
      "text/plain": [
       "'mdwecweewefwewedwf'"
      ]
     },
     "execution_count": 51,
     "metadata": {},
     "output_type": "execute_result"
    }
   ],
   "source": [
    "import string\n",
    "s = \"mdwecwe'ewefwe'wedwf\"\n",
    "translator = s.maketrans('','',string.punctuation)\n",
    "translator\n",
    "s1 = s.translate(translator)\n",
    "s1"
   ]
  },
  {
   "cell_type": "code",
   "execution_count": null,
   "id": "6926dfa2",
   "metadata": {},
   "outputs": [],
   "source": [
    "# 38. Check if a string contains only digits."
   ]
  },
  {
   "cell_type": "code",
   "execution_count": 52,
   "id": "128fe83d",
   "metadata": {},
   "outputs": [
    {
     "data": {
      "text/plain": [
       "True"
      ]
     },
     "execution_count": 52,
     "metadata": {},
     "output_type": "execute_result"
    }
   ],
   "source": [
    "s = '498264982659'\n",
    "s.isdigit()"
   ]
  },
  {
   "cell_type": "code",
   "execution_count": null,
   "id": "90841406",
   "metadata": {},
   "outputs": [],
   "source": [
    "# 39. Check if a string contains only alphabets."
   ]
  },
  {
   "cell_type": "code",
   "execution_count": 53,
   "id": "7f41fdfe",
   "metadata": {},
   "outputs": [
    {
     "data": {
      "text/plain": [
       "True"
      ]
     },
     "execution_count": 53,
     "metadata": {},
     "output_type": "execute_result"
    }
   ],
   "source": [
    "s = 'srinivaspadhy'\n",
    "s.isalpha()"
   ]
  },
  {
   "cell_type": "code",
   "execution_count": null,
   "id": "a76c60df",
   "metadata": {},
   "outputs": [],
   "source": [
    "# 40. Convert a string to a list of characters."
   ]
  },
  {
   "cell_type": "code",
   "execution_count": 54,
   "id": "4e4ce3de",
   "metadata": {},
   "outputs": [
    {
     "data": {
      "text/plain": [
       "['s', 'r', 'i', 'n', 'i', 'v', 'a', 's', 'p', 'a', 'd', 'h', 'y']"
      ]
     },
     "execution_count": 54,
     "metadata": {},
     "output_type": "execute_result"
    }
   ],
   "source": [
    "s = \"srinivaspadhy\"\n",
    "l=[]\n",
    "l.extend(s)\n",
    "l"
   ]
  },
  {
   "cell_type": "code",
   "execution_count": null,
   "id": "7983ea2f",
   "metadata": {},
   "outputs": [],
   "source": [
    "# 41. Check if two strings are anagrams."
   ]
  },
  {
   "cell_type": "code",
   "execution_count": 55,
   "id": "7e6c6a08",
   "metadata": {},
   "outputs": [
    {
     "data": {
      "text/plain": [
       "True"
      ]
     },
     "execution_count": 55,
     "metadata": {},
     "output_type": "execute_result"
    }
   ],
   "source": [
    "s = \"silent\"\n",
    "s1 = \"listen\"\n",
    "s_sorted = ''.join(sorted(s))\n",
    "s1_sorted = ''.join(sorted(s1))\n",
    "s_sorted == s1_sorted"
   ]
  },
  {
   "cell_type": "code",
   "execution_count": null,
   "id": "d9c98ead",
   "metadata": {},
   "outputs": [],
   "source": [
    "# 42. Encode a string using a Caesar cipher."
   ]
  },
  {
   "cell_type": "code",
   "execution_count": 56,
   "id": "53245c8a",
   "metadata": {},
   "outputs": [
    {
     "data": {
      "text/plain": [
       "'SDVVZRUG'"
      ]
     },
     "execution_count": 56,
     "metadata": {},
     "output_type": "execute_result"
    }
   ],
   "source": [
    "s = \"PASSWORD\"\n",
    "key = 3\n",
    "encode = []\n",
    "for c in s:\n",
    "    shift = 65 if c.upper() else 91\n",
    "    encode.append(chr((ord(c)-shift + key) % 26 + shift))\n",
    "''.join(encode)"
   ]
  },
  {
   "cell_type": "code",
   "execution_count": null,
   "id": "3b6b74ee",
   "metadata": {},
   "outputs": [],
   "source": [
    "# 43. Decode a Caesar cipher encoded string."
   ]
  },
  {
   "cell_type": "code",
   "execution_count": 57,
   "id": "f05b4c7c",
   "metadata": {},
   "outputs": [
    {
     "data": {
      "text/plain": [
       "'PASSWORD'"
      ]
     },
     "execution_count": 57,
     "metadata": {},
     "output_type": "execute_result"
    }
   ],
   "source": [
    "s = \"SDVVZRUG\"\n",
    "key = 3\n",
    "encode = []\n",
    "for c in s:\n",
    "    shift = 65 if c.upper() else 91\n",
    "    encode.append(chr((ord(c)-shift - key) % 26 + shift))\n",
    "''.join(encode)"
   ]
  },
  {
   "cell_type": "code",
   "execution_count": null,
   "id": "cfde31d4",
   "metadata": {},
   "outputs": [],
   "source": [
    "# 44. Find the most frequent word in a string."
   ]
  },
  {
   "cell_type": "code",
   "execution_count": 58,
   "id": "5a23b423",
   "metadata": {},
   "outputs": [
    {
     "name": "stdout",
     "output_type": "stream",
     "text": [
      "word : madam, count : 7\n"
     ]
    }
   ],
   "source": [
    "s = \"password password madam srinivas madam madam madam srinivas madam password madam srinivas password password madam\"\n",
    "count = 0\n",
    "l = s.split(' ')\n",
    "d = {}\n",
    "for w in l:\n",
    "    if l.count(w) > count:\n",
    "        count = l.count(w)\n",
    "        word = w\n",
    "print(f'word : {word}, count : {count}')"
   ]
  },
  {
   "cell_type": "code",
   "execution_count": null,
   "id": "31fd3db7",
   "metadata": {},
   "outputs": [],
   "source": [
    "# 45. Find all unique words in a string."
   ]
  },
  {
   "cell_type": "code",
   "execution_count": 59,
   "id": "47329976",
   "metadata": {},
   "outputs": [
    {
     "name": "stdout",
     "output_type": "stream",
     "text": [
      "set of all unique words in a string {'srinivas', 'password', 'madam'}\n"
     ]
    }
   ],
   "source": [
    "s = \"password password madam srinivas madam madam madam srinivas madam password madam srinivas password password madam\"\n",
    "l = s.split(' ')\n",
    "print(f'set of all unique words in a string {set(l)}')"
   ]
  },
  {
   "cell_type": "code",
   "execution_count": null,
   "id": "1a8631a1",
   "metadata": {},
   "outputs": [],
   "source": [
    "# 46. Count the number of syllables in a string."
   ]
  },
  {
   "cell_type": "code",
   "execution_count": 60,
   "id": "ea4f64bf",
   "metadata": {},
   "outputs": [
    {
     "name": "stdout",
     "output_type": "stream",
     "text": [
      "{'a': 2, 'i': 2}\n"
     ]
    }
   ],
   "source": [
    "syllables = \"aeiou\"\n",
    "s = \"srinivaspadhy\"\n",
    "s = s.lower()\n",
    "d = {}\n",
    "for c in syllables:\n",
    "    if c in s:\n",
    "        d[c] = s.count(c)\n",
    "        \n",
    "print(d)"
   ]
  },
  {
   "cell_type": "code",
   "execution_count": null,
   "id": "b6f6e325",
   "metadata": {},
   "outputs": [],
   "source": [
    "# 47. Check if a string contains any special characters."
   ]
  },
  {
   "cell_type": "code",
   "execution_count": 62,
   "id": "bce29095",
   "metadata": {},
   "outputs": [
    {
     "name": "stdout",
     "output_type": "stream",
     "text": [
      "True\n"
     ]
    }
   ],
   "source": [
    "import re\n",
    "pattern = r'[!@#$%^&*()_+{}\\[\\]:;<>,.?~\\\\|/-]'\n",
    "s = \"srinivas @#padhy\"\n",
    "if re.search(pattern, s):\n",
    "    print(True)\n",
    "else:\n",
    "    print(False)"
   ]
  },
  {
   "cell_type": "code",
   "execution_count": null,
   "id": "393a27df",
   "metadata": {},
   "outputs": [],
   "source": [
    "# 48. Remove the nth word from a string."
   ]
  },
  {
   "cell_type": "code",
   "execution_count": 63,
   "id": "c3884f17",
   "metadata": {},
   "outputs": [
    {
     "data": {
      "text/plain": [
       "'password password madam srinivas madam madam madam srinivas madam password madam srinivas password password'"
      ]
     },
     "execution_count": 63,
     "metadata": {},
     "output_type": "execute_result"
    }
   ],
   "source": [
    "s = \"password password madam srinivas madam madam madam srinivas madam password madam srinivas password password madam\"\n",
    "l = s.split(' ')\n",
    "del l[len(l)-1]\n",
    "' '.join(l)"
   ]
  },
  {
   "cell_type": "code",
   "execution_count": null,
   "id": "af6f0dd8",
   "metadata": {},
   "outputs": [],
   "source": [
    "# 49. Insert a word at the nth position in a string."
   ]
  },
  {
   "cell_type": "code",
   "execution_count": 64,
   "id": "1740eb6d",
   "metadata": {},
   "outputs": [
    {
     "data": {
      "text/plain": [
       "'password password madam srinivas madam madam madam srinivas madam password madam srinivas password password padhy'"
      ]
     },
     "execution_count": 64,
     "metadata": {},
     "output_type": "execute_result"
    }
   ],
   "source": [
    "s = 'password password madam srinivas madam madam madam srinivas madam password madam srinivas password password'\n",
    "l = s.split(' ')\n",
    "l.append('padhy')\n",
    "' '.join(l)"
   ]
  },
  {
   "cell_type": "code",
   "execution_count": 66,
   "id": "373da3b2",
   "metadata": {},
   "outputs": [],
   "source": [
    "# 50. Convert a CSV string to a list of lists."
   ]
  },
  {
   "cell_type": "code",
   "execution_count": 67,
   "id": "7933ae8d",
   "metadata": {},
   "outputs": [
    {
     "data": {
      "text/plain": [
       "[['password',\n",
       "  'password',\n",
       "  'madam',\n",
       "  'srinivas',\n",
       "  'madam',\n",
       "  'madam',\n",
       "  'madam',\n",
       "  'srinivas',\n",
       "  'madam',\n",
       "  'password',\n",
       "  'madam',\n",
       "  'srinivas',\n",
       "  'password',\n",
       "  'password']]"
      ]
     },
     "execution_count": 67,
     "metadata": {},
     "output_type": "execute_result"
    }
   ],
   "source": [
    "import csv\n",
    "s = 'password,password,madam,srinivas,madam,madam,madam,srinivas,madam,password,madam,srinivas,password,password'\n",
    "csv_list = list(csv.reader(s.splitlines()))\n",
    "csv_list\n"
   ]
  },
  {
   "cell_type": "markdown",
   "id": "488d907b",
   "metadata": {},
   "source": [
    "# List Based Practice Problem :"
   ]
  },
  {
   "cell_type": "code",
   "execution_count": null,
   "id": "9f17bd03",
   "metadata": {},
   "outputs": [],
   "source": [
    "# 1. Create a list with integers from 1 to 10."
   ]
  },
  {
   "cell_type": "code",
   "execution_count": 68,
   "id": "a73e9d29",
   "metadata": {},
   "outputs": [],
   "source": [
    "l = [1,2,3,4,5,6,7,8,9,10]"
   ]
  },
  {
   "cell_type": "code",
   "execution_count": null,
   "id": "7cc3a6d3",
   "metadata": {},
   "outputs": [],
   "source": [
    "# 2. Find the length of a list without using the `len()` function."
   ]
  },
  {
   "cell_type": "code",
   "execution_count": 69,
   "id": "0903ab71",
   "metadata": {},
   "outputs": [
    {
     "name": "stdout",
     "output_type": "stream",
     "text": [
      "10\n"
     ]
    }
   ],
   "source": [
    "c=0\n",
    "for i in l:\n",
    "    c+=1\n",
    "print(c)"
   ]
  },
  {
   "cell_type": "code",
   "execution_count": 70,
   "id": "3ec527f6",
   "metadata": {},
   "outputs": [],
   "source": [
    "# 3. Append an element to the end of a list."
   ]
  },
  {
   "cell_type": "code",
   "execution_count": 72,
   "id": "2f5a8f00",
   "metadata": {},
   "outputs": [
    {
     "data": {
      "text/plain": [
       "[1, 2, 5, 7, 8, 'dergf', 543, 45]"
      ]
     },
     "execution_count": 72,
     "metadata": {},
     "output_type": "execute_result"
    }
   ],
   "source": [
    "l = [1,2,5,7,8,\"dergf\",543]\n",
    "l.append(45)\n",
    "l"
   ]
  },
  {
   "cell_type": "code",
   "execution_count": 73,
   "id": "721f0822",
   "metadata": {},
   "outputs": [],
   "source": [
    "# 4. Insert an element at a specific index in a list."
   ]
  },
  {
   "cell_type": "code",
   "execution_count": 75,
   "id": "2ef5f076",
   "metadata": {},
   "outputs": [
    {
     "data": {
      "text/plain": [
       "[1, 2, 5, 7, 'srinivas', 'dergf', 543]"
      ]
     },
     "execution_count": 75,
     "metadata": {},
     "output_type": "execute_result"
    }
   ],
   "source": [
    "l = [1,2,5,7,8,\"dergf\",543]\n",
    "l[4] = \"srinivas\"\n",
    "l"
   ]
  },
  {
   "cell_type": "code",
   "execution_count": 76,
   "id": "c23141cf",
   "metadata": {},
   "outputs": [],
   "source": [
    "# 5. Remove an element from a list by its value."
   ]
  },
  {
   "cell_type": "code",
   "execution_count": 77,
   "id": "e1edea63",
   "metadata": {},
   "outputs": [
    {
     "data": {
      "text/plain": [
       "[1, 2, 7, 8, 'dergf', 543]"
      ]
     },
     "execution_count": 77,
     "metadata": {},
     "output_type": "execute_result"
    }
   ],
   "source": [
    "l = [1,2,5,7,8,\"dergf\",543]\n",
    "l.remove(5)\n",
    "l"
   ]
  },
  {
   "cell_type": "code",
   "execution_count": 78,
   "id": "cc1e3ba5",
   "metadata": {},
   "outputs": [],
   "source": [
    "# 6. Remove an element from a list by its index."
   ]
  },
  {
   "cell_type": "code",
   "execution_count": 80,
   "id": "bb72c82e",
   "metadata": {},
   "outputs": [
    {
     "data": {
      "text/plain": [
       "[1, 2, 5, 7, 8, 543]"
      ]
     },
     "execution_count": 80,
     "metadata": {},
     "output_type": "execute_result"
    }
   ],
   "source": [
    "l = [1,2,5,7,8,\"dergf\",543]\n",
    "l.pop(5)\n",
    "l"
   ]
  },
  {
   "cell_type": "code",
   "execution_count": 81,
   "id": "c7819fb6",
   "metadata": {},
   "outputs": [],
   "source": [
    "# 7. Check if an element exists in a list."
   ]
  },
  {
   "cell_type": "code",
   "execution_count": 82,
   "id": "d526b663",
   "metadata": {},
   "outputs": [
    {
     "data": {
      "text/plain": [
       "True"
      ]
     },
     "execution_count": 82,
     "metadata": {},
     "output_type": "execute_result"
    }
   ],
   "source": [
    "l = [1,2,5,7,8,\"dergf\",543]\n",
    "5 in l"
   ]
  },
  {
   "cell_type": "code",
   "execution_count": 83,
   "id": "c4a898ff",
   "metadata": {},
   "outputs": [],
   "source": [
    "# 8. Find the index of the first occurrence of an element in a list."
   ]
  },
  {
   "cell_type": "code",
   "execution_count": 84,
   "id": "51103b28",
   "metadata": {},
   "outputs": [
    {
     "data": {
      "text/plain": [
       "5"
      ]
     },
     "execution_count": 84,
     "metadata": {},
     "output_type": "execute_result"
    }
   ],
   "source": [
    "l = [1,2,5,7,8,\"dergf\",543,\"dergf\",\"dergf\",543,2,4,7,\"dergf\"]\n",
    "l.index(\"dergf\")"
   ]
  },
  {
   "cell_type": "code",
   "execution_count": 85,
   "id": "c4794075",
   "metadata": {},
   "outputs": [],
   "source": [
    "# 9. Count the occurrences of an element in a list."
   ]
  },
  {
   "cell_type": "code",
   "execution_count": 86,
   "id": "6ab017b7",
   "metadata": {},
   "outputs": [
    {
     "data": {
      "text/plain": [
       "4"
      ]
     },
     "execution_count": 86,
     "metadata": {},
     "output_type": "execute_result"
    }
   ],
   "source": [
    "l = [1,2,5,7,8,\"dergf\",543,\"dergf\",\"dergf\",543,2,4,7,\"dergf\"]\n",
    "l.count(\"dergf\")"
   ]
  },
  {
   "cell_type": "code",
   "execution_count": 87,
   "id": "baba8a85",
   "metadata": {},
   "outputs": [],
   "source": [
    "# 10. Reverse the order of elements in a list."
   ]
  },
  {
   "cell_type": "code",
   "execution_count": 89,
   "id": "125b78f9",
   "metadata": {},
   "outputs": [
    {
     "data": {
      "text/plain": [
       "['dergf', 7, 4, 2, 543, 'dergf', 'dergf', 543, 'dergf', 8, 7, 5, 2, 1]"
      ]
     },
     "execution_count": 89,
     "metadata": {},
     "output_type": "execute_result"
    }
   ],
   "source": [
    "l = [1,2,5,7,8,\"dergf\",543,\"dergf\",\"dergf\",543,2,4,7,\"dergf\"]\n",
    "l.reverse()\n",
    "l"
   ]
  },
  {
   "cell_type": "code",
   "execution_count": 90,
   "id": "74487adc",
   "metadata": {},
   "outputs": [],
   "source": [
    "# 11. Sort a list in ascending order."
   ]
  },
  {
   "cell_type": "code",
   "execution_count": 93,
   "id": "2dca9219",
   "metadata": {},
   "outputs": [
    {
     "data": {
      "text/plain": [
       "[1, 2, 2, 4, 5, 7, 8, 9, 12, 23, 43, 45, 45, 65, 543]"
      ]
     },
     "execution_count": 93,
     "metadata": {},
     "output_type": "execute_result"
    }
   ],
   "source": [
    "l = [1,2,5,7,8,543,45,23,43,65,45,2,4,9,12]\n",
    "l.sort()\n",
    "l"
   ]
  },
  {
   "cell_type": "code",
   "execution_count": 94,
   "id": "5441f3a0",
   "metadata": {},
   "outputs": [],
   "source": [
    "# 12. Sort a list in descending order."
   ]
  },
  {
   "cell_type": "code",
   "execution_count": 95,
   "id": "ded3f125",
   "metadata": {},
   "outputs": [
    {
     "data": {
      "text/plain": [
       "[543, 65, 45, 45, 43, 23, 12, 9, 8, 7, 5, 4, 2, 2, 1]"
      ]
     },
     "execution_count": 95,
     "metadata": {},
     "output_type": "execute_result"
    }
   ],
   "source": [
    "l = [1,2,5,7,8,543,45,23,43,65,45,2,4,9,12]\n",
    "l.sort(reverse=True)\n",
    "l"
   ]
  },
  {
   "cell_type": "code",
   "execution_count": 96,
   "id": "9620cf63",
   "metadata": {},
   "outputs": [],
   "source": [
    "# 13. Create a list of even numbers from 1 to 20."
   ]
  },
  {
   "cell_type": "code",
   "execution_count": 99,
   "id": "bccd96f1",
   "metadata": {},
   "outputs": [
    {
     "data": {
      "text/plain": [
       "[2, 4, 6, 8, 10, 12, 14, 16, 18, 20]"
      ]
     },
     "execution_count": 99,
     "metadata": {},
     "output_type": "execute_result"
    }
   ],
   "source": [
    "l = [i for i in range(2,21,2)]\n",
    "l\n",
    "\n",
    "    "
   ]
  },
  {
   "cell_type": "code",
   "execution_count": 100,
   "id": "27eddc0c",
   "metadata": {},
   "outputs": [],
   "source": [
    "# 14. Create a list of odd numbers from 1 to 20."
   ]
  },
  {
   "cell_type": "code",
   "execution_count": 101,
   "id": "6af7400f",
   "metadata": {},
   "outputs": [
    {
     "data": {
      "text/plain": [
       "[1, 3, 5, 7, 9, 11, 13, 15, 17, 19]"
      ]
     },
     "execution_count": 101,
     "metadata": {},
     "output_type": "execute_result"
    }
   ],
   "source": [
    "l = [i for i in range(1,20,2)]\n",
    "l\n",
    "\n",
    "    "
   ]
  },
  {
   "cell_type": "code",
   "execution_count": 102,
   "id": "51c8dbb1",
   "metadata": {},
   "outputs": [],
   "source": [
    "# 15. Find the sum of all elements in a list."
   ]
  },
  {
   "cell_type": "code",
   "execution_count": 103,
   "id": "c19ce0f4",
   "metadata": {},
   "outputs": [
    {
     "data": {
      "text/plain": [
       "814"
      ]
     },
     "execution_count": 103,
     "metadata": {},
     "output_type": "execute_result"
    }
   ],
   "source": [
    "l = [1,2,5,7,8,543,45,23,43,65,45,2,4,9,12]\n",
    "sum(l)"
   ]
  },
  {
   "cell_type": "code",
   "execution_count": 104,
   "id": "f0134f87",
   "metadata": {},
   "outputs": [],
   "source": [
    "# 16. Find the maximum value in a list."
   ]
  },
  {
   "cell_type": "code",
   "execution_count": 105,
   "id": "a7846d8c",
   "metadata": {},
   "outputs": [
    {
     "data": {
      "text/plain": [
       "543"
      ]
     },
     "execution_count": 105,
     "metadata": {},
     "output_type": "execute_result"
    }
   ],
   "source": [
    "l = [1,2,5,7,8,543,45,23,43,65,45,2,4,9,12]\n",
    "max(l)"
   ]
  },
  {
   "cell_type": "code",
   "execution_count": 106,
   "id": "d50390bc",
   "metadata": {},
   "outputs": [],
   "source": [
    "# 17. Find the minimum value in a list."
   ]
  },
  {
   "cell_type": "code",
   "execution_count": 107,
   "id": "71859a17",
   "metadata": {},
   "outputs": [
    {
     "data": {
      "text/plain": [
       "1"
      ]
     },
     "execution_count": 107,
     "metadata": {},
     "output_type": "execute_result"
    }
   ],
   "source": [
    "l = [1,2,5,7,8,543,45,23,43,65,45,2,4,9,12]\n",
    "min(l)"
   ]
  },
  {
   "cell_type": "code",
   "execution_count": 108,
   "id": "a5a1a1fe",
   "metadata": {},
   "outputs": [
    {
     "data": {
      "text/plain": [
       "[1, 4, 9, 16, 25, 36, 49, 64, 81]"
      ]
     },
     "execution_count": 108,
     "metadata": {},
     "output_type": "execute_result"
    }
   ],
   "source": [
    "# 18. Create a list of squares of numbers from 1 to 10.\n",
    "[i*i for i in range(1,10,1)]"
   ]
  },
  {
   "cell_type": "code",
   "execution_count": 109,
   "id": "fee21aef",
   "metadata": {},
   "outputs": [],
   "source": [
    "# 19. Create a list of random numbers."
   ]
  },
  {
   "cell_type": "code",
   "execution_count": 113,
   "id": "22d512af",
   "metadata": {},
   "outputs": [
    {
     "data": {
      "text/plain": [
       "[51, 21, 87, 80, 20, 90, 99, 55, 85, 95]"
      ]
     },
     "execution_count": 113,
     "metadata": {},
     "output_type": "execute_result"
    }
   ],
   "source": [
    "import random\n",
    "[random.randint(1,100) for _ in range(10)]"
   ]
  },
  {
   "cell_type": "code",
   "execution_count": 114,
   "id": "d017cc6d",
   "metadata": {},
   "outputs": [],
   "source": [
    "# 20. Remove duplicates from a list."
   ]
  },
  {
   "cell_type": "code",
   "execution_count": 115,
   "id": "73bafbf5",
   "metadata": {},
   "outputs": [
    {
     "data": {
      "text/plain": [
       "[1, 2, 65, 4, 5, 7, 8, 9, 43, 12, 45, 23, 543]"
      ]
     },
     "execution_count": 115,
     "metadata": {},
     "output_type": "execute_result"
    }
   ],
   "source": [
    "l = [1,2,5,7,8,543,45,23,43,65,45,2,4,9,12]\n",
    "list(set(l))"
   ]
  },
  {
   "cell_type": "code",
   "execution_count": 116,
   "id": "92dd2090",
   "metadata": {},
   "outputs": [],
   "source": [
    "# 21. Find the common elements between two lists."
   ]
  },
  {
   "cell_type": "code",
   "execution_count": 117,
   "id": "831fb040",
   "metadata": {},
   "outputs": [
    {
     "data": {
      "text/plain": [
       "[65, 1, 5, 9, 45, 23, 543]"
      ]
     },
     "execution_count": 117,
     "metadata": {},
     "output_type": "execute_result"
    }
   ],
   "source": [
    "l = [1,2,5,7,8,543,45,23,43,65,45,2,4,9,12]\n",
    "l1 = [1,3,5,543,76,45,23,9,65,245,678]\n",
    "list(set(l) & set(l1))\n"
   ]
  },
  {
   "cell_type": "code",
   "execution_count": 118,
   "id": "bfd6e75a",
   "metadata": {},
   "outputs": [],
   "source": [
    "# 22. Find the difference between two lists."
   ]
  },
  {
   "cell_type": "code",
   "execution_count": 119,
   "id": "43e8c60c",
   "metadata": {},
   "outputs": [
    {
     "data": {
      "text/plain": [
       "[2, 4, 7, 8, 43, 12]"
      ]
     },
     "execution_count": 119,
     "metadata": {},
     "output_type": "execute_result"
    }
   ],
   "source": [
    "l = [1,2,5,7,8,543,45,23,43,65,45,2,4,9,12]\n",
    "l1 = [1,3,5,543,76,45,23,9,65,245,678]\n",
    "list(set(l)-set(l1))"
   ]
  },
  {
   "cell_type": "code",
   "execution_count": 120,
   "id": "358b0ab2",
   "metadata": {},
   "outputs": [],
   "source": [
    "# 23. Merge two lists."
   ]
  },
  {
   "cell_type": "code",
   "execution_count": 121,
   "id": "3e8bd71c",
   "metadata": {},
   "outputs": [
    {
     "data": {
      "text/plain": [
       "[1,\n",
       " 2,\n",
       " 5,\n",
       " 7,\n",
       " 8,\n",
       " 543,\n",
       " 45,\n",
       " 23,\n",
       " 43,\n",
       " 65,\n",
       " 45,\n",
       " 2,\n",
       " 4,\n",
       " 9,\n",
       " 12,\n",
       " 1,\n",
       " 3,\n",
       " 5,\n",
       " 543,\n",
       " 76,\n",
       " 45,\n",
       " 23,\n",
       " 9,\n",
       " 65,\n",
       " 245,\n",
       " 678]"
      ]
     },
     "execution_count": 121,
     "metadata": {},
     "output_type": "execute_result"
    }
   ],
   "source": [
    "l = [1,2,5,7,8,543,45,23,43,65,45,2,4,9,12]\n",
    "l1 = [1,3,5,543,76,45,23,9,65,245,678]\n",
    "l+l1"
   ]
  },
  {
   "cell_type": "code",
   "execution_count": 127,
   "id": "e3ad25cd",
   "metadata": {},
   "outputs": [
    {
     "data": {
      "text/plain": [
       "[2, 4, 10, 14, 16, 1086, 90, 46, 86, 130, 90, 4, 8, 18, 24]"
      ]
     },
     "execution_count": 127,
     "metadata": {},
     "output_type": "execute_result"
    }
   ],
   "source": [
    "# 24. Multiply all elements in a list by 2.\n",
    "l = [1,2,5,7,8,543,45,23,43,65,45,2,4,9,12]\n",
    "[i*2 for i in l]"
   ]
  },
  {
   "cell_type": "code",
   "execution_count": 128,
   "id": "9e2eb8de",
   "metadata": {},
   "outputs": [],
   "source": [
    "# 25. Filter out all even numbers from a list."
   ]
  },
  {
   "cell_type": "code",
   "execution_count": 136,
   "id": "b0cab58b",
   "metadata": {},
   "outputs": [
    {
     "data": {
      "text/plain": [
       "[2, 8, 2, 4, 12]"
      ]
     },
     "execution_count": 136,
     "metadata": {},
     "output_type": "execute_result"
    }
   ],
   "source": [
    "l = [1,2,5,7,8,543,45,23,43,65,45,2,4,9,12]\n",
    "[i for i in l if i%2 == 0]"
   ]
  },
  {
   "cell_type": "code",
   "execution_count": 137,
   "id": "695c8c87",
   "metadata": {},
   "outputs": [],
   "source": [
    "# 26. Convert a list of strings to a list of integers."
   ]
  },
  {
   "cell_type": "code",
   "execution_count": 138,
   "id": "827ea339",
   "metadata": {},
   "outputs": [
    {
     "data": {
      "text/plain": [
       "[12, 23, 43, 78]"
      ]
     },
     "execution_count": 138,
     "metadata": {},
     "output_type": "execute_result"
    }
   ],
   "source": [
    "l = [\"12\",'23','43','78']\n",
    "[int(i) for i in l]"
   ]
  },
  {
   "cell_type": "code",
   "execution_count": 139,
   "id": "d166492f",
   "metadata": {},
   "outputs": [],
   "source": [
    "# 27. Convert a list of integers to a list of strings."
   ]
  },
  {
   "cell_type": "code",
   "execution_count": 140,
   "id": "abc074d3",
   "metadata": {},
   "outputs": [
    {
     "data": {
      "text/plain": [
       "['12', '23', '43', '78']"
      ]
     },
     "execution_count": 140,
     "metadata": {},
     "output_type": "execute_result"
    }
   ],
   "source": [
    "l = [12, 23, 43, 78]\n",
    "[str(i) for i in l]"
   ]
  },
  {
   "cell_type": "code",
   "execution_count": 141,
   "id": "16dd72ab",
   "metadata": {},
   "outputs": [],
   "source": [
    "# 28. Flatten a nested list."
   ]
  },
  {
   "cell_type": "code",
   "execution_count": 144,
   "id": "233e4fc4",
   "metadata": {},
   "outputs": [
    {
     "data": {
      "text/plain": [
       "[1, 45, 67, 23, 43, 24, 54, 67]"
      ]
     },
     "execution_count": 144,
     "metadata": {},
     "output_type": "execute_result"
    }
   ],
   "source": [
    "l = [1,45,67,23,43,[24,54,67]]\n",
    "[i for sub_list in l for i in (sub_list if isinstance(sub_list,list) else [sub_list])]"
   ]
  },
  {
   "cell_type": "code",
   "execution_count": 145,
   "id": "8abd1fd2",
   "metadata": {},
   "outputs": [],
   "source": [
    "# 29. Create a list of the first 10 Fibonacci numbers."
   ]
  },
  {
   "cell_type": "code",
   "execution_count": 147,
   "id": "8b56443c",
   "metadata": {},
   "outputs": [
    {
     "name": "stdout",
     "output_type": "stream",
     "text": [
      "[0, 1, 1, 2, 3, 5, 8, 13, 21, 34]\n"
     ]
    }
   ],
   "source": [
    "def generate_fibonacci(n):\n",
    "    fibonacci_sequence = [0, 1]\n",
    "    while len(fibonacci_sequence) < n:\n",
    "        next_number = fibonacci_sequence[-1] + fibonacci_sequence[-2]\n",
    "        fibonacci_sequence.append(next_number)\n",
    "    return fibonacci_sequence[:n]\n",
    "\n",
    "fibonacci_numbers = generate_fibonacci(10)\n",
    "print(fibonacci_numbers)"
   ]
  },
  {
   "cell_type": "code",
   "execution_count": 146,
   "id": "701c2a86",
   "metadata": {},
   "outputs": [],
   "source": [
    "# 30. Check if a list is sorted."
   ]
  },
  {
   "cell_type": "code",
   "execution_count": 148,
   "id": "6fec48ea",
   "metadata": {},
   "outputs": [
    {
     "data": {
      "text/plain": [
       "False"
      ]
     },
     "execution_count": 148,
     "metadata": {},
     "output_type": "execute_result"
    }
   ],
   "source": [
    "l = [1,2,5,7,8,543,45,23,43,65,45,2,4,9,12]\n",
    "l==l.sort()"
   ]
  },
  {
   "cell_type": "code",
   "execution_count": 149,
   "id": "a7c5df5e",
   "metadata": {},
   "outputs": [],
   "source": [
    "# 31. Rotate a list to the left by `n` positions."
   ]
  },
  {
   "cell_type": "code",
   "execution_count": 154,
   "id": "b57ce10a",
   "metadata": {},
   "outputs": [
    {
     "data": {
      "text/plain": [
       "[45, 2, 4, 9, 12, 1, 2, 5, 7, 8, 543, 45, 23, 43, 65]"
      ]
     },
     "execution_count": 154,
     "metadata": {},
     "output_type": "execute_result"
    }
   ],
   "source": [
    "l = [1,2,5,7,8,543,45,23,43,65,45,2,4,9,12]\n",
    "l[5:]+l[:5]#n=5"
   ]
  },
  {
   "cell_type": "code",
   "execution_count": 152,
   "id": "3372e1c1",
   "metadata": {},
   "outputs": [
    {
     "data": {
      "text/plain": [
       "[45, 2, 4, 9, 12, 1, 2, 5, 7, 8, 543, 45, 23, 43, 65]"
      ]
     },
     "execution_count": 152,
     "metadata": {},
     "output_type": "execute_result"
    }
   ],
   "source": [
    "# 32. Rotate a list to the right by `n` positions.\n",
    "l = [1,2,5,7,8,543,45,23,43,65,45,2,4,9,12]\n",
    "l[-5:]+l[:-5]#n=5"
   ]
  },
  {
   "cell_type": "code",
   "execution_count": 155,
   "id": "e90449c9",
   "metadata": {},
   "outputs": [],
   "source": [
    "# 33. Create a list of prime numbers up to 50."
   ]
  },
  {
   "cell_type": "code",
   "execution_count": 466,
   "id": "92fa2b14",
   "metadata": {},
   "outputs": [
    {
     "name": "stdout",
     "output_type": "stream",
     "text": [
      "[2, 3, 5, 7, 11, 13, 17, 19, 23, 29, 31, 37, 41, 43, 47]\n"
     ]
    }
   ],
   "source": [
    "def is_prime(num):\n",
    "    if num <= 1:\n",
    "        return False\n",
    "    if num <= 3:\n",
    "        return True\n",
    "    if num % 2 == 0 or num % 3 == 0:\n",
    "        return False\n",
    "    i = 5\n",
    "    while i * i <= num:\n",
    "        if num % i == 0 or num % (i+2) == 0:\n",
    "            return False\n",
    "        i += 6\n",
    "    return True\n",
    "\n",
    "l = []\n",
    "num = 2\n",
    "while num <= 50:\n",
    "    if is_prime(num):\n",
    "        l += [num]\n",
    "    num += 1\n",
    "\n",
    "print(l)"
   ]
  },
  {
   "cell_type": "code",
   "execution_count": 158,
   "id": "423b9f8b",
   "metadata": {},
   "outputs": [],
   "source": [
    "# 34. Split a list into chunks of size `n`."
   ]
  },
  {
   "cell_type": "code",
   "execution_count": 163,
   "id": "facfb891",
   "metadata": {},
   "outputs": [
    {
     "data": {
      "text/plain": [
       "[[1, 2, 5, 7, 8], [543, 45, 23, 43, 65], [45, 2, 4, 9, 12]]"
      ]
     },
     "execution_count": 163,
     "metadata": {},
     "output_type": "execute_result"
    }
   ],
   "source": [
    "l = [1,2,5,7,8,543,45,23,43,65,45,2,4,9,12]\n",
    "[l[i:i+5] for i in range(0,len(l),5)]"
   ]
  },
  {
   "cell_type": "code",
   "execution_count": 162,
   "id": "ca0c3f58",
   "metadata": {},
   "outputs": [],
   "source": [
    "# 35. Find the second largest number in a list."
   ]
  },
  {
   "cell_type": "code",
   "execution_count": 188,
   "id": "d9e273d2",
   "metadata": {},
   "outputs": [
    {
     "data": {
      "text/plain": [
       "65"
      ]
     },
     "execution_count": 188,
     "metadata": {},
     "output_type": "execute_result"
    }
   ],
   "source": [
    "l = [1,2,5,7,8,543,45,23,43,65,45,2,4,9,12]\n",
    "l.sort(reverse=True)\n",
    "l[1]\n"
   ]
  },
  {
   "cell_type": "code",
   "execution_count": 189,
   "id": "44d35dc8",
   "metadata": {},
   "outputs": [],
   "source": [
    "# 36. Replace every element in a list with its square."
   ]
  },
  {
   "cell_type": "code",
   "execution_count": 192,
   "id": "381a7a85",
   "metadata": {},
   "outputs": [
    {
     "data": {
      "text/plain": [
       "[1,\n",
       " 4,\n",
       " 3125,\n",
       " 823543,\n",
       " 16777216,\n",
       " 991533670911673639814930729742491587550543120114886806650910637268465952095708990787212475527164494262311458084050540555524438379331322229515116872850551475100845329359247781704424675452252070727332661642953721841355760091748936673254088797193184089641511606452710509554349113937847267409470589228304498760369617411698744120733684813717226581415760842746889214357079084706156741020604644793780793389083681544583519598437660888859982482896168184793171786368136187552260956283771412915799629786213126060700182224921128180223455870846441184623508268313696155174972047814824108541486220727641650645820906668756683891620124251795307436814192869124111118998081201355910527141599375084262122684571731482592737933683304943786848957064723730229152063187570070555259881004860476034859909096725024003664561959222594655723749531425585956633006616666836071950875861931176827306407951456508427384063361274203563835586325158391291370990079242647280246350629188304979703238397425789768857375020346765799265251533947767027968647337777729178369373879887991551105216997197384241489657395138559105779626082700579888774365075567731454008816035026048526952617227841111619666812746016933306720715237597549002795373496270828821886353215155517622779326191598977509319978499693780568393020861523419967918279715503694096052623743311915148576475293047211353746992400417556215922353926958394049488376443613729846935929043448134352391932811502674590885618086155217153363045987870985003973833327826133685994690199007,\n",
       " 248063644451341145494649182395412689744530581492654164321720600128173828125,\n",
       " 20880467999847912034355032910567,\n",
       " 17343773367030267519903781288812032158308062539012091953077767198995507,\n",
       " 6908252164760920851405538694468286082230378724259454186289117297729987129104901877330036086277686990797519683837890625,\n",
       " 248063644451341145494649182395412689744530581492654164321720600128173828125,\n",
       " 4,\n",
       " 256,\n",
       " 387420489,\n",
       " 8916100448256]"
      ]
     },
     "execution_count": 192,
     "metadata": {},
     "output_type": "execute_result"
    }
   ],
   "source": [
    "l = [1,2,5,7,8,543,45,23,43,65,45,2,4,9,12]\n",
    "[i**i for i in l]"
   ]
  },
  {
   "cell_type": "code",
   "execution_count": 194,
   "id": "8a4d75fe",
   "metadata": {},
   "outputs": [],
   "source": [
    "# 37. Convert a list to a dictionary where list elements become keys and their\n",
    "# indices become values."
   ]
  },
  {
   "cell_type": "code",
   "execution_count": 198,
   "id": "9e829648",
   "metadata": {},
   "outputs": [
    {
     "data": {
      "text/plain": [
       "{1: 0,\n",
       " 2: 11,\n",
       " 5: 2,\n",
       " 7: 3,\n",
       " 8: 4,\n",
       " 543: 5,\n",
       " 45: 10,\n",
       " 23: 7,\n",
       " 43: 8,\n",
       " 65: 9,\n",
       " 4: 12,\n",
       " 9: 13,\n",
       " 12: 14}"
      ]
     },
     "execution_count": 198,
     "metadata": {},
     "output_type": "execute_result"
    }
   ],
   "source": [
    "l = [1,2,5,7,8,543,45,23,43,65,45,2,4,9,12]\n",
    "{i:index for index,i in enumerate(l)}"
   ]
  },
  {
   "cell_type": "code",
   "execution_count": 199,
   "id": "5a343ba6",
   "metadata": {},
   "outputs": [],
   "source": [
    "# 38. Shuffle the elements of a list randomly."
   ]
  },
  {
   "cell_type": "code",
   "execution_count": 203,
   "id": "0494a08c",
   "metadata": {},
   "outputs": [
    {
     "data": {
      "text/plain": [
       "[4, 5, 45, 7, 1, 2, 23, 43, 65, 12, 8, 45, 543, 2, 9]"
      ]
     },
     "execution_count": 203,
     "metadata": {},
     "output_type": "execute_result"
    }
   ],
   "source": [
    "import random\n",
    "l = [1,2,5,7,8,543,45,23,43,65,45,2,4,9,12]\n",
    "random.shuffle(l)\n",
    "l"
   ]
  },
  {
   "cell_type": "code",
   "execution_count": 204,
   "id": "73669ac7",
   "metadata": {},
   "outputs": [],
   "source": [
    "# 39. Create a list of the first 10 factorial numbers."
   ]
  },
  {
   "cell_type": "code",
   "execution_count": 206,
   "id": "0b4be16e",
   "metadata": {},
   "outputs": [
    {
     "data": {
      "text/plain": [
       "[1, 2, 6, 24, 120, 720, 5040, 40320, 362880, 3628800]"
      ]
     },
     "execution_count": 206,
     "metadata": {},
     "output_type": "execute_result"
    }
   ],
   "source": [
    "import math\n",
    "[math.factorial(i) for i in range(1,11)]"
   ]
  },
  {
   "cell_type": "code",
   "execution_count": 207,
   "id": "8b6529f8",
   "metadata": {},
   "outputs": [],
   "source": [
    "# 40. Check if two lists have at least one element in common."
   ]
  },
  {
   "cell_type": "code",
   "execution_count": 213,
   "id": "8aa63e51",
   "metadata": {},
   "outputs": [
    {
     "data": {
      "text/plain": [
       "True"
      ]
     },
     "execution_count": 213,
     "metadata": {},
     "output_type": "execute_result"
    }
   ],
   "source": [
    "l = [1,2,5,7,8,543,45,23,43,65,45,2,4,9,12]\n",
    "l2 = [543,2,65,23,78,1,9]\n",
    "[True if i in l2 else False for i in l].count(True)>1"
   ]
  },
  {
   "cell_type": "code",
   "execution_count": 214,
   "id": "44b0df51",
   "metadata": {},
   "outputs": [],
   "source": [
    "# 41. Remove all elements from a list."
   ]
  },
  {
   "cell_type": "code",
   "execution_count": 218,
   "id": "bc02ceb6",
   "metadata": {},
   "outputs": [
    {
     "data": {
      "text/plain": [
       "[]"
      ]
     },
     "execution_count": 218,
     "metadata": {},
     "output_type": "execute_result"
    }
   ],
   "source": [
    "l = [1,2,5,7,8,543,45,23,43,65,45,2,4,9,12]\n",
    "\n",
    "l.clear()\n",
    "l."
   ]
  },
  {
   "cell_type": "code",
   "execution_count": 219,
   "id": "5baa76c0",
   "metadata": {},
   "outputs": [],
   "source": [
    "# 42. Replace negative numbers in a list with 0."
   ]
  },
  {
   "cell_type": "code",
   "execution_count": 222,
   "id": "a72c6402",
   "metadata": {},
   "outputs": [
    {
     "data": {
      "text/plain": [
       "[1, 0, 5, 0, 8, 0, 45, 0, 0, 65, 0, 2, 4, 9, 12]"
      ]
     },
     "execution_count": 222,
     "metadata": {},
     "output_type": "execute_result"
    }
   ],
   "source": [
    "l = [1,-2,5,-7,8,-543,45,-23,-43,65,-45,2,4,9,12]\n",
    "[i if i > 0 else 0 for i in l]"
   ]
  },
  {
   "cell_type": "code",
   "execution_count": 223,
   "id": "8718f34c",
   "metadata": {},
   "outputs": [],
   "source": [
    "# 43. Convert a string into a list of words."
   ]
  },
  {
   "cell_type": "code",
   "execution_count": 226,
   "id": "2c78b91a",
   "metadata": {},
   "outputs": [
    {
     "data": {
      "text/plain": [
       "['srinivas', 'padhy']"
      ]
     },
     "execution_count": 226,
     "metadata": {},
     "output_type": "execute_result"
    }
   ],
   "source": [
    "s = \"srinivas padhy\"\n",
    "s.split(' ')"
   ]
  },
  {
   "cell_type": "code",
   "execution_count": 227,
   "id": "51b6cc9a",
   "metadata": {},
   "outputs": [],
   "source": [
    "# 44. Convert a list of words into a string."
   ]
  },
  {
   "cell_type": "code",
   "execution_count": 228,
   "id": "70f157fd",
   "metadata": {},
   "outputs": [
    {
     "data": {
      "text/plain": [
       "'srinivas padhy'"
      ]
     },
     "execution_count": 228,
     "metadata": {},
     "output_type": "execute_result"
    }
   ],
   "source": [
    "l=['srinivas', 'padhy']\n",
    "(' ').join(l)"
   ]
  },
  {
   "cell_type": "code",
   "execution_count": 229,
   "id": "004704fb",
   "metadata": {},
   "outputs": [],
   "source": [
    "# 45. Create a list of the first `n` powers of 2."
   ]
  },
  {
   "cell_type": "code",
   "execution_count": 230,
   "id": "ff5a181e",
   "metadata": {},
   "outputs": [
    {
     "data": {
      "text/plain": [
       "[2, 4, 8, 16, 32, 64, 128, 256, 512]"
      ]
     },
     "execution_count": 230,
     "metadata": {},
     "output_type": "execute_result"
    }
   ],
   "source": [
    "[2**i for i in range(1,10)]# n = 10"
   ]
  },
  {
   "cell_type": "code",
   "execution_count": 231,
   "id": "d0a0ff90",
   "metadata": {},
   "outputs": [],
   "source": [
    "# 46. Find the longest string in a list of strings."
   ]
  },
  {
   "cell_type": "code",
   "execution_count": 233,
   "id": "32c620d3",
   "metadata": {},
   "outputs": [
    {
     "data": {
      "text/plain": [
       "'deafqergeqer'"
      ]
     },
     "execution_count": 233,
     "metadata": {},
     "output_type": "execute_result"
    }
   ],
   "source": [
    "s = ['srinivas','padhy','deafqergeqer','eteavreg']\n",
    "max(s,key=len)"
   ]
  },
  {
   "cell_type": "code",
   "execution_count": 234,
   "id": "b3e1ad1f",
   "metadata": {},
   "outputs": [],
   "source": [
    "# 47. Find the shortest string in a list of strings."
   ]
  },
  {
   "cell_type": "code",
   "execution_count": 235,
   "id": "8f63c274",
   "metadata": {},
   "outputs": [
    {
     "data": {
      "text/plain": [
       "'padhy'"
      ]
     },
     "execution_count": 235,
     "metadata": {},
     "output_type": "execute_result"
    }
   ],
   "source": [
    "s = ['srinivas','padhy','deafqergeqer','eteavreg']\n",
    "min(s,key=len)\n"
   ]
  },
  {
   "cell_type": "code",
   "execution_count": 236,
   "id": "a74d2a09",
   "metadata": {},
   "outputs": [],
   "source": [
    "# 48. Create a list of the first `n` triangular numbers."
   ]
  },
  {
   "cell_type": "code",
   "execution_count": 238,
   "id": "87cab813",
   "metadata": {},
   "outputs": [
    {
     "data": {
      "text/plain": [
       "[1, 3, 6, 10, 15, 21, 28, 36, 45, 55]"
      ]
     },
     "execution_count": 238,
     "metadata": {},
     "output_type": "execute_result"
    }
   ],
   "source": [
    "[i * (i + 1) // 2 for i in range(1, 10 + 1)]#n=10"
   ]
  },
  {
   "cell_type": "code",
   "execution_count": 239,
   "id": "e615b9a7",
   "metadata": {},
   "outputs": [],
   "source": [
    "# 49. Check if a list contains another list as a subsequence."
   ]
  },
  {
   "cell_type": "code",
   "execution_count": 246,
   "id": "6bb1cf5b",
   "metadata": {},
   "outputs": [
    {
     "data": {
      "text/plain": [
       "True"
      ]
     },
     "execution_count": 246,
     "metadata": {},
     "output_type": "execute_result"
    }
   ],
   "source": [
    "l = [3,5,65,234,543,23,78,65,98,79]\n",
    "l1 = [234,23,65,79]\n",
    "i, j = 0, 0\n",
    "while i < len(l) and j < len(l1):\n",
    "    if l[i] == l1[j]:\n",
    "        j += 1\n",
    "    i += 1\n",
    "    \n",
    "j==len(l1)"
   ]
  },
  {
   "cell_type": "code",
   "execution_count": 243,
   "id": "1f833a7b",
   "metadata": {},
   "outputs": [
    {
     "data": {
      "text/plain": [
       "[3, 5, 234, 65, 543]"
      ]
     },
     "execution_count": 243,
     "metadata": {},
     "output_type": "execute_result"
    }
   ],
   "source": [
    "# 50. Swap two elements in a list by their indices.\n",
    "l = [3,5,65,234,543]\n",
    "l[3],l[2]=l[2],l[3]\n",
    "l"
   ]
  },
  {
   "cell_type": "markdown",
   "id": "9a2bd936",
   "metadata": {},
   "source": [
    "# Tuple Based Practice Problem :"
   ]
  },
  {
   "cell_type": "code",
   "execution_count": 247,
   "id": "962c1546",
   "metadata": {},
   "outputs": [],
   "source": [
    "# 1. Create a tuple with integers from 1 to 5."
   ]
  },
  {
   "cell_type": "code",
   "execution_count": null,
   "id": "af66dd6b",
   "metadata": {},
   "outputs": [],
   "source": [
    "t = (1,2,3,4,5)"
   ]
  },
  {
   "cell_type": "code",
   "execution_count": 248,
   "id": "592b982d",
   "metadata": {},
   "outputs": [],
   "source": [
    "# 2. Access the third element of a tuple."
   ]
  },
  {
   "cell_type": "code",
   "execution_count": 249,
   "id": "68caed9e",
   "metadata": {},
   "outputs": [
    {
     "data": {
      "text/plain": [
       "3"
      ]
     },
     "execution_count": 249,
     "metadata": {},
     "output_type": "execute_result"
    }
   ],
   "source": [
    "t = (1,2,3,4,5)\n",
    "t[2]"
   ]
  },
  {
   "cell_type": "code",
   "execution_count": 250,
   "id": "94e411c4",
   "metadata": {},
   "outputs": [],
   "source": [
    "# 3. Find the length of a tuple without using the `len()` function."
   ]
  },
  {
   "cell_type": "code",
   "execution_count": 251,
   "id": "bd3e3b8f",
   "metadata": {},
   "outputs": [
    {
     "data": {
      "text/plain": [
       "5"
      ]
     },
     "execution_count": 251,
     "metadata": {},
     "output_type": "execute_result"
    }
   ],
   "source": [
    "t = (1,2,3,4,5)\n",
    "l = 0\n",
    "for i in t:\n",
    "    l+=1\n",
    "l"
   ]
  },
  {
   "cell_type": "code",
   "execution_count": 252,
   "id": "fc56d8ef",
   "metadata": {},
   "outputs": [],
   "source": [
    "# 4. Count the occurrences of an element in a tuple."
   ]
  },
  {
   "cell_type": "code",
   "execution_count": 254,
   "id": "eab4caf2",
   "metadata": {},
   "outputs": [
    {
     "data": {
      "text/plain": [
       "4"
      ]
     },
     "execution_count": 254,
     "metadata": {},
     "output_type": "execute_result"
    }
   ],
   "source": [
    "t = (1,2,3,4,5,2,54,2,65,34,3,78,12,3,59,90,87,3)\n",
    "t.count(3)"
   ]
  },
  {
   "cell_type": "code",
   "execution_count": 255,
   "id": "bb01e6b9",
   "metadata": {},
   "outputs": [],
   "source": [
    "# 5. Find the index of the first occurrence of an element in a tuple."
   ]
  },
  {
   "cell_type": "code",
   "execution_count": 257,
   "id": "9ef2bb92",
   "metadata": {},
   "outputs": [
    {
     "data": {
      "text/plain": [
       "2"
      ]
     },
     "execution_count": 257,
     "metadata": {},
     "output_type": "execute_result"
    }
   ],
   "source": [
    "t = (1,2,3,4,5,2,54,2,65,34,3,78,12,3,59,90,87,3)\n",
    "t.index(3)"
   ]
  },
  {
   "cell_type": "code",
   "execution_count": 258,
   "id": "1e86f9fc",
   "metadata": {},
   "outputs": [],
   "source": [
    "# 6. Check if an element exists in a tuple."
   ]
  },
  {
   "cell_type": "code",
   "execution_count": 259,
   "id": "97bb0dde",
   "metadata": {},
   "outputs": [
    {
     "data": {
      "text/plain": [
       "True"
      ]
     },
     "execution_count": 259,
     "metadata": {},
     "output_type": "execute_result"
    }
   ],
   "source": [
    "t = (1,2,3,4,5,2,54,2,65,34,3,78,12,3,59,90,87,3)\n",
    "65 in t"
   ]
  },
  {
   "cell_type": "code",
   "execution_count": 260,
   "id": "1f61d1e8",
   "metadata": {},
   "outputs": [],
   "source": [
    "# 7. Convert a tuple to a list."
   ]
  },
  {
   "cell_type": "code",
   "execution_count": 261,
   "id": "a8cf9bda",
   "metadata": {},
   "outputs": [
    {
     "data": {
      "text/plain": [
       "[1, 2, 3, 4, 5, 2, 54, 2, 65, 34, 3, 78, 12, 3, 59, 90, 87, 3]"
      ]
     },
     "execution_count": 261,
     "metadata": {},
     "output_type": "execute_result"
    }
   ],
   "source": [
    "t = (1,2,3,4,5,2,54,2,65,34,3,78,12,3,59,90,87,3)\n",
    "list(t)"
   ]
  },
  {
   "cell_type": "code",
   "execution_count": 262,
   "id": "8323e019",
   "metadata": {},
   "outputs": [],
   "source": [
    "# 8. Convert a list to a tuple."
   ]
  },
  {
   "cell_type": "code",
   "execution_count": 263,
   "id": "0c905cbe",
   "metadata": {},
   "outputs": [
    {
     "data": {
      "text/plain": [
       "(3, 5, 65, 234, 543, 23, 78, 65, 98, 79)"
      ]
     },
     "execution_count": 263,
     "metadata": {},
     "output_type": "execute_result"
    }
   ],
   "source": [
    "l = [3,5,65,234,543,23,78,65,98,79]\n",
    "tuple(l)"
   ]
  },
  {
   "cell_type": "code",
   "execution_count": 264,
   "id": "fb8f4852",
   "metadata": {},
   "outputs": [],
   "source": [
    "# 9. Unpack the elements of a tuple into variables."
   ]
  },
  {
   "cell_type": "code",
   "execution_count": 272,
   "id": "d4ec467b",
   "metadata": {},
   "outputs": [
    {
     "data": {
      "text/plain": [
       "(1, 2, 3, 4, 5, 2, 54, 2, 65, 34)"
      ]
     },
     "execution_count": 272,
     "metadata": {},
     "output_type": "execute_result"
    }
   ],
   "source": [
    "t = (1,2,3,4,5,2,54,2,65,34)\n",
    "a,b,c,d,e,f,g,h,i,j = t\n",
    "a,b,c,d,e,f,g,h,i,j"
   ]
  },
  {
   "cell_type": "code",
   "execution_count": 273,
   "id": "7294e733",
   "metadata": {},
   "outputs": [],
   "source": [
    "# 10. Create a tuple of even numbers from 1 to 10."
   ]
  },
  {
   "cell_type": "code",
   "execution_count": 278,
   "id": "9a1994c4",
   "metadata": {},
   "outputs": [
    {
     "data": {
      "text/plain": [
       "(2, 4, 6, 8, 10)"
      ]
     },
     "execution_count": 278,
     "metadata": {},
     "output_type": "execute_result"
    }
   ],
   "source": [
    "tuple(range(2,11,2))"
   ]
  },
  {
   "cell_type": "code",
   "execution_count": 279,
   "id": "b719edda",
   "metadata": {},
   "outputs": [],
   "source": [
    "# 11. Create a tuple of odd numbers from 1 to 10."
   ]
  },
  {
   "cell_type": "code",
   "execution_count": 280,
   "id": "f5316a9d",
   "metadata": {},
   "outputs": [
    {
     "data": {
      "text/plain": [
       "(1, 3, 5, 7, 9)"
      ]
     },
     "execution_count": 280,
     "metadata": {},
     "output_type": "execute_result"
    }
   ],
   "source": [
    "tuple(range(1,10,2))"
   ]
  },
  {
   "cell_type": "code",
   "execution_count": 281,
   "id": "649e05bb",
   "metadata": {},
   "outputs": [],
   "source": [
    "# 12. Concatenate two tuples."
   ]
  },
  {
   "cell_type": "code",
   "execution_count": 282,
   "id": "3df02af8",
   "metadata": {},
   "outputs": [
    {
     "data": {
      "text/plain": [
       "(1, 2, 3, 4, 5, 2, 54, 2, 65, 34, 'srinivas', 'padhy', 23, 45, 'pwskills')"
      ]
     },
     "execution_count": 282,
     "metadata": {},
     "output_type": "execute_result"
    }
   ],
   "source": [
    "t = (1,2,3,4,5,2,54,2,65,34)\n",
    "t1 = (\"srinivas\",\"padhy\",23,45,\"pwskills\")\n",
    "t+t1"
   ]
  },
  {
   "cell_type": "code",
   "execution_count": 283,
   "id": "be138ca9",
   "metadata": {},
   "outputs": [],
   "source": [
    "# 13. Repeat a tuple three times."
   ]
  },
  {
   "cell_type": "code",
   "execution_count": 284,
   "id": "5042d803",
   "metadata": {},
   "outputs": [
    {
     "data": {
      "text/plain": [
       "('srinivas',\n",
       " 'padhy',\n",
       " 23,\n",
       " 45,\n",
       " 'pwskills',\n",
       " 'srinivas',\n",
       " 'padhy',\n",
       " 23,\n",
       " 45,\n",
       " 'pwskills',\n",
       " 'srinivas',\n",
       " 'padhy',\n",
       " 23,\n",
       " 45,\n",
       " 'pwskills')"
      ]
     },
     "execution_count": 284,
     "metadata": {},
     "output_type": "execute_result"
    }
   ],
   "source": [
    "t1 = (\"srinivas\",\"padhy\",23,45,\"pwskills\")\n",
    "t1*3"
   ]
  },
  {
   "cell_type": "code",
   "execution_count": 285,
   "id": "5e30ce8e",
   "metadata": {},
   "outputs": [],
   "source": [
    "# 14. Check if a tuple is empty."
   ]
  },
  {
   "cell_type": "code",
   "execution_count": 286,
   "id": "dbc47cc8",
   "metadata": {},
   "outputs": [
    {
     "data": {
      "text/plain": [
       "False"
      ]
     },
     "execution_count": 286,
     "metadata": {},
     "output_type": "execute_result"
    }
   ],
   "source": [
    "t1 = (\"srinivas\",\"padhy\",23,45,\"pwskills\")\n",
    "len(t1) == 0"
   ]
  },
  {
   "cell_type": "code",
   "execution_count": 287,
   "id": "c6e1e265",
   "metadata": {},
   "outputs": [],
   "source": [
    "# 15. Create a nested tuple."
   ]
  },
  {
   "cell_type": "code",
   "execution_count": 288,
   "id": "4fb31695",
   "metadata": {},
   "outputs": [
    {
     "data": {
      "text/plain": [
       "('srinivas', 'padhy', (34, 45, 32), ('pw', 'skills'))"
      ]
     },
     "execution_count": 288,
     "metadata": {},
     "output_type": "execute_result"
    }
   ],
   "source": [
    "t2 = (\"srinivas\",\"padhy\",(34,45,32),(\"pw\",'skills'))\n",
    "t2"
   ]
  },
  {
   "cell_type": "code",
   "execution_count": 289,
   "id": "0e8e093d",
   "metadata": {},
   "outputs": [],
   "source": [
    "# 16. Access the first element of a nested tuple."
   ]
  },
  {
   "cell_type": "code",
   "execution_count": 290,
   "id": "924b259a",
   "metadata": {},
   "outputs": [
    {
     "data": {
      "text/plain": [
       "'srinivas'"
      ]
     },
     "execution_count": 290,
     "metadata": {},
     "output_type": "execute_result"
    }
   ],
   "source": [
    "t2[0]"
   ]
  },
  {
   "cell_type": "code",
   "execution_count": 291,
   "id": "765b58c0",
   "metadata": {},
   "outputs": [],
   "source": [
    "# 17. Create a tuple with a single element."
   ]
  },
  {
   "cell_type": "code",
   "execution_count": 296,
   "id": "0860b573",
   "metadata": {},
   "outputs": [
    {
     "data": {
      "text/plain": [
       "tuple"
      ]
     },
     "execution_count": 296,
     "metadata": {},
     "output_type": "execute_result"
    }
   ],
   "source": [
    "t2=(\"srinivas\",)\n",
    "type(t2)"
   ]
  },
  {
   "cell_type": "code",
   "execution_count": 292,
   "id": "5f8688c7",
   "metadata": {},
   "outputs": [],
   "source": [
    "# 18. Compare two tuples."
   ]
  },
  {
   "cell_type": "code",
   "execution_count": 327,
   "id": "0a682075",
   "metadata": {},
   "outputs": [
    {
     "data": {
      "text/plain": [
       "True"
      ]
     },
     "execution_count": 327,
     "metadata": {},
     "output_type": "execute_result"
    }
   ],
   "source": [
    "t1 = (\"srinivas\",\"padhy\",23,45,\"pwskills\")\n",
    "t2=(\"srinivas\",)\n",
    "t1 >= t2"
   ]
  },
  {
   "cell_type": "code",
   "execution_count": 328,
   "id": "31f1ac29",
   "metadata": {},
   "outputs": [],
   "source": [
    "# 19. Delete a tuple."
   ]
  },
  {
   "cell_type": "code",
   "execution_count": 329,
   "id": "95e34148",
   "metadata": {},
   "outputs": [
    {
     "ename": "NameError",
     "evalue": "name 't1' is not defined",
     "output_type": "error",
     "traceback": [
      "\u001b[0;31m---------------------------------------------------------------------------\u001b[0m",
      "\u001b[0;31mNameError\u001b[0m                                 Traceback (most recent call last)",
      "Cell \u001b[0;32mIn[329], line 3\u001b[0m\n\u001b[1;32m      1\u001b[0m t1 \u001b[38;5;241m=\u001b[39m (\u001b[38;5;124m\"\u001b[39m\u001b[38;5;124msrinivas\u001b[39m\u001b[38;5;124m\"\u001b[39m,\u001b[38;5;124m\"\u001b[39m\u001b[38;5;124mpadhy\u001b[39m\u001b[38;5;124m\"\u001b[39m,\u001b[38;5;241m23\u001b[39m,\u001b[38;5;241m45\u001b[39m,\u001b[38;5;124m\"\u001b[39m\u001b[38;5;124mpwskills\u001b[39m\u001b[38;5;124m\"\u001b[39m)\n\u001b[1;32m      2\u001b[0m \u001b[38;5;28;01mdel\u001b[39;00m(t1)\n\u001b[0;32m----> 3\u001b[0m t1\n",
      "\u001b[0;31mNameError\u001b[0m: name 't1' is not defined"
     ]
    }
   ],
   "source": [
    "t1 = (\"srinivas\",\"padhy\",23,45,\"pwskills\")\n",
    "del(t1)\n",
    "t1"
   ]
  },
  {
   "cell_type": "code",
   "execution_count": 330,
   "id": "338d7c29",
   "metadata": {},
   "outputs": [],
   "source": [
    "# 20. Slice a tuple."
   ]
  },
  {
   "cell_type": "code",
   "execution_count": 332,
   "id": "114096ea",
   "metadata": {},
   "outputs": [
    {
     "data": {
      "text/plain": [
       "(('srinivas', 'padhy'), (23, 45, 'pwskills', 290, 750))"
      ]
     },
     "execution_count": 332,
     "metadata": {},
     "output_type": "execute_result"
    }
   ],
   "source": [
    "t1 = (\"srinivas\",\"padhy\",23,45,\"pwskills\",290,750)\n",
    "a,b = t1[:2],t1[2:]\n",
    "a,b"
   ]
  },
  {
   "cell_type": "code",
   "execution_count": 333,
   "id": "fe7b1cf4",
   "metadata": {},
   "outputs": [],
   "source": [
    "# 21. Find the maximum value in a tuple."
   ]
  },
  {
   "cell_type": "code",
   "execution_count": 336,
   "id": "8c68fcd4",
   "metadata": {},
   "outputs": [
    {
     "data": {
      "text/plain": [
       "'srinivas'"
      ]
     },
     "execution_count": 336,
     "metadata": {},
     "output_type": "execute_result"
    }
   ],
   "source": [
    "t1 = (\"srinivas\",\"padhy\",'pwskills')\n",
    "max(t1)"
   ]
  },
  {
   "cell_type": "code",
   "execution_count": 337,
   "id": "d761bdb2",
   "metadata": {},
   "outputs": [],
   "source": [
    "# 22. Find the minimum value in a tuple."
   ]
  },
  {
   "cell_type": "code",
   "execution_count": 338,
   "id": "0f26c982",
   "metadata": {},
   "outputs": [
    {
     "data": {
      "text/plain": [
       "23"
      ]
     },
     "execution_count": 338,
     "metadata": {},
     "output_type": "execute_result"
    }
   ],
   "source": [
    "t1 = (23,45,290,750)\n",
    "min(t1)"
   ]
  },
  {
   "cell_type": "code",
   "execution_count": 339,
   "id": "4174c5dc",
   "metadata": {},
   "outputs": [],
   "source": [
    "# 23. Convert a string to a tuple of characters."
   ]
  },
  {
   "cell_type": "code",
   "execution_count": 343,
   "id": "f12e98ae",
   "metadata": {},
   "outputs": [
    {
     "data": {
      "text/plain": [
       "('s', 'r', 'i', 'n', 'i', 'v', 'a', 's')"
      ]
     },
     "execution_count": 343,
     "metadata": {},
     "output_type": "execute_result"
    }
   ],
   "source": [
    "s = \"srinivas\"\n",
    "t = tuple(s)\n",
    "t"
   ]
  },
  {
   "cell_type": "code",
   "execution_count": 341,
   "id": "d7d6e4bf",
   "metadata": {},
   "outputs": [],
   "source": [
    "# 24. Convert a tuple of characters to a string."
   ]
  },
  {
   "cell_type": "code",
   "execution_count": 367,
   "id": "b9ce921c",
   "metadata": {},
   "outputs": [
    {
     "data": {
      "text/plain": [
       "'srinivas'"
      ]
     },
     "execution_count": 367,
     "metadata": {},
     "output_type": "execute_result"
    }
   ],
   "source": [
    "\"\".join(t)"
   ]
  },
  {
   "cell_type": "code",
   "execution_count": 365,
   "id": "e11bce0f",
   "metadata": {},
   "outputs": [],
   "source": [
    "# 25. Create a tuple from multiple data types."
   ]
  },
  {
   "cell_type": "code",
   "execution_count": 368,
   "id": "6827a2d9",
   "metadata": {},
   "outputs": [
    {
     "data": {
      "text/plain": [
       "(34, 543, 'srinivas', 'padhy', {'course': 'datascience'})"
      ]
     },
     "execution_count": 368,
     "metadata": {},
     "output_type": "execute_result"
    }
   ],
   "source": [
    "tm = (34,543,\"srinivas\",\"padhy\",{\"course\":\"datascience\"})\n",
    "tm"
   ]
  },
  {
   "cell_type": "code",
   "execution_count": 369,
   "id": "ff7b0459",
   "metadata": {},
   "outputs": [],
   "source": [
    "# 26. Check if two tuples are identical."
   ]
  },
  {
   "cell_type": "code",
   "execution_count": 372,
   "id": "dbcf5f22",
   "metadata": {},
   "outputs": [
    {
     "data": {
      "text/plain": [
       "True"
      ]
     },
     "execution_count": 372,
     "metadata": {},
     "output_type": "execute_result"
    }
   ],
   "source": [
    "t= (\"srinivas\",\"padhy\",456,543)\n",
    "t1 = (\"srinivas\",\"padhy\",456,543)\n",
    "t == t1"
   ]
  },
  {
   "cell_type": "code",
   "execution_count": 374,
   "id": "dc95d600",
   "metadata": {},
   "outputs": [],
   "source": [
    "# 27. Sort the elements of a tuple."
   ]
  },
  {
   "cell_type": "code",
   "execution_count": 376,
   "id": "53bf6a7b",
   "metadata": {},
   "outputs": [
    {
     "data": {
      "text/plain": [
       "[3982, 912, 789, 678, 543, 390, 345, 90, 43, 23, 1]"
      ]
     },
     "execution_count": 376,
     "metadata": {},
     "output_type": "execute_result"
    }
   ],
   "source": [
    "t = (345,543,678,1,23,43,90,390,789,912,3982)\n",
    "sorted(t,reverse=True)"
   ]
  },
  {
   "cell_type": "code",
   "execution_count": 377,
   "id": "112f1db9",
   "metadata": {},
   "outputs": [],
   "source": [
    "# 28. Convert a tuple of integers to a tuple of strings."
   ]
  },
  {
   "cell_type": "code",
   "execution_count": 382,
   "id": "06d4878e",
   "metadata": {},
   "outputs": [
    {
     "data": {
      "text/plain": [
       "('1', '2', '3', '4', '5', '2', '54', '2', '65', '34')"
      ]
     },
     "execution_count": 382,
     "metadata": {},
     "output_type": "execute_result"
    }
   ],
   "source": [
    "t = (1,2,3,4,5,2,54,2,65,34)\n",
    "t1 = tuple(str(i) for i in t)\n",
    "t1"
   ]
  },
  {
   "cell_type": "code",
   "execution_count": 381,
   "id": "23ec41ef",
   "metadata": {},
   "outputs": [],
   "source": [
    "# 29. Convert a tuple of strings to a tuple of integers."
   ]
  },
  {
   "cell_type": "code",
   "execution_count": 383,
   "id": "e542522a",
   "metadata": {},
   "outputs": [
    {
     "data": {
      "text/plain": [
       "(1, 2, 3, 4, 5, 2, 54, 2, 65, 34)"
      ]
     },
     "execution_count": 383,
     "metadata": {},
     "output_type": "execute_result"
    }
   ],
   "source": [
    "t2 = tuple(int(i) for i in t1)\n",
    "t2"
   ]
  },
  {
   "cell_type": "code",
   "execution_count": 384,
   "id": "3cbef06c",
   "metadata": {},
   "outputs": [],
   "source": [
    "# 30. Merge two tuples."
   ]
  },
  {
   "cell_type": "code",
   "execution_count": 385,
   "id": "de43d512",
   "metadata": {},
   "outputs": [
    {
     "data": {
      "text/plain": [
       "(1, 2, 3, 4, 5, 2, 54, 2, 65, 34, 'srinivas', 'padhy', 'Pwskills')"
      ]
     },
     "execution_count": 385,
     "metadata": {},
     "output_type": "execute_result"
    }
   ],
   "source": [
    "t = (1,2,3,4,5,2,54,2,65,34)\n",
    "t1 = (\"srinivas\",\"padhy\",'Pwskills')\n",
    "t+t1"
   ]
  },
  {
   "cell_type": "code",
   "execution_count": 386,
   "id": "c5e26bee",
   "metadata": {},
   "outputs": [],
   "source": [
    "# 31. Flatten a nested tuple."
   ]
  },
  {
   "cell_type": "code",
   "execution_count": 389,
   "id": "cadb89ae",
   "metadata": {},
   "outputs": [
    {
     "data": {
      "text/plain": [
       "(1, 2, 3, 4, 5, 2, 'srinivas', 'padhy', 'Pwskills', 54, 2, 65, 34)"
      ]
     },
     "execution_count": 389,
     "metadata": {},
     "output_type": "execute_result"
    }
   ],
   "source": [
    "t = (1,2,3,4,5,2,(\"srinivas\",\"padhy\",'Pwskills'),54,2,65,34)\n",
    "tuple(i for sub_tuple in t for i in (sub_tuple if isinstance(sub_tuple,tuple) else (sub_tuple,)))"
   ]
  },
  {
   "cell_type": "code",
   "execution_count": 390,
   "id": "51e64cbe",
   "metadata": {},
   "outputs": [],
   "source": [
    "# 32. Create a tuple of the first 5 prime numbers."
   ]
  },
  {
   "cell_type": "code",
   "execution_count": 445,
   "id": "64af5f83",
   "metadata": {},
   "outputs": [
    {
     "name": "stdout",
     "output_type": "stream",
     "text": [
      "(2, 3, 5, 7, 11)\n"
     ]
    }
   ],
   "source": [
    "def is_prime(num):\n",
    "    if num <= 1:\n",
    "        return False\n",
    "    if num <= 3:\n",
    "        return True\n",
    "    if num % 2 == 0 or num % 3 == 0:\n",
    "        return False\n",
    "    i = 5\n",
    "    while i * i <= num:\n",
    "        if num % i == 0 or num % (i+2) == 0:\n",
    "            return False\n",
    "        i += 6\n",
    "    return True\n",
    "\n",
    "t = ()\n",
    "num = 2\n",
    "while len(t) < 5:\n",
    "    if is_prime(num):\n",
    "        t += (num,)\n",
    "    num += 1\n",
    "\n",
    "print(t)"
   ]
  },
  {
   "cell_type": "code",
   "execution_count": 393,
   "id": "0ad1555e",
   "metadata": {},
   "outputs": [],
   "source": [
    "# 33. Check if a tuple is a palindrome."
   ]
  },
  {
   "cell_type": "code",
   "execution_count": 399,
   "id": "941abc60",
   "metadata": {},
   "outputs": [
    {
     "data": {
      "text/plain": [
       "True"
      ]
     },
     "execution_count": 399,
     "metadata": {},
     "output_type": "execute_result"
    }
   ],
   "source": [
    "t = ('m','a','d','a','m')\n",
    "t[::-1]==t[:]"
   ]
  },
  {
   "cell_type": "code",
   "execution_count": 398,
   "id": "56b083e1",
   "metadata": {},
   "outputs": [],
   "source": [
    "# 34. Create a tuple of squares of numbers from 1 to 5."
   ]
  },
  {
   "cell_type": "code",
   "execution_count": 400,
   "id": "20d6239d",
   "metadata": {},
   "outputs": [
    {
     "data": {
      "text/plain": [
       "(1, 4, 9, 16, 25)"
      ]
     },
     "execution_count": 400,
     "metadata": {},
     "output_type": "execute_result"
    }
   ],
   "source": [
    "tuple(i*i for i in range(1,6,1))"
   ]
  },
  {
   "cell_type": "code",
   "execution_count": 401,
   "id": "9a7db77d",
   "metadata": {},
   "outputs": [],
   "source": [
    "# 35. Filter out all even numbers from a tuple."
   ]
  },
  {
   "cell_type": "code",
   "execution_count": 402,
   "id": "5cd45035",
   "metadata": {},
   "outputs": [
    {
     "data": {
      "text/plain": [
       "(2, 4, 6, 8, 10, 12, 12)"
      ]
     },
     "execution_count": 402,
     "metadata": {},
     "output_type": "execute_result"
    }
   ],
   "source": [
    "t = (2,4,6,8,10,12,12,23,35,57,79,1,31,35,39,41,81,93,19)\n",
    "tuple(i for i in t if i%2==0)"
   ]
  },
  {
   "cell_type": "code",
   "execution_count": 403,
   "id": "f35b8275",
   "metadata": {},
   "outputs": [],
   "source": [
    "# 36. Multiply all elements in a tuple by 2."
   ]
  },
  {
   "cell_type": "code",
   "execution_count": 469,
   "id": "630c4612",
   "metadata": {},
   "outputs": [
    {
     "data": {
      "text/plain": [
       "(4, 8, 12, 16, 20, 24, 24, 46, 70, 114, 158, 2, 62, 70, 78, 82, 162, 186, 38)"
      ]
     },
     "execution_count": 469,
     "metadata": {},
     "output_type": "execute_result"
    }
   ],
   "source": [
    "t = (2,4,6,8,10,12,12,23,35,57,79,1,31,35,39,41,81,93,19)\n",
    "tuple(i*2 for i in t)"
   ]
  },
  {
   "cell_type": "code",
   "execution_count": 470,
   "id": "db39bf53",
   "metadata": {},
   "outputs": [],
   "source": [
    "# 37. Create a tuple of random numbers."
   ]
  },
  {
   "cell_type": "code",
   "execution_count": 483,
   "id": "78ca65eb",
   "metadata": {},
   "outputs": [
    {
     "data": {
      "text/plain": [
       "(67, 6, 27, 5, 26, 21, 73, 93, 4, 9)"
      ]
     },
     "execution_count": 483,
     "metadata": {},
     "output_type": "execute_result"
    }
   ],
   "source": [
    "import random\n",
    "tuple(random.randint(1,100) for i in range(10))"
   ]
  },
  {
   "cell_type": "code",
   "execution_count": 484,
   "id": "4a6025bf",
   "metadata": {},
   "outputs": [],
   "source": [
    "# 38. Check if a tuple is sorted."
   ]
  },
  {
   "cell_type": "code",
   "execution_count": 485,
   "id": "2a9d7bf4",
   "metadata": {},
   "outputs": [
    {
     "data": {
      "text/plain": [
       "False"
      ]
     },
     "execution_count": 485,
     "metadata": {},
     "output_type": "execute_result"
    }
   ],
   "source": [
    "t = (2,4,6,8,10,12,12,23,35,57,79,1,31,35,39,41,81,93,19)\n",
    "\n",
    "t == sorted(t,reverse=True) or t == sorted(t,reverse=False)"
   ]
  },
  {
   "cell_type": "code",
   "execution_count": 486,
   "id": "98a0e0be",
   "metadata": {},
   "outputs": [],
   "source": [
    "# 39. Rotate a tuple to the left by `n` positions."
   ]
  },
  {
   "cell_type": "code",
   "execution_count": 488,
   "id": "83782746",
   "metadata": {},
   "outputs": [
    {
     "data": {
      "text/plain": [
       "(12, 12, 23, 35, 57, 79, 1, 31, 35, 39, 41, 81, 93, 19, 2, 4, 6, 8, 10)"
      ]
     },
     "execution_count": 488,
     "metadata": {},
     "output_type": "execute_result"
    }
   ],
   "source": [
    "t = (2,4,6,8,10,12,12,23,35,57,79,1,31,35,39,41,81,93,19)\n",
    "t = t[5:] + t[:5]\n",
    "t"
   ]
  },
  {
   "cell_type": "code",
   "execution_count": 489,
   "id": "597a85d8",
   "metadata": {},
   "outputs": [],
   "source": [
    "# 40. Rotate a tuple to the right by `n` positions."
   ]
  },
  {
   "cell_type": "code",
   "execution_count": 502,
   "id": "c1b9b0f4",
   "metadata": {},
   "outputs": [
    {
     "data": {
      "text/plain": [
       "(39, 41, 81, 93, 19, 2, 4, 6, 8, 10, 12, 12, 23, 35, 57, 79, 1, 31, 35)"
      ]
     },
     "execution_count": 502,
     "metadata": {},
     "output_type": "execute_result"
    }
   ],
   "source": [
    "t[-10:]+t[:-10]"
   ]
  },
  {
   "cell_type": "code",
   "execution_count": 503,
   "id": "d4fd52dc",
   "metadata": {},
   "outputs": [],
   "source": [
    "# 41. Create a tuple of the first 5 Fibonacci numbers."
   ]
  },
  {
   "cell_type": "code",
   "execution_count": 505,
   "id": "75e00975",
   "metadata": {},
   "outputs": [
    {
     "name": "stdout",
     "output_type": "stream",
     "text": [
      "(0, 1, 1, 2, 3, 5, 8, 13, 21, 34)\n"
     ]
    }
   ],
   "source": [
    "def generate_fibonacci(n):\n",
    "    fibonacci_sequence = (0, 1)\n",
    "    while len(fibonacci_sequence) < n:\n",
    "        next_number = fibonacci_sequence[-1] + fibonacci_sequence[-2]\n",
    "        fibonacci_sequence+=(next_number,)\n",
    "    return fibonacci_sequence[:n]\n",
    "\n",
    "fibonacci_numbers = generate_fibonacci(10)\n",
    "print(fibonacci_numbers)"
   ]
  },
  {
   "cell_type": "code",
   "execution_count": 506,
   "id": "e8bcdac9",
   "metadata": {},
   "outputs": [],
   "source": [
    "# 42. Create a tuple from user input."
   ]
  },
  {
   "cell_type": "code",
   "execution_count": 508,
   "id": "c169bc46",
   "metadata": {},
   "outputs": [
    {
     "name": "stdout",
     "output_type": "stream",
     "text": [
      "Enter  3 numbers234\n",
      "('2', '3', '4')\n"
     ]
    }
   ],
   "source": [
    "print(tuple(input(\"Enter  3 numbers\")))"
   ]
  },
  {
   "cell_type": "code",
   "execution_count": 509,
   "id": "a861441f",
   "metadata": {},
   "outputs": [],
   "source": [
    "# 43. Swap two elements in a tuple."
   ]
  },
  {
   "cell_type": "code",
   "execution_count": 512,
   "id": "c89c7265",
   "metadata": {},
   "outputs": [
    {
     "data": {
      "text/plain": [
       "(2, 4, 8, 6, 10, 12, 12, 23, 35, 57, 79, 1, 31, 35, 39, 41, 81, 93, 19)"
      ]
     },
     "execution_count": 512,
     "metadata": {},
     "output_type": "execute_result"
    }
   ],
   "source": [
    "t = (2,4,6,8,10,12,12,23,35,57,79,1,31,35,39,41,81,93,19)\n",
    "t = list(t)\n",
    "t[2],t[3]=t[3],t[2]\n",
    "t = tuple(t)\n",
    "t"
   ]
  },
  {
   "cell_type": "code",
   "execution_count": 513,
   "id": "252fa452",
   "metadata": {},
   "outputs": [],
   "source": [
    "# 44. Reverse the elements of a tuple."
   ]
  },
  {
   "cell_type": "code",
   "execution_count": 518,
   "id": "6a4b65ee",
   "metadata": {},
   "outputs": [
    {
     "data": {
      "text/plain": [
       "(19, 93, 81, 41, 39, 35, 31, 1, 79, 57, 35, 23, 12, 12, 10, 8, 6, 4, 2)"
      ]
     },
     "execution_count": 518,
     "metadata": {},
     "output_type": "execute_result"
    }
   ],
   "source": [
    "t = (2,4,6,8,10,12,12,23,35,57,79,1,31,35,39,41,81,93,19)\n",
    "t = list(t)\n",
    "t.reverse()\n",
    "t = tuple(t)\n",
    "t"
   ]
  },
  {
   "cell_type": "code",
   "execution_count": 519,
   "id": "fee5fdbd",
   "metadata": {},
   "outputs": [],
   "source": [
    "# 45. Create a tuple of the first `n` powers of 2."
   ]
  },
  {
   "cell_type": "code",
   "execution_count": 522,
   "id": "6e653ea4",
   "metadata": {},
   "outputs": [
    {
     "data": {
      "text/plain": [
       "(2, 4, 8, 16, 32, 64, 128, 256, 512, 1024)"
      ]
     },
     "execution_count": 522,
     "metadata": {},
     "output_type": "execute_result"
    }
   ],
   "source": [
    "tuple(2**n for n in range(1,10+1))"
   ]
  },
  {
   "cell_type": "code",
   "execution_count": 523,
   "id": "0f6c6671",
   "metadata": {},
   "outputs": [],
   "source": [
    "# 46. Find the longest string in a tuple of strings."
   ]
  },
  {
   "cell_type": "code",
   "execution_count": 526,
   "id": "a7cc0af9",
   "metadata": {},
   "outputs": [
    {
     "name": "stdout",
     "output_type": "stream",
     "text": [
      "datascience\n"
     ]
    }
   ],
   "source": [
    "t = (\"srinivas\",\"padhy\",\"pwskills\",'sunny',\"madam\",\"datascience\")\n",
    "temp = 0\n",
    "longest = t[0]\n",
    "for s in t:\n",
    "    if len(s) > temp:\n",
    "        temp = len(s)\n",
    "        longest = s\n",
    "print(longest)\n",
    "        \n",
    "    "
   ]
  },
  {
   "cell_type": "code",
   "execution_count": 527,
   "id": "c3c08026",
   "metadata": {},
   "outputs": [],
   "source": [
    "# 47. Find the shortest string in a tuple of strings."
   ]
  },
  {
   "cell_type": "code",
   "execution_count": 531,
   "id": "eb352965",
   "metadata": {},
   "outputs": [
    {
     "name": "stdout",
     "output_type": "stream",
     "text": [
      "padhy\n"
     ]
    }
   ],
   "source": [
    "t = (\"srinivas\",\"padhy\",\"pwskills\",'sunny',\"madam\",\"datascience\")\n",
    "temp = len(t[0])\n",
    "shortest = t[0]\n",
    "for s in t:\n",
    "    if len(s) < temp:\n",
    "        temp = len(s)\n",
    "        shortest = s\n",
    "print(shortest)"
   ]
  },
  {
   "cell_type": "code",
   "execution_count": 532,
   "id": "30b770d1",
   "metadata": {},
   "outputs": [],
   "source": [
    "# 48. Create a tuple of the first `n` triangular numbers."
   ]
  },
  {
   "cell_type": "code",
   "execution_count": 533,
   "id": "50225f35",
   "metadata": {},
   "outputs": [
    {
     "data": {
      "text/plain": [
       "(1, 3, 6, 10, 15, 21, 28, 36, 45, 55)"
      ]
     },
     "execution_count": 533,
     "metadata": {},
     "output_type": "execute_result"
    }
   ],
   "source": [
    "tuple(i*(i+1)//2 for i in range(1,10+1))"
   ]
  },
  {
   "cell_type": "code",
   "execution_count": 534,
   "id": "facff1f2",
   "metadata": {},
   "outputs": [],
   "source": [
    "# 49. Check if a tuple contains another tuple as a subsequence."
   ]
  },
  {
   "cell_type": "code",
   "execution_count": 537,
   "id": "82fefe74",
   "metadata": {},
   "outputs": [
    {
     "data": {
      "text/plain": [
       "True"
      ]
     },
     "execution_count": 537,
     "metadata": {},
     "output_type": "execute_result"
    }
   ],
   "source": [
    "t = (2,3,4,5,6,7,8,9)\n",
    "t1 = (4,6,8)\n",
    "i , j = 0,0\n",
    "while i<len(t) and j<len(t1):\n",
    "    if t[i] == t1[j]:\n",
    "        j+=1\n",
    "    i+=1\n",
    "j==len(t1)"
   ]
  },
  {
   "cell_type": "code",
   "execution_count": 538,
   "id": "97a9d521",
   "metadata": {},
   "outputs": [],
   "source": [
    "# 50. Create a tuple of alternating 1s and 0s of length `n`."
   ]
  },
  {
   "cell_type": "code",
   "execution_count": 540,
   "id": "a518f054",
   "metadata": {},
   "outputs": [
    {
     "data": {
      "text/plain": [
       "(1, 0, 1, 0, 1, 0, 1, 0, 1, 0)"
      ]
     },
     "execution_count": 540,
     "metadata": {},
     "output_type": "execute_result"
    }
   ],
   "source": [
    "tuple(1 if i%2 == 0 else 0 for i in range(10))"
   ]
  },
  {
   "cell_type": "markdown",
   "id": "25ccb1a8",
   "metadata": {},
   "source": [
    "# Set Based Practice Problem :"
   ]
  },
  {
   "cell_type": "code",
   "execution_count": 541,
   "id": "f8e39b50",
   "metadata": {},
   "outputs": [],
   "source": [
    "# 1. Create a set with integers from 1 to 5."
   ]
  },
  {
   "cell_type": "code",
   "execution_count": 544,
   "id": "032b5057",
   "metadata": {},
   "outputs": [
    {
     "data": {
      "text/plain": [
       "{1, 2, 3, 4, 5}"
      ]
     },
     "execution_count": 544,
     "metadata": {},
     "output_type": "execute_result"
    }
   ],
   "source": [
    "{i for i in range(1,6)}"
   ]
  },
  {
   "cell_type": "code",
   "execution_count": 546,
   "id": "056470d7",
   "metadata": {},
   "outputs": [],
   "source": [
    "# 2. Add an element to a set."
   ]
  },
  {
   "cell_type": "code",
   "execution_count": 550,
   "id": "803fbec3",
   "metadata": {},
   "outputs": [
    {
     "data": {
      "text/plain": [
       "{1, 2, 23, 32, 35, 45, 56, 65, 76, 87, 294, 758}"
      ]
     },
     "execution_count": 550,
     "metadata": {},
     "output_type": "execute_result"
    }
   ],
   "source": [
    "s = {1,2,45,65,23,76,56,87,35,758,294}\n",
    "s.add(32)\n",
    "s"
   ]
  },
  {
   "cell_type": "code",
   "execution_count": 551,
   "id": "d3f820b4",
   "metadata": {},
   "outputs": [],
   "source": [
    "# 3. Remove an element from a set."
   ]
  },
  {
   "cell_type": "code",
   "execution_count": 552,
   "id": "a3c317eb",
   "metadata": {},
   "outputs": [
    {
     "data": {
      "text/plain": [
       "{1, 2, 35, 45, 56, 65, 76, 87, 294, 758}"
      ]
     },
     "execution_count": 552,
     "metadata": {},
     "output_type": "execute_result"
    }
   ],
   "source": [
    "s = {1,2,45,65,23,76,56,87,35,758,294}\n",
    "s.remove(23)\n",
    "s"
   ]
  },
  {
   "cell_type": "code",
   "execution_count": 553,
   "id": "2834b27c",
   "metadata": {},
   "outputs": [],
   "source": [
    "# 4. Check if an element exists in a set."
   ]
  },
  {
   "cell_type": "code",
   "execution_count": 554,
   "id": "d93495af",
   "metadata": {},
   "outputs": [
    {
     "data": {
      "text/plain": [
       "True"
      ]
     },
     "execution_count": 554,
     "metadata": {},
     "output_type": "execute_result"
    }
   ],
   "source": [
    "s = {1,2,45,65,23,76,56,87,35,758,294}\n",
    "23 in s"
   ]
  },
  {
   "cell_type": "code",
   "execution_count": 555,
   "id": "107ca489",
   "metadata": {},
   "outputs": [],
   "source": [
    "# 5. Find the length of a set without using the `len()` function."
   ]
  },
  {
   "cell_type": "code",
   "execution_count": 572,
   "id": "41433cab",
   "metadata": {},
   "outputs": [
    {
     "name": "stdout",
     "output_type": "stream",
     "text": [
      "11\n"
     ]
    }
   ],
   "source": [
    "s = {1,2,45,65,23,76,56,87,35,758,294}\n",
    "\n",
    "l = 0\n",
    "for i in s:\n",
    "    l+=1\n",
    "print(l)"
   ]
  },
  {
   "cell_type": "code",
   "execution_count": 556,
   "id": "3438e1c9",
   "metadata": {},
   "outputs": [],
   "source": [
    "# 6. Clear all elements from a set."
   ]
  },
  {
   "cell_type": "code",
   "execution_count": 574,
   "id": "309f5ca8",
   "metadata": {},
   "outputs": [
    {
     "data": {
      "text/plain": [
       "set()"
      ]
     },
     "execution_count": 574,
     "metadata": {},
     "output_type": "execute_result"
    }
   ],
   "source": [
    "s = {1,2,45,65,23,76,56,87,35,758,294}\n",
    "s.clear()\n",
    "s"
   ]
  },
  {
   "cell_type": "code",
   "execution_count": 557,
   "id": "debcf0ef",
   "metadata": {},
   "outputs": [],
   "source": [
    "# 7. Create a set of even numbers from 1 to 10."
   ]
  },
  {
   "cell_type": "code",
   "execution_count": 576,
   "id": "c026ef28",
   "metadata": {},
   "outputs": [
    {
     "data": {
      "text/plain": [
       "{2, 4, 6, 8, 10}"
      ]
     },
     "execution_count": 576,
     "metadata": {},
     "output_type": "execute_result"
    }
   ],
   "source": [
    "{i for i in range(1,11) if i%2 == 0}\n"
   ]
  },
  {
   "cell_type": "code",
   "execution_count": 558,
   "id": "6d3356a2",
   "metadata": {},
   "outputs": [],
   "source": [
    "# 8. Create a set of odd numbers from 1 to 10."
   ]
  },
  {
   "cell_type": "code",
   "execution_count": 577,
   "id": "7a462e5e",
   "metadata": {},
   "outputs": [
    {
     "data": {
      "text/plain": [
       "{1, 3, 5, 7, 9}"
      ]
     },
     "execution_count": 577,
     "metadata": {},
     "output_type": "execute_result"
    }
   ],
   "source": [
    "{i for i in range(1,11) if i%2 != 0}\n"
   ]
  },
  {
   "cell_type": "code",
   "execution_count": 559,
   "id": "db259124",
   "metadata": {},
   "outputs": [],
   "source": [
    "# 9. Find the union of two sets."
   ]
  },
  {
   "cell_type": "code",
   "execution_count": 578,
   "id": "8cd4b005",
   "metadata": {},
   "outputs": [
    {
     "data": {
      "text/plain": [
       "{1, 2, 23, 294, 35, 45, 56, 65, 758, 76, 87, 'padhy', 'pwskills', 'srinivas'}"
      ]
     },
     "execution_count": 578,
     "metadata": {},
     "output_type": "execute_result"
    }
   ],
   "source": [
    "s = {1,2,45,65,23,76,56,87,35,758,294}\n",
    "s1 = (\"srinivas\",\"padhy\",\"pwskills\")\n",
    "s.union(s1)"
   ]
  },
  {
   "cell_type": "code",
   "execution_count": 560,
   "id": "e51eff53",
   "metadata": {},
   "outputs": [],
   "source": [
    "# 10. Find the intersection of two sets."
   ]
  },
  {
   "cell_type": "code",
   "execution_count": 579,
   "id": "11741787",
   "metadata": {},
   "outputs": [
    {
     "data": {
      "text/plain": [
       "{758, 76, 'sunny'}"
      ]
     },
     "execution_count": 579,
     "metadata": {},
     "output_type": "execute_result"
    }
   ],
   "source": [
    "s = {1,2,45,65,23,76,56,87,35,758,294,\"sunny\"}\n",
    "s1 = (\"srinivas\",\"padhy\",\"pwskills\",76,758,\"sunny\")\n",
    "s.intersection(s1)"
   ]
  },
  {
   "cell_type": "code",
   "execution_count": 561,
   "id": "65880734",
   "metadata": {},
   "outputs": [],
   "source": [
    "# 11. Find the difference between two sets."
   ]
  },
  {
   "cell_type": "code",
   "execution_count": 581,
   "id": "6a000996",
   "metadata": {},
   "outputs": [
    {
     "data": {
      "text/plain": [
       "{1, 2, 23, 35, 45, 56, 65, 87, 294}"
      ]
     },
     "execution_count": 581,
     "metadata": {},
     "output_type": "execute_result"
    }
   ],
   "source": [
    "s = {1,2,45,65,23,76,56,87,35,758,294,\"sunny\"}\n",
    "s1 = (\"srinivas\",\"padhy\",\"pwskills\",76,758,\"sunny\")\n",
    "s.difference(s1)"
   ]
  },
  {
   "cell_type": "code",
   "execution_count": 562,
   "id": "613dc36c",
   "metadata": {},
   "outputs": [],
   "source": [
    "# 12. Check if a set is a subset of another set."
   ]
  },
  {
   "cell_type": "code",
   "execution_count": 585,
   "id": "edebfe19",
   "metadata": {},
   "outputs": [
    {
     "data": {
      "text/plain": [
       "True"
      ]
     },
     "execution_count": 585,
     "metadata": {},
     "output_type": "execute_result"
    }
   ],
   "source": [
    "s = {3,5,65,234,543,23,78,65,98,79}\n",
    "s1 = {234,23,65,79}\n",
    "s1.issubset(s)"
   ]
  },
  {
   "cell_type": "code",
   "execution_count": 563,
   "id": "bd61c088",
   "metadata": {},
   "outputs": [],
   "source": [
    "# 13. Check if a set is a superset of another set."
   ]
  },
  {
   "cell_type": "code",
   "execution_count": 586,
   "id": "2a8ba037",
   "metadata": {},
   "outputs": [
    {
     "data": {
      "text/plain": [
       "True"
      ]
     },
     "execution_count": 586,
     "metadata": {},
     "output_type": "execute_result"
    }
   ],
   "source": [
    "s = {3,5,65,234,543,23,78,65,98,79}\n",
    "s1 = {234,23,65,79}\n",
    "s.issuperset(s1)"
   ]
  },
  {
   "cell_type": "code",
   "execution_count": 564,
   "id": "76d312e8",
   "metadata": {},
   "outputs": [],
   "source": [
    "# 14. Create a set from a list."
   ]
  },
  {
   "cell_type": "code",
   "execution_count": 587,
   "id": "130a32a4",
   "metadata": {},
   "outputs": [
    {
     "data": {
      "text/plain": [
       "{1, 2, 4, 5, 7, 8, 9, 12, 23, 43, 45, 65, 543}"
      ]
     },
     "execution_count": 587,
     "metadata": {},
     "output_type": "execute_result"
    }
   ],
   "source": [
    "l = [1,2,5,7,8,543,45,23,43,65,45,2,4,9,12]\n",
    "s = set(l)\n",
    "s"
   ]
  },
  {
   "cell_type": "code",
   "execution_count": 565,
   "id": "49fe4fd6",
   "metadata": {},
   "outputs": [],
   "source": [
    "# 15. Convert a set to a list."
   ]
  },
  {
   "cell_type": "code",
   "execution_count": 588,
   "id": "b585150e",
   "metadata": {},
   "outputs": [
    {
     "data": {
      "text/plain": [
       "{1, 2, 4, 5, 7, 8, 9, 12, 23, 43, 45, 65, 543}"
      ]
     },
     "execution_count": 588,
     "metadata": {},
     "output_type": "execute_result"
    }
   ],
   "source": [
    "l = [1,2,5,7,8,543,45,23,43,65,45,2,4,9,12]\n",
    "s = set(l)\n",
    "s"
   ]
  },
  {
   "cell_type": "code",
   "execution_count": 566,
   "id": "40b356e1",
   "metadata": {},
   "outputs": [],
   "source": [
    "# 16. Remove a random element from a set."
   ]
  },
  {
   "cell_type": "code",
   "execution_count": 676,
   "id": "f01bfa32",
   "metadata": {},
   "outputs": [
    {
     "data": {
      "text/plain": [
       "{3, 5, 23, 65, 78, 79, 234, 543}"
      ]
     },
     "execution_count": 676,
     "metadata": {},
     "output_type": "execute_result"
    }
   ],
   "source": [
    "s = {3,5,65,234,543,23,78,65,98,79}\n",
    "import random\n",
    "random_element = random.choice(tuple(s))\n",
    "s.remove(random_element)\n",
    "s"
   ]
  },
  {
   "cell_type": "code",
   "execution_count": 567,
   "id": "91ae9336",
   "metadata": {},
   "outputs": [],
   "source": [
    "# 17. Pop an element from a set."
   ]
  },
  {
   "cell_type": "code",
   "execution_count": 639,
   "id": "a7b40dd0",
   "metadata": {},
   "outputs": [
    {
     "data": {
      "text/plain": [
       "{3, 5, 23, 78, 79, 98, 234, 543}"
      ]
     },
     "execution_count": 639,
     "metadata": {},
     "output_type": "execute_result"
    }
   ],
   "source": [
    "s = {3,5,65,234,543,23,78,65,98,79}\n",
    "s.pop()\n",
    "s"
   ]
  },
  {
   "cell_type": "code",
   "execution_count": 568,
   "id": "419e31d2",
   "metadata": {},
   "outputs": [],
   "source": [
    "# 18. Check if two sets have no elements in common."
   ]
  },
  {
   "cell_type": "code",
   "execution_count": 679,
   "id": "25385ead",
   "metadata": {},
   "outputs": [
    {
     "name": "stdout",
     "output_type": "stream",
     "text": [
      "False\n"
     ]
    }
   ],
   "source": [
    "s1 = {1,3,6,7,8}\n",
    "s2 = {7,8,0,34}\n",
    "if len(s1.intersection(s2))==0:\n",
    "    print(True) \n",
    "else:\n",
    "    print(False)\n"
   ]
  },
  {
   "cell_type": "code",
   "execution_count": 569,
   "id": "8b82479e",
   "metadata": {},
   "outputs": [],
   "source": [
    "# 19. Find the symmetric difference between two sets."
   ]
  },
  {
   "cell_type": "code",
   "execution_count": 680,
   "id": "9f89b313",
   "metadata": {},
   "outputs": [
    {
     "data": {
      "text/plain": [
       "{0, 1, 3, 6, 34}"
      ]
     },
     "execution_count": 680,
     "metadata": {},
     "output_type": "execute_result"
    }
   ],
   "source": [
    "s1 = {1,3,6,7,8}\n",
    "s2 = {7,8,0,34}\n",
    "s1.symmetric_difference(s2)"
   ]
  },
  {
   "cell_type": "code",
   "execution_count": 570,
   "id": "74238581",
   "metadata": {},
   "outputs": [],
   "source": [
    "# 20. Update a set with elements from another set."
   ]
  },
  {
   "cell_type": "code",
   "execution_count": 690,
   "id": "ed0a3bc7",
   "metadata": {},
   "outputs": [
    {
     "name": "stdout",
     "output_type": "stream",
     "text": [
      "{0, 1, 34, 3, 6, 7, 8}\n"
     ]
    }
   ],
   "source": [
    "s1 = {1,3,6,7,8}\n",
    "s2 = {7,8,0,34}\n",
    "s1.update(s2)\n",
    "print(s1)"
   ]
  },
  {
   "cell_type": "code",
   "execution_count": 571,
   "id": "81faabe5",
   "metadata": {},
   "outputs": [],
   "source": [
    "# 21. Create a set of the first 5 prime numbers."
   ]
  },
  {
   "cell_type": "code",
   "execution_count": 697,
   "id": "35b9c180",
   "metadata": {},
   "outputs": [
    {
     "name": "stdout",
     "output_type": "stream",
     "text": [
      "{2, 3, 5, 7, 11}\n"
     ]
    }
   ],
   "source": [
    "def is_prime(num):\n",
    "    if num <= 1:\n",
    "        return False\n",
    "    if num <= 3:\n",
    "        return True\n",
    "    if num % 2 == 0 or num % 3 == 0:\n",
    "        return False\n",
    "    i = 5\n",
    "    while i * i <= num:\n",
    "        if num % i == 0 or num % (i+2) == 0:\n",
    "            return False\n",
    "        i += 6\n",
    "    return True\n",
    "\n",
    "t = set()\n",
    "num = 2\n",
    "while len(t) < 5:\n",
    "    if is_prime(num):\n",
    "        t.add(num)\n",
    "    num += 1\n",
    "\n",
    "print(t)"
   ]
  },
  {
   "cell_type": "code",
   "execution_count": 698,
   "id": "afeaa4eb",
   "metadata": {},
   "outputs": [],
   "source": [
    "# 22. Check if two sets are identical."
   ]
  },
  {
   "cell_type": "code",
   "execution_count": 706,
   "id": "a220e632",
   "metadata": {},
   "outputs": [
    {
     "data": {
      "text/plain": [
       "True"
      ]
     },
     "execution_count": 706,
     "metadata": {},
     "output_type": "execute_result"
    }
   ],
   "source": [
    "s1 = {1,3,6,7,8}\n",
    "s2 = {1,6,8,3,7}\n",
    "s1.union(s2)\n",
    "len(s1.union(s2)) == len(s1)"
   ]
  },
  {
   "cell_type": "code",
   "execution_count": 707,
   "id": "a2321383",
   "metadata": {},
   "outputs": [],
   "source": [
    "# 23. Create a frozen set."
   ]
  },
  {
   "cell_type": "code",
   "execution_count": 708,
   "id": "b895cf40",
   "metadata": {},
   "outputs": [
    {
     "data": {
      "text/plain": [
       "frozenset({1, 3, 6, 7, 8})"
      ]
     },
     "execution_count": 708,
     "metadata": {},
     "output_type": "execute_result"
    }
   ],
   "source": [
    "s1 = {1,3,6,7,8}\n",
    "s = frozenset(s1)\n",
    "s."
   ]
  },
  {
   "cell_type": "code",
   "execution_count": 709,
   "id": "c3e02bb5",
   "metadata": {},
   "outputs": [],
   "source": [
    "# 24. Check if a set is disjoint with another set."
   ]
  },
  {
   "cell_type": "code",
   "execution_count": 711,
   "id": "d9179d84",
   "metadata": {},
   "outputs": [
    {
     "data": {
      "text/plain": [
       "False"
      ]
     },
     "execution_count": 711,
     "metadata": {},
     "output_type": "execute_result"
    }
   ],
   "source": [
    "s1 = {1,3,6,7,8}\n",
    "s2 = {1,6,8,3,7}\n",
    "s1.isdisjoint(s2)"
   ]
  },
  {
   "cell_type": "code",
   "execution_count": 712,
   "id": "0d98797c",
   "metadata": {},
   "outputs": [],
   "source": [
    "# 25. Create a set of squares of numbers from 1 to 5."
   ]
  },
  {
   "cell_type": "code",
   "execution_count": 715,
   "id": "c9e4c602",
   "metadata": {},
   "outputs": [
    {
     "data": {
      "text/plain": [
       "{1, 4, 9, 16, 25}"
      ]
     },
     "execution_count": 715,
     "metadata": {},
     "output_type": "execute_result"
    }
   ],
   "source": [
    "{s**2 for s in range(1,6,1)}"
   ]
  },
  {
   "cell_type": "code",
   "execution_count": 716,
   "id": "e0dc406e",
   "metadata": {},
   "outputs": [],
   "source": [
    "# 26. Filter out all even numbers from a set."
   ]
  },
  {
   "cell_type": "code",
   "execution_count": 717,
   "id": "49d6934e",
   "metadata": {},
   "outputs": [
    {
     "data": {
      "text/plain": [
       "{0, 2, 4, 6, 8, 24, 68}"
      ]
     },
     "execution_count": 717,
     "metadata": {},
     "output_type": "execute_result"
    }
   ],
   "source": [
    "s = {2,4,5,6,7,8,0,24,23,45,57,68}\n",
    "{i for i in s if i%2==0}"
   ]
  },
  {
   "cell_type": "code",
   "execution_count": 718,
   "id": "7494afd3",
   "metadata": {},
   "outputs": [],
   "source": [
    "# 27. Multiply all elements in a set by 2."
   ]
  },
  {
   "cell_type": "code",
   "execution_count": 719,
   "id": "ccb233bd",
   "metadata": {},
   "outputs": [
    {
     "data": {
      "text/plain": [
       "{0, 4, 8, 10, 12, 14, 16, 46, 48, 90, 114, 136}"
      ]
     },
     "execution_count": 719,
     "metadata": {},
     "output_type": "execute_result"
    }
   ],
   "source": [
    "s = {2,4,5,6,7,8,0,24,23,45,57,68}\n",
    "{i*2 for i in s}"
   ]
  },
  {
   "cell_type": "code",
   "execution_count": 720,
   "id": "2b1a241f",
   "metadata": {},
   "outputs": [],
   "source": [
    "# 28. Create a set of random numbers."
   ]
  },
  {
   "cell_type": "code",
   "execution_count": 725,
   "id": "06057256",
   "metadata": {},
   "outputs": [
    {
     "data": {
      "text/plain": [
       "{11, 14, 28, 33, 36, 47, 50}"
      ]
     },
     "execution_count": 725,
     "metadata": {},
     "output_type": "execute_result"
    }
   ],
   "source": [
    "import random\n",
    "s = {random.randint(i,50) for i in range(1,10)} \n",
    "s"
   ]
  },
  {
   "cell_type": "code",
   "execution_count": 726,
   "id": "bb228311",
   "metadata": {},
   "outputs": [],
   "source": [
    "# 29. Check if a set is empty."
   ]
  },
  {
   "cell_type": "code",
   "execution_count": 728,
   "id": "5ef60867",
   "metadata": {},
   "outputs": [
    {
     "data": {
      "text/plain": [
       "True"
      ]
     },
     "execution_count": 728,
     "metadata": {},
     "output_type": "execute_result"
    }
   ],
   "source": [
    "s=set()\n",
    "len(s) ==0"
   ]
  },
  {
   "cell_type": "code",
   "execution_count": 729,
   "id": "656be5fb",
   "metadata": {},
   "outputs": [],
   "source": [
    "# 30. Create a nested set (hint: use frozenset)."
   ]
  },
  {
   "cell_type": "code",
   "execution_count": 732,
   "id": "1ffdf36c",
   "metadata": {},
   "outputs": [
    {
     "name": "stdout",
     "output_type": "stream",
     "text": [
      "frozenset({frozenset({3, 4}), frozenset({1, 2})})\n"
     ]
    }
   ],
   "source": [
    "nested_set = frozenset({frozenset({1, 2}), frozenset({3, 4})})\n",
    "print(nested_set)\n",
    "\n"
   ]
  },
  {
   "cell_type": "code",
   "execution_count": 733,
   "id": "98dcff7e",
   "metadata": {},
   "outputs": [],
   "source": [
    "# 31. Remove an element from a set using the discard method."
   ]
  },
  {
   "cell_type": "code",
   "execution_count": 735,
   "id": "36c6ff30",
   "metadata": {},
   "outputs": [
    {
     "data": {
      "text/plain": [
       "{0, 2, 4, 5, 6, 7, 23, 24, 45, 57, 68}"
      ]
     },
     "execution_count": 735,
     "metadata": {},
     "output_type": "execute_result"
    }
   ],
   "source": [
    "s = {2,4,5,6,7,8,0,24,23,45,57,68}\n",
    "s.discard(8)\n",
    "s"
   ]
  },
  {
   "cell_type": "code",
   "execution_count": 736,
   "id": "3fa83ca1",
   "metadata": {},
   "outputs": [],
   "source": [
    "# 32. Compare two sets."
   ]
  },
  {
   "cell_type": "code",
   "execution_count": 739,
   "id": "3c6aabcd",
   "metadata": {},
   "outputs": [
    {
     "name": "stdout",
     "output_type": "stream",
     "text": [
      "False\n",
      "True\n",
      "False\n"
     ]
    }
   ],
   "source": [
    "s1 = {1,3,6,7,8}\n",
    "s2 = {1,6,8,3,7,4}\n",
    "print(s1 == s2)\n",
    "print(s1<s2)\n",
    "print(s1>s2)"
   ]
  },
  {
   "cell_type": "code",
   "execution_count": 740,
   "id": "7b9ce12c",
   "metadata": {},
   "outputs": [],
   "source": [
    "# 33. Create a set from a string."
   ]
  },
  {
   "cell_type": "code",
   "execution_count": 741,
   "id": "219606c8",
   "metadata": {},
   "outputs": [
    {
     "data": {
      "text/plain": [
       "{'a', 'i', 'n', 'r', 's', 'v'}"
      ]
     },
     "execution_count": 741,
     "metadata": {},
     "output_type": "execute_result"
    }
   ],
   "source": [
    "s = \"srinivas\"\n",
    "{i for i in s}"
   ]
  },
  {
   "cell_type": "code",
   "execution_count": 742,
   "id": "5bf0e02e",
   "metadata": {},
   "outputs": [],
   "source": [
    "# 34. Convert a set of strings to a set of integers."
   ]
  },
  {
   "cell_type": "code",
   "execution_count": 743,
   "id": "8e5a194f",
   "metadata": {},
   "outputs": [
    {
     "data": {
      "text/plain": [
       "{21, 34, 56, 90}"
      ]
     },
     "execution_count": 743,
     "metadata": {},
     "output_type": "execute_result"
    }
   ],
   "source": [
    "s = {\"34\",\"56\",\"21\",\"90\"}\n",
    "{int(i) for i in s}"
   ]
  },
  {
   "cell_type": "code",
   "execution_count": 744,
   "id": "a9128f12",
   "metadata": {},
   "outputs": [],
   "source": [
    "# 35. Convert a set of integers to a set of strings."
   ]
  },
  {
   "cell_type": "code",
   "execution_count": 745,
   "id": "0354570d",
   "metadata": {},
   "outputs": [
    {
     "data": {
      "text/plain": [
       "{'21', '34', '56', '90'}"
      ]
     },
     "execution_count": 745,
     "metadata": {},
     "output_type": "execute_result"
    }
   ],
   "source": [
    "s = {34,56,21,90}\n",
    "{str(i) for i in s}"
   ]
  },
  {
   "cell_type": "code",
   "execution_count": 746,
   "id": "0927a1c2",
   "metadata": {},
   "outputs": [],
   "source": [
    "# 36. Create a set from a tuple."
   ]
  },
  {
   "cell_type": "code",
   "execution_count": 749,
   "id": "17ed790f",
   "metadata": {},
   "outputs": [
    {
     "data": {
      "text/plain": [
       "{1, 2, 3, 4, 5, 6, 9, 45, 76}"
      ]
     },
     "execution_count": 749,
     "metadata": {},
     "output_type": "execute_result"
    }
   ],
   "source": [
    "t = (2,3,5,6,45,76,1,4,9,6,76)\n",
    "{i for i in t}"
   ]
  },
  {
   "cell_type": "code",
   "execution_count": 748,
   "id": "dff84dc1",
   "metadata": {},
   "outputs": [],
   "source": [
    "# 37. Convert a set to a tuple."
   ]
  },
  {
   "cell_type": "code",
   "execution_count": 751,
   "id": "c13f7690",
   "metadata": {},
   "outputs": [
    {
     "data": {
      "text/plain": [
       "(1, 2, 3, 4, 5, 6, 9, 76, 45)"
      ]
     },
     "execution_count": 751,
     "metadata": {},
     "output_type": "execute_result"
    }
   ],
   "source": [
    "s = {1, 2, 3, 4, 5, 6, 9, 45, 76}\n",
    "tuple(i for i in s)"
   ]
  },
  {
   "cell_type": "code",
   "execution_count": 752,
   "id": "e1d4a622",
   "metadata": {},
   "outputs": [],
   "source": [
    "# 38. Find the maximum value in a set."
   ]
  },
  {
   "cell_type": "code",
   "execution_count": 759,
   "id": "f754bfa8",
   "metadata": {},
   "outputs": [
    {
     "name": "stdout",
     "output_type": "stream",
     "text": [
      "76\n"
     ]
    },
    {
     "data": {
      "text/plain": [
       "76"
      ]
     },
     "execution_count": 759,
     "metadata": {},
     "output_type": "execute_result"
    }
   ],
   "source": [
    "s = {1, 2, 3, 4, 5, 6, 9, 45, 76}\n",
    "high = 0\n",
    "for i in s:\n",
    "    if i > high:\n",
    "        high = i\n",
    "print(high)\n",
    "# or\n",
    "\n",
    "max(s)"
   ]
  },
  {
   "cell_type": "code",
   "execution_count": 754,
   "id": "ffa9d772",
   "metadata": {},
   "outputs": [],
   "source": [
    "# 39. Find the minimum value in a set."
   ]
  },
  {
   "cell_type": "code",
   "execution_count": 758,
   "id": "e6258f6c",
   "metadata": {},
   "outputs": [
    {
     "name": "stdout",
     "output_type": "stream",
     "text": [
      "2\n"
     ]
    },
    {
     "data": {
      "text/plain": [
       "2"
      ]
     },
     "execution_count": 758,
     "metadata": {},
     "output_type": "execute_result"
    }
   ],
   "source": [
    "s = {2, 3, 4, 5, 6, 9, 45, 76}\n",
    "high = 4\n",
    "for i in s:\n",
    "    if i < high:\n",
    "        high = i\n",
    "print(high)\n",
    "\n",
    "# or\n",
    "min(s)"
   ]
  },
  {
   "cell_type": "code",
   "execution_count": 760,
   "id": "ee9ea284",
   "metadata": {},
   "outputs": [],
   "source": [
    "# 40. Create a set from user input."
   ]
  },
  {
   "cell_type": "code",
   "execution_count": 764,
   "id": "c9ce2657",
   "metadata": {},
   "outputs": [
    {
     "name": "stdout",
     "output_type": "stream",
     "text": [
      "Enter values to be added in a set25245754\n",
      "{'5', '2', '7', '4'}\n"
     ]
    }
   ],
   "source": [
    "s = set(input(\"Enter values to be added in a set\"))\n",
    "print(s)"
   ]
  },
  {
   "cell_type": "code",
   "execution_count": 765,
   "id": "315798ee",
   "metadata": {},
   "outputs": [],
   "source": [
    "# 42. Create a set of the first 5 Fibonacci numbers."
   ]
  },
  {
   "cell_type": "code",
   "execution_count": 767,
   "id": "22563f9a",
   "metadata": {},
   "outputs": [
    {
     "name": "stdout",
     "output_type": "stream",
     "text": [
      "{0, 1, 2, 3, 34, 5, 8, 13, 21}\n"
     ]
    }
   ],
   "source": [
    "def generate_fibonacci(n):\n",
    "    fibonacci_sequence = (0, 1)\n",
    "    while len(fibonacci_sequence) < n:\n",
    "        next_number = fibonacci_sequence[-1] + fibonacci_sequence[-2]\n",
    "        fibonacci_sequence+=(next_number,)\n",
    "    return fibonacci_sequence[:n]\n",
    "\n",
    "fibonacci_numbers = generate_fibonacci(10)\n",
    "print(set(fibonacci_numbers))"
   ]
  },
  {
   "cell_type": "code",
   "execution_count": 768,
   "id": "384347bf",
   "metadata": {},
   "outputs": [],
   "source": [
    "# 43. Remove duplicates from a list using sets."
   ]
  },
  {
   "cell_type": "code",
   "execution_count": 770,
   "id": "d6bda4b4",
   "metadata": {},
   "outputs": [
    {
     "data": {
      "text/plain": [
       "[65, 2, 3, 4, 5, 6, 7, 8, 9, 43, 76, 45, 23, 54, 87]"
      ]
     },
     "execution_count": 770,
     "metadata": {},
     "output_type": "execute_result"
    }
   ],
   "source": [
    "l = [2,3,4,5,6,3,4,6,7,4,8,6,9,45,65,76,87,45,65,76,87,23,43,54,65,23]\n",
    "list(set(l))"
   ]
  },
  {
   "cell_type": "code",
   "execution_count": 771,
   "id": "6902f447",
   "metadata": {},
   "outputs": [],
   "source": [
    "# 44. Check if two sets have the same elements, regardless of their count."
   ]
  },
  {
   "cell_type": "code",
   "execution_count": 778,
   "id": "32305798",
   "metadata": {},
   "outputs": [
    {
     "data": {
      "text/plain": [
       "True"
      ]
     },
     "execution_count": 778,
     "metadata": {},
     "output_type": "execute_result"
    }
   ],
   "source": [
    "s1 = {2,4,5,7,8,3,4,7}\n",
    "s2 = {2,4,5,8,3,7}\n",
    "s1==s2"
   ]
  },
  {
   "cell_type": "code",
   "execution_count": 779,
   "id": "f0b8517f",
   "metadata": {},
   "outputs": [],
   "source": [
    "# 45. Create a set of the first `n` powers of 2."
   ]
  },
  {
   "cell_type": "code",
   "execution_count": 780,
   "id": "24edc14d",
   "metadata": {},
   "outputs": [
    {
     "data": {
      "text/plain": [
       "{2, 4, 8, 16, 32, 64, 128, 256, 512}"
      ]
     },
     "execution_count": 780,
     "metadata": {},
     "output_type": "execute_result"
    }
   ],
   "source": [
    "{2**n for n in range(1,10)}"
   ]
  },
  {
   "cell_type": "code",
   "execution_count": 781,
   "id": "7bafd87a",
   "metadata": {},
   "outputs": [],
   "source": [
    "# 46. Find the common elements between a set and a list."
   ]
  },
  {
   "cell_type": "code",
   "execution_count": 782,
   "id": "5e7c59ba",
   "metadata": {},
   "outputs": [
    {
     "data": {
      "text/plain": [
       "{2, 4, 6, 34, 43, 54}"
      ]
     },
     "execution_count": 782,
     "metadata": {},
     "output_type": "execute_result"
    }
   ],
   "source": [
    "l = [2,3,4,6,7,8,43,54,65,34]\n",
    "s = {2,4,5,54,43,34,6}\n",
    "s1 = set(l)\n",
    "s.intersection(s1)"
   ]
  },
  {
   "cell_type": "code",
   "execution_count": 783,
   "id": "a6fce65e",
   "metadata": {},
   "outputs": [],
   "source": [
    "# 47. Create a set of the first `n` triangular numbers."
   ]
  },
  {
   "cell_type": "code",
   "execution_count": 784,
   "id": "1cd23265",
   "metadata": {},
   "outputs": [
    {
     "name": "stdout",
     "output_type": "stream",
     "text": [
      "{1, 3, 36, 6, 10, 45, 15, 21, 55, 28}\n"
     ]
    }
   ],
   "source": [
    "def triangular_numbers(n):\n",
    "    tn = set()\n",
    "    total = 0\n",
    "    for i in range(1, n + 1):\n",
    "        total += i\n",
    "        tn.add(total)\n",
    "    return tn\n",
    "\n",
    "n = 10\n",
    "tn = triangular_numbers(n)\n",
    "print(tn)"
   ]
  },
  {
   "cell_type": "code",
   "execution_count": 785,
   "id": "22a907e1",
   "metadata": {},
   "outputs": [],
   "source": [
    "# 48. Check if a set contains another set as a subset."
   ]
  },
  {
   "cell_type": "code",
   "execution_count": 787,
   "id": "098ac611",
   "metadata": {},
   "outputs": [
    {
     "data": {
      "text/plain": [
       "True"
      ]
     },
     "execution_count": 787,
     "metadata": {},
     "output_type": "execute_result"
    }
   ],
   "source": [
    "s = {2,3,5,6,8}\n",
    "s1 = {1,4,6,9,2,3,5,6,8}\n",
    "s.issubset(s1)"
   ]
  },
  {
   "cell_type": "code",
   "execution_count": 788,
   "id": "516da69c",
   "metadata": {},
   "outputs": [],
   "source": [
    "# 49. Create a set of alternating 1s and 0s of length `n`."
   ]
  },
  {
   "cell_type": "code",
   "execution_count": 795,
   "id": "3ed40913",
   "metadata": {},
   "outputs": [
    {
     "name": "stdout",
     "output_type": "stream",
     "text": [
      "{0, 1}\n"
     ]
    }
   ],
   "source": [
    "t = tuple(1 if i % 2 == 0 else 0 for i in range(n))\n",
    "\n",
    "# Printing the set of alternating 1s and 0s.\n",
    "print(set(t))"
   ]
  },
  {
   "cell_type": "code",
   "execution_count": 796,
   "id": "51a85073",
   "metadata": {},
   "outputs": [],
   "source": [
    "# 50. Merge multiple sets into one."
   ]
  },
  {
   "cell_type": "code",
   "execution_count": 802,
   "id": "7a792f88",
   "metadata": {},
   "outputs": [
    {
     "data": {
      "text/plain": [
       "{0, 1, 2, 3, 4, 5, 6, 7, 8}"
      ]
     },
     "execution_count": 802,
     "metadata": {},
     "output_type": "execute_result"
    }
   ],
   "source": [
    "s = {1,2,3,4,5,6}\n",
    "s1 = {3,4,5,2,6,7}\n",
    "s2 = {3,4,6,7,8,0}\n",
    "s.update(s1)\n",
    "s.update(s2)\n",
    "s"
   ]
  }
 ],
 "metadata": {
  "kernelspec": {
   "display_name": "Python 3 (ipykernel)",
   "language": "python",
   "name": "python3"
  },
  "language_info": {
   "codemirror_mode": {
    "name": "ipython",
    "version": 3
   },
   "file_extension": ".py",
   "mimetype": "text/x-python",
   "name": "python",
   "nbconvert_exporter": "python",
   "pygments_lexer": "ipython3",
   "version": "3.11.3"
  }
 },
 "nbformat": 4,
 "nbformat_minor": 5
}
