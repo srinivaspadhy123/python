{
 "cells": [
  {
   "cell_type": "markdown",
   "id": "0aed8b82",
   "metadata": {},
   "source": [
    "# Loop"
   ]
  },
  {
   "cell_type": "code",
   "execution_count": null,
   "id": "634d35a3",
   "metadata": {},
   "outputs": [],
   "source": [
    "# 1. Write a Python program to print numbers from 1 to 10 using a for loop."
   ]
  },
  {
   "cell_type": "code",
   "execution_count": 95,
   "id": "61ecabf6",
   "metadata": {},
   "outputs": [
    {
     "name": "stdout",
     "output_type": "stream",
     "text": [
      "1\n",
      "2\n",
      "3\n",
      "4\n",
      "5\n",
      "6\n",
      "7\n",
      "8\n",
      "9\n",
      "10\n"
     ]
    }
   ],
   "source": [
    "for i in range(1,11,1):\n",
    "    print(i)"
   ]
  },
  {
   "cell_type": "code",
   "execution_count": 93,
   "id": "34085f30",
   "metadata": {},
   "outputs": [],
   "source": [
    "# 2. Explain the difference between a for loop and a while loop in Python."
   ]
  },
  {
   "cell_type": "raw",
   "id": "89e9a144",
   "metadata": {},
   "source": [
    "A for loop is used for iterating over a sequence (that is either a list, a tuple, a dictionary, a set, or a string).\n",
    "It executes a block of code repeatedly for a specified range or sequence of elements.\n",
    "\n",
    "On the other hand, a while loop is used for executing a block of code repeatedly as long as the given condition is True.\n",
    "It keeps iterating as long as the specified condition is true.\n"
   ]
  },
  {
   "cell_type": "code",
   "execution_count": 92,
   "id": "6f11871f",
   "metadata": {},
   "outputs": [],
   "source": [
    "# 3. Write a Python program to calculate the sum of all numbers from 1 to 100 using a for loop."
   ]
  },
  {
   "cell_type": "code",
   "execution_count": 96,
   "id": "9b678176",
   "metadata": {},
   "outputs": [
    {
     "name": "stdout",
     "output_type": "stream",
     "text": [
      "5050\n"
     ]
    }
   ],
   "source": [
    "s = 0\n",
    "for i in range(1,101,1):\n",
    "    s+=i\n",
    "print(s)"
   ]
  },
  {
   "cell_type": "code",
   "execution_count": 91,
   "id": "e5bcc2fa",
   "metadata": {},
   "outputs": [],
   "source": [
    "# 4. How do you iterate through a list using a for loop in Python?"
   ]
  },
  {
   "cell_type": "code",
   "execution_count": 97,
   "id": "19a6ea87",
   "metadata": {},
   "outputs": [
    {
     "name": "stdout",
     "output_type": "stream",
     "text": [
      "2\n",
      "3\n",
      "4\n",
      "5\n",
      "6\n",
      "srinivas\n"
     ]
    }
   ],
   "source": [
    "l = [2,3,4,5,6,\"srinivas\"]\n",
    "for i in l:\n",
    "    print(i)"
   ]
  },
  {
   "cell_type": "code",
   "execution_count": 90,
   "id": "aaf5776c",
   "metadata": {},
   "outputs": [],
   "source": [
    "# 5. Write a Python program to find the product of all elements in a list using a for loop."
   ]
  },
  {
   "cell_type": "code",
   "execution_count": 98,
   "id": "592e078c",
   "metadata": {},
   "outputs": [
    {
     "name": "stdout",
     "output_type": "stream",
     "text": [
      "720\n"
     ]
    }
   ],
   "source": [
    "l = [2,3,4,5,6]\n",
    "p = 1\n",
    "for i in l:\n",
    "    p*=i\n",
    "print(p)"
   ]
  },
  {
   "cell_type": "code",
   "execution_count": 89,
   "id": "c04498ce",
   "metadata": {},
   "outputs": [],
   "source": [
    "# 6. Create a Python program that prints all even numbers from 1 to 20 using a for loop."
   ]
  },
  {
   "cell_type": "code",
   "execution_count": 99,
   "id": "fde9b4db",
   "metadata": {},
   "outputs": [
    {
     "name": "stdout",
     "output_type": "stream",
     "text": [
      "2\n",
      "4\n",
      "6\n",
      "8\n",
      "10\n",
      "12\n",
      "14\n",
      "16\n",
      "18\n",
      "20\n"
     ]
    }
   ],
   "source": [
    "for i in range(1,21,1):\n",
    "    if i%2 ==0:\n",
    "        print(i)"
   ]
  },
  {
   "cell_type": "code",
   "execution_count": 88,
   "id": "3cbc1093",
   "metadata": {},
   "outputs": [],
   "source": [
    "# 7. Write a Python program that calculates the factorial of a number using a for loop."
   ]
  },
  {
   "cell_type": "code",
   "execution_count": 102,
   "id": "41164dbd",
   "metadata": {},
   "outputs": [
    {
     "name": "stdout",
     "output_type": "stream",
     "text": [
      "120\n"
     ]
    }
   ],
   "source": [
    "num = 5\n",
    "factorial = 1\n",
    "for i in range(1,num+1,1):\n",
    "    factorial*=i\n",
    "print(factorial)"
   ]
  },
  {
   "cell_type": "code",
   "execution_count": 87,
   "id": "77ba5bc9",
   "metadata": {},
   "outputs": [],
   "source": [
    "# 8. How can you iterate through the characters of a string using a for loop in Python?"
   ]
  },
  {
   "cell_type": "code",
   "execution_count": 105,
   "id": "e0b99cfa",
   "metadata": {},
   "outputs": [
    {
     "name": "stdout",
     "output_type": "stream",
     "text": [
      "c\n",
      "h\n",
      "a\n",
      "r\n"
     ]
    }
   ],
   "source": [
    "s = 'char'\n",
    "for i in s:\n",
    "    print(i)"
   ]
  },
  {
   "cell_type": "code",
   "execution_count": 86,
   "id": "eb7dcb4f",
   "metadata": {},
   "outputs": [],
   "source": [
    "# 9. Write a Python program to find the largest number in a list using a for loop."
   ]
  },
  {
   "cell_type": "code",
   "execution_count": 106,
   "id": "1941e168",
   "metadata": {},
   "outputs": [
    {
     "name": "stdout",
     "output_type": "stream",
     "text": [
      "6\n"
     ]
    }
   ],
   "source": [
    "l = [2,3,4,5,6]\n",
    "h =0\n",
    "for i in l:\n",
    "    if i > h:\n",
    "        h=i\n",
    "if h>0:\n",
    "    print(h)"
   ]
  },
  {
   "cell_type": "code",
   "execution_count": 85,
   "id": "c731ef88",
   "metadata": {},
   "outputs": [],
   "source": [
    "# 10. Create a Python program that prints the Fibonacci sequence up to a specified limit using a for\n",
    "# loop."
   ]
  },
  {
   "cell_type": "code",
   "execution_count": 109,
   "id": "d99c0d6d",
   "metadata": {},
   "outputs": [
    {
     "name": "stdout",
     "output_type": "stream",
     "text": [
      "0 1 1 2 3 5 "
     ]
    }
   ],
   "source": [
    "limit = 7\n",
    "a, b = 0, 1\n",
    "for _ in range(limit):\n",
    "    if a > limit:\n",
    "        break\n",
    "    print(a, end=' ')\n",
    "    a, b = b, a + b"
   ]
  },
  {
   "cell_type": "code",
   "execution_count": 84,
   "id": "a2e6bd24",
   "metadata": {},
   "outputs": [],
   "source": [
    "# 11. Write a Python program to count the number of vowels in a given string using a for loop."
   ]
  },
  {
   "cell_type": "code",
   "execution_count": 112,
   "id": "41a67011",
   "metadata": {},
   "outputs": [
    {
     "name": "stdout",
     "output_type": "stream",
     "text": [
      "4\n"
     ]
    }
   ],
   "source": [
    "s = 'srinivaspadhy'\n",
    "vowels = 'aeiou'\n",
    "count = 0\n",
    "for i in s:\n",
    "    if i in vowels:\n",
    "        count+=1\n",
    "print(count)"
   ]
  },
  {
   "cell_type": "code",
   "execution_count": 83,
   "id": "dd98996b",
   "metadata": {},
   "outputs": [],
   "source": [
    "# 12. Create a Python program that generates a multiplication table for a given number using a for\n",
    "# loop."
   ]
  },
  {
   "cell_type": "code",
   "execution_count": 113,
   "id": "3c8c8827",
   "metadata": {},
   "outputs": [
    {
     "name": "stdout",
     "output_type": "stream",
     "text": [
      "10 * 1 = 10\n",
      "10 * 2 = 20\n",
      "10 * 3 = 30\n",
      "10 * 4 = 40\n",
      "10 * 5 = 50\n",
      "10 * 6 = 60\n",
      "10 * 7 = 70\n",
      "10 * 8 = 80\n",
      "10 * 9 = 90\n",
      "10 * 10 = 100\n"
     ]
    }
   ],
   "source": [
    "num = 10\n",
    "for i in range(1,11,1):\n",
    "    print(f\"{num} * {i} = {num*i}\")"
   ]
  },
  {
   "cell_type": "code",
   "execution_count": 82,
   "id": "e760d577",
   "metadata": {},
   "outputs": [],
   "source": [
    "# 13. Write a Python program to reverse a list using a for loop."
   ]
  },
  {
   "cell_type": "code",
   "execution_count": 114,
   "id": "bf6eb6d2",
   "metadata": {},
   "outputs": [
    {
     "name": "stdout",
     "output_type": "stream",
     "text": [
      "Original List: [1, 2, 3, 4, 5]\n",
      "Reversed List: [5, 4, 3, 2, 1]\n"
     ]
    }
   ],
   "source": [
    "original_list = [1, 2, 3, 4, 5]\n",
    "reversed_list = []\n",
    "\n",
    "for i in range(len(original_list) - 1, -1, -1):\n",
    "    reversed_list.append(original_list[i])\n",
    "\n",
    "print(\"Original List:\", original_list)\n",
    "print(\"Reversed List:\", reversed_list)\n"
   ]
  },
  {
   "cell_type": "code",
   "execution_count": 81,
   "id": "d0a26ad4",
   "metadata": {},
   "outputs": [],
   "source": [
    "# 14. Write a Python program to find the common elements between two lists using a for loop."
   ]
  },
  {
   "cell_type": "code",
   "execution_count": 115,
   "id": "042a512a",
   "metadata": {},
   "outputs": [
    {
     "name": "stdout",
     "output_type": "stream",
     "text": [
      "List 1: [1, 2, 3, 4, 5]\n",
      "List 2: [3, 4, 5, 6, 7]\n",
      "Common Elements: [3, 4, 5]\n"
     ]
    }
   ],
   "source": [
    "list1 = [1, 2, 3, 4, 5]\n",
    "list2 = [3, 4, 5, 6, 7]\n",
    "\n",
    "common_elements = []\n",
    "\n",
    "for element in list1:\n",
    "    if element in list2:\n",
    "        common_elements.append(element)\n",
    "\n",
    "print(\"List 1:\", list1)\n",
    "print(\"List 2:\", list2)\n",
    "print(\"Common Elements:\", common_elements)\n"
   ]
  },
  {
   "cell_type": "code",
   "execution_count": 80,
   "id": "aad32226",
   "metadata": {},
   "outputs": [],
   "source": [
    "# 15. Explain how to use a for loop to iterate through the keys and values of a dictionary in Python."
   ]
  },
  {
   "cell_type": "code",
   "execution_count": 116,
   "id": "93191e39",
   "metadata": {},
   "outputs": [
    {
     "name": "stdout",
     "output_type": "stream",
     "text": [
      "Key: name, Value: John\n",
      "Key: age, Value: 30\n",
      "Key: city, Value: New York\n"
     ]
    }
   ],
   "source": [
    "my_dict = {'name': 'John', 'age': 30, 'city': 'New York'}\n",
    "\n",
    "# Iterate through keys and values using a for loop\n",
    "for key, value in my_dict.items():\n",
    "    print(f'Key: {key}, Value: {value}')\n"
   ]
  },
  {
   "cell_type": "code",
   "execution_count": 79,
   "id": "c6296d88",
   "metadata": {},
   "outputs": [],
   "source": [
    "# 16. Write a Python program to find the GCD (Greatest Common Divisor) of two numbers using a for\n",
    "# loop."
   ]
  },
  {
   "cell_type": "code",
   "execution_count": 118,
   "id": "3f34afaa",
   "metadata": {},
   "outputs": [
    {
     "name": "stdout",
     "output_type": "stream",
     "text": [
      "The GCD of 34 and 38 is 2\n"
     ]
    }
   ],
   "source": [
    "num1 = 34\n",
    "num2 = 38\n",
    "\n",
    "if num1 > num2:\n",
    "    smaller = num2\n",
    "else:\n",
    "    smaller = num1\n",
    "\n",
    "gcd = 1  \n",
    "\n",
    "for i in range(1, smaller + 1):\n",
    "    if num1 % i == 0 and num2 % i == 0:\n",
    "        gcd = i\n",
    "\n",
    "print(f\"The GCD of {num1} and {num2} is {gcd}\")\n"
   ]
  },
  {
   "cell_type": "code",
   "execution_count": 78,
   "id": "fbac0bdd",
   "metadata": {},
   "outputs": [],
   "source": [
    "# 17. Create a Python program that checks if a string is a palindrome using a for loop."
   ]
  },
  {
   "cell_type": "code",
   "execution_count": 119,
   "id": "eb595862",
   "metadata": {},
   "outputs": [
    {
     "name": "stdout",
     "output_type": "stream",
     "text": [
      "The string is a palindrome.\n"
     ]
    }
   ],
   "source": [
    "input_string = \"madam\"\n",
    "\n",
    "\n",
    "is_palindrome = True\n",
    "\n",
    "for i in range(len(input_string) // 2):\n",
    "    if input_string[i] != input_string[-i - 1]:\n",
    "        is_palindrome = False\n",
    "        break\n",
    "\n",
    "if is_palindrome:\n",
    "    print(\"The string is a palindrome.\")\n",
    "else:\n",
    "    print(\"The string is not a palindrome.\")\n"
   ]
  },
  {
   "cell_type": "code",
   "execution_count": 77,
   "id": "9f163376",
   "metadata": {},
   "outputs": [],
   "source": [
    "# 18. Write a Python program to remove duplicates from a list using a for loop."
   ]
  },
  {
   "cell_type": "code",
   "execution_count": 120,
   "id": "93707b46",
   "metadata": {},
   "outputs": [
    {
     "name": "stdout",
     "output_type": "stream",
     "text": [
      "Original List: [1, 2, 2, 3, 4, 4, 5, 6, 6]\n",
      "List with Duplicates Removed: [1, 2, 3, 4, 5, 6]\n"
     ]
    }
   ],
   "source": [
    "original_list = [1, 2, 2, 3, 4, 4, 5, 6, 6]\n",
    "\n",
    "unique_list = []\n",
    "\n",
    "for element in original_list:\n",
    "    if element not in unique_list:\n",
    "        unique_list.append(element)\n",
    "\n",
    "print(\"Original List:\", original_list)\n",
    "print(\"List with Duplicates Removed:\", unique_list)\n"
   ]
  },
  {
   "cell_type": "code",
   "execution_count": 76,
   "id": "da76cf8d",
   "metadata": {},
   "outputs": [],
   "source": [
    "# 19. Create a Python program that counts the number of words in a sentence using a for loop."
   ]
  },
  {
   "cell_type": "code",
   "execution_count": 121,
   "id": "2588e51f",
   "metadata": {},
   "outputs": [
    {
     "name": "stdout",
     "output_type": "stream",
     "text": [
      "Number of words in the sentence: 12\n"
     ]
    }
   ],
   "source": [
    "sentence = \"My name is srinivas padhy and i am a data scientist.\"\n",
    "\n",
    "word_count = 0\n",
    "\n",
    "for char in sentence:\n",
    "    if char.isspace() or char in [',', '.', '!', '?', ';', ':']:\n",
    "        word_count += 1\n",
    "\n",
    "word_count += 1\n",
    "\n",
    "print(\"Number of words in the sentence:\", word_count)\n"
   ]
  },
  {
   "cell_type": "code",
   "execution_count": 75,
   "id": "9d155579",
   "metadata": {},
   "outputs": [],
   "source": [
    "# 20. Write a Python program to find the sum of all odd numbers from 1 to 50 using a for loop."
   ]
  },
  {
   "cell_type": "code",
   "execution_count": 122,
   "id": "ecc74173",
   "metadata": {},
   "outputs": [
    {
     "name": "stdout",
     "output_type": "stream",
     "text": [
      "Sum of odd numbers from 1 to 50: 625\n"
     ]
    }
   ],
   "source": [
    "sum_of_odd_numbers = 0\n",
    "\n",
    "for number in range(1, 51):\n",
    "    if number % 2 != 0:\n",
    "        sum_of_odd_numbers += number\n",
    "\n",
    "print(\"Sum of odd numbers from 1 to 50:\", sum_of_odd_numbers)\n"
   ]
  },
  {
   "cell_type": "code",
   "execution_count": 74,
   "id": "a630159b",
   "metadata": {},
   "outputs": [],
   "source": [
    "# 21. Write a Python program that checks if a given year is a leap year using a for loop."
   ]
  },
  {
   "cell_type": "code",
   "execution_count": 123,
   "id": "cada358a",
   "metadata": {},
   "outputs": [
    {
     "name": "stdout",
     "output_type": "stream",
     "text": [
      "2078 is not a leap year.\n"
     ]
    }
   ],
   "source": [
    "year = 2078\n",
    "is_leap_year = False\n",
    "\n",
    "if year % 4 == 0:\n",
    "    if year % 100 == 0:\n",
    "        if year % 400 == 0:\n",
    "            is_leap_year = True\n",
    "        else:\n",
    "            is_leap_year = False\n",
    "    else:\n",
    "        is_leap_year = True\n",
    "else:\n",
    "    is_leap_year = False\n",
    "\n",
    "if is_leap_year:\n",
    "    print(f\"{year} is a leap year.\")\n",
    "else:\n",
    "    print(f\"{year} is not a leap year.\")\n"
   ]
  },
  {
   "cell_type": "code",
   "execution_count": 73,
   "id": "122cae8a",
   "metadata": {},
   "outputs": [],
   "source": [
    "# 22. Create a Python program that calculates the square root of a number using a for loop."
   ]
  },
  {
   "cell_type": "code",
   "execution_count": 127,
   "id": "be6bcf8c",
   "metadata": {},
   "outputs": [
    {
     "name": "stdout",
     "output_type": "stream",
     "text": [
      "Square root of 34 is approximately 5.830951896195874\n"
     ]
    }
   ],
   "source": [
    "number = 34\n",
    "guess = number / 2\n",
    "\n",
    "tolerance = 1e-6\n",
    "\n",
    "for _ in range(1000):  \n",
    "    new_guess = 0.5 * (guess + number / guess)  \n",
    "    if abs(new_guess - guess) < tolerance:\n",
    "        break  \n",
    "    guess = new_guess\n",
    "\n",
    "print(f\"Square root of {number} is approximately {guess}\")\n"
   ]
  },
  {
   "cell_type": "code",
   "execution_count": 72,
   "id": "b884cedc",
   "metadata": {},
   "outputs": [],
   "source": [
    "# 23. Write a Python program to find the LCM (Least Common Multiple) of two numbers using a for\n",
    "# loop."
   ]
  },
  {
   "cell_type": "code",
   "execution_count": 128,
   "id": "f2c6c304",
   "metadata": {},
   "outputs": [
    {
     "name": "stdout",
     "output_type": "stream",
     "text": [
      "The LCM of 34 and 40 is 680\n"
     ]
    }
   ],
   "source": [
    "num1 = 34\n",
    "num2 = 40\n",
    "\n",
    "if num1 > num2:\n",
    "    greater = num1\n",
    "else:\n",
    "    greater = num2\n",
    "\n",
    "while True:\n",
    "    if greater % num1 == 0 and greater % num2 == 0:\n",
    "        lcm = greater\n",
    "        break\n",
    "    greater += 1\n",
    "\n",
    "print(f\"The LCM of {num1} and {num2} is {lcm}\")\n"
   ]
  },
  {
   "cell_type": "markdown",
   "id": "5cb33aa2",
   "metadata": {},
   "source": [
    "# If Else"
   ]
  },
  {
   "cell_type": "code",
   "execution_count": 71,
   "id": "737f55de",
   "metadata": {},
   "outputs": [],
   "source": [
    "# 1.Write a Python program to check if a number is positive, negative, or zero using an if-else statement."
   ]
  },
  {
   "cell_type": "code",
   "execution_count": 129,
   "id": "0ab97c31",
   "metadata": {},
   "outputs": [
    {
     "name": "stdout",
     "output_type": "stream",
     "text": [
      "The number is negative.\n"
     ]
    }
   ],
   "source": [
    "number = -89\n",
    "if number > 0:\n",
    "    print(\"The number is positive.\")\n",
    "elif number < 0:\n",
    "    print(\"The number is negative.\")\n",
    "else:\n",
    "    print(\"The number is zero.\")\n"
   ]
  },
  {
   "cell_type": "code",
   "execution_count": 70,
   "id": "a71bf311",
   "metadata": {},
   "outputs": [],
   "source": [
    "# 2.Create a Python program that checks if a given number is even or odd using an if-else statement. "
   ]
  },
  {
   "cell_type": "code",
   "execution_count": 130,
   "id": "dd1f4f61",
   "metadata": {},
   "outputs": [
    {
     "name": "stdout",
     "output_type": "stream",
     "text": [
      "34 is even.\n"
     ]
    }
   ],
   "source": [
    "number = 34\n",
    "\n",
    "if number % 2 == 0:\n",
    "    print(f\"{number} is even.\")\n",
    "else:\n",
    "    print(f\"{number} is odd.\")\n"
   ]
  },
  {
   "cell_type": "code",
   "execution_count": 69,
   "id": "0693ad45",
   "metadata": {},
   "outputs": [],
   "source": [
    "# 3.How can you use nested if-else statements in Python, and provide an example?"
   ]
  },
  {
   "cell_type": "code",
   "execution_count": 131,
   "id": "01d9ff48",
   "metadata": {},
   "outputs": [
    {
     "name": "stdout",
     "output_type": "stream",
     "text": [
      "Enter your age: 34\n",
      "You are eligible to vote.\n",
      "You are also eligible for a driver's license.\n"
     ]
    }
   ],
   "source": [
    "age = int(input(\"Enter your age: \"))\n",
    "\n",
    "if age >= 18:\n",
    "    print(\"You are eligible to vote.\")\n",
    "    if age >= 16:\n",
    "        print(\"You are also eligible for a driver's license.\")\n",
    "    else:\n",
    "        print(\"You are not eligible for a driver's license yet.\")\n",
    "else:\n",
    "    print(\"You are not eligible to vote or drive.\")\n"
   ]
  },
  {
   "cell_type": "code",
   "execution_count": 68,
   "id": "025d8ae9",
   "metadata": {},
   "outputs": [],
   "source": [
    "# 4.Write a Python program to determine the largest of three numbers using if-else."
   ]
  },
  {
   "cell_type": "code",
   "execution_count": 132,
   "id": "2e8e3e05",
   "metadata": {},
   "outputs": [
    {
     "name": "stdout",
     "output_type": "stream",
     "text": [
      "Enter the first number: 34\n",
      "Enter the second number: 78\n",
      "Enter the third number: 89\n",
      "The largest number among 34.0, 78.0, and 89.0 is 89.0\n"
     ]
    }
   ],
   "source": [
    "num1 = float(input(\"Enter the first number: \"))\n",
    "num2 = float(input(\"Enter the second number: \"))\n",
    "num3 = float(input(\"Enter the third number: \"))\n",
    "\n",
    "if num1 >= num2 and num1 >= num3:\n",
    "    largest = num1\n",
    "elif num2 >= num1 and num2 >= num3:\n",
    "    largest = num2\n",
    "else:\n",
    "    largest = num3\n",
    "\n",
    "print(f\"The largest number among {num1}, {num2}, and {num3} is {largest}\")\n"
   ]
  },
  {
   "cell_type": "code",
   "execution_count": 67,
   "id": "d7c949ef",
   "metadata": {},
   "outputs": [],
   "source": [
    "# 5.Write a Python program that calculates the absolute value of a number using if-else."
   ]
  },
  {
   "cell_type": "code",
   "execution_count": 135,
   "id": "97554ea0",
   "metadata": {},
   "outputs": [
    {
     "name": "stdout",
     "output_type": "stream",
     "text": [
      "The absolute value of -78.89 is 78.89\n"
     ]
    }
   ],
   "source": [
    "number = -78.89\n",
    "\n",
    "if number < 0:\n",
    "    absolute_value = -number\n",
    "else:\n",
    "    absolute_value = number\n",
    "\n",
    "print(f\"The absolute value of {number} is {absolute_value}\")\n"
   ]
  },
  {
   "cell_type": "code",
   "execution_count": 66,
   "id": "4257561d",
   "metadata": {},
   "outputs": [],
   "source": [
    "# 6. Create a Python program that checks if a given character is a vowel or consonant using if-else."
   ]
  },
  {
   "cell_type": "code",
   "execution_count": 136,
   "id": "22dde688",
   "metadata": {},
   "outputs": [
    {
     "name": "stdout",
     "output_type": "stream",
     "text": [
      "s is a consonant.\n"
     ]
    }
   ],
   "source": [
    "char = 's'\n",
    "if len(char) == 1:\n",
    "    if char.lower() in 'aeiou':\n",
    "        print(f\"{char} is a vowel.\")\n",
    "    else:\n",
    "        print(f\"{char} is a consonant.\")\n",
    "else:\n",
    "    print(\"Please enter a single character.\")\n"
   ]
  },
  {
   "cell_type": "code",
   "execution_count": 65,
   "id": "5869e01d",
   "metadata": {},
   "outputs": [],
   "source": [
    "# 7. Write a Python program to determine if a user is eligible to vote based on their age using if-else."
   ]
  },
  {
   "cell_type": "code",
   "execution_count": 137,
   "id": "7cc724ac",
   "metadata": {},
   "outputs": [
    {
     "name": "stdout",
     "output_type": "stream",
     "text": [
      "You are eligible to vote.\n"
     ]
    }
   ],
   "source": [
    "age = 26\n",
    "\n",
    "if age >= 18:\n",
    "    print(\"You are eligible to vote.\")\n",
    "else:\n",
    "    print(\"You are not eligible to vote.\")\n"
   ]
  },
  {
   "cell_type": "code",
   "execution_count": 64,
   "id": "5aec88b3",
   "metadata": {},
   "outputs": [],
   "source": [
    "# 8. Create a Python program that calculates the discount amount based on the purchase amount\n",
    "# using if-else."
   ]
  },
  {
   "cell_type": "code",
   "execution_count": 139,
   "id": "220d3fd6",
   "metadata": {},
   "outputs": [
    {
     "name": "stdout",
     "output_type": "stream",
     "text": [
      "Purchase Amount: RS7890.00\n",
      "Discount Percentage: 10%\n",
      "Discount Amount: RS789.00\n",
      "Total Amount After Discount: RS7101.00\n"
     ]
    }
   ],
   "source": [
    "purchase_amount = 7890\n",
    "discount_percentage = 0\n",
    "discount_amount = 0\n",
    "\n",
    "if purchase_amount >= 1000:\n",
    "    discount_percentage = 10\n",
    "elif purchase_amount >= 500:\n",
    "    discount_percentage = 5\n",
    "\n",
    "discount_amount = (discount_percentage / 100) * purchase_amount\n",
    "\n",
    "print(f\"Purchase Amount: RS{purchase_amount:.2f}\")\n",
    "print(f\"Discount Percentage: {discount_percentage}%\")\n",
    "print(f\"Discount Amount: RS{discount_amount:.2f}\")\n",
    "print(f\"Total Amount After Discount: RS{purchase_amount - discount_amount:.2f}\")\n"
   ]
  },
  {
   "cell_type": "code",
   "execution_count": 63,
   "id": "02d242e0",
   "metadata": {},
   "outputs": [],
   "source": [
    "# 9. Write a Python program to check if a number is within a specified range using if-else."
   ]
  },
  {
   "cell_type": "code",
   "execution_count": 141,
   "id": "3fe55842",
   "metadata": {},
   "outputs": [
    {
     "name": "stdout",
     "output_type": "stream",
     "text": [
      "78 is outside the range [10, 50].\n"
     ]
    }
   ],
   "source": [
    "lower_limit = 10\n",
    "upper_limit = 50\n",
    "\n",
    "number = 78\n",
    "if lower_limit <= number <= upper_limit:\n",
    "    print(f\"{number} is within the range [{lower_limit}, {upper_limit}].\")\n",
    "else:\n",
    "    print(f\"{number} is outside the range [{lower_limit}, {upper_limit}].\")\n"
   ]
  },
  {
   "cell_type": "code",
   "execution_count": 62,
   "id": "dca2bd62",
   "metadata": {},
   "outputs": [],
   "source": [
    "# 10. Create a Python program that determines the grade of a student based on their score using\n",
    "# if-else."
   ]
  },
  {
   "cell_type": "code",
   "execution_count": 142,
   "id": "626ed052",
   "metadata": {},
   "outputs": [
    {
     "name": "stdout",
     "output_type": "stream",
     "text": [
      "Student's Score: 89\n",
      "Student's Grade: B\n"
     ]
    }
   ],
   "source": [
    "score = 89\n",
    "\n",
    "if score >= 90:\n",
    "    grade = 'A'\n",
    "elif score >= 80:\n",
    "    grade = 'B'\n",
    "elif score >= 70:\n",
    "    grade = 'C'\n",
    "elif score >= 60:\n",
    "    grade = 'D'\n",
    "else:\n",
    "    grade = 'F'\n",
    "\n",
    "print(f\"Student's Score: {score}\")\n",
    "print(f\"Student's Grade: {grade}\")\n"
   ]
  },
  {
   "cell_type": "code",
   "execution_count": 61,
   "id": "8ab356bf",
   "metadata": {},
   "outputs": [],
   "source": [
    "# 11. Write a Python program to check if a string is empty or not using if-else."
   ]
  },
  {
   "cell_type": "code",
   "execution_count": 143,
   "id": "69b5eb09",
   "metadata": {},
   "outputs": [
    {
     "name": "stdout",
     "output_type": "stream",
     "text": [
      "The string is not empty.\n"
     ]
    }
   ],
   "source": [
    "input_string = \"srinivas\"\n",
    "if not input_string:\n",
    "    print(\"The string is empty.\")\n",
    "else:\n",
    "    print(\"The string is not empty.\")\n"
   ]
  },
  {
   "cell_type": "code",
   "execution_count": 60,
   "id": "8bdf29dd",
   "metadata": {},
   "outputs": [],
   "source": [
    "# 12. Create a Python program that identifies the type of a triangle (e.g., equilateral, isosceles, or\n",
    "# scalene) based on input values using if-else."
   ]
  },
  {
   "cell_type": "code",
   "execution_count": 144,
   "id": "eee1599e",
   "metadata": {},
   "outputs": [
    {
     "name": "stdout",
     "output_type": "stream",
     "text": [
      "The triangle is a Scalene triangle.\n"
     ]
    }
   ],
   "source": [
    "side1 = 78\n",
    "side2 = 89\n",
    "side3 = 90\n",
    "\n",
    "if side1 == side2 == side3:\n",
    "    triangle_type = \"Equilateral\"\n",
    "elif side1 == side2 or side1 == side3 or side2 == side3:\n",
    "    triangle_type = \"Isosceles\"\n",
    "else:\n",
    "    triangle_type = \"Scalene\"\n",
    "\n",
    "print(f\"The triangle is a {triangle_type} triangle.\")\n"
   ]
  },
  {
   "cell_type": "code",
   "execution_count": 59,
   "id": "d8a330e9",
   "metadata": {},
   "outputs": [],
   "source": [
    "# 13. Write a Python program to determine the day of the week based on a user-provided number\n",
    "# using if-else."
   ]
  },
  {
   "cell_type": "code",
   "execution_count": 145,
   "id": "97d4e97f",
   "metadata": {},
   "outputs": [
    {
     "name": "stdout",
     "output_type": "stream",
     "text": [
      "Enter a number (1-7) to represent the day of the week: 7\n",
      "Day 7 corresponds to Saturday.\n"
     ]
    }
   ],
   "source": [
    "day_number = int(input(\"Enter a number (1-7) to represent the day of the week: \"))\n",
    "\n",
    "if day_number == 1:\n",
    "    day_name = \"Sunday\"\n",
    "elif day_number == 2:\n",
    "    day_name = \"Monday\"\n",
    "elif day_number == 3:\n",
    "    day_name = \"Tuesday\"\n",
    "elif day_number == 4:\n",
    "    day_name = \"Wednesday\"\n",
    "elif day_number == 5:\n",
    "    day_name = \"Thursday\"\n",
    "elif day_number == 6:\n",
    "    day_name = \"Friday\"\n",
    "elif day_number == 7:\n",
    "    day_name = \"Saturday\"\n",
    "else:\n",
    "    day_name = \"Invalid\"\n",
    "\n",
    "if day_name != \"Invalid\":\n",
    "    print(f\"Day {day_number} corresponds to {day_name}.\")\n",
    "else:\n",
    "    print(\"Invalid input. Please enter a number between 1 and 7.\")\n"
   ]
  },
  {
   "cell_type": "code",
   "execution_count": 58,
   "id": "e1ca85a5",
   "metadata": {},
   "outputs": [],
   "source": [
    "# 14. Create a Python program that checks if a given year is a leap year using both if-else and a\n",
    "# function."
   ]
  },
  {
   "cell_type": "code",
   "execution_count": 146,
   "id": "ffcfb2f1",
   "metadata": {},
   "outputs": [
    {
     "name": "stdout",
     "output_type": "stream",
     "text": [
      "2089 is not a leap year.\n"
     ]
    }
   ],
   "source": [
    "def is_leap_year(year):\n",
    "    if (year % 4 == 0 and year % 100 != 0) or (year % 400 == 0):\n",
    "        return True\n",
    "    else:\n",
    "        return False\n",
    "\n",
    "year = 2089\n",
    "\n",
    "if is_leap_year(year):\n",
    "    print(f\"{year} is a leap year.\")\n",
    "else:\n",
    "    print(f\"{year} is not a leap year.\")\n"
   ]
  },
  {
   "cell_type": "code",
   "execution_count": 57,
   "id": "e28c69b6",
   "metadata": {},
   "outputs": [],
   "source": [
    "# 15. How do you use the \"assert\" statement in Python to add debugging checks within if-else blocks?"
   ]
  },
  {
   "cell_type": "code",
   "execution_count": null,
   "id": "a8e9d2c5",
   "metadata": {},
   "outputs": [],
   "source": [
    "x = 5\n",
    "\n",
    "if x >= 0:\n",
    "    result = x * 2\n",
    "else:\n",
    "    result = x / 2\n",
    "\n",
    "assert result >= 0, \"Result should be non-negative.\"\n",
    "\n",
    "print(\"Result:\", result)\n"
   ]
  },
  {
   "cell_type": "code",
   "execution_count": 56,
   "id": "36164f7a",
   "metadata": {},
   "outputs": [],
   "source": [
    "# 16. Create a Python program that determines the eligibility of a person for a senior citizen discount\n",
    "# based on age using if-else."
   ]
  },
  {
   "cell_type": "code",
   "execution_count": 149,
   "id": "25751cfc",
   "metadata": {},
   "outputs": [
    {
     "name": "stdout",
     "output_type": "stream",
     "text": [
      "The person is eligible for a senior citizen discount.\n"
     ]
    }
   ],
   "source": [
    "age = 84\n",
    "\n",
    "if age >= 60:\n",
    "    print(\"The person is eligible for a senior citizen discount.\")\n",
    "else:\n",
    "    print(\"The person is not eligible for a senior citizen discount.\")\n"
   ]
  },
  {
   "cell_type": "code",
   "execution_count": 55,
   "id": "a0bf8f0a",
   "metadata": {},
   "outputs": [],
   "source": [
    "# 17. Write a Python program to categorize a given character as uppercase, lowercase, or neither\n",
    "# using if-else."
   ]
  },
  {
   "cell_type": "code",
   "execution_count": 147,
   "id": "08d2a813",
   "metadata": {},
   "outputs": [
    {
     "name": "stdout",
     "output_type": "stream",
     "text": [
      "A is an uppercase letter.\n"
     ]
    }
   ],
   "source": [
    "char = 'A'\n",
    "\n",
    "if char.isalpha():\n",
    "    if char.islower():\n",
    "        print(f\"{char} is a lowercase letter.\")\n",
    "    elif char.isupper():\n",
    "        print(f\"{char} is an uppercase letter.\")\n",
    "else:\n",
    "    print(f\"{char} is neither an uppercase nor a lowercase letter.\")\n"
   ]
  },
  {
   "cell_type": "code",
   "execution_count": 54,
   "id": "bd4ce5c6",
   "metadata": {},
   "outputs": [],
   "source": [
    "# 18. Write a Python program to determine the roots of a quadratic equation using if-else."
   ]
  },
  {
   "cell_type": "code",
   "execution_count": 150,
   "id": "a2dd7c08",
   "metadata": {},
   "outputs": [
    {
     "name": "stdout",
     "output_type": "stream",
     "text": [
      "Enter the coefficient 'a': 3\n",
      "Enter the coefficient 'b': 7\n",
      "Enter the coefficient 'c': 9\n",
      "Two complex roots:\n",
      "Root 1 = -1.1666666666666667 + 1.2801909579781012i\n",
      "Root 2 = -1.1666666666666667 - 1.2801909579781012i\n"
     ]
    }
   ],
   "source": [
    "a = float(input(\"Enter the coefficient 'a': \"))\n",
    "b = float(input(\"Enter the coefficient 'b': \"))\n",
    "c = float(input(\"Enter the coefficient 'c': \"))\n",
    "\n",
    "discriminant = b**2 - 4*a*c\n",
    "\n",
    "if discriminant > 0:\n",
    "    root1 = (-b + (discriminant ** 0.5)) / (2*a)\n",
    "    root2 = (-b - (discriminant ** 0.5)) / (2*a)\n",
    "    print(\"Two real and distinct roots:\")\n",
    "    print(f\"Root 1 = {root1}\")\n",
    "    print(f\"Root 2 = {root2}\")\n",
    "elif discriminant == 0:\n",
    "    root1 = -b / (2*a)\n",
    "    print(\"One real root (repeated):\")\n",
    "    print(f\"Root 1 = {root1}\")\n",
    "else:\n",
    "    real_part = -b / (2*a)\n",
    "    imaginary_part = ((-discriminant) ** 0.5) / (2*a)\n",
    "    print(\"Two complex roots:\")\n",
    "    print(f\"Root 1 = {real_part} + {imaginary_part}i\")\n",
    "    print(f\"Root 2 = {real_part} - {imaginary_part}i\")\n"
   ]
  },
  {
   "cell_type": "code",
   "execution_count": 53,
   "id": "46842284",
   "metadata": {},
   "outputs": [],
   "source": [
    "# 19. Create a Python program that checks if a given year is a century year or not using if-else."
   ]
  },
  {
   "cell_type": "code",
   "execution_count": 151,
   "id": "b8f7862b",
   "metadata": {},
   "outputs": [
    {
     "name": "stdout",
     "output_type": "stream",
     "text": [
      "2080 is not a century year.\n"
     ]
    }
   ],
   "source": [
    "year = 2080\n",
    "if year % 100 == 0:\n",
    "    print(f\"{year} is a century year.\")\n",
    "else:\n",
    "    print(f\"{year} is not a century year.\")\n"
   ]
  },
  {
   "cell_type": "code",
   "execution_count": 52,
   "id": "2a1456b1",
   "metadata": {},
   "outputs": [],
   "source": [
    "# 20. Write a Python program to determine if a given number is a perfect square using if-else."
   ]
  },
  {
   "cell_type": "code",
   "execution_count": 152,
   "id": "7d1d4726",
   "metadata": {},
   "outputs": [
    {
     "name": "stdout",
     "output_type": "stream",
     "text": [
      "81 is a perfect square.\n"
     ]
    }
   ],
   "source": [
    "number = 81\n",
    "\n",
    "if number >= 0:\n",
    "    square_root = int(number ** 0.5)\n",
    "    \n",
    "    if square_root * square_root == number:\n",
    "        print(f\"{number} is a perfect square.\")\n",
    "    else:\n",
    "        print(f\"{number} is not a perfect square.\")\n",
    "else:\n",
    "    print(f\"{number} is not a perfect square (negative number).\")\n"
   ]
  },
  {
   "cell_type": "code",
   "execution_count": 51,
   "id": "a80bba01",
   "metadata": {},
   "outputs": [],
   "source": [
    "# 21. Explain the purpose of the \"continue\" and \"break\" statements within if-else loops."
   ]
  },
  {
   "cell_type": "code",
   "execution_count": 153,
   "id": "e0dd2778",
   "metadata": {},
   "outputs": [
    {
     "name": "stdout",
     "output_type": "stream",
     "text": [
      "Current value of i is 1\n",
      "Current value of i is 2\n",
      "Current value of i is 4\n",
      "Current value of i is 5\n"
     ]
    }
   ],
   "source": [
    "for i in range(1, 6):\n",
    "    if i == 3:\n",
    "        continue  \n",
    "    print(f\"Current value of i is {i}\")\n"
   ]
  },
  {
   "cell_type": "code",
   "execution_count": 50,
   "id": "eb4da8f4",
   "metadata": {},
   "outputs": [],
   "source": [
    "# 22. Create a Python program that calculates the BMI (Body Mass Index) of a person based on their\n",
    "# weight and height using if-else."
   ]
  },
  {
   "cell_type": "code",
   "execution_count": 157,
   "id": "8d1aac3f",
   "metadata": {},
   "outputs": [
    {
     "name": "stdout",
     "output_type": "stream",
     "text": [
      "Enter your weight (in kilograms): 73\n",
      "Enter your height (in meters): 1.70\n",
      "Your BMI is: 25.26\n",
      "You are in the category of: Overweight\n"
     ]
    }
   ],
   "source": [
    "weight = float(input(\"Enter your weight (in kilograms): \"))\n",
    "height = float(input(\"Enter your height (in meters): \"))\n",
    "\n",
    "bmi = weight / (height * height)\n",
    "\n",
    "if bmi < 18.5:\n",
    "    category = \"Underweight\"\n",
    "elif 18.5 <= bmi < 24.9:\n",
    "    category = \"Normal Weight\"\n",
    "elif 25 <= bmi < 29.9:\n",
    "    category = \"Overweight\"\n",
    "else:\n",
    "    category = \"Obese\"\n",
    "\n",
    "print(f\"Your BMI is: {bmi:.2f}\")\n",
    "print(f\"You are in the category of: {category}\")\n"
   ]
  },
  {
   "cell_type": "code",
   "execution_count": 49,
   "id": "8343ff9e",
   "metadata": {},
   "outputs": [],
   "source": [
    "#23. How can you use the \"filter()\" function with if-else statements to filter elements from a list?"
   ]
  },
  {
   "cell_type": "code",
   "execution_count": 158,
   "id": "a02ce7e3",
   "metadata": {},
   "outputs": [
    {
     "name": "stdout",
     "output_type": "stream",
     "text": [
      "Filtered numbers: [2, 3, 4, 6, 8, 9, 10]\n"
     ]
    }
   ],
   "source": [
    "numbers = [1, 2, 3, 4, 5, 6, 7, 8, 9, 10]\n",
    "\n",
    "def is_even_or_divisible_by_3(x):\n",
    "    if x % 2 == 0 or x % 3 == 0:\n",
    "        return True\n",
    "    else:\n",
    "        return False\n",
    "\n",
    "filtered_numbers = filter(is_even_or_divisible_by_3, numbers)\n",
    "\n",
    "filtered_numbers_list = list(filtered_numbers)\n",
    "\n",
    "print(\"Filtered numbers:\", filtered_numbers_list)\n"
   ]
  },
  {
   "cell_type": "code",
   "execution_count": 48,
   "id": "db317b4b",
   "metadata": {},
   "outputs": [],
   "source": [
    "#24. Write a Python program to determine if a given number is prime or not using if-else."
   ]
  },
  {
   "cell_type": "code",
   "execution_count": 177,
   "id": "001e2b08",
   "metadata": {},
   "outputs": [
    {
     "name": "stdout",
     "output_type": "stream",
     "text": [
      "Enter a number: 81\n",
      "81 is not a prime number.\n"
     ]
    }
   ],
   "source": [
    "number = int(input(\"Enter a number: \"))\n",
    "\n",
    "if number > 1:\n",
    "    is_prime = True\n",
    "    for i in range(2, int(number ** 0.5) + 1):\n",
    "        if number % i == 0:\n",
    "            is_prime = False\n",
    "            break\n",
    "else:\n",
    "    is_prime = False\n",
    "\n",
    "if is_prime:\n",
    "    print(f\"{number} is a prime number.\")\n",
    "else:\n",
    "    print(f\"{number} is not a prime number.\")\n"
   ]
  },
  {
   "cell_type": "markdown",
   "id": "9a30dfe7",
   "metadata": {},
   "source": [
    "# Map"
   ]
  },
  {
   "cell_type": "code",
   "execution_count": 17,
   "id": "c5ab24f0",
   "metadata": {},
   "outputs": [],
   "source": [
    "# 1. Explain the purpose of the `map()` function in Python and provide an example of \n",
    "# how it can be used to apply a function to each element of an iterable."
   ]
  },
  {
   "cell_type": "code",
   "execution_count": null,
   "id": "dad146f3",
   "metadata": {},
   "outputs": [],
   "source": [
    "\"\"\"\n",
    "Map function is used to apply a function to each element in a list by iterating through all the elements in it.\n",
    "Ex:-\n",
    "l = [10,15,20,30,40]\n",
    "result = list(map(lambda x:x+2,l))\n",
    "result \n",
    "\"\"\""
   ]
  },
  {
   "cell_type": "code",
   "execution_count": 1,
   "id": "716d4d31",
   "metadata": {},
   "outputs": [
    {
     "data": {
      "text/plain": [
       "[12, 17, 22, 32, 42]"
      ]
     },
     "execution_count": 1,
     "metadata": {},
     "output_type": "execute_result"
    }
   ],
   "source": [
    "l = [10,15,20,30,40]\n",
    "result = list(map(lambda x:x+2,l))\n",
    "result "
   ]
  },
  {
   "cell_type": "code",
   "execution_count": 175,
   "id": "96cb5619",
   "metadata": {},
   "outputs": [],
   "source": [
    "# 2. Write a Python program that uses the `map()` function to square each element of a list of numbers."
   ]
  },
  {
   "cell_type": "code",
   "execution_count": 2,
   "id": "cda305f8",
   "metadata": {},
   "outputs": [
    {
     "data": {
      "text/plain": [
       "[4, 16, 36, 64, 100]"
      ]
     },
     "execution_count": 2,
     "metadata": {},
     "output_type": "execute_result"
    }
   ],
   "source": [
    "l = [2,4,6,8,10]\n",
    "square = list(map(lambda x:x**2,l))\n",
    "square"
   ]
  },
  {
   "cell_type": "code",
   "execution_count": 174,
   "id": "4eaba8e6",
   "metadata": {},
   "outputs": [],
   "source": [
    "# 3. How does the `map()` function differ from a list comprehension in Python, and \n",
    "# when would you choose one over the other?"
   ]
  },
  {
   "cell_type": "code",
   "execution_count": null,
   "id": "177a361d",
   "metadata": {},
   "outputs": [],
   "source": [
    " \"\"\"List comprehension & map() are used for similar purposes. Only difference is the syntax of using it. \n",
    "In map() the return type is map object while in list comprehension the return type is a list.\n",
    "When there is a simple operation we can use list comprehension to it and also it is more readable.\"\"\""
   ]
  },
  {
   "cell_type": "code",
   "execution_count": 172,
   "id": "c14b7a3f",
   "metadata": {},
   "outputs": [],
   "source": [
    "# 4. Create a Python program that uses the `map()` function to convert a list of names to uppercase."
   ]
  },
  {
   "cell_type": "code",
   "execution_count": 6,
   "id": "4712bfe7",
   "metadata": {},
   "outputs": [
    {
     "data": {
      "text/plain": [
       "['SRINIVAS', 'PWSKILLS', 'DATA SCIENTIST']"
      ]
     },
     "execution_count": 6,
     "metadata": {},
     "output_type": "execute_result"
    }
   ],
   "source": [
    "l = [\"srinivas\",\"pwskills\",\"data scientist\"]\n",
    "upper = list(map(lambda x: x.upper(),l))\n",
    "upper"
   ]
  },
  {
   "cell_type": "code",
   "execution_count": 171,
   "id": "0f5da910",
   "metadata": {},
   "outputs": [],
   "source": [
    "# 5. Write a Python program that uses the `map()` function to calculate the length of each word in a\n",
    "# list of strings."
   ]
  },
  {
   "cell_type": "code",
   "execution_count": 8,
   "id": "cb87f037",
   "metadata": {},
   "outputs": [
    {
     "data": {
      "text/plain": [
       "[4, 5]"
      ]
     },
     "execution_count": 8,
     "metadata": {},
     "output_type": "execute_result"
    }
   ],
   "source": [
    "l = [\"srinivas pwskills data scientist\",\"I am a data scientist\"]\n",
    "def length(s):\n",
    "    list_word = s.split(\" \")\n",
    "    length = len(list_word)\n",
    "    \n",
    "length = list(map(lambda x:len(x.split(\" \")),l))\n",
    "length"
   ]
  },
  {
   "cell_type": "code",
   "execution_count": 170,
   "id": "48f30506",
   "metadata": {},
   "outputs": [],
   "source": [
    "# 6. How can you use the `map()` function to apply a custom function to \n",
    "# elements of multiple lists simultaneously in Python?"
   ]
  },
  {
   "cell_type": "code",
   "execution_count": 10,
   "id": "d386ed5e",
   "metadata": {},
   "outputs": [
    {
     "data": {
      "text/plain": [
       "[5, 7, 9]"
      ]
     },
     "execution_count": 10,
     "metadata": {},
     "output_type": "execute_result"
    }
   ],
   "source": [
    "def add_elements(x, y):\n",
    "    return x + y\n",
    "l1 = [1, 2, 3]\n",
    "l2 = [4, 5, 6]\n",
    "\n",
    "result = list(map(add_elements, l1, l2))\n",
    "result"
   ]
  },
  {
   "cell_type": "code",
   "execution_count": 169,
   "id": "56fdcd00",
   "metadata": {},
   "outputs": [],
   "source": [
    "# 7. Create a Python program that uses `map()` to convert a list of temperatures from Celsius to Fahrenheit."
   ]
  },
  {
   "cell_type": "code",
   "execution_count": 14,
   "id": "8900ff4c",
   "metadata": {},
   "outputs": [
    {
     "data": {
      "text/plain": [
       "[75.2, 82.4, 84.2, 91.4, 64.4, 68.0, 100.4]"
      ]
     },
     "execution_count": 14,
     "metadata": {},
     "output_type": "execute_result"
    }
   ],
   "source": [
    "list_temp = [24,28,29,33,18,20,38]\n",
    "far = list(map(lambda x:(x*9/5)+32,list_temp))\n",
    "far"
   ]
  },
  {
   "cell_type": "code",
   "execution_count": 168,
   "id": "14ccd02e",
   "metadata": {},
   "outputs": [],
   "source": [
    "# 8. Write a Python program that uses the `map()` function to round each element of a \n",
    "# list of floating-point numbers to the nearest integer."
   ]
  },
  {
   "cell_type": "code",
   "execution_count": 16,
   "id": "a4b3bc01",
   "metadata": {},
   "outputs": [
    {
     "data": {
      "text/plain": [
       "[35, 46, 47, 23]"
      ]
     },
     "execution_count": 16,
     "metadata": {},
     "output_type": "execute_result"
    }
   ],
   "source": [
    "l = [34.657,45.89,46.97,23.45]\n",
    "rounded = list(map(lambda x: round(x),l))\n",
    "rounded"
   ]
  },
  {
   "cell_type": "markdown",
   "id": "88630bbb",
   "metadata": {},
   "source": [
    "# Reduce"
   ]
  },
  {
   "cell_type": "code",
   "execution_count": 191,
   "id": "a13eb96d",
   "metadata": {},
   "outputs": [],
   "source": [
    "# 1. What is the `reduce()` function in Python, and what module should you import to use it? Provide an example of its basic usage."
   ]
  },
  {
   "cell_type": "code",
   "execution_count": null,
   "id": "0e77a985",
   "metadata": {},
   "outputs": [],
   "source": [
    "\"\"\"\n",
    "Reduce is used to reduce an iterable to a single value based on the cumulative operation.\n",
    "Ex:-\n",
    "from functools import reduce\n",
    "l = [2,3,2,4]\n",
    "from functools import reduce\n",
    "reduce(lambda a,b : a*b , l)\n",
    "\n",
    "\"\"\""
   ]
  },
  {
   "cell_type": "code",
   "execution_count": 190,
   "id": "65a49912",
   "metadata": {},
   "outputs": [],
   "source": [
    "# 2. Write a Python program that uses the `reduce()` function to find the product of all elements in a list."
   ]
  },
  {
   "cell_type": "code",
   "execution_count": 18,
   "id": "db7d5541",
   "metadata": {},
   "outputs": [
    {
     "data": {
      "text/plain": [
       "76800"
      ]
     },
     "execution_count": 18,
     "metadata": {},
     "output_type": "execute_result"
    }
   ],
   "source": [
    "from functools import reduce\n",
    "l = [2,4,6,8,10,20]\n",
    "product = reduce(lambda a,b : a*b,l)\n",
    "product"
   ]
  },
  {
   "cell_type": "code",
   "execution_count": 189,
   "id": "39e5e394",
   "metadata": {},
   "outputs": [],
   "source": [
    "# 3. Create a Python program that uses `reduce()` to find the maximum element in a list of numbers."
   ]
  },
  {
   "cell_type": "code",
   "execution_count": 19,
   "id": "76f6a9b1",
   "metadata": {},
   "outputs": [
    {
     "data": {
      "text/plain": [
       "20"
      ]
     },
     "execution_count": 19,
     "metadata": {},
     "output_type": "execute_result"
    }
   ],
   "source": [
    "from functools import reduce\n",
    "l = [2,4,6,8,10,20]\n",
    "highest = reduce(lambda a,b : a if a>b else b,l)\n",
    "highest"
   ]
  },
  {
   "cell_type": "code",
   "execution_count": 188,
   "id": "4d18e314",
   "metadata": {},
   "outputs": [],
   "source": [
    "# 4. How can you use the `reduce()` function to concatenate a list of strings into a single string?"
   ]
  },
  {
   "cell_type": "code",
   "execution_count": 21,
   "id": "5aaa880d",
   "metadata": {},
   "outputs": [
    {
     "data": {
      "text/plain": [
       "'srinivas pwskills data scientist'"
      ]
     },
     "execution_count": 21,
     "metadata": {},
     "output_type": "execute_result"
    }
   ],
   "source": [
    "from functools import reduce\n",
    "l = [\"srinivas\",\"pwskills\",\"data scientist\"]\n",
    "concat = reduce(lambda a,b : a+\" \"+b,l)\n",
    "concat\n"
   ]
  },
  {
   "cell_type": "code",
   "execution_count": 187,
   "id": "3f0d6188",
   "metadata": {},
   "outputs": [],
   "source": [
    "# 5. Write a Python program that calculates the factorial of a number using the `reduce()` function."
   ]
  },
  {
   "cell_type": "code",
   "execution_count": 23,
   "id": "fc4204b6",
   "metadata": {},
   "outputs": [
    {
     "data": {
      "text/plain": [
       "120"
      ]
     },
     "execution_count": 23,
     "metadata": {},
     "output_type": "execute_result"
    }
   ],
   "source": [
    "from functools import reduce\n",
    "\n",
    "num = 5\n",
    "fact = reduce(lambda x,y:x*y,range(1,num+1,1))\n",
    "fact"
   ]
  },
  {
   "cell_type": "code",
   "execution_count": 186,
   "id": "27b1207f",
   "metadata": {},
   "outputs": [],
   "source": [
    "# 6. Create a Python program that uses `reduce()` to find the GCD (Greatest Common Divisor) of a list\n",
    "# of numbers."
   ]
  },
  {
   "cell_type": "code",
   "execution_count": 25,
   "id": "b6f9b144",
   "metadata": {},
   "outputs": [
    {
     "data": {
      "text/plain": [
       "4"
      ]
     },
     "execution_count": 25,
     "metadata": {},
     "output_type": "execute_result"
    }
   ],
   "source": [
    "from functools import reduce\n",
    "\n",
    "l = [20,16,32,40,60]\n",
    "def find_gcd(x, y):\n",
    "    while y:\n",
    "        x, y = y, x % y\n",
    "    return abs(x)\n",
    "gcd = reduce(find_gcd,l )\n",
    "gcd"
   ]
  },
  {
   "cell_type": "code",
   "execution_count": 185,
   "id": "df709d05",
   "metadata": {},
   "outputs": [],
   "source": [
    "# 7. Write a Python program that uses the `reduce()` function to find the sum of the digits of a given\n",
    "# number."
   ]
  },
  {
   "cell_type": "code",
   "execution_count": 28,
   "id": "340aa331",
   "metadata": {},
   "outputs": [
    {
     "data": {
      "text/plain": [
       "14"
      ]
     },
     "execution_count": 28,
     "metadata": {},
     "output_type": "execute_result"
    }
   ],
   "source": [
    "from functools import reduce\n",
    "num = 2345\n",
    "sum_digits = reduce(lambda a,b : int(a)+int(b),str(num))\n",
    "sum_digits"
   ]
  },
  {
   "cell_type": "markdown",
   "id": "7ece17d7",
   "metadata": {},
   "source": [
    "# Filter"
   ]
  },
  {
   "cell_type": "code",
   "execution_count": 204,
   "id": "c1fa6ae3",
   "metadata": {},
   "outputs": [],
   "source": [
    "# 1. Explain the purpose of the `filter()` function in Python and provide an example of \n",
    "# how it can be used to filter elements from an iterable."
   ]
  },
  {
   "cell_type": "code",
   "execution_count": 29,
   "id": "de053cb9",
   "metadata": {},
   "outputs": [
    {
     "data": {
      "text/plain": [
       "'\\nfilter function in python is ised for filtering out the information from an iterable based on the condition \\nor the operation.\\nEx:-\\nl = [\"pw\",\"pwskills\",\"srinivas\",\\'krish\\']\\nlist(filter(lambda a : len(a)<=5,l))\\n'"
      ]
     },
     "execution_count": 29,
     "metadata": {},
     "output_type": "execute_result"
    }
   ],
   "source": [
    "\"\"\"\n",
    "filter function in python is used for filtering out the information/data from an iterable based on the condition \n",
    "or the operation.\n",
    "Ex:-\n",
    "l = [\"pw\",\"pwskills\",\"srinivas\",'krish']\n",
    "list(filter(lambda a : len(a)<=5,l))\n",
    "\"\"\""
   ]
  },
  {
   "cell_type": "code",
   "execution_count": 203,
   "id": "683e750f",
   "metadata": {},
   "outputs": [],
   "source": [
    "# 2. Write a Python program that uses the `filter()` function to select even numbers from a list of integers."
   ]
  },
  {
   "cell_type": "code",
   "execution_count": 32,
   "id": "cdecc4ad",
   "metadata": {},
   "outputs": [
    {
     "data": {
      "text/plain": [
       "[2, 4, 6, 8, 10]"
      ]
     },
     "execution_count": 32,
     "metadata": {},
     "output_type": "execute_result"
    }
   ],
   "source": [
    "l = [2,3,4,5,6,7,8,9,10]\n",
    "even = list(filter(lambda x:x%2==0,l))\n",
    "even"
   ]
  },
  {
   "cell_type": "code",
   "execution_count": 205,
   "id": "0979f220",
   "metadata": {},
   "outputs": [],
   "source": [
    "# 3.Create a Python program that uses the `filter()` function to select names that start with a specific letter\n",
    "# from a list of strings."
   ]
  },
  {
   "cell_type": "code",
   "execution_count": 33,
   "id": "500b76c6",
   "metadata": {},
   "outputs": [
    {
     "data": {
      "text/plain": [
       "['srinivas', 'scientist']"
      ]
     },
     "execution_count": 33,
     "metadata": {},
     "output_type": "execute_result"
    }
   ],
   "source": [
    "l = [\"srinivas\",\"pwskills\",\"data\", \"scientist\"]\n",
    "names = list(filter(lambda x:x.startswith('s'),l))\n",
    "names"
   ]
  },
  {
   "cell_type": "code",
   "execution_count": 201,
   "id": "44cad22c",
   "metadata": {},
   "outputs": [],
   "source": [
    "# 4. Write a Python program that uses the `filter()` function to select prime numbers from a list of integers."
   ]
  },
  {
   "cell_type": "code",
   "execution_count": 44,
   "id": "1224f5c5",
   "metadata": {},
   "outputs": [
    {
     "data": {
      "text/plain": [
       "[13, 41, 11]"
      ]
     },
     "execution_count": 44,
     "metadata": {},
     "output_type": "execute_result"
    }
   ],
   "source": [
    "l=[4,6,9,13,41,51,11]\n",
    "def is_prime(num):\n",
    "    if num < 2:\n",
    "        return False\n",
    "    for i in range(2, int(num**0.5) + 1):\n",
    "        if num % i == 0:\n",
    "            return False\n",
    "    return True\n",
    "prime = list(filter(lambda num:is_prime(num),l))\n",
    "prime"
   ]
  },
  {
   "cell_type": "code",
   "execution_count": 200,
   "id": "312d748d",
   "metadata": {},
   "outputs": [],
   "source": [
    "# 5. How can you use the `filter()` function to remove None values from a list in Python?"
   ]
  },
  {
   "cell_type": "code",
   "execution_count": 45,
   "id": "f170c14e",
   "metadata": {},
   "outputs": [
    {
     "data": {
      "text/plain": [
       "[23, 67, 90, 34, 'srinivas']"
      ]
     },
     "execution_count": 45,
     "metadata": {},
     "output_type": "execute_result"
    }
   ],
   "source": [
    "l = [None,23,67,90,None,34,\"srinivas\"]\n",
    "values = list(filter(lambda x:x!=None,l))\n",
    "values"
   ]
  },
  {
   "cell_type": "code",
   "execution_count": 199,
   "id": "4f5bce33",
   "metadata": {},
   "outputs": [],
   "source": [
    "# 6. Create a Python program that uses `filter()` to select words longer than a certain length from a\n",
    "# list of strings."
   ]
  },
  {
   "cell_type": "code",
   "execution_count": 47,
   "id": "9a593e49",
   "metadata": {},
   "outputs": [
    {
     "data": {
      "text/plain": [
       "['srinivas', 'pwskills', 'datascience']"
      ]
     },
     "execution_count": 47,
     "metadata": {},
     "output_type": "execute_result"
    }
   ],
   "source": [
    "l = [\"srinivas\",\"padhy\",\"pwskills\",\"bigdata\",\"datascience\"]\n",
    "longer = list(filter(lambda x:len(x)>7,l))\n",
    "longer"
   ]
  },
  {
   "cell_type": "code",
   "execution_count": 198,
   "id": "d30bf618",
   "metadata": {},
   "outputs": [],
   "source": [
    "# 7. Write a Python program that uses the `filter()` function to select elements greater than a \n",
    "# specified threshold from a list of values."
   ]
  },
  {
   "cell_type": "code",
   "execution_count": 48,
   "id": "fdd963c7",
   "metadata": {},
   "outputs": [
    {
     "data": {
      "text/plain": [
       "[67, 567, 89, 234, 987, 90, 643, 869]"
      ]
     },
     "execution_count": 48,
     "metadata": {},
     "output_type": "execute_result"
    }
   ],
   "source": [
    "l = [45,67,8,34,5,6,7,8,9,2,3,4,567,89,234,987,90,643,869]\n",
    "thres = list(filter(lambda x:x>50,l))\n",
    "thres"
   ]
  },
  {
   "cell_type": "markdown",
   "id": "deca3b7d",
   "metadata": {},
   "source": [
    "# Recursion:-\n"
   ]
  },
  {
   "cell_type": "code",
   "execution_count": 226,
   "id": "1ea3abcd",
   "metadata": {},
   "outputs": [],
   "source": [
    "# 1. Explain the concept of recursion in Python. How does it differ from iteration?"
   ]
  },
  {
   "cell_type": "code",
   "execution_count": null,
   "id": "85c3920c",
   "metadata": {},
   "outputs": [],
   "source": [
    "\"\"\"\n",
    "Recursion is calling the function itself again and again within the same function. \n",
    "While Iteration is running through a loop to perform the same task.\n",
    "\"\"\""
   ]
  },
  {
   "cell_type": "code",
   "execution_count": 225,
   "id": "94b70819",
   "metadata": {},
   "outputs": [],
   "source": [
    "# 2. Write a Python program to calculate the factorial of a number using recursion."
   ]
  },
  {
   "cell_type": "code",
   "execution_count": null,
   "id": "d82a5d75",
   "metadata": {},
   "outputs": [],
   "source": [
    "def calculate_factorial(n):\n",
    "    if n == 0 or n == 1:\n",
    "        return 1\n",
    "    else:\n",
    "        return n * calculate_factorial(n-1)\n",
    "\n",
    "number = 5\n",
    "factorial_result = calculate_factorial(number)\n",
    "print(f\"The factorial of {number} is: {factorial_result}\")"
   ]
  },
  {
   "cell_type": "code",
   "execution_count": 224,
   "id": "3257060b",
   "metadata": {},
   "outputs": [],
   "source": [
    "# 3. Create a recursive Python function to find the nth Fibonacci number."
   ]
  },
  {
   "cell_type": "code",
   "execution_count": null,
   "id": "51e9cca3",
   "metadata": {},
   "outputs": [],
   "source": [
    "def fibonacci(n):\n",
    "    if n <= 1:\n",
    "        return n\n",
    "    else:\n",
    "        return fibonacci(n-1) + fibonacci(n-2)\n",
    "\n",
    "nth_fibonacci = fibonacci(5)\n",
    "print(f\"The 5th Fibonacci number is: {nth_fibonacci}\")\n"
   ]
  },
  {
   "cell_type": "code",
   "execution_count": 223,
   "id": "59160029",
   "metadata": {},
   "outputs": [],
   "source": [
    "# 4. Write a recursive Python function to calculate the sum of all elements in a list."
   ]
  },
  {
   "cell_type": "code",
   "execution_count": null,
   "id": "5cdc8ce9",
   "metadata": {},
   "outputs": [],
   "source": [
    "def calculate_list_sum(lst):\n",
    "    if not lst:\n",
    "        return 0\n",
    "    else:\n",
    "        return lst[0] + calculate_list_sum(lst[1:])\n",
    "\n",
    "my_list = [1, 2, 3, 4, 5]\n",
    "sum_result = calculate_list_sum(my_list)\n",
    "print(f\"The sum of the elements in the list is: {sum_result}\")"
   ]
  },
  {
   "cell_type": "code",
   "execution_count": 222,
   "id": "2f27d9d2",
   "metadata": {},
   "outputs": [],
   "source": [
    "# 5. How can you prevent a recursive function from running indefinitely, causing a stack overflow\n",
    "# error?"
   ]
  },
  {
   "cell_type": "raw",
   "id": "a4755784",
   "metadata": {},
   "source": [
    "Preventing a recursive function from running indefinitely and causing a stack overflow error involves implementing a termination condition within the function. A termination condition is a logical check that, when satisfied, stops the recursion and prevents further calls.\n",
    "\n",
    "Here are some general steps to prevent infinite recursion:\n",
    "\n",
    "Base Case:\n",
    "\n",
    "Define a base case that signifies when the function should stop calling itself. This is a condition that, when met, prevents further recursion.\n",
    "\n",
    "Ensure Progress Towards the Base Case:\n",
    "\n",
    "Ensure that the recursive calls move closer to the base case with each iteration. This ensures that the termination condition will eventually be met.\n",
    "\n",
    "Check Input Validity:\n",
    "\n",
    "Validate input parameters to the recursive function to avoid unintentional infinite recursion."
   ]
  },
  {
   "cell_type": "code",
   "execution_count": 221,
   "id": "c1a807e2",
   "metadata": {},
   "outputs": [],
   "source": [
    "# 6. Create a recursive Python function to find the greatest common divisor (GCD) of two numbers\n",
    "# using the Euclidean algorithm."
   ]
  },
  {
   "cell_type": "code",
   "execution_count": null,
   "id": "9ce4f533",
   "metadata": {},
   "outputs": [],
   "source": [
    "def gcd(a, b):\n",
    "    # Base case\n",
    "    if b == 0:\n",
    "        return a\n",
    "    else:\n",
    "        return gcd(b, a % b)\n",
    "num1 = 48\n",
    "num2 = 18\n",
    "result = gcd(num1, num2)\n",
    "print(f\"The GCD of {num1} and {num2} is {result}\")\n"
   ]
  },
  {
   "cell_type": "code",
   "execution_count": 220,
   "id": "432b7025",
   "metadata": {},
   "outputs": [],
   "source": [
    "# 7. Write a recursive Python function to reverse a string."
   ]
  },
  {
   "cell_type": "code",
   "execution_count": null,
   "id": "7712299b",
   "metadata": {},
   "outputs": [],
   "source": [
    "def reverse_string(input_str):\n",
    "    if len(input_str) <= 1:\n",
    "        return input_str\n",
    "    else:\n",
    "        return reverse_string(input_str[1:]) + input_str[0]\n",
    "\n",
    "original_string = \"Hello, World!\"\n",
    "reversed_string = reverse_string(original_string)\n",
    "print(f\"Original String: {original_string}\")\n",
    "print(f\"Reversed String: {reversed_string}\")\n"
   ]
  },
  {
   "cell_type": "code",
   "execution_count": 219,
   "id": "00a58a83",
   "metadata": {},
   "outputs": [],
   "source": [
    "# 8. Create a recursive Python function to calculate the power of a number (x^n)."
   ]
  },
  {
   "cell_type": "code",
   "execution_count": null,
   "id": "795336ad",
   "metadata": {},
   "outputs": [],
   "source": [
    "def power(x, n):\n",
    "    # Base case: x^0 is always 1\n",
    "    if n == 0:\n",
    "        return 1\n",
    "    else:\n",
    "        # Recursive call: x^n = x * x^(n-1)\n",
    "        return x * power(x, n - 1)\n",
    "\n",
    "# Example usage\n",
    "base = 2\n",
    "exponent = 5\n",
    "result = power(base, exponent)\n",
    "\n",
    "print(f\"{base}^{exponent} is equal to {result}\")\n"
   ]
  },
  {
   "cell_type": "code",
   "execution_count": 218,
   "id": "19fb20bc",
   "metadata": {},
   "outputs": [],
   "source": [
    "# 9. Write a recursive Python function to find all permutations of a given string."
   ]
  },
  {
   "cell_type": "code",
   "execution_count": null,
   "id": "6f7e3eac",
   "metadata": {},
   "outputs": [],
   "source": [
    "def get_permutations(input_str):\n",
    "    if len(input_str) <= 1:\n",
    "        return [input_str]\n",
    "    \n",
    "    permutations = []\n",
    "    \n",
    "    for i in range(len(input_str)):\n",
    "        fixed_char = input_str[i]\n",
    "        remaining_chars = input_str[:i] + input_str[i+1:]\n",
    "        \n",
    "        for perm in get_permutations(remaining_chars):\n",
    "            permutations.append(fixed_char + perm)\n",
    "\n",
    "    return permutations\n",
    "\n",
    "input_string = \"abc\"\n",
    "result = get_permutations(input_string)\n",
    "\n",
    "print(f\"Permutations of '{input_string}': {result}\")\n"
   ]
  },
  {
   "cell_type": "code",
   "execution_count": 217,
   "id": "7a082510",
   "metadata": {},
   "outputs": [],
   "source": [
    "# 10. Write a recursive Python function to check if a string is a palindrome."
   ]
  },
  {
   "cell_type": "code",
   "execution_count": null,
   "id": "fbc9c1ec",
   "metadata": {},
   "outputs": [],
   "source": [
    "def is_palindrome(input_str):\n",
    "    if len(input_str) <= 1:\n",
    "        return True\n",
    "    elif input_str[0] == input_str[-1]:\n",
    "        return is_palindrome(input_str[1:-1])\n",
    "    else:\n",
    "        return False\n",
    "\n",
    "palindrome_str = \"radar\"\n",
    "non_palindrome_str = \"hello\"\n",
    "\n",
    "print(f\"Is '{palindrome_str}' a palindrome? {is_palindrome(palindrome_str)}\")\n",
    "print(f\"Is '{non_palindrome_str}' a palindrome? {is_palindrome(non_palindrome_str)}\")\n"
   ]
  },
  {
   "cell_type": "code",
   "execution_count": 216,
   "id": "1eed9027",
   "metadata": {},
   "outputs": [],
   "source": [
    "# 11. Create a recursive Python function to generate all possible combinations of a list of elements."
   ]
  },
  {
   "cell_type": "code",
   "execution_count": null,
   "id": "ebd4826d",
   "metadata": {},
   "outputs": [],
   "source": [
    "def get_combinations(elements):\n",
    "    if not elements:\n",
    "        return [[]]\n",
    "    \n",
    "    combinations_without_first = get_combinations(elements[1:])\n",
    "    \n",
    "    combinations = combinations_without_first\n",
    "    \n",
    "    for combo in combinations_without_first:\n",
    "        combinations.append([elements[0]] + combo)\n",
    "    \n",
    "    return combinations\n",
    "\n",
    "input_list = [1, 2, 3]\n",
    "result = get_combinations(input_list)\n",
    "\n",
    "print(f\"Combinations of {input_list}: {result}\")\n"
   ]
  },
  {
   "cell_type": "markdown",
   "id": "e7cf53af",
   "metadata": {},
   "source": [
    "# Basics Of Function"
   ]
  },
  {
   "cell_type": "code",
   "execution_count": 237,
   "id": "8600e985",
   "metadata": {},
   "outputs": [],
   "source": [
    "# 1. What is a function in Python, and why is it used?"
   ]
  },
  {
   "cell_type": "raw",
   "id": "c43f67e8",
   "metadata": {},
   "source": [
    "ANS :- function is a block of reusable code that performs a specific task or set of tasks. \n",
    "Functions provide a way to organize code into logical, \n",
    "modular units, making the code more readable, maintainable, and reusable."
   ]
  },
  {
   "cell_type": "code",
   "execution_count": 236,
   "id": "30c21fe6",
   "metadata": {},
   "outputs": [],
   "source": [
    "# 2. How do you define a function in Python? Provide an example."
   ]
  },
  {
   "cell_type": "raw",
   "id": "7292911b",
   "metadata": {},
   "source": [
    "def func_name():\n",
    "    ---\n",
    "    ---\n",
    "    ---\n"
   ]
  },
  {
   "cell_type": "code",
   "execution_count": 235,
   "id": "49106333",
   "metadata": {},
   "outputs": [],
   "source": [
    "# 3. Explain the difference between a function definition and a function call."
   ]
  },
  {
   "cell_type": "raw",
   "id": "360f4b04",
   "metadata": {},
   "source": [
    "Function Definition is used to define a function and the main implementation of the code is written inside it.\n",
    "While function call is used to call the function to execute it."
   ]
  },
  {
   "cell_type": "code",
   "execution_count": 234,
   "id": "402b3f4a",
   "metadata": {},
   "outputs": [],
   "source": [
    "# 4. Write a Python program that defines a function to calculate the sum of two numbers and then\n",
    "# calls the function."
   ]
  },
  {
   "cell_type": "code",
   "execution_count": 51,
   "id": "093d2983",
   "metadata": {},
   "outputs": [
    {
     "data": {
      "text/plain": [
       "30"
      ]
     },
     "execution_count": 51,
     "metadata": {},
     "output_type": "execute_result"
    }
   ],
   "source": [
    "def sum_of_two(a,b):\n",
    "    return a+b\n",
    "sum_of_two(10,20)"
   ]
  },
  {
   "cell_type": "code",
   "execution_count": 233,
   "id": "2b6e493a",
   "metadata": {},
   "outputs": [],
   "source": [
    "# 5. What is a function signature, and what information does it typically include?"
   ]
  },
  {
   "cell_type": "raw",
   "id": "8a06ee9e",
   "metadata": {},
   "source": [
    "A function signature in Python refers to the declaration of a function, which includes essential information about the function's name, parameters, and return type. The function signature provides a concise summary of how the function should be called and what it does. "
   ]
  },
  {
   "cell_type": "code",
   "execution_count": 232,
   "id": "8b6fb2d3",
   "metadata": {},
   "outputs": [],
   "source": [
    "# 6. Create a Python function that takes two arguments and returns their product."
   ]
  },
  {
   "cell_type": "code",
   "execution_count": 52,
   "id": "a967c6d3",
   "metadata": {},
   "outputs": [
    {
     "data": {
      "text/plain": [
       "200"
      ]
     },
     "execution_count": 52,
     "metadata": {},
     "output_type": "execute_result"
    }
   ],
   "source": [
    "def product_of_two(a,b):\n",
    "    return a*b\n",
    "product_of_two(10,20)"
   ]
  },
  {
   "cell_type": "markdown",
   "id": "5470119c",
   "metadata": {},
   "source": [
    "# Function Parameters and Arguments:"
   ]
  },
  {
   "cell_type": "code",
   "execution_count": 246,
   "id": "3898939a",
   "metadata": {},
   "outputs": [],
   "source": [
    "# 1. Explain the concepts of formal parameters and actual arguments in Python functions."
   ]
  },
  {
   "cell_type": "raw",
   "id": "7f0f90c4",
   "metadata": {},
   "source": [
    "Formal Parameters are used during in the function definition, while actual arguments are used during the function call."
   ]
  },
  {
   "cell_type": "code",
   "execution_count": 245,
   "id": "28fb1563",
   "metadata": {},
   "outputs": [],
   "source": [
    "# 2. Write a Python program that defines a function with default argument values."
   ]
  },
  {
   "cell_type": "code",
   "execution_count": 54,
   "id": "c2f94ede",
   "metadata": {},
   "outputs": [
    {
     "data": {
      "text/plain": [
       "30"
      ]
     },
     "execution_count": 54,
     "metadata": {},
     "output_type": "execute_result"
    }
   ],
   "source": [
    "def default(x=10,y=20):\n",
    "    return x+y\n",
    "default()"
   ]
  },
  {
   "cell_type": "code",
   "execution_count": 244,
   "id": "9add2370",
   "metadata": {},
   "outputs": [],
   "source": [
    "# 3. How do you use keyword arguments in Python function calls? Provide an example."
   ]
  },
  {
   "cell_type": "code",
   "execution_count": 55,
   "id": "6cf89213",
   "metadata": {},
   "outputs": [
    {
     "data": {
      "text/plain": [
       "80"
      ]
     },
     "execution_count": 55,
     "metadata": {},
     "output_type": "execute_result"
    }
   ],
   "source": [
    "def key_word(x,y):\n",
    "    return x+y\n",
    "default(y=50,x=30)"
   ]
  },
  {
   "cell_type": "code",
   "execution_count": 243,
   "id": "452dc023",
   "metadata": {},
   "outputs": [],
   "source": [
    "# 4. Create a Python function that accepts a variable number of arguments and calculates their sum."
   ]
  },
  {
   "cell_type": "code",
   "execution_count": 56,
   "id": "744bd7c3",
   "metadata": {},
   "outputs": [
    {
     "data": {
      "text/plain": [
       "114"
      ]
     },
     "execution_count": 56,
     "metadata": {},
     "output_type": "execute_result"
    }
   ],
   "source": [
    "def variable(*args):\n",
    "    sum_digits=0\n",
    "    for i in args:\n",
    "        sum_digits+=i\n",
    "    return sum_digits\n",
    "variable(34,56,7,8,9)"
   ]
  },
  {
   "cell_type": "code",
   "execution_count": 242,
   "id": "d878b8a3",
   "metadata": {},
   "outputs": [],
   "source": [
    "# 5. What is the purpose of the `*args` and `**kwargs` syntax in function parameter lists?"
   ]
  },
  {
   "cell_type": "raw",
   "id": "78d6f93f",
   "metadata": {},
   "source": [
    "*args refers to the varaible number of arguments but no key, its arbitrary. But **kwargs refers to the varaible number of arguments with key and value pair."
   ]
  },
  {
   "cell_type": "markdown",
   "id": "41f83d04",
   "metadata": {},
   "source": [
    "# Return Values and Scoping:"
   ]
  },
  {
   "cell_type": "code",
   "execution_count": 255,
   "id": "f7df4a3b",
   "metadata": {},
   "outputs": [],
   "source": [
    "# 1. Describe the role of the `return` statement in Python functions and provide examples."
   ]
  },
  {
   "cell_type": "raw",
   "id": "14ac732f",
   "metadata": {},
   "source": [
    "return in python function is used to return a value after the function has done its assigned operation.\n",
    "def example(a,b):\n",
    "    return a+b\n",
    "Here return returns the addition of two numbers after the operation is successful."
   ]
  },
  {
   "cell_type": "code",
   "execution_count": 254,
   "id": "a36f0d6c",
   "metadata": {},
   "outputs": [],
   "source": [
    "# 2. Explain the concept of variable scope in Python, including local and global variables."
   ]
  },
  {
   "cell_type": "raw",
   "id": "1de381e2",
   "metadata": {},
   "source": [
    "local scope is limited to where the variable is declared, for ex:- if the variable is declared inside a class or a function it cannot be used outside of it.While global variable irespective of where it is declared , anywhere it can be used . It is declared with a global keyword"
   ]
  },
  {
   "cell_type": "code",
   "execution_count": 251,
   "id": "5ce4f3e7",
   "metadata": {},
   "outputs": [],
   "source": [
    "# 3. Write a Python program that demonstrates the use of global variables within functions."
   ]
  },
  {
   "cell_type": "code",
   "execution_count": 103,
   "id": "b81af930",
   "metadata": {},
   "outputs": [
    {
     "name": "stdout",
     "output_type": "stream",
     "text": [
      "srinivas\n"
     ]
    }
   ],
   "source": [
    "def example(x):\n",
    "    global name\n",
    "    name = \"srinivas\"\n",
    "example(10)\n",
    "print(name)"
   ]
  },
  {
   "cell_type": "code",
   "execution_count": 252,
   "id": "54c67437",
   "metadata": {},
   "outputs": [],
   "source": [
    "# 4. Create a Python function that calculates the factorial of a number and returns it."
   ]
  },
  {
   "cell_type": "code",
   "execution_count": 104,
   "id": "3cfbb6cc",
   "metadata": {},
   "outputs": [
    {
     "data": {
      "text/plain": [
       "120"
      ]
     },
     "execution_count": 104,
     "metadata": {},
     "output_type": "execute_result"
    }
   ],
   "source": [
    "def fact(n):\n",
    "    f=1\n",
    "    for i in range(1,n+1,1):\n",
    "        f*=i\n",
    "    return f\n",
    "fact(5)"
   ]
  },
  {
   "cell_type": "code",
   "execution_count": 253,
   "id": "6f294cf5",
   "metadata": {},
   "outputs": [],
   "source": [
    "# 5. How can you access variables defined outside a function from within the function?"
   ]
  },
  {
   "cell_type": "code",
   "execution_count": 135,
   "id": "cdeca3ac",
   "metadata": {},
   "outputs": [
    {
     "name": "stdout",
     "output_type": "stream",
     "text": [
      "10\n"
     ]
    }
   ],
   "source": [
    "global x \n",
    "x = 10\n",
    "def func(n):\n",
    "    print(x)\n",
    "func(2)"
   ]
  },
  {
   "cell_type": "markdown",
   "id": "b8c5188d",
   "metadata": {},
   "source": [
    "# Lambda Functions and Higher-Order Functions:"
   ]
  },
  {
   "cell_type": "code",
   "execution_count": 262,
   "id": "6d3f29f6",
   "metadata": {},
   "outputs": [],
   "source": [
    "# 1. What are lambda functions in Python, and when are they typically used?"
   ]
  },
  {
   "cell_type": "raw",
   "id": "b5eb7309",
   "metadata": {},
   "source": [
    "lambda function is a small anonymous function defined using the lambda keyword. Lambda functions are also known as anonymous functions because they don't have a name like regular functions defined using the def keyword.Lambda functions are typically used for short, simple operations where a full function definition using def would be unnecessarily "
   ]
  },
  {
   "cell_type": "code",
   "execution_count": 261,
   "id": "47014fae",
   "metadata": {},
   "outputs": [],
   "source": [
    "# 2. Write a Python program that uses lambda functions to sort a list of tuples based on the second\n",
    "# element."
   ]
  },
  {
   "cell_type": "code",
   "execution_count": 136,
   "id": "99ba5b65",
   "metadata": {},
   "outputs": [
    {
     "name": "stdout",
     "output_type": "stream",
     "text": [
      "[(2, 2), (6, 3), (2, 5), (3, 5, 6), (4, 6), (2, 8), (3, 9, 1)]\n"
     ]
    }
   ],
   "source": [
    "list_tuple = [(2,5),(3,5,6),(3,9,1),(2,8),(2,2),(4,6),(6,3)]\n",
    "sorted_tuples = sorted(list_tuple, key=lambda x: x[1])\n",
    "print(sorted_tuples)"
   ]
  },
  {
   "cell_type": "code",
   "execution_count": 260,
   "id": "cdbea01c",
   "metadata": {},
   "outputs": [],
   "source": [
    "# 3. Explain the concept of higher-order functions in Python, and provide an example."
   ]
  },
  {
   "cell_type": "raw",
   "id": "fab59682",
   "metadata": {},
   "source": [
    "a higher-order function is a function that can take other functions as arguments or return functions as results. Essentially, functions in Python are first-class citizens, and higher-order functions leverage this feature to enhance flexibility and abstraction in programming.\n",
    "\n",
    "Ex:-\n",
    "\n",
    "def operate(x, y, opp):\n",
    "    return operation(x, y)\n",
    "\n",
    "def add(x, y):\n",
    "    return x + y\n",
    "\n",
    "def subtract(x, y):\n",
    "    return x - y\n",
    "operate(10,20,add)"
   ]
  },
  {
   "cell_type": "code",
   "execution_count": 259,
   "id": "cfd15485",
   "metadata": {},
   "outputs": [],
   "source": [
    "# 4. Create a Python function that takes a list of numbers and a function as arguments, applying the\n",
    "# function to each element in the list."
   ]
  },
  {
   "cell_type": "code",
   "execution_count": 138,
   "id": "a129eac7",
   "metadata": {},
   "outputs": [
    {
     "data": {
      "text/plain": [
       "[3, 4, 5, 6, 7, 8, 9]"
      ]
     },
     "execution_count": 138,
     "metadata": {},
     "output_type": "execute_result"
    }
   ],
   "source": [
    "l = [2,3,4,5,6,7,8]\n",
    "def main_func(l,func_as_args):\n",
    "    return func_as_args(l)\n",
    "def add(l):\n",
    "    return [i+1 for i in l]\n",
    "def subtract(l):\n",
    "    return [i-1 for i in l]\n",
    "main_func(l,add)"
   ]
  },
  {
   "cell_type": "markdown",
   "id": "8ab7544d",
   "metadata": {},
   "source": [
    "# Built-in Functions:"
   ]
  },
  {
   "cell_type": "code",
   "execution_count": 272,
   "id": "fbd75144",
   "metadata": {},
   "outputs": [],
   "source": [
    "# 1. Describe the role of built-in functions like `len()`, `max()`, and `min()` in Python."
   ]
  },
  {
   "cell_type": "raw",
   "id": "8b4236a0",
   "metadata": {},
   "source": [
    "len() built in function is used to find the length of an iterable.\n",
    "max() built in function is used to find the maximum value in an iterable or *args or based on a key.\n",
    "Ex:- max(iterable, *args, key=default, default=None)\n",
    "min() built in function is used to find the minimum value in an iterable or *args or based on a key.\n",
    "Ex:- min(iterable, *args, key=default, default=None)"
   ]
  },
  {
   "cell_type": "code",
   "execution_count": 271,
   "id": "dfb59169",
   "metadata": {},
   "outputs": [],
   "source": [
    "# 2. Write a Python program that uses the `map()` function to apply a function to each element of a\n",
    "# list."
   ]
  },
  {
   "cell_type": "code",
   "execution_count": 139,
   "id": "a73b737d",
   "metadata": {},
   "outputs": [
    {
     "data": {
      "text/plain": [
       "[5, 6, 7, 8, 9, 10, 11, 12, 3]"
      ]
     },
     "execution_count": 139,
     "metadata": {},
     "output_type": "execute_result"
    }
   ],
   "source": [
    "l = [2,3,4,5,6,7,8,9,0]\n",
    "result = list(map(lambda x:x+3,l))\n",
    "result"
   ]
  },
  {
   "cell_type": "code",
   "execution_count": 266,
   "id": "2d1216ed",
   "metadata": {},
   "outputs": [],
   "source": [
    "# 3. How does the `filter()` function work in Python, and when would you use it?"
   ]
  },
  {
   "cell_type": "raw",
   "id": "da6c4fbc",
   "metadata": {},
   "source": [
    "Filter is used to filter out the elements from an iterable based on a boolean condition/ a function returning a boolean value.\n",
    "list(filter(lambda x:x%2==0,l)) # Returns the even numbers from a list"
   ]
  },
  {
   "cell_type": "code",
   "execution_count": 267,
   "id": "8b5fd081",
   "metadata": {},
   "outputs": [],
   "source": [
    "# 4. Create a Python program that uses the `reduce()` function to find the product of all elements in\n",
    "# a list."
   ]
  },
  {
   "cell_type": "code",
   "execution_count": 141,
   "id": "40cedfe7",
   "metadata": {},
   "outputs": [
    {
     "data": {
      "text/plain": [
       "720"
      ]
     },
     "execution_count": 141,
     "metadata": {},
     "output_type": "execute_result"
    }
   ],
   "source": [
    "l = [2,3,4,5,6]\n",
    "product = reduce(lambda x,y:x*y,l)\n",
    "product"
   ]
  },
  {
   "cell_type": "markdown",
   "id": "69cb1689",
   "metadata": {},
   "source": [
    "# Function Documentation and Best Practices:"
   ]
  },
  {
   "cell_type": "code",
   "execution_count": 269,
   "id": "841c9ff4",
   "metadata": {},
   "outputs": [],
   "source": [
    "# 1. Explain the purpose of docstrings in Python functions and how to write them."
   ]
  },
  {
   "cell_type": "raw",
   "id": "553d6d3f",
   "metadata": {},
   "source": [
    "Docstrings are used to better describe the functionality about a function or a class in multiple lines.\n",
    "Ex:-\n",
    "    \"\"\".........\n",
    "    ........\n",
    "    ........\"\"\""
   ]
  },
  {
   "cell_type": "code",
   "execution_count": 270,
   "id": "5bc253e0",
   "metadata": {},
   "outputs": [],
   "source": [
    "# 2. Describe some best practices for naming functions and variables in Python, including naming conventions and guidelines."
   ]
  },
  {
   "cell_type": "raw",
   "id": "e994015f",
   "metadata": {},
   "source": [
    "Naming conventions for function names and variables are always preferred to be in snake case. bigger function names & variables must be separated by underscore."
   ]
  }
 ],
 "metadata": {
  "kernelspec": {
   "display_name": "Python 3 (ipykernel)",
   "language": "python",
   "name": "python3"
  },
  "language_info": {
   "codemirror_mode": {
    "name": "ipython",
    "version": 3
   },
   "file_extension": ".py",
   "mimetype": "text/x-python",
   "name": "python",
   "nbconvert_exporter": "python",
   "pygments_lexer": "ipython3",
   "version": "3.11.3"
  }
 },
 "nbformat": 4,
 "nbformat_minor": 5
}
