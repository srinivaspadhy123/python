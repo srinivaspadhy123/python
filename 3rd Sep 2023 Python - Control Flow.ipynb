{
 "cells": [
  {
   "cell_type": "code",
   "execution_count": 10,
   "id": "e4270998",
   "metadata": {},
   "outputs": [],
   "source": [
    "# 1. Write a Python program to check if a given number is positive or negative."
   ]
  },
  {
   "cell_type": "code",
   "execution_count": 139,
   "id": "5f81613f",
   "metadata": {},
   "outputs": [
    {
     "name": "stdout",
     "output_type": "stream",
     "text": [
      "negative\n"
     ]
    }
   ],
   "source": [
    "n = -4\n",
    "if n > 0:\n",
    "    print(\"positive\")\n",
    "else:\n",
    "    print(\"negative\")"
   ]
  },
  {
   "cell_type": "code",
   "execution_count": 11,
   "id": "4cc489ab",
   "metadata": {},
   "outputs": [],
   "source": [
    "# 2. Create a program that determines if a person is eligible to vote based on their age."
   ]
  },
  {
   "cell_type": "code",
   "execution_count": 1,
   "id": "0b498f17",
   "metadata": {},
   "outputs": [
    {
     "name": "stdout",
     "output_type": "stream",
     "text": [
      "Eligible to vote\n"
     ]
    }
   ],
   "source": [
    "age = 19\n",
    "if age >= 18:\n",
    "    print(\"Eligible to vote\")\n",
    "else:\n",
    "    print(\"Not Eligible to vote\")"
   ]
  },
  {
   "cell_type": "code",
   "execution_count": 12,
   "id": "56a0861a",
   "metadata": {},
   "outputs": [],
   "source": [
    "# 3. Develop a program to find the maximum of two numbers using if-else statements."
   ]
  },
  {
   "cell_type": "code",
   "execution_count": 2,
   "id": "061fda3c",
   "metadata": {},
   "outputs": [
    {
     "name": "stdout",
     "output_type": "stream",
     "text": [
      "The greater of two numbers is 40\n"
     ]
    }
   ],
   "source": [
    "i,j = 10,40\n",
    "if i > j:\n",
    "    print(f\"The greater of two numbers is {i}\")\n",
    "else:\n",
    "    print(f\"The greater of two numbers is {j}\")"
   ]
  },
  {
   "cell_type": "code",
   "execution_count": 13,
   "id": "9d1bd23d",
   "metadata": {},
   "outputs": [],
   "source": [
    "# 4. Write a Python script to classify a given year as a leap year or not."
   ]
  },
  {
   "cell_type": "code",
   "execution_count": 8,
   "id": "b3e6085d",
   "metadata": {},
   "outputs": [
    {
     "name": "stdout",
     "output_type": "stream",
     "text": [
      "Mentioned year is a leap year\n"
     ]
    }
   ],
   "source": [
    "year = 2024\n",
    "if (year % 4 == 0 and year % 100 != 0) or (year % 400 == 0):\n",
    "    print(\"Mentioned year is a leap year\")\n",
    "else:\n",
    "    print(\"Mentioned year is not a leap year\")"
   ]
  },
  {
   "cell_type": "code",
   "execution_count": 14,
   "id": "71629575",
   "metadata": {},
   "outputs": [],
   "source": [
    "# 5. Create a program that checks whether a character is a vowel or a consonant."
   ]
  },
  {
   "cell_type": "code",
   "execution_count": 9,
   "id": "1fa19272",
   "metadata": {},
   "outputs": [
    {
     "name": "stdout",
     "output_type": "stream",
     "text": [
      "Charater is a vowel\n"
     ]
    }
   ],
   "source": [
    "vowel = 'aeiou'\n",
    "char = 'A'\n",
    "if char.lower() in vowel:\n",
    "    print(\"Charater is a vowel\")\n",
    "else:\n",
    "    print(\"Character is a constant\")"
   ]
  },
  {
   "cell_type": "code",
   "execution_count": 15,
   "id": "f2b9d2dd",
   "metadata": {},
   "outputs": [],
   "source": [
    "# 6. Implement a program to determine whether a given number is even or odd."
   ]
  },
  {
   "cell_type": "code",
   "execution_count": 10,
   "id": "71aac1d3",
   "metadata": {},
   "outputs": [
    {
     "name": "stdout",
     "output_type": "stream",
     "text": [
      "given number is odd\n"
     ]
    }
   ],
   "source": [
    "num = 41\n",
    "if num%2 == 0:\n",
    "    print(\"Given number is even\")\n",
    "else:\n",
    "    print(\"given number is odd\")"
   ]
  },
  {
   "cell_type": "code",
   "execution_count": 16,
   "id": "e8fda2c3",
   "metadata": {},
   "outputs": [],
   "source": [
    "# 7. Write a Python function to calculate the absolute value of a number without using the `abs()` function."
   ]
  },
  {
   "cell_type": "code",
   "execution_count": 14,
   "id": "6112f7cf",
   "metadata": {},
   "outputs": [
    {
     "name": "stdout",
     "output_type": "stream",
     "text": [
      "The absolute value is 90\n"
     ]
    }
   ],
   "source": [
    "num = -90\n",
    "if num < 0:\n",
    "    print(f\"The absolute value is {-num}\")\n",
    "else:\n",
    "    print(f\"The absolute value is {num}\")"
   ]
  },
  {
   "cell_type": "code",
   "execution_count": 17,
   "id": "a8d3aa2a",
   "metadata": {},
   "outputs": [],
   "source": [
    "# 8. Develop a program that determines the largest of three given numbers using if-else statements."
   ]
  },
  {
   "cell_type": "code",
   "execution_count": 15,
   "id": "c1a2e67e",
   "metadata": {},
   "outputs": [
    {
     "name": "stdout",
     "output_type": "stream",
     "text": [
      "Enter the first number: 45\n",
      "Enter the second number: 34\n",
      "Enter the third number: 9\n",
      "The largest number among 45.0, 34.0, and 9.0 is 45.0\n"
     ]
    }
   ],
   "source": [
    "num1 = float(input(\"Enter the first number: \"))\n",
    "num2 = float(input(\"Enter the second number: \"))\n",
    "num3 = float(input(\"Enter the third number: \"))\n",
    "\n",
    "if num1 >= num2 and num1 >= num3:\n",
    "    largest = num1\n",
    "elif num2 >= num1 and num2 >= num3:\n",
    "    largest = num2\n",
    "else:\n",
    "    largest = num3\n",
    "\n",
    "print(f\"The largest number among {num1}, {num2}, and {num3} is {largest}\")"
   ]
  },
  {
   "cell_type": "code",
   "execution_count": 18,
   "id": "4cd96110",
   "metadata": {},
   "outputs": [],
   "source": [
    "# 9. Create a program that checks if a given string is a palindrome."
   ]
  },
  {
   "cell_type": "code",
   "execution_count": 18,
   "id": "75f23dec",
   "metadata": {},
   "outputs": [
    {
     "name": "stdout",
     "output_type": "stream",
     "text": [
      "Enter a string: madam\n",
      "'madam' is a palindrome.\n"
     ]
    }
   ],
   "source": [
    "s = input(\"Enter a string: \")\n",
    "s = s.replace(\" \", \"\").lower()\n",
    "\n",
    "if s == s[::-1]:\n",
    "    print(f\"'{s}' is a palindrome.\")\n",
    "else:\n",
    "    print(f\"'{s}' is not a palindrome.\")"
   ]
  },
  {
   "cell_type": "code",
   "execution_count": 19,
   "id": "f25ac969",
   "metadata": {},
   "outputs": [],
   "source": [
    "# 10. Write a Python program to calculate the grade based on a student's score."
   ]
  },
  {
   "cell_type": "code",
   "execution_count": 19,
   "id": "529fdbe1",
   "metadata": {},
   "outputs": [
    {
     "name": "stdout",
     "output_type": "stream",
     "text": [
      "B\n"
     ]
    }
   ],
   "source": [
    "score = 89\n",
    "\n",
    "if 90 <= score <= 100:\n",
    "    print('A')\n",
    "elif 80 <= score < 90:\n",
    "    print('B')\n",
    "elif 70 <= score < 80:\n",
    "    print('C')\n",
    "elif 60 <= score < 70:\n",
    "    print('D')\n",
    "else:\n",
    "    print('F')"
   ]
  },
  {
   "cell_type": "code",
   "execution_count": 39,
   "id": "8811f5ce",
   "metadata": {},
   "outputs": [],
   "source": [
    "# 11. Write a program to find the largest among three numbers using nested if-else statements."
   ]
  },
  {
   "cell_type": "code",
   "execution_count": 21,
   "id": "05315a73",
   "metadata": {},
   "outputs": [
    {
     "name": "stdout",
     "output_type": "stream",
     "text": [
      "The largest number among 45, 54, and 65 is 65\n"
     ]
    }
   ],
   "source": [
    "num1 = 45\n",
    "num2 = 54\n",
    "num3 = 65\n",
    "if num1 >= num2:\n",
    "    if num1 >= num3:\n",
    "        largest = num1\n",
    "    else:\n",
    "        largest = num3\n",
    "else:\n",
    "    if num2 >= num3:\n",
    "        largest = num2\n",
    "    else:\n",
    "        largest = num3\n",
    "\n",
    "print(f\"The largest number among {num1}, {num2}, and {num3} is {largest}\")"
   ]
  },
  {
   "cell_type": "code",
   "execution_count": 40,
   "id": "5329dce7",
   "metadata": {},
   "outputs": [],
   "source": [
    "# 12. Implement a program to determine if a triangle is equilateral, isosceles, or scalene."
   ]
  },
  {
   "cell_type": "code",
   "execution_count": 22,
   "id": "dc8e254e",
   "metadata": {},
   "outputs": [
    {
     "name": "stdout",
     "output_type": "stream",
     "text": [
      "This is a scalene triangle.\n"
     ]
    }
   ],
   "source": [
    "side1 = 34\n",
    "side2 = 43\n",
    "side3 = 23\n",
    "\n",
    "if side1 + side2 > side3 and side1 + side3 > side2 and side2 + side3 > side1:\n",
    "    if side1 == side2 == side3:\n",
    "        print(\"This is an equilateral triangle.\")\n",
    "    elif side1 == side2 or side1 == side3 or side2 == side3:\n",
    "        print(\"This is an isosceles triangle.\")\n",
    "    else:\n",
    "        print(\"This is a scalene triangle.\")\n",
    "else:\n",
    "    print(\"These side lengths do not form a valid triangle.\")"
   ]
  },
  {
   "cell_type": "code",
   "execution_count": 41,
   "id": "53df0da2",
   "metadata": {},
   "outputs": [],
   "source": [
    "# 13. Develop a program that checks if a year is a leap year and also if it is a century year."
   ]
  },
  {
   "cell_type": "code",
   "execution_count": null,
   "id": "4b5e352c",
   "metadata": {},
   "outputs": [],
   "source": [
    "year = int(input(\"Enter a year: \"))\n",
    "\n",
    "if (year % 4 == 0 and year % 100 != 0) or (year % 400 == 0):\n",
    "    is_leap_year = True\n",
    "else:\n",
    "    is_leap_year = False\n",
    "\n",
    "is_century_year = \n",
    "\n",
    "if is_leap_year:\n",
    "    if year % 100 == 0:\n",
    "        print(f\"{year} is a leap year and a century year.\")\n",
    "    else:\n",
    "        print(f\"{year} is a leap year but not a century year.\")\n",
    "else:\n",
    "    if year % 100 == 0:\n",
    "        print(f\"{year} is not a leap year, but it's a century year.\")\n",
    "    else:\n",
    "        print(f\"{year} is neither a leap year nor a century year.\")"
   ]
  },
  {
   "cell_type": "code",
   "execution_count": 42,
   "id": "e02fe21d",
   "metadata": {},
   "outputs": [],
   "source": [
    "# 14. Write a Python script to determine if a number is positive, negative, or zero."
   ]
  },
  {
   "cell_type": "code",
   "execution_count": 23,
   "id": "3e346c86",
   "metadata": {},
   "outputs": [
    {
     "name": "stdout",
     "output_type": "stream",
     "text": [
      "The number is negative.\n"
     ]
    }
   ],
   "source": [
    "number = -678\n",
    "if number > 0:\n",
    "    print(\"The number is positive.\")\n",
    "elif number < 0:\n",
    "    print(\"The number is negative.\")\n",
    "else:\n",
    "    print(\"The number is zero.\")"
   ]
  },
  {
   "cell_type": "code",
   "execution_count": 43,
   "id": "4df829a9",
   "metadata": {},
   "outputs": [],
   "source": [
    "# 15. Create a program to check if a person is a teenager (between 13 and 19 years old)."
   ]
  },
  {
   "cell_type": "code",
   "execution_count": 24,
   "id": "bcc03379",
   "metadata": {},
   "outputs": [
    {
     "name": "stdout",
     "output_type": "stream",
     "text": [
      "The person is not a teenager.\n"
     ]
    }
   ],
   "source": [
    "age = 78\n",
    "if 13 <= age <= 19:\n",
    "    print(\"The person is a teenager.\")\n",
    "else:\n",
    "    print(\"The person is not a teenager.\")"
   ]
  },
  {
   "cell_type": "code",
   "execution_count": 44,
   "id": "1eb16556",
   "metadata": {},
   "outputs": [],
   "source": [
    "# 16. Develop a program that determines the type of angle based on its measure (acute, obtuse, or right)."
   ]
  },
  {
   "cell_type": "code",
   "execution_count": 25,
   "id": "36e94a92",
   "metadata": {},
   "outputs": [
    {
     "name": "stdout",
     "output_type": "stream",
     "text": [
      "The angle with measure 89 degrees is an acute angle.\n"
     ]
    }
   ],
   "source": [
    "angle = 89\n",
    "\n",
    "if angle < 90:\n",
    "    angle_type = \"acute\"\n",
    "elif angle == 90:\n",
    "    angle_type = \"right\"\n",
    "elif angle > 90 and angle < 180:\n",
    "    angle_type = \"obtuse\"\n",
    "else:\n",
    "    angle_type = \"reflex\"\n",
    "print(f\"The angle with measure {angle} degrees is an {angle_type} angle.\")"
   ]
  },
  {
   "cell_type": "code",
   "execution_count": 45,
   "id": "9795b8f5",
   "metadata": {},
   "outputs": [],
   "source": [
    "# 17. Write a Python program to calculate the roots of a quadratic equation."
   ]
  },
  {
   "cell_type": "code",
   "execution_count": 26,
   "id": "b4c9c542",
   "metadata": {},
   "outputs": [
    {
     "name": "stdout",
     "output_type": "stream",
     "text": [
      "The roots are complex: -1.75 + 1.1989578808281798i and -1.75 - 1.1989578808281798i\n"
     ]
    }
   ],
   "source": [
    "import math\n",
    "\n",
    "a = 2\n",
    "b = 7\n",
    "c = 9\n",
    "discriminant = b**2 - 4*a*c\n",
    "if discriminant > 0:\n",
    "    root1 = (-b + math.sqrt(discriminant)) / (2*a)\n",
    "    root2 = (-b - math.sqrt(discriminant)) / (2*a)\n",
    "    print(f\"The roots are real and distinct: {root1} and {root2}\")\n",
    "elif discriminant == 0:\n",
    "    root1 = -b / (2*a)\n",
    "    print(f\"The root is real and equal: {root1}\")\n",
    "else:\n",
    "    real_part = -b / (2*a)\n",
    "    imaginary_part = math.sqrt(abs(discriminant)) / (2*a)\n",
    "    print(f\"The roots are complex: {real_part} + {imaginary_part}i and {real_part} - {imaginary_part}i\")\n"
   ]
  },
  {
   "cell_type": "code",
   "execution_count": 46,
   "id": "d5f455fa",
   "metadata": {},
   "outputs": [],
   "source": [
    "# 18. Implement a program to determine the day of the week based on a user-provided number (1 for Monday, 2 for Tuesday, etc.)."
   ]
  },
  {
   "cell_type": "code",
   "execution_count": 27,
   "id": "d488414e",
   "metadata": {},
   "outputs": [
    {
     "name": "stdout",
     "output_type": "stream",
     "text": [
      "Enter a number (1 for Monday, 2 for Tuesday, etc.): 5\n",
      "The day corresponding to the number 5 is Friday.\n"
     ]
    }
   ],
   "source": [
    "day_number = int(input(\"Enter a number (1 for Monday, 2 for Tuesday, etc.): \"))\n",
    "days_of_week = [\"Monday\", \"Tuesday\", \"Wednesday\", \"Thursday\", \"Friday\", \"Saturday\", \"Sunday\"]\n",
    "if 1 <= day_number <= 7:\n",
    "    day = days_of_week[day_number - 1]\n",
    "    print(f\"The day corresponding to the number {day_number} is {day}.\")\n",
    "else:\n",
    "    print(\"Invalid input. Please enter a number between 1 and 7.\")"
   ]
  },
  {
   "cell_type": "code",
   "execution_count": 47,
   "id": "d38481de",
   "metadata": {},
   "outputs": [],
   "source": [
    "# 19. Create a program that determines if a year is a leap year and also if it is evenly divisible by 400."
   ]
  },
  {
   "cell_type": "code",
   "execution_count": 30,
   "id": "c6c8012b",
   "metadata": {},
   "outputs": [
    {
     "name": "stdout",
     "output_type": "stream",
     "text": [
      "2028 is a leap year.\n"
     ]
    }
   ],
   "source": [
    "year = 2028\n",
    "\n",
    "if (year % 4 == 0 and year % 100 != 0) or (year % 400 == 0):\n",
    "    print(f\"{year} is a leap year.\")\n",
    "else:\n",
    "    print(f\"{year} is not a leap year.\")"
   ]
  },
  {
   "cell_type": "code",
   "execution_count": 48,
   "id": "dccc1682",
   "metadata": {},
   "outputs": [],
   "source": [
    "# 20. Develop a program that checks if a given number is prime or not using nested if-else statements."
   ]
  },
  {
   "cell_type": "code",
   "execution_count": 34,
   "id": "39a0431d",
   "metadata": {},
   "outputs": [
    {
     "name": "stdout",
     "output_type": "stream",
     "text": [
      "41 is a prime number.\n"
     ]
    }
   ],
   "source": [
    "num = 41\n",
    "\n",
    "if num > 1:\n",
    "    for i in range(2, int(num ** 0.5) + 1):\n",
    "        if num % i == 0:\n",
    "            print(f\"{num} is not a prime number.\")\n",
    "            break\n",
    "    else:\n",
    "        print(f\"{num} is a prime number.\")\n",
    "else:\n",
    "    print(f\"{num} is not a prime number.\")"
   ]
  },
  {
   "cell_type": "code",
   "execution_count": 49,
   "id": "16141546",
   "metadata": {},
   "outputs": [],
   "source": [
    "# 21. Write a Python program to assign grades based on different ranges of scores using elif statements."
   ]
  },
  {
   "cell_type": "code",
   "execution_count": 35,
   "id": "7f24e45f",
   "metadata": {},
   "outputs": [
    {
     "name": "stdout",
     "output_type": "stream",
     "text": [
      "Enter the student's score: 34\n",
      "The student's grade is: F\n"
     ]
    }
   ],
   "source": [
    "score = float(input(\"Enter the student's score: \"))\n",
    "if 90 <= score <= 100:\n",
    "    grade = 'A'\n",
    "elif 80 <= score < 90:\n",
    "    grade = 'B'\n",
    "elif 70 <= score < 80:\n",
    "    grade = 'C'\n",
    "elif 60 <= score < 70:\n",
    "    grade = 'D'\n",
    "else:\n",
    "    grade = 'F'\n",
    "print(f\"The student's grade is: {grade}\")"
   ]
  },
  {
   "cell_type": "code",
   "execution_count": 50,
   "id": "c012322f",
   "metadata": {},
   "outputs": [],
   "source": [
    "# 22. Implement a program to determine the type of a triangle based on its angles."
   ]
  },
  {
   "cell_type": "code",
   "execution_count": 43,
   "id": "2a900793",
   "metadata": {},
   "outputs": [
    {
     "name": "stdout",
     "output_type": "stream",
     "text": [
      "The triangle is a right triangle.\n"
     ]
    }
   ],
   "source": [
    "angle1 = 90\n",
    "angle2 = 45\n",
    "angle3 = 45\n",
    "\n",
    "if angle1 + angle2 + angle3 == 180:\n",
    "    if angle1 < 90 and angle2 < 90 and angle3 < 90:\n",
    "        triangle_type = \"acute\"\n",
    "    elif angle1 == 90 or angle2 == 90 or angle3 == 90:\n",
    "        triangle_type = \"right\"\n",
    "    else:\n",
    "        triangle_type = \"obtuse\"\n",
    "    print(f\"The triangle is a {triangle_type} triangle.\")\n",
    "else:\n",
    "    print(\"These angles do not form a valid triangle.\")\n"
   ]
  },
  {
   "cell_type": "code",
   "execution_count": 51,
   "id": "fb197205",
   "metadata": {},
   "outputs": [],
   "source": [
    "# 23. Develop a program to categorize a given person's BMI into underweight, normal, overweight, or obese using elif statements."
   ]
  },
  {
   "cell_type": "code",
   "execution_count": 42,
   "id": "4368fbb6",
   "metadata": {},
   "outputs": [
    {
     "name": "stdout",
     "output_type": "stream",
     "text": [
      "The person's BMI is 28.37, which falls into the category of overweight.\n"
     ]
    }
   ],
   "source": [
    "weight = 82\n",
    "height = 1.7 # In meters\n",
    "bmi = weight / (height ** 2)\n",
    "\n",
    "if bmi < 18.5:\n",
    "    category = \"underweight\"\n",
    "elif 18.5 <= bmi < 24.9:\n",
    "    category = \"normal weight\"\n",
    "elif 25 <= bmi < 29.9:\n",
    "    category = \"overweight\"\n",
    "else:\n",
    "    category = \"obese\"\n",
    "\n",
    "print(f\"The person's BMI is {bmi:.2f}, which falls into the category of {category}.\")\n"
   ]
  },
  {
   "cell_type": "code",
   "execution_count": 52,
   "id": "aa3c36de",
   "metadata": {},
   "outputs": [],
   "source": [
    "# 24. Create a program that determines whether a given number is positive, negative, or zero using elif statements."
   ]
  },
  {
   "cell_type": "code",
   "execution_count": 44,
   "id": "c3a597d6",
   "metadata": {},
   "outputs": [
    {
     "name": "stdout",
     "output_type": "stream",
     "text": [
      "The number is positive.\n"
     ]
    }
   ],
   "source": [
    "number = 78\n",
    "\n",
    "if number > 0:\n",
    "    print(\"The number is positive.\")\n",
    "elif number < 0:\n",
    "    print(\"The number is negative.\")\n",
    "else:\n",
    "    print(\"The number is zero.\")\n"
   ]
  },
  {
   "cell_type": "code",
   "execution_count": 53,
   "id": "2bb9811c",
   "metadata": {},
   "outputs": [],
   "source": [
    "# 25. Write a Python script to determine the type of a character (uppercase, lowercase, or special) using elif statements."
   ]
  },
  {
   "cell_type": "code",
   "execution_count": 45,
   "id": "ec0c2612",
   "metadata": {},
   "outputs": [
    {
     "name": "stdout",
     "output_type": "stream",
     "text": [
      "The character 'S' is uppercase.\n"
     ]
    }
   ],
   "source": [
    "char = 'S'\n",
    "\n",
    "if char.isalpha():\n",
    "    if char.islower():\n",
    "        print(f\"The character '{char}' is lowercase.\")\n",
    "    else:\n",
    "        print(f\"The character '{char}' is uppercase.\")\n",
    "elif char.isdigit():\n",
    "    print(f\"The character '{char}' is a digit.\")\n",
    "else:\n",
    "    print(f\"The character '{char}' is a special character.\")\n"
   ]
  },
  {
   "cell_type": "code",
   "execution_count": 54,
   "id": "b38f8550",
   "metadata": {},
   "outputs": [],
   "source": [
    "#  26. Implement a program to calculate the discounted price based on different purchase amounts using elif statements."
   ]
  },
  {
   "cell_type": "code",
   "execution_count": 46,
   "id": "061c0bf0",
   "metadata": {},
   "outputs": [
    {
     "name": "stdout",
     "output_type": "stream",
     "text": [
      "The discounted price is: $6569.10\n"
     ]
    }
   ],
   "source": [
    "purchase_amount = 7299\n",
    "discount = 0\n",
    "final_price = purchase_amount\n",
    "\n",
    "if purchase_amount >= 1000:\n",
    "    discount = 0.1  # 10% discount for purchases >= $1000\n",
    "elif purchase_amount >= 500:\n",
    "    discount = 0.05  # 5% discount for purchases >= $500\n",
    "\n",
    "final_price = purchase_amount - (purchase_amount * discount)\n",
    "\n",
    "print(f\"The discounted price is: ${final_price:.2f}\")\n"
   ]
  },
  {
   "cell_type": "code",
   "execution_count": 55,
   "id": "e9f7b9ca",
   "metadata": {},
   "outputs": [],
   "source": [
    "# 27. Develop a program to calculate the electricity bill based on different consumption slabs using elif statements."
   ]
  },
  {
   "cell_type": "code",
   "execution_count": 47,
   "id": "75d54181",
   "metadata": {},
   "outputs": [
    {
     "name": "stdout",
     "output_type": "stream",
     "text": [
      "The electricity bill for 109 kWh is: $11.35\n"
     ]
    }
   ],
   "source": [
    "consumption = 109 #Kwh\n",
    "\n",
    "rate_slab1 = 0.10  # Rate for the first 100 kWh\n",
    "rate_slab2 = 0.15  # Rate for the next 200 kWh\n",
    "rate_slab3 = 0.20  # Rate for additional kWh\n",
    "\n",
    "total_cost = 0.0\n",
    "\n",
    "remaining_consumption = consumption\n",
    "\n",
    "if remaining_consumption <= 100:\n",
    "    total_cost = remaining_consumption * rate_slab1\n",
    "elif remaining_consumption <= 300:\n",
    "    total_cost = 100 * rate_slab1 + (remaining_consumption - 100) * rate_slab2\n",
    "else:\n",
    "    total_cost = 100 * rate_slab1 + 200 * rate_slab2 + (remaining_consumption - 300) * rate_slab3\n",
    "\n",
    "print(f\"The electricity bill for {consumption} kWh is: ${total_cost:.2f}\")\n"
   ]
  },
  {
   "cell_type": "code",
   "execution_count": 56,
   "id": "5074a20f",
   "metadata": {},
   "outputs": [],
   "source": [
    "# 28. Create a program to determine the type of quadrilateral based on its angles and sides using elif statements."
   ]
  },
  {
   "cell_type": "code",
   "execution_count": 48,
   "id": "38c3bdf6",
   "metadata": {},
   "outputs": [
    {
     "name": "stdout",
     "output_type": "stream",
     "text": [
      "The quadrilateral is a general quadrilateral.\n"
     ]
    }
   ],
   "source": [
    "angle1 = 45\n",
    "angle2 = 54\n",
    "angle3 = 81\n",
    "angle4 = 28\n",
    "side1 = 24\n",
    "side2 = 54\n",
    "side3 = 46\n",
    "side4 = 32\n",
    "\n",
    "if angle1 == angle2 == angle3 == angle4 == 90:\n",
    "    if side1 == side2 == side3 == side4:\n",
    "        print(\"The quadrilateral is a square.\")\n",
    "    else:\n",
    "        print(\"The quadrilateral is a rectangle.\")\n",
    "elif side1 == side2 == side3 == side4:\n",
    "    if angle1 == angle2 == angle3 == angle4:\n",
    "        print(\"The quadrilateral is a rhombus.\")\n",
    "    else:\n",
    "        print(\"The quadrilateral is a parallelogram.\")\n",
    "else:\n",
    "    print(\"The quadrilateral is a general quadrilateral.\")\n"
   ]
  },
  {
   "cell_type": "code",
   "execution_count": 57,
   "id": "82dfc386",
   "metadata": {},
   "outputs": [],
   "source": [
    "# 29. Write a Python script to determine the season based on a user-provided month using elif statements."
   ]
  },
  {
   "cell_type": "code",
   "execution_count": 49,
   "id": "ef840c5e",
   "metadata": {},
   "outputs": [
    {
     "name": "stdout",
     "output_type": "stream",
     "text": [
      "Enter the month (1-12): 7\n",
      "The season for month 7 is summer.\n"
     ]
    }
   ],
   "source": [
    "month = int(input(\"Enter the month (1-12): \"))\n",
    "\n",
    "if 3 <= month <= 5:\n",
    "    season = \"spring\"\n",
    "elif 6 <= month <= 8:\n",
    "    season = \"summer\"\n",
    "elif 9 <= month <= 11:\n",
    "    season = \"autumn\"\n",
    "else:\n",
    "    season = \"winter\"\n",
    "print(f\"The season for month {month} is {season}.\")\n"
   ]
  },
  {
   "cell_type": "code",
   "execution_count": 58,
   "id": "feba050f",
   "metadata": {},
   "outputs": [],
   "source": [
    "# 30. Implement a program to determine the type of a year (leap or common) and month (30 or 31 days) using elif statements."
   ]
  },
  {
   "cell_type": "code",
   "execution_count": 50,
   "id": "ad0cf704",
   "metadata": {},
   "outputs": [
    {
     "name": "stdout",
     "output_type": "stream",
     "text": [
      "2029 is a common year.\n",
      "The month 8 has 31 days.\n"
     ]
    }
   ],
   "source": [
    "year = 2029\n",
    "\n",
    "month = 8\n",
    "\n",
    "is_leap_year = (year % 4 == 0 and year % 100 != 0) or (year % 400 == 0)\n",
    "\n",
    "if month in (4, 6, 9, 11):\n",
    "    days_in_month = 30\n",
    "elif month == 2:\n",
    "    days_in_month = 29 if is_leap_year else 28\n",
    "else:\n",
    "    days_in_month = 31\n",
    "\n",
    "if is_leap_year:\n",
    "    print(f\"{year} is a leap year.\")\n",
    "else:\n",
    "    print(f\"{year} is a common year.\")\n",
    "\n",
    "print(f\"The month {month} has {days_in_month} days.\")\n"
   ]
  },
  {
   "cell_type": "markdown",
   "id": "fe097159",
   "metadata": {},
   "source": [
    "# Basic Level:"
   ]
  },
  {
   "cell_type": "code",
   "execution_count": 70,
   "id": "cb3aa550",
   "metadata": {
    "scrolled": true
   },
   "outputs": [],
   "source": [
    "# 1. Write a Python program that checks if a given number is positive, negative, or zero."
   ]
  },
  {
   "cell_type": "code",
   "execution_count": 51,
   "id": "31debdb3",
   "metadata": {},
   "outputs": [
    {
     "name": "stdout",
     "output_type": "stream",
     "text": [
      "The number is positive.\n"
     ]
    }
   ],
   "source": [
    "number = 78\n",
    "\n",
    "if number > 0:\n",
    "    print(\"The number is positive.\")\n",
    "elif number < 0:\n",
    "    print(\"The number is negative.\")\n",
    "else:\n",
    "    print(\"The number is zero.\")\n"
   ]
  },
  {
   "cell_type": "code",
   "execution_count": 71,
   "id": "4f1bd5b7",
   "metadata": {},
   "outputs": [],
   "source": [
    "# 2. Create a program to determine if a person is eligible to vote based on their age."
   ]
  },
  {
   "cell_type": "code",
   "execution_count": 52,
   "id": "f7e27e13",
   "metadata": {},
   "outputs": [
    {
     "name": "stdout",
     "output_type": "stream",
     "text": [
      "Eligible to vote\n"
     ]
    }
   ],
   "source": [
    "age = 19\n",
    "if age >= 18:\n",
    "    print(\"Eligible to vote\")\n",
    "else:\n",
    "    print(\"Not Eligible to vote\")"
   ]
  },
  {
   "cell_type": "code",
   "execution_count": 72,
   "id": "51c660b8",
   "metadata": {},
   "outputs": [],
   "source": [
    "# 3. Write a program to find the maximum of two given numbers using conditional statements."
   ]
  },
  {
   "cell_type": "code",
   "execution_count": 53,
   "id": "3726dd01",
   "metadata": {},
   "outputs": [
    {
     "name": "stdout",
     "output_type": "stream",
     "text": [
      "The greater of two numbers is 40\n"
     ]
    }
   ],
   "source": [
    "i,j = 10,40\n",
    "if i > j:\n",
    "    print(f\"The greater of two numbers is {i}\")\n",
    "else:\n",
    "    print(f\"The greater of two numbers is {j}\")"
   ]
  },
  {
   "cell_type": "code",
   "execution_count": 73,
   "id": "79d013da",
   "metadata": {},
   "outputs": [],
   "source": [
    "# 4. Develop a program that calculates the grade of a student based on their exam score."
   ]
  },
  {
   "cell_type": "code",
   "execution_count": 54,
   "id": "1153af52",
   "metadata": {},
   "outputs": [
    {
     "name": "stdout",
     "output_type": "stream",
     "text": [
      "B\n"
     ]
    }
   ],
   "source": [
    "score = 89\n",
    "\n",
    "if 90 <= score <= 100:\n",
    "    print('A')\n",
    "elif 80 <= score < 90:\n",
    "    print('B')\n",
    "elif 70 <= score < 80:\n",
    "    print('C')\n",
    "elif 60 <= score < 70:\n",
    "    print('D')\n",
    "else:\n",
    "    print('F')"
   ]
  },
  {
   "cell_type": "code",
   "execution_count": 74,
   "id": "fb2be2b8",
   "metadata": {},
   "outputs": [],
   "source": [
    "# 5. Create a program that checks if a year is a leap year or not."
   ]
  },
  {
   "cell_type": "code",
   "execution_count": 56,
   "id": "85d89c28",
   "metadata": {},
   "outputs": [
    {
     "name": "stdout",
     "output_type": "stream",
     "text": [
      "Mentioned year is not a leap year\n"
     ]
    }
   ],
   "source": [
    "year = 2025\n",
    "if (year % 4 == 0 and year % 100 != 0) or (year % 400 == 0):\n",
    "    print(\"Mentioned year is a leap year\")\n",
    "else:\n",
    "    print(\"Mentioned year is not a leap year\")"
   ]
  },
  {
   "cell_type": "code",
   "execution_count": 75,
   "id": "609d44c1",
   "metadata": {},
   "outputs": [],
   "source": [
    "# 6. Write a program to classify a triangle based on its sides' lengths."
   ]
  },
  {
   "cell_type": "code",
   "execution_count": 57,
   "id": "10e74399",
   "metadata": {},
   "outputs": [
    {
     "name": "stdout",
     "output_type": "stream",
     "text": [
      "This is a scalene triangle.\n"
     ]
    }
   ],
   "source": [
    "side1 = 34\n",
    "side2 = 43\n",
    "side3 = 23\n",
    "\n",
    "if side1 + side2 > side3 and side1 + side3 > side2 and side2 + side3 > side1:\n",
    "    if side1 == side2 == side3:\n",
    "        print(\"This is an equilateral triangle.\")\n",
    "    elif side1 == side2 or side1 == side3 or side2 == side3:\n",
    "        print(\"This is an isosceles triangle.\")\n",
    "    else:\n",
    "        print(\"This is a scalene triangle.\")\n",
    "else:\n",
    "    print(\"These side lengths do not form a valid triangle.\")"
   ]
  },
  {
   "cell_type": "code",
   "execution_count": 76,
   "id": "b0015a4b",
   "metadata": {},
   "outputs": [],
   "source": [
    "# 7. Build a program that determines the largest of three given numbers."
   ]
  },
  {
   "cell_type": "code",
   "execution_count": 59,
   "id": "5283ded6",
   "metadata": {},
   "outputs": [
    {
     "name": "stdout",
     "output_type": "stream",
     "text": [
      "The largest number among 4633, 3463, and 4643 is 4643\n"
     ]
    }
   ],
   "source": [
    "num1 = 4633\n",
    "num2 = 3463\n",
    "num3 = 4643\n",
    "\n",
    "if num1 >= num2 and num1 >= num3:\n",
    "    largest = num1\n",
    "elif num2 >= num1 and num2 >= num3:\n",
    "    largest = num2\n",
    "else:\n",
    "    largest = num3\n",
    "\n",
    "print(f\"The largest number among {num1}, {num2}, and {num3} is {largest}\")"
   ]
  },
  {
   "cell_type": "code",
   "execution_count": 77,
   "id": "923a01d8",
   "metadata": {},
   "outputs": [],
   "source": [
    "# 8. Develop a program that checks whether a character is a vowel or a consonant."
   ]
  },
  {
   "cell_type": "code",
   "execution_count": 60,
   "id": "8b414173",
   "metadata": {},
   "outputs": [
    {
     "name": "stdout",
     "output_type": "stream",
     "text": [
      "Charater is a vowel\n"
     ]
    }
   ],
   "source": [
    "vowel = 'aeiou'\n",
    "char = 'A'\n",
    "if char.lower() in vowel:\n",
    "    print(\"Charater is a vowel\")\n",
    "else:\n",
    "    print(\"Character is a constant\")"
   ]
  },
  {
   "cell_type": "code",
   "execution_count": 78,
   "id": "2fd8b1e5",
   "metadata": {},
   "outputs": [],
   "source": [
    "# 9. Create a program to calculate the total cost of a shopping cart based on discounts."
   ]
  },
  {
   "cell_type": "code",
   "execution_count": null,
   "id": "59adcf66",
   "metadata": {},
   "outputs": [],
   "source": []
  },
  {
   "cell_type": "code",
   "execution_count": 69,
   "id": "b6d2f7ae",
   "metadata": {},
   "outputs": [],
   "source": [
    "# 10. Write a program that checks if a given number is even or odd."
   ]
  },
  {
   "cell_type": "code",
   "execution_count": 61,
   "id": "63c637c1",
   "metadata": {},
   "outputs": [
    {
     "name": "stdout",
     "output_type": "stream",
     "text": [
      "given number is odd\n"
     ]
    }
   ],
   "source": [
    "num = 41\n",
    "if num%2 == 0:\n",
    "    print(\"Given number is even\")\n",
    "else:\n",
    "    print(\"given number is odd\")"
   ]
  },
  {
   "cell_type": "markdown",
   "id": "c9c68880",
   "metadata": {},
   "source": [
    "# Intermediate Level:"
   ]
  },
  {
   "cell_type": "code",
   "execution_count": 89,
   "id": "1b34a2f8",
   "metadata": {},
   "outputs": [],
   "source": [
    "# 11. Write a program that calculates the roots of a quadratic equation ."
   ]
  },
  {
   "cell_type": "code",
   "execution_count": 62,
   "id": "eccccac9",
   "metadata": {},
   "outputs": [
    {
     "name": "stdout",
     "output_type": "stream",
     "text": [
      "The roots are complex: -1.75 + 1.1989578808281798i and -1.75 - 1.1989578808281798i\n"
     ]
    }
   ],
   "source": [
    "import math\n",
    "\n",
    "a = 2\n",
    "b = 7\n",
    "c = 9\n",
    "discriminant = b**2 - 4*a*c\n",
    "if discriminant > 0:\n",
    "    root1 = (-b + math.sqrt(discriminant)) / (2*a)\n",
    "    root2 = (-b - math.sqrt(discriminant)) / (2*a)\n",
    "    print(f\"The roots are real and distinct: {root1} and {root2}\")\n",
    "elif discriminant == 0:\n",
    "    root1 = -b / (2*a)\n",
    "    print(f\"The root is real and equal: {root1}\")\n",
    "else:\n",
    "    real_part = -b / (2*a)\n",
    "    imaginary_part = math.sqrt(abs(discriminant)) / (2*a)\n",
    "    print(f\"The roots are complex: {real_part} + {imaginary_part}i and {real_part} - {imaginary_part}i\")"
   ]
  },
  {
   "cell_type": "code",
   "execution_count": 90,
   "id": "506b6729",
   "metadata": {},
   "outputs": [],
   "source": [
    "# 12. Create a program that determines the day of the week based on the day number (1-7)."
   ]
  },
  {
   "cell_type": "code",
   "execution_count": 63,
   "id": "e031cb71",
   "metadata": {},
   "outputs": [
    {
     "name": "stdout",
     "output_type": "stream",
     "text": [
      "Enter a number (1 for Monday, 2 for Tuesday, etc.): 6\n",
      "The day corresponding to the number 6 is Saturday.\n"
     ]
    }
   ],
   "source": [
    "day_number = int(input(\"Enter a number (1 for Monday, 2 for Tuesday, etc.): \"))\n",
    "days_of_week = [\"Monday\", \"Tuesday\", \"Wednesday\", \"Thursday\", \"Friday\", \"Saturday\", \"Sunday\"]\n",
    "if 1 <= day_number <= 7:\n",
    "    day = days_of_week[day_number - 1]\n",
    "    print(f\"The day corresponding to the number {day_number} is {day}.\")\n",
    "else:\n",
    "    print(\"Invalid input. Please enter a number between 1 and 7.\")"
   ]
  },
  {
   "cell_type": "code",
   "execution_count": 91,
   "id": "0728a6dc",
   "metadata": {},
   "outputs": [],
   "source": [
    "# 13. Develop a program that calculates the factorial of a given number using recursion."
   ]
  },
  {
   "cell_type": "code",
   "execution_count": 65,
   "id": "bad24ffc",
   "metadata": {},
   "outputs": [
    {
     "data": {
      "text/plain": [
       "120"
      ]
     },
     "execution_count": 65,
     "metadata": {},
     "output_type": "execute_result"
    }
   ],
   "source": [
    "def fact(num):\n",
    "    if num == 0:\n",
    "        return 1\n",
    "    return num*fact(num-1)\n",
    "fact(5)"
   ]
  },
  {
   "cell_type": "code",
   "execution_count": 92,
   "id": "ac7e6446",
   "metadata": {},
   "outputs": [],
   "source": [
    "# 14. Write a program to find the largest among three numbers without using the `max()` function."
   ]
  },
  {
   "cell_type": "code",
   "execution_count": 66,
   "id": "47b71109",
   "metadata": {},
   "outputs": [
    {
     "name": "stdout",
     "output_type": "stream",
     "text": [
      "Enter the first number: 56\n",
      "Enter the second number: 7845\n",
      "Enter the third number: 78\n",
      "The largest number among 56.0, 7845.0, and 78.0 is 7845.0\n"
     ]
    }
   ],
   "source": [
    "num1 = float(input(\"Enter the first number: \"))\n",
    "num2 = float(input(\"Enter the second number: \"))\n",
    "num3 = float(input(\"Enter the third number: \"))\n",
    "\n",
    "if num1 >= num2 and num1 >= num3:\n",
    "    largest = num1\n",
    "elif num2 >= num1 and num2 >= num3:\n",
    "    largest = num2\n",
    "else:\n",
    "    largest = num3\n",
    "\n",
    "print(f\"The largest number among {num1}, {num2}, and {num3} is {largest}\")"
   ]
  },
  {
   "cell_type": "code",
   "execution_count": 93,
   "id": "5398d21e",
   "metadata": {},
   "outputs": [],
   "source": [
    "# 15. Create a program that simulates a basic ATM transaction menu."
   ]
  },
  {
   "cell_type": "code",
   "execution_count": 67,
   "id": "499b785a",
   "metadata": {},
   "outputs": [
    {
     "name": "stdout",
     "output_type": "stream",
     "text": [
      "\n",
      "ATM Menu:\n",
      "1. Check Balance\n",
      "2. Deposit\n",
      "3. Withdraw\n",
      "4. Exit\n",
      "Please select an option (1/2/3/4): 1\n",
      "Your account balance is 1000\n",
      "\n",
      "ATM Menu:\n",
      "1. Check Balance\n",
      "2. Deposit\n",
      "3. Withdraw\n",
      "4. Exit\n",
      "Please select an option (1/2/3/4): 4\n",
      "Thank you for using our ATM. Goodbye!\n"
     ]
    }
   ],
   "source": [
    "account_balance = 1000\n",
    "\n",
    "def display_balance():\n",
    "    print(f\"Your account balance is {account_balance}\")\n",
    "\n",
    "def deposit():\n",
    "    global account_balance\n",
    "    amount = float(input(\"Enter the amount you want to deposit: $\"))\n",
    "    if amount > 0:\n",
    "        account_balance += amount\n",
    "        print(f\"{amount} has been deposited into your account.\")\n",
    "    else:\n",
    "        print(\"Invalid deposit amount. Please enter a positive amount.\")\n",
    "\n",
    "def withdraw():\n",
    "    global account_balance\n",
    "    amount = float(input(\"Enter the amount you want to withdraw: $\"))\n",
    "    if 0 < amount <= account_balance:\n",
    "        account_balance -= amount\n",
    "        print(f\"{amount} has been withdrawn from your account.\")\n",
    "    else:\n",
    "        print(\"Invalid withdrawal amount or insufficient balance.\")\n",
    "\n",
    "while True:\n",
    "    print(\"\\nATM Menu:\")\n",
    "    print(\"1. Check Balance\")\n",
    "    print(\"2. Deposit\")\n",
    "    print(\"3. Withdraw\")\n",
    "    print(\"4. Exit\")\n",
    "    \n",
    "    choice = input(\"Please select an option (1/2/3/4): \")\n",
    "    \n",
    "    if choice == \"1\":\n",
    "        display_balance()\n",
    "    elif choice == \"2\":\n",
    "        deposit()\n",
    "    elif choice == \"3\":\n",
    "        withdraw()\n",
    "    elif choice == \"4\":\n",
    "        print(\"Thank you for using our ATM. Goodbye!\")\n",
    "        break\n",
    "    else:\n",
    "        print(\"Invalid choice. Please select a valid option.\")\n"
   ]
  },
  {
   "cell_type": "code",
   "execution_count": 94,
   "id": "0187e6bb",
   "metadata": {},
   "outputs": [],
   "source": [
    "# 16. Build a program that checks if a given string is a palindrome or not."
   ]
  },
  {
   "cell_type": "code",
   "execution_count": 68,
   "id": "4d207ed8",
   "metadata": {},
   "outputs": [
    {
     "name": "stdout",
     "output_type": "stream",
     "text": [
      "Enter a string: madam\n",
      "'madam' is a palindrome.\n"
     ]
    }
   ],
   "source": [
    "s = input(\"Enter a string: \")\n",
    "s = s.replace(\" \", \"\").lower()\n",
    "\n",
    "if s == s[::-1]:\n",
    "    print(f\"'{s}' is a palindrome.\")\n",
    "else:\n",
    "    print(f\"'{s}' is not a palindrome.\")"
   ]
  },
  {
   "cell_type": "code",
   "execution_count": 95,
   "id": "fb373fc9",
   "metadata": {},
   "outputs": [],
   "source": [
    "# 17. Write a program that calculates the average of a list of numbers, excluding the smallest and largest values."
   ]
  },
  {
   "cell_type": "code",
   "execution_count": 69,
   "id": "378f5a73",
   "metadata": {},
   "outputs": [
    {
     "name": "stdout",
     "output_type": "stream",
     "text": [
      "Enter a list of numbers separated by spaces: 4 5 6 7 8 9\n",
      "6.5\n"
     ]
    }
   ],
   "source": [
    "input_numbers = input(\"Enter a list of numbers separated by spaces: \")\n",
    "numbers = [float(x) for x in input_numbers.split()]\n",
    "\n",
    "if len(numbers) < 3:\n",
    "    print(\"You need at least 3 numbers to calculate an average excluding extremes.\")\n",
    "\n",
    "numbers.sort()\n",
    "numbers = numbers[1:-1]\n",
    "\n",
    "total = sum(numbers)\n",
    "average = total / len(numbers)\n",
    "result = average\n",
    "print(result)\n"
   ]
  },
  {
   "cell_type": "code",
   "execution_count": 96,
   "id": "f372c9ac",
   "metadata": {},
   "outputs": [],
   "source": [
    "# 18. Develop a program that converts a given temperature from Celsius to Fahrenheit."
   ]
  },
  {
   "cell_type": "code",
   "execution_count": 71,
   "id": "ab3ec7d5",
   "metadata": {},
   "outputs": [
    {
     "name": "stdout",
     "output_type": "stream",
     "text": [
      "42 degrees Celsius is equal to 107.60 degrees Fahrenheit.\n"
     ]
    }
   ],
   "source": [
    "celsius = 42\n",
    "\n",
    "fahrenheit = (celsius * 9/5) + 32\n",
    "temp = fahrenheit\n",
    "\n",
    "print(f\"{celsius} degrees Celsius is equal to {temp:.2f} degrees Fahrenheit.\")\n"
   ]
  },
  {
   "cell_type": "code",
   "execution_count": 97,
   "id": "9a1c2abc",
   "metadata": {},
   "outputs": [],
   "source": [
    "# 19. Create a program that simulates a basic calculator for addition, subtraction, multiplication, and division."
   ]
  },
  {
   "cell_type": "code",
   "execution_count": 75,
   "id": "3249f94e",
   "metadata": {},
   "outputs": [
    {
     "name": "stdout",
     "output_type": "stream",
     "text": [
      "Options:\n",
      "Enter 'add' for addition\n",
      "Enter 'subtract' for subtraction\n",
      "Enter 'multiply' for multiplication\n",
      "Enter 'divide' for division\n",
      "Enter 'quit' to end the program\n",
      ": add\n",
      "Enter first number: 78\n",
      "Enter second number: 9\n",
      "Result: 87\n",
      "Options:\n",
      "Enter 'add' for addition\n",
      "Enter 'subtract' for subtraction\n",
      "Enter 'multiply' for multiplication\n",
      "Enter 'divide' for division\n",
      "Enter 'quit' to end the program\n",
      ": quit\n"
     ]
    }
   ],
   "source": [
    "while True:\n",
    "    print(\"Options:\")\n",
    "    print(\"Enter 'add' for addition\")\n",
    "    print(\"Enter 'subtract' for subtraction\")\n",
    "    print(\"Enter 'multiply' for multiplication\")\n",
    "    print(\"Enter 'divide' for division\")\n",
    "    print(\"Enter 'quit' to end the program\")\n",
    "\n",
    "    user_input = input(\": \")\n",
    "\n",
    "    if user_input == \"quit\":\n",
    "        break\n",
    "    elif user_input in (\"add\", \"subtract\", \"multiply\", \"divide\"):\n",
    "        num1 = int(input(\"Enter first number: \"))\n",
    "        num2 = int(input(\"Enter second number: \"))\n",
    "\n",
    "        if user_input == \"add\":\n",
    "            result = num1 + num2\n",
    "        elif user_input == \"subtract\":\n",
    "            result = num1 - num2\n",
    "        elif user_input == \"multiply\":\n",
    "            result = num1 * num2\n",
    "        elif user_input == \"divide\":\n",
    "            if num2 == 0:\n",
    "                result = \"Cannot divide by zero.\"\n",
    "            else:\n",
    "                result = num1 / num2\n",
    "        print(\"Result:\", result)\n",
    "    else:\n",
    "        print(\"Invalid input. Please enter a valid operation.\")\n"
   ]
  },
  {
   "cell_type": "code",
   "execution_count": 98,
   "id": "e3fc5735",
   "metadata": {},
   "outputs": [],
   "source": [
    "# 20. Write a program that determines the roots of a cubic equation using the Cardano formula."
   ]
  },
  {
   "cell_type": "code",
   "execution_count": 77,
   "id": "60858e6a",
   "metadata": {},
   "outputs": [
    {
     "name": "stdout",
     "output_type": "stream",
     "text": [
      "Roots of the cubic equation: ((0.40982725954218313+1.1214695187698314j), (-0.23369253694650838-0.7499331910382326j), (-2.176134722595675-0.3715363277315987j))\n"
     ]
    }
   ],
   "source": [
    "import math\n",
    "\n",
    "a=2\n",
    "b=4\n",
    "c=6\n",
    "d=7\n",
    "\n",
    "p = c / a - (b ** 2) / (3 * a ** 2)\n",
    "q = (2 * (b ** 3) / (27 * a ** 3)) - (b * c) / (3 * a ** 2) + d / a\n",
    "discriminant = (q ** 2) / 4 + (p ** 3) / 27\n",
    "\n",
    "if discriminant > 0:\n",
    "    sqrt_discriminant = math.sqrt(discriminant)\n",
    "    u = (-q / 2 + sqrt_discriminant) ** (1/3)\n",
    "    v = (-q / 2 - sqrt_discriminant) ** (1/3)\n",
    "    root1 = u + v - b / (3 * a)\n",
    "    real_part = -1 / 2 * (u + v) - b / (3 * a)\n",
    "    imaginary_part = (u - v) * math.sqrt(3) / 2\n",
    "    root2 = complex(real_part, imaginary_part)\n",
    "    root3 = complex(real_part, -imaginary_part)\n",
    "elif discriminant == 0:\n",
    "    root1 = -2 * math.pow(q / 2, 1/3) - b / (3 * a)\n",
    "    root2 = math.pow(q / 2, 1/3) - b / (3 * a)\n",
    "    root3 = root2\n",
    "else:\n",
    "    phi = math.acos(-q / 2 * math.sqrt(-27 / (p ** 3)))\n",
    "    root1 = 2 * math.sqrt(-p / 3) * math.cos(phi / 3) - b / (3 * a)\n",
    "    root2 = 2 * math.sqrt(-p / 3) * math.cos((phi + 2 * math.pi) / 3) - b / (3 * a)\n",
    "    root3 = 2 * math.sqrt(-p / 3) * math.cos((phi + 4 * math.pi) / 3) - b / (3 * a)\n",
    "\n",
    "roots = (root1, root2, root3)\n",
    "\n",
    "print(f\"Roots of the cubic equation: {roots}\")\n",
    "# for i, root in enumerate(roots):\n",
    "#     print(f\"Root {i + 1}: {root:.6f}\")\n"
   ]
  },
  {
   "cell_type": "markdown",
   "id": "17fa22d4",
   "metadata": {},
   "source": [
    "# Advanced Level:\n"
   ]
  },
  {
   "cell_type": "code",
   "execution_count": 108,
   "id": "a90c804d",
   "metadata": {},
   "outputs": [],
   "source": [
    "# 21. Create a program that calculates the income tax based on the user's income and tax brackets."
   ]
  },
  {
   "cell_type": "code",
   "execution_count": 81,
   "id": "18a43c03",
   "metadata": {},
   "outputs": [
    {
     "name": "stdout",
     "output_type": "stream",
     "text": [
      "Enter your income: RS4500000\n",
      "Your income tax is: RS1629427.6\n"
     ]
    }
   ],
   "source": [
    "tax_brackets = [(0, 9875, 0.10), (9876, 40125, 0.12), (40126, 85525, 0.22), (85526, 163300, 0.24), (163301, 207350, 0.32), (207351, 518400, 0.35), (518401, float('inf'), 0.37)]\n",
    "income = float(input(\"Enter your income: RS\"))\n",
    "tax = 0\n",
    "remaining_income = income\n",
    "\n",
    "for bracket in tax_brackets:\n",
    "    min_income, max_income, rate = bracket\n",
    "    if income > min_income:\n",
    "        taxable_income = min(remaining_income, max_income - min_income)\n",
    "        tax += taxable_income * rate\n",
    "        remaining_income -= taxable_income\n",
    "    else:\n",
    "        break\n",
    "\n",
    "income_tax = tax\n",
    "print(f\"Your income tax is: RS{income_tax}\")\n"
   ]
  },
  {
   "cell_type": "code",
   "execution_count": 109,
   "id": "57b37166",
   "metadata": {},
   "outputs": [],
   "source": [
    "# 22. Write a program that simulates a rock-paper-scissors game against the computer."
   ]
  },
  {
   "cell_type": "code",
   "execution_count": 82,
   "id": "d739edde",
   "metadata": {},
   "outputs": [
    {
     "name": "stdout",
     "output_type": "stream",
     "text": [
      "Rock, Paper, Scissors - Shoot!\n",
      "Enter your choice (rock, paper, scissors): rock\n",
      "Computer chose: paper\n",
      "Rock, Paper, Scissors - Shoot!\n",
      "Enter your choice (rock, paper, scissors): scissors\n",
      "Computer chose: paper\n",
      "Rock, Paper, Scissors - Shoot!\n"
     ]
    },
    {
     "ename": "KeyboardInterrupt",
     "evalue": "Interrupted by user",
     "output_type": "error",
     "traceback": [
      "\u001b[0;31m---------------------------------------------------------------------------\u001b[0m",
      "\u001b[0;31mKeyboardInterrupt\u001b[0m                         Traceback (most recent call last)",
      "Cell \u001b[0;32mIn[82], line 20\u001b[0m\n\u001b[1;32m     18\u001b[0m \u001b[38;5;28;01mwhile\u001b[39;00m \u001b[38;5;28;01mTrue\u001b[39;00m:\n\u001b[1;32m     19\u001b[0m     \u001b[38;5;28mprint\u001b[39m(\u001b[38;5;124m\"\u001b[39m\u001b[38;5;124mRock, Paper, Scissors - Shoot!\u001b[39m\u001b[38;5;124m\"\u001b[39m)\n\u001b[0;32m---> 20\u001b[0m     player_choice \u001b[38;5;241m=\u001b[39m \u001b[38;5;28minput\u001b[39m(\u001b[38;5;124m\"\u001b[39m\u001b[38;5;124mEnter your choice (rock, paper, scissors): \u001b[39m\u001b[38;5;124m\"\u001b[39m)\u001b[38;5;241m.\u001b[39mlower()\n\u001b[1;32m     22\u001b[0m     \u001b[38;5;28;01mif\u001b[39;00m player_choice \u001b[38;5;129;01mnot\u001b[39;00m \u001b[38;5;129;01min\u001b[39;00m [\u001b[38;5;124m\"\u001b[39m\u001b[38;5;124mrock\u001b[39m\u001b[38;5;124m\"\u001b[39m, \u001b[38;5;124m\"\u001b[39m\u001b[38;5;124mpaper\u001b[39m\u001b[38;5;124m\"\u001b[39m, \u001b[38;5;124m\"\u001b[39m\u001b[38;5;124mscissors\u001b[39m\u001b[38;5;124m\"\u001b[39m]:\n\u001b[1;32m     23\u001b[0m         \u001b[38;5;28mprint\u001b[39m(\u001b[38;5;124m\"\u001b[39m\u001b[38;5;124mInvalid choice. Please enter \u001b[39m\u001b[38;5;124m'\u001b[39m\u001b[38;5;124mrock\u001b[39m\u001b[38;5;124m'\u001b[39m\u001b[38;5;124m, \u001b[39m\u001b[38;5;124m'\u001b[39m\u001b[38;5;124mpaper\u001b[39m\u001b[38;5;124m'\u001b[39m\u001b[38;5;124m, or \u001b[39m\u001b[38;5;124m'\u001b[39m\u001b[38;5;124mscissors\u001b[39m\u001b[38;5;124m'\u001b[39m\u001b[38;5;124m.\u001b[39m\u001b[38;5;124m\"\u001b[39m)\n",
      "File \u001b[0;32m~/anaconda3/lib/python3.11/site-packages/ipykernel/kernelbase.py:1175\u001b[0m, in \u001b[0;36mKernel.raw_input\u001b[0;34m(self, prompt)\u001b[0m\n\u001b[1;32m   1171\u001b[0m \u001b[38;5;28;01mif\u001b[39;00m \u001b[38;5;129;01mnot\u001b[39;00m \u001b[38;5;28mself\u001b[39m\u001b[38;5;241m.\u001b[39m_allow_stdin:\n\u001b[1;32m   1172\u001b[0m     \u001b[38;5;28;01mraise\u001b[39;00m StdinNotImplementedError(\n\u001b[1;32m   1173\u001b[0m         \u001b[38;5;124m\"\u001b[39m\u001b[38;5;124mraw_input was called, but this frontend does not support input requests.\u001b[39m\u001b[38;5;124m\"\u001b[39m\n\u001b[1;32m   1174\u001b[0m     )\n\u001b[0;32m-> 1175\u001b[0m \u001b[38;5;28;01mreturn\u001b[39;00m \u001b[38;5;28mself\u001b[39m\u001b[38;5;241m.\u001b[39m_input_request(\n\u001b[1;32m   1176\u001b[0m     \u001b[38;5;28mstr\u001b[39m(prompt),\n\u001b[1;32m   1177\u001b[0m     \u001b[38;5;28mself\u001b[39m\u001b[38;5;241m.\u001b[39m_parent_ident[\u001b[38;5;124m\"\u001b[39m\u001b[38;5;124mshell\u001b[39m\u001b[38;5;124m\"\u001b[39m],\n\u001b[1;32m   1178\u001b[0m     \u001b[38;5;28mself\u001b[39m\u001b[38;5;241m.\u001b[39mget_parent(\u001b[38;5;124m\"\u001b[39m\u001b[38;5;124mshell\u001b[39m\u001b[38;5;124m\"\u001b[39m),\n\u001b[1;32m   1179\u001b[0m     password\u001b[38;5;241m=\u001b[39m\u001b[38;5;28;01mFalse\u001b[39;00m,\n\u001b[1;32m   1180\u001b[0m )\n",
      "File \u001b[0;32m~/anaconda3/lib/python3.11/site-packages/ipykernel/kernelbase.py:1217\u001b[0m, in \u001b[0;36mKernel._input_request\u001b[0;34m(self, prompt, ident, parent, password)\u001b[0m\n\u001b[1;32m   1214\u001b[0m             \u001b[38;5;28;01mbreak\u001b[39;00m\n\u001b[1;32m   1215\u001b[0m \u001b[38;5;28;01mexcept\u001b[39;00m \u001b[38;5;167;01mKeyboardInterrupt\u001b[39;00m:\n\u001b[1;32m   1216\u001b[0m     \u001b[38;5;66;03m# re-raise KeyboardInterrupt, to truncate traceback\u001b[39;00m\n\u001b[0;32m-> 1217\u001b[0m     \u001b[38;5;28;01mraise\u001b[39;00m \u001b[38;5;167;01mKeyboardInterrupt\u001b[39;00m(\u001b[38;5;124m\"\u001b[39m\u001b[38;5;124mInterrupted by user\u001b[39m\u001b[38;5;124m\"\u001b[39m) \u001b[38;5;28;01mfrom\u001b[39;00m \u001b[38;5;28;01mNone\u001b[39;00m\n\u001b[1;32m   1218\u001b[0m \u001b[38;5;28;01mexcept\u001b[39;00m \u001b[38;5;167;01mException\u001b[39;00m:\n\u001b[1;32m   1219\u001b[0m     \u001b[38;5;28mself\u001b[39m\u001b[38;5;241m.\u001b[39mlog\u001b[38;5;241m.\u001b[39mwarning(\u001b[38;5;124m\"\u001b[39m\u001b[38;5;124mInvalid Message:\u001b[39m\u001b[38;5;124m\"\u001b[39m, exc_info\u001b[38;5;241m=\u001b[39m\u001b[38;5;28;01mTrue\u001b[39;00m)\n",
      "\u001b[0;31mKeyboardInterrupt\u001b[0m: Interrupted by user"
     ]
    }
   ],
   "source": [
    "import random\n",
    "\n",
    "def get_computer_choice():\n",
    "    choices = [\"rock\", \"paper\", \"scissors\"]\n",
    "    computer_choice = random.choice(choices)\n",
    "    return computer_choice\n",
    "\n",
    "def determine_winner(player_choice, computer_choice):\n",
    "    if player_choice == computer_choice:\n",
    "        return \"It's a tie!\"\n",
    "    elif player_choice == \"rock\":\n",
    "        return \"You win!\" if computer_choice == \"scissors\" else \"Computer wins!\"\n",
    "    elif player_choice == \"paper\":\n",
    "        return \"You win!\" if computer_choice == \"rock\" else \"Computer wins!\"\n",
    "    elif player_choice == \"scissors\":\n",
    "        return \"You win!\" if computer_choice == \"paper\" else \"Computer wins!\"\n",
    "\n",
    "while True:\n",
    "    print(\"Rock, Paper, Scissors - Shoot!\")\n",
    "    player_choice = input(\"Enter your choice (rock, paper, scissors): \").lower()\n",
    "\n",
    "    if player_choice not in [\"rock\", \"paper\", \"scissors\"]:\n",
    "        print(\"Invalid choice. Please enter 'rock', 'paper', or 'scissors'.\")\n",
    "        continue\n",
    "\n",
    "    computer_choice = get_computer_choice()\n",
    "    print(f\"Computer chose: {computer_choice}\")\n",
    "\n",
    "    result = determine_winner\n"
   ]
  },
  {
   "cell_type": "code",
   "execution_count": 110,
   "id": "c8553667",
   "metadata": {},
   "outputs": [],
   "source": [
    "# 23. Develop a program that generates a random password based on user preferences (length, complexity)."
   ]
  },
  {
   "cell_type": "code",
   "execution_count": null,
   "id": "f322c093",
   "metadata": {},
   "outputs": [],
   "source": [
    "import random\n",
    "import string\n",
    "\n",
    "def generate_password(length, use_lowercase, use_uppercase, use_digits, use_special_chars):\n",
    "    lowercase_chars = string.ascii_lowercase if use_lowercase else ''\n",
    "    uppercase_chars = string.ascii_uppercase if use_uppercase else ''\n",
    "    digit_chars = string.digits if use_digits else ''\n",
    "    special_chars = string.punctuation if use_special_chars else ''\n",
    "\n",
    "    all_chars = lowercase_chars + uppercase_chars + digit_chars + special_chars\n",
    "\n",
    "    if not all_chars:\n",
    "        return \"Password complexity is too low. Please select at least one character type.\"\n",
    "\n",
    "    password = ''.join(random.choice(all_chars) for _ in range(length))\n",
    "\n",
    "    return password\n",
    "\n",
    "length = int(input(\"Enter the desired password length: \"))\n",
    "use_lowercase = input(\"Use lowercase letters? (y/n): \").lower() == 'y'\n",
    "use_uppercase = input(\"Use uppercase letters? (y/n): \").lower() == 'y'\n",
    "use_digits = input(\"Use digits? (y/n): \").lower() == 'y'\n",
    "use_special_chars = input(\"Use special characters? (y/n): \").lower() == 'y'\n",
    "\n",
    "password = generate_password(length, use_lowercase, use_uppercase, use_digits, use_special_chars)\n",
    "print(\"Generated Password:\", password)\n"
   ]
  },
  {
   "cell_type": "code",
   "execution_count": 111,
   "id": "16a9c980",
   "metadata": {},
   "outputs": [],
   "source": [
    "# 24. Create a program that implements a simple text-based adventure game with branching scenarios."
   ]
  },
  {
   "cell_type": "code",
   "execution_count": null,
   "id": "35dacfa2",
   "metadata": {},
   "outputs": [],
   "source": []
  },
  {
   "cell_type": "code",
   "execution_count": 112,
   "id": "488c8606",
   "metadata": {},
   "outputs": [],
   "source": [
    "# 25. Build a program that solves a linear equation for x, considering different cases."
   ]
  },
  {
   "cell_type": "code",
   "execution_count": 83,
   "id": "23cd7240",
   "metadata": {},
   "outputs": [
    {
     "name": "stdout",
     "output_type": "stream",
     "text": [
      "Linear Equation Solver: ax + b = c\n",
      "Enter the value of 'a': 6\n",
      "Enter the value of 'b': 7\n",
      "Enter the value of 'c': 8\n",
      "The solution is x = 0.16666666666666666\n"
     ]
    }
   ],
   "source": [
    "def linear(a, b, c):\n",
    "    if a == 0:\n",
    "        if b == c:\n",
    "            return \"Infinite solutions (identity equation)\"\n",
    "        else:\n",
    "            return \"No solution (contradictory equation)\"\n",
    "    else:\n",
    "        x = (c - b) / a\n",
    "        return f\"The solution is x = {x}\"\n",
    "\n",
    "print(\"Linear Equation Solver: ax + b = c\")\n",
    "a = float(input(\"Enter the value of 'a': \"))\n",
    "b = float(input(\"Enter the value of 'b': \"))\n",
    "c = float(input(\"Enter the value of 'c': \"))\n",
    "\n",
    "result = linear(a, b, c)\n",
    "print(result)\n"
   ]
  },
  {
   "cell_type": "code",
   "execution_count": 113,
   "id": "a2e1ee63",
   "metadata": {},
   "outputs": [],
   "source": [
    "# 26. Write a program that simulates a basic quiz game with multiple-choice questions and scoring."
   ]
  },
  {
   "cell_type": "code",
   "execution_count": null,
   "id": "cec3a57a",
   "metadata": {},
   "outputs": [],
   "source": [
    "score = 0\n",
    "\n",
    "# Question 1\n",
    "print(\"Question 1: What is the capital of France?\")\n",
    "print(\"A. London\")\n",
    "print(\"B. Madrid\")\n",
    "print(\"C. Paris\")\n",
    "print(\"D. Rome\")\n",
    "\n",
    "user_answer = input(\"Your choice: \")\n",
    "\n",
    "if user_answer.upper() == \"C\":\n",
    "    print(\"Correct!\")\n",
    "    score += 1\n",
    "else:\n",
    "    print(\"Incorrect. The correct answer is C.\\n\")\n",
    "\n",
    "# Question 2\n",
    "print(\"Question 2: Which planet is known as the Red Planet?\")\n",
    "print(\"A. Earth\")\n",
    "print(\"B. Mars\")\n",
    "print(\"C. Venus\")\n",
    "print(\"D. Jupiter\")\n",
    "\n",
    "user_answer = input(\"Your choice: \")\n",
    "\n",
    "if user_answer.upper() == \"B\":\n",
    "    print(\"Correct!\")\n",
    "    score += 1\n",
    "else:\n",
    "    print(\"Incorrect. The correct answer is B.\\n\")\n",
    "\n",
    "# Question 3\n",
    "print(\"Question 3: What is the largest mammal in the world?\")\n",
    "print(\"A. Giraffe\")\n",
    "print(\"B. Elephant\")\n",
    "print(\"C. Blue Whale\")\n",
    "print(\"D. Dolphin\")\n",
    "\n",
    "user_answer = input(\"Your choice: \")\n",
    "\n",
    "if user_answer.upper() == \"C\":\n",
    "    print(\"Correct!\")\n",
    "    score += 1\n",
    "else:\n",
    "    print(\"Incorrect. The correct answer is C.\\n\")\n",
    "\n",
    "print(f\"You've completed the quiz! Your score is: {score}/3\")\n"
   ]
  },
  {
   "cell_type": "code",
   "execution_count": 114,
   "id": "6d2511cb",
   "metadata": {},
   "outputs": [],
   "source": [
    "# 27. Develop a program that determines whether a given year is a prime number or not."
   ]
  },
  {
   "cell_type": "code",
   "execution_count": 85,
   "id": "16c725ff",
   "metadata": {},
   "outputs": [
    {
     "name": "stdout",
     "output_type": "stream",
     "text": [
      "2041 is not a prime year.\n"
     ]
    }
   ],
   "source": [
    "year = 2041\n",
    "\n",
    "def is_prime(year):\n",
    "    if year <= 1:\n",
    "        return False  \n",
    "    if year <= 3:\n",
    "        return True  \n",
    "\n",
    "    if year % 2 == 0:\n",
    "        return False  \n",
    "\n",
    "    for i in range(3, int(year**0.5) + 1, 2):\n",
    "        if year % i == 0:\n",
    "            return False\n",
    "\n",
    "    return True\n",
    "\n",
    "\n",
    "if is_prime(year):\n",
    "    print(f\"{year} is a prime year.\")\n",
    "else:\n",
    "    print(f\"{year} is not a prime year.\")\n"
   ]
  },
  {
   "cell_type": "code",
   "execution_count": 115,
   "id": "6e878661",
   "metadata": {},
   "outputs": [],
   "source": [
    "# 28. Create a program that sorts three numbers in ascending order using conditional statements."
   ]
  },
  {
   "cell_type": "code",
   "execution_count": 86,
   "id": "22db1518",
   "metadata": {},
   "outputs": [
    {
     "name": "stdout",
     "output_type": "stream",
     "text": [
      "Enter the first number: 67\n",
      "Enter the second number: 78\n",
      "Enter the third number: 89\n",
      "Numbers in ascending order: (67.0, 78.0, 89.0)\n"
     ]
    }
   ],
   "source": [
    "num1 = float(input(\"Enter the first number: \"))\n",
    "num2 = float(input(\"Enter the second number: \"))\n",
    "num3 = float(input(\"Enter the third number: \"))\n",
    "\n",
    "if num1 <= num2 <= num3:\n",
    "    sorted_nums = (num1, num2, num3)\n",
    "elif num1 <= num3 <= num2:\n",
    "    sorted_nums = (num1, num3, num2)\n",
    "elif num2 <= num1 <= num3:\n",
    "    sorted_nums = (num2, num1, num3)\n",
    "elif num2 <= num3 <= num1:\n",
    "    sorted_nums = (num2, num3, num1)\n",
    "elif num3 <= num1 <= num2:\n",
    "    sorted_nums = (num3, num1, num2)\n",
    "else:\n",
    "    sorted_nums = (num3, num2, num1)\n",
    "\n",
    "print(\"Numbers in ascending order:\", sorted_nums)\n"
   ]
  },
  {
   "cell_type": "code",
   "execution_count": 116,
   "id": "e777b076",
   "metadata": {},
   "outputs": [],
   "source": [
    "# 29. Build a program that determines the roots of a quartic equation using numerical methods."
   ]
  },
  {
   "cell_type": "code",
   "execution_count": 87,
   "id": "b43b464b",
   "metadata": {},
   "outputs": [
    {
     "name": "stdout",
     "output_type": "stream",
     "text": [
      "The roots are complex: -1.75 + 1.1989578808281798i and -1.75 - 1.1989578808281798i\n"
     ]
    }
   ],
   "source": [
    "import math\n",
    "\n",
    "a = 2\n",
    "b = 7\n",
    "c = 9\n",
    "discriminant = b**2 - 4*a*c\n",
    "if discriminant > 0:\n",
    "    root1 = (-b + math.sqrt(discriminant)) / (2*a)\n",
    "    root2 = (-b - math.sqrt(discriminant)) / (2*a)\n",
    "    print(f\"The roots are real and distinct: {root1} and {root2}\")\n",
    "elif discriminant == 0:\n",
    "    root1 = -b / (2*a)\n",
    "    print(f\"The root is real and equal: {root1}\")\n",
    "else:\n",
    "    real_part = -b / (2*a)\n",
    "    imaginary_part = math.sqrt(abs(discriminant)) / (2*a)\n",
    "    print(f\"The roots are complex: {real_part} + {imaginary_part}i and {real_part} - {imaginary_part}i\")"
   ]
  },
  {
   "cell_type": "code",
   "execution_count": 117,
   "id": "d7936a51",
   "metadata": {},
   "outputs": [],
   "source": [
    "# 30. Write a program that calculates the BMI (Body Mass Index) and provides health recommendations based on the user's input."
   ]
  },
  {
   "cell_type": "code",
   "execution_count": 88,
   "id": "99d491d2",
   "metadata": {},
   "outputs": [
    {
     "name": "stdout",
     "output_type": "stream",
     "text": [
      "The person's BMI is 28.37, which falls into the category of overweight.\n"
     ]
    }
   ],
   "source": [
    "weight = 82\n",
    "height = 1.7 # In meters\n",
    "bmi = weight / (height ** 2)\n",
    "\n",
    "if bmi < 18.5:\n",
    "    category = \"underweight\"\n",
    "elif 18.5 <= bmi < 24.9:\n",
    "    category = \"normal weight\"\n",
    "elif 25 <= bmi < 29.9:\n",
    "    category = \"overweight\"\n",
    "else:\n",
    "    category = \"obese\"\n",
    "\n",
    "print(f\"The person's BMI is {bmi:.2f}, which falls into the category of {category}.\")\n"
   ]
  },
  {
   "cell_type": "markdown",
   "id": "440e6893",
   "metadata": {},
   "source": [
    "# Challenge Level:"
   ]
  },
  {
   "cell_type": "code",
   "execution_count": 137,
   "id": "2f4e3530",
   "metadata": {},
   "outputs": [],
   "source": [
    "# 31. Create a program that validates a password based on complexity rules (length, characters, etc.)."
   ]
  },
  {
   "cell_type": "code",
   "execution_count": 89,
   "id": "56fad99d",
   "metadata": {},
   "outputs": [
    {
     "name": "stdout",
     "output_type": "stream",
     "text": [
      "Enter a password: fefed%^%76476A\n",
      "Password is valid.\n"
     ]
    }
   ],
   "source": [
    "password = input(\"Enter a password: \")\n",
    "\n",
    "min_length = 8\n",
    "has_lowercase = False\n",
    "has_uppercase = False\n",
    "has_digit = False\n",
    "has_special_char = False\n",
    "\n",
    "if len(password) < min_length:\n",
    "    print(\"Password is too short. It must be at least 8 characters long.\")\n",
    "else:\n",
    "    for char in password:\n",
    "        if char.islower():\n",
    "            has_lowercase = True\n",
    "        elif char.isupper():\n",
    "            has_uppercase = True\n",
    "        elif char.isdigit():\n",
    "            has_digit = True\n",
    "        elif char in \"!@#$%^&*()-_+=<>?\":\n",
    "            has_special_char = True\n",
    "\n",
    "    if not has_lowercase:\n",
    "        print(\"Password must contain at least one lowercase letter.\")\n",
    "    if not has_uppercase:\n",
    "        print(\"Password must contain at least one uppercase letter.\")\n",
    "    if not has_digit:\n",
    "        print(\"Password must contain at least one digit.\")\n",
    "    if not has_special_char:\n",
    "        print(\"Password must contain at least one special character (!@#$%^&*()-_+=<>?).\")\n",
    "\n",
    "if len(password) >= min_length and has_lowercase and has_uppercase and has_digit and has_special_char:\n",
    "    print(\"Password is valid.\")\n",
    "else:\n",
    "    print(\"Password is not valid.\")\n"
   ]
  },
  {
   "cell_type": "code",
   "execution_count": 136,
   "id": "86bb00e7",
   "metadata": {},
   "outputs": [],
   "source": [
    "# 32. Develop a program that performs matrix addition and subtraction based on user input."
   ]
  },
  {
   "cell_type": "code",
   "execution_count": 94,
   "id": "3d5b4429",
   "metadata": {},
   "outputs": [
    {
     "name": "stdout",
     "output_type": "stream",
     "text": [
      "Enter the number of rows: 2\n",
      "Enter the number of columns: 2\n",
      "Input Matrix A:\n",
      "Enter 2x2 matrix:\n",
      "Enter element at row 1, column 1: 2\n",
      "Enter element at row 1, column 2: 3\n",
      "Enter element at row 2, column 1: 4\n",
      "Enter element at row 2, column 2: 5\n",
      "Input Matrix B:\n",
      "Enter 2x2 matrix:\n",
      "Enter element at row 1, column 1: 4\n",
      "Enter element at row 1, column 2: 5\n",
      "Enter element at row 2, column 1: 6\n",
      "Enter element at row 2, column 2: 8\n",
      "Do you want to (1) add or (2) subtract the matrices? Enter 1 or 2: 1\n",
      "\n",
      "Resulting Matrix (A + B):\n",
      "6.0 8.0\n",
      "10.0 13.0\n"
     ]
    }
   ],
   "source": [
    "def input_matrix(rows, columns):\n",
    "    matrix = []\n",
    "    print(f\"Enter {rows}x{columns} matrix:\")\n",
    "    for i in range(rows):\n",
    "        row = []\n",
    "        for j in range(columns):\n",
    "            element = float(input(f\"Enter element at row {i+1}, column {j+1}: \"))\n",
    "            row.append(element)\n",
    "        matrix.append(row)\n",
    "    return matrix\n",
    "\n",
    "def display_matrix(matrix):\n",
    "    for row in matrix:\n",
    "        print(\" \".join(map(str, row)))\n",
    "\n",
    "def add_matrices(matrix1, matrix2):\n",
    "    result = []\n",
    "    for i in range(len(matrix1)):\n",
    "        row = []\n",
    "        for j in range(len(matrix1[0])):\n",
    "            row.append(matrix1[i][j] + matrix2[i][j])\n",
    "        result.append(row)\n",
    "    return result\n",
    "\n",
    "def subtract_matrices(matrix1, matrix2):\n",
    "    result = []\n",
    "    for i in range(len(matrix1)):\n",
    "        row = []\n",
    "        for j in range(len(matrix1[0])):\n",
    "            row.append(matrix1[i][j] - matrix2[i][j])\n",
    "        result.append(row)\n",
    "    return result\n",
    "\n",
    "rows = int(input(\"Enter the number of rows: \"))\n",
    "columns = int(input(\"Enter the number of columns: \"))\n",
    "\n",
    "print(\"Input Matrix A:\")\n",
    "matrix_A = input_matrix(rows, columns)\n",
    "\n",
    "print(\"Input Matrix B:\")\n",
    "matrix_B = input_matrix(rows, columns)\n",
    "\n",
    "operation = input(\"Do you want to (1) add or (2) subtract the matrices? Enter 1 or 2: \")\n",
    "\n",
    "if operation == \"1\":\n",
    "    result_matrix = add_matrices(matrix_A, matrix_B)\n",
    "    print(\"\\nResulting Matrix (A + B):\")\n",
    "    display_matrix(result_matrix)\n",
    "elif operation == \"2\":\n",
    "    result_matrix = subtract_matrices(matrix_A, matrix_B)\n",
    "    print(\"\\nResulting Matrix (A - B):\")\n",
    "    display_matrix(result_matrix)\n",
    "else:\n",
    "    print(\"Invalid input. Please choose 1 for addition or 2 for subtraction.\")\n"
   ]
  },
  {
   "cell_type": "code",
   "execution_count": 135,
   "id": "a3776648",
   "metadata": {},
   "outputs": [],
   "source": [
    "# 33. Write a program that calculates the greatest common divisor (GCD) of two numbers using the Euclidean algorithm."
   ]
  },
  {
   "cell_type": "code",
   "execution_count": 96,
   "id": "3ff3e484",
   "metadata": {},
   "outputs": [
    {
     "name": "stdout",
     "output_type": "stream",
     "text": [
      "The GCD of 108 and 78 is 6\n"
     ]
    }
   ],
   "source": [
    "# Function to calculate the GCD using the Euclidean algorithm\n",
    "def gcd_euclidean(a, b):\n",
    "    while b:\n",
    "        a, b = b, a % b\n",
    "    return a\n",
    "\n",
    "num1 = 108\n",
    "num2 = 78\n",
    "\n",
    "gcd = gcd_euclidean(num1, num2)\n",
    "print(f\"The GCD of {num1} and {num2} is {gcd}\")\n"
   ]
  },
  {
   "cell_type": "code",
   "execution_count": 134,
   "id": "c6af5ef6",
   "metadata": {},
   "outputs": [],
   "source": [
    "# 34. Build a program that performs matrix multiplication using nested loops and conditional statements."
   ]
  },
  {
   "cell_type": "code",
   "execution_count": 98,
   "id": "44609447",
   "metadata": {},
   "outputs": [
    {
     "name": "stdout",
     "output_type": "stream",
     "text": [
      "Input Matrix A:\n",
      "Enter element at row 1, column 1: 2\n",
      "Enter element at row 1, column 2: 3\n",
      "Enter element at row 2, column 1: 4\n",
      "Enter element at row 2, column 2: 5\n",
      "Input Matrix B:\n",
      "Enter element at row 1, column 1: 6\n",
      "Enter element at row 1, column 2: 7\n",
      "Enter element at row 2, column 1: 8\n",
      "Enter element at row 2, column 2: 5\n",
      "\n",
      "Resulting Matrix (A * B):\n",
      "36.0 29.0\n",
      "64.0 53.0\n"
     ]
    }
   ],
   "source": [
    "r1 = 2\n",
    "c1 = 2\n",
    "r2 = 2\n",
    "c2 = 2\n",
    "\n",
    "if columns1 != rows2:\n",
    "    print(\"Matrix multiplication is not possible.\")\n",
    "else:\n",
    "    print(\"Input Matrix A:\")\n",
    "    matrix_A = []\n",
    "    for i in range(r1):\n",
    "        row = []\n",
    "        for j in range(c1):\n",
    "            element = float(input(f\"Enter element at row {i + 1}, column {j + 1}: \"))\n",
    "            row.append(element)\n",
    "        matrix_A.append(row)\n",
    "\n",
    "    print(\"Input Matrix B:\")\n",
    "    matrix_B = []\n",
    "    for i in range(r2):\n",
    "        row = []\n",
    "        for j in range(c2):\n",
    "            element = float(input(f\"Enter element at row {i + 1}, column {j + 1}: \"))\n",
    "            row.append(element)\n",
    "        matrix_B.append(row)\n",
    "\n",
    "    result_matrix = []\n",
    "    for i in range(r1):\n",
    "        row = []\n",
    "        for j in range(c2):\n",
    "            row.append(0)\n",
    "        result_matrix.append(row)\n",
    "\n",
    "    for i in range(r1):\n",
    "        for j in range(c2):\n",
    "            for k in range(c1):\n",
    "                result_matrix[i][j] += matrix_A[i][k] * matrix_B[k][j]\n",
    "\n",
    "    print(\"\\nResulting Matrix (A * B):\")\n",
    "    for row in result_matrix:\n",
    "        print(\" \".join(map(str, row)))\n"
   ]
  },
  {
   "cell_type": "code",
   "execution_count": 132,
   "id": "05a8f1b2",
   "metadata": {},
   "outputs": [],
   "source": [
    "# 35. Create a program that simulates a basic text-based tic-tac-toe game against the computer."
   ]
  },
  {
   "cell_type": "code",
   "execution_count": 101,
   "id": "c7152520",
   "metadata": {},
   "outputs": [
    {
     "name": "stdout",
     "output_type": "stream",
     "text": [
      "  ...   ...  \n",
      "  ...   ...  \n",
      "  ...   ...  \n",
      "Enter your move (0-8): 3\n",
      "  ...   ...  \n",
      "X ...   ... O\n",
      "  ...   ...  \n",
      "Enter your move (0-8): 6\n",
      "  ...   ...  \n",
      "X ... O ... O\n",
      "X ...   ...  \n",
      "Enter your move (0-8): 0\n",
      "X ...   ...  \n",
      "X ... O ... O\n",
      "X ...   ...  \n",
      "Congratulations! You win!\n"
     ]
    }
   ],
   "source": [
    "import random\n",
    "\n",
    "board = [\" \" for _ in range(9)]\n",
    "\n",
    "def display_board(board):\n",
    "    print(f\"{board[0]} ... {board[1]} ... {board[2]}\")\n",
    "    print(f\"{board[3]} ... {board[4]} ... {board[5]}\")\n",
    "    print(f\"{board[6]} ... {board[7]} ... {board[8]}\")\n",
    "\n",
    "def check_win(board, player):\n",
    "    win_combinations = [\n",
    "        [0, 1, 2], [3, 4, 5], [6, 7, 8],  # Rows\n",
    "        [0, 3, 6], [1, 4, 7], [2, 5, 8],  # Columns\n",
    "        [0, 4, 8], [2, 4, 6]             # Diagonals\n",
    "    ]\n",
    "    for combo in win_combinations:\n",
    "        if all(board[i] == player for i in combo):\n",
    "            return True\n",
    "    return False\n",
    "\n",
    "def is_board_full(board):\n",
    "    return \" \" not in board\n",
    "\n",
    "def comp_move(board):\n",
    "    available_moves = [i for i, val in enumerate(board) if val == \" \"]\n",
    "    return random.choice(available_moves)\n",
    "\n",
    "player_symbol = \"X\"\n",
    "comp_symbol = \"O\"\n",
    "\n",
    "while True:\n",
    "    display_board(board)\n",
    "    player_move = int(input(\"Enter your move (0-8): \"))\n",
    "    if board[player_move] == \" \":\n",
    "        board[player_move] = player_symbol\n",
    "    else:\n",
    "        print(\"Invalid move. Try again.\")\n",
    "        continue\n",
    "\n",
    "    if check_win(board, player_symbol):\n",
    "        display_board(board)\n",
    "        print(\"Congratulations! You win!\")\n",
    "        break\n",
    "\n",
    "    if is_board_full(board):\n",
    "        display_board(board)\n",
    "        print(\"It's a tie!\")\n",
    "        break\n",
    "\n",
    "    comp_move_index = comp_move(board)\n",
    "    board[comp_move_index] = comp_symbol\n",
    "\n",
    "    if check_win(board, comp_symbol):\n",
    "        display_board(board)\n",
    "        print(\"Computer wins! You lose!\")\n",
    "        break\n"
   ]
  },
  {
   "cell_type": "code",
   "execution_count": 131,
   "id": "0a9f9762",
   "metadata": {},
   "outputs": [],
   "source": [
    "# 36. Write a program that generates Fibonacci numbers up to a specified term using iterative methods."
   ]
  },
  {
   "cell_type": "code",
   "execution_count": 123,
   "id": "bcaccbee",
   "metadata": {},
   "outputs": [
    {
     "name": "stdout",
     "output_type": "stream",
     "text": [
      "Fibonacci sequence up to the 7 term(s):\n",
      "0 1 1 2 3 5 8 "
     ]
    }
   ],
   "source": [
    "num = 7\n",
    "fibo_sequence = [0, 1]\n",
    "\n",
    "for i in range(2, num):\n",
    "    next_num = fibo_sequence[i - 1] + fibo_sequence[i - 2]\n",
    "    fibo_sequence.append(next_num)\n",
    "\n",
    "print(\"Fibonacci sequence up to the\", num, \"term(s):\")\n",
    "for term in fibo_sequence:\n",
    "    print(term, end=\" \")\n"
   ]
  },
  {
   "cell_type": "code",
   "execution_count": 130,
   "id": "5ba1bf92",
   "metadata": {},
   "outputs": [],
   "source": [
    "# 37. Develop a program that calculates the nth term of the Fibonacci sequence using memoization."
   ]
  },
  {
   "cell_type": "code",
   "execution_count": 104,
   "id": "76c7d222",
   "metadata": {},
   "outputs": [
    {
     "name": "stdout",
     "output_type": "stream",
     "text": [
      "The 7th Fibonacci term is: 13\n"
     ]
    }
   ],
   "source": [
    "def fibo(n, memo={}):\n",
    "    if n in memo:\n",
    "        return memo[n]\n",
    "    if n <= 2:\n",
    "        return 1\n",
    "    memo[n] = fibo(n - 1, memo) + fibo(n - 2, memo)\n",
    "    return memo[n]\n",
    "\n",
    "n = 7\n",
    "result = fibo(n)\n",
    "print(f\"The {n}th Fibonacci term is: {result}\")\n"
   ]
  },
  {
   "cell_type": "code",
   "execution_count": 129,
   "id": "98ce803b",
   "metadata": {},
   "outputs": [],
   "source": [
    "# 38. Create a program that generates a calendar for a given month and year using conditional statements."
   ]
  },
  {
   "cell_type": "code",
   "execution_count": 122,
   "id": "89f16068",
   "metadata": {},
   "outputs": [
    {
     "name": "stdout",
     "output_type": "stream",
     "text": [
      "Calendar for November 2028:\n",
      "\n",
      "   November 2028\n",
      "Mo Tu We Th Fr Sa Su\n",
      "       1  2  3  4  5\n",
      " 6  7  8  9 10 11 12\n",
      "13 14 15 16 17 18 19\n",
      "20 21 22 23 24 25 26\n",
      "27 28 29 30\n",
      "\n"
     ]
    }
   ],
   "source": [
    "import calendar\n",
    "\n",
    "year = 2028\n",
    "month = 11\n",
    "\n",
    "def generate_calendar(year, month):\n",
    "    cal = calendar.month(year, month)\n",
    "\n",
    "    # Print the calendar\n",
    "    print(f\"Calendar for {calendar.month_name[month]} {year}:\\n\")\n",
    "    print(cal)\n",
    "\n",
    "if 1 <= month <= 12:\n",
    "    generate_calendar(year, month)\n",
    "else:\n",
    "    print(\"Invalid month. Please enter a month between 1 and 12.\")\n"
   ]
  },
  {
   "cell_type": "code",
   "execution_count": 128,
   "id": "07c284c7",
   "metadata": {},
   "outputs": [],
   "source": [
    "# 39. Build a program that simulates a basic text-based blackjack game against the computer."
   ]
  },
  {
   "cell_type": "code",
   "execution_count": null,
   "id": "1f0c9c46",
   "metadata": {},
   "outputs": [],
   "source": []
  },
  {
   "cell_type": "code",
   "execution_count": 127,
   "id": "ceed7368",
   "metadata": {},
   "outputs": [],
   "source": [
    "# 40. Write a program that generates the prime factors of a given number using trial division."
   ]
  },
  {
   "cell_type": "code",
   "execution_count": 136,
   "id": "e5fd1cb1",
   "metadata": {},
   "outputs": [
    {
     "name": "stdout",
     "output_type": "stream",
     "text": [
      "Prime factors are: [5, 19]\n"
     ]
    }
   ],
   "source": [
    "num = 95\n",
    "\n",
    "if num <= 1:\n",
    "    print(\"Prime factors are not defined for numbers less than or equal to 1.\")\n",
    "else:\n",
    "    factors = []\n",
    "\n",
    "    while num % 2 == 0:\n",
    "        factors.append(2)\n",
    "        num //= 2\n",
    "    \n",
    "    for i in range(3, int(num**0.5) + 1, 2):\n",
    "        while num % i == 0:\n",
    "            factors.append(i)\n",
    "            num //= i\n",
    "    \n",
    "    if num > 1:\n",
    "        factors.append(num)\n",
    "    \n",
    "    print(f\"Prime factors are: {factors}\")\n"
   ]
  }
 ],
 "metadata": {
  "kernelspec": {
   "display_name": "Python 3 (ipykernel)",
   "language": "python",
   "name": "python3"
  },
  "language_info": {
   "codemirror_mode": {
    "name": "ipython",
    "version": 3
   },
   "file_extension": ".py",
   "mimetype": "text/x-python",
   "name": "python",
   "nbconvert_exporter": "python",
   "pygments_lexer": "ipython3",
   "version": "3.11.3"
  }
 },
 "nbformat": 4,
 "nbformat_minor": 5
}
