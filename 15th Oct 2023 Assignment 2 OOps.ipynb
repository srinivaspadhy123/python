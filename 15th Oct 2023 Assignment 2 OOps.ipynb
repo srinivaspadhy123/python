{
 "cells": [
  {
   "cell_type": "markdown",
   "id": "628d1c06",
   "metadata": {},
   "source": [
    "# Constructor :"
   ]
  },
  {
   "cell_type": "code",
   "execution_count": 1,
   "id": "1f8d32cb",
   "metadata": {},
   "outputs": [],
   "source": [
    "# 1. What is a constructor in Python? Explain its purpose and usage."
   ]
  },
  {
   "cell_type": "raw",
   "id": "29bf2a34",
   "metadata": {},
   "source": [
    "A constructor is a special method that is automatically called when an object of a class is created. It is named __init__ and is used to initialize the attributes of the object. The primary purpose of a constructor is to set up the initial state of an object by assigning values to its attributes."
   ]
  },
  {
   "cell_type": "code",
   "execution_count": 2,
   "id": "6bcde8be",
   "metadata": {},
   "outputs": [
    {
     "name": "stdout",
     "output_type": "stream",
     "text": [
      "safari tata 2023\n"
     ]
    }
   ],
   "source": [
    "class Car:\n",
    "    def __init__(self,model,brand,year):\n",
    "        self.model = model\n",
    "        self.brand = brand\n",
    "        self.year = year\n",
    "    def display(self):\n",
    "        print(self.model,self.brand,self.year)\n",
    "\n",
    "car_obj = Car(\"safari\",\"tata\",\"2023\")\n",
    "car_obj.display()"
   ]
  },
  {
   "cell_type": "code",
   "execution_count": 3,
   "id": "242e7597",
   "metadata": {},
   "outputs": [],
   "source": [
    "# 2. Differentiate between a parameterless constructor and a parameterized constructor in Python."
   ]
  },
  {
   "cell_type": "raw",
   "id": "ba3f4fde",
   "metadata": {},
   "source": [
    "A parameterless constructor is a constructor that takes no parameters other than the reference to the instance (self).\n",
    "A parameterized constructor is a constructor that takes one or more parameters, in addition to the reference to the instance (self)."
   ]
  },
  {
   "cell_type": "code",
   "execution_count": 4,
   "id": "c36b9d25",
   "metadata": {},
   "outputs": [
    {
     "name": "stdout",
     "output_type": "stream",
     "text": [
      "safari tata 2026\n",
      "safari tata 2023\n"
     ]
    }
   ],
   "source": [
    "class Car:\n",
    "    def __init__(self): # parameterless\n",
    "        self.model = \"safari\"\n",
    "        self.brand = \"tata\"\n",
    "        self.year = \"2026\"\n",
    "    def display(self):\n",
    "        print(self.model,self.brand,self.year)\n",
    "        \n",
    "car_obj1 = Car()\n",
    "car_obj1.display()\n",
    "\n",
    "class Car:\n",
    "    def __init__(self,model,brand,year): # parameterised\n",
    "        self.model = model\n",
    "        self.brand = brand\n",
    "        self.year = year\n",
    "    def display(self):\n",
    "        print(self.model,self.brand,self.year)\n",
    "\n",
    "car_obj2 = Car(\"safari\",\"tata\",\"2023\")\n",
    "car_obj2.display()"
   ]
  },
  {
   "cell_type": "code",
   "execution_count": 5,
   "id": "f11d22e4",
   "metadata": {},
   "outputs": [],
   "source": [
    "# 3. How do you define a constructor in a Python class? Provide an example."
   ]
  },
  {
   "cell_type": "raw",
   "id": "5de7b782",
   "metadata": {},
   "source": [
    "A constructor is defined in a class using a special method called __init__. "
   ]
  },
  {
   "cell_type": "code",
   "execution_count": 6,
   "id": "218ed000",
   "metadata": {},
   "outputs": [
    {
     "name": "stdout",
     "output_type": "stream",
     "text": [
      "sports ninja\n"
     ]
    }
   ],
   "source": [
    "class Bike:\n",
    "    def __init__(self,model,bike_type):\n",
    "        self.model = model\n",
    "        self.bike_type = bike_type\n",
    "    def display(self):\n",
    "        print(self.bike_type,self.model)\n",
    "        \n",
    "bike_obj = Bike(\"ninja\",\"sports\")\n",
    "bike_obj.display()"
   ]
  },
  {
   "cell_type": "code",
   "execution_count": 7,
   "id": "cea4790a",
   "metadata": {},
   "outputs": [],
   "source": [
    "# 4. Explain the `__init__` method in Python and its role in constructors."
   ]
  },
  {
   "cell_type": "raw",
   "id": "840f4a7b",
   "metadata": {},
   "source": [
    "the __init__ method is a special method, also known as the constructor method. It is automatically called when an object of a class is created. The primary role of the __init__ method is to initialize the attributes of the object."
   ]
  },
  {
   "cell_type": "code",
   "execution_count": 8,
   "id": "d093ff0c",
   "metadata": {},
   "outputs": [],
   "source": [
    "# 5. In a class named `Person`, create a constructor that initializes the `name` and `age` attributes. \n",
    "# Provide an example of creating an object of this class."
   ]
  },
  {
   "cell_type": "code",
   "execution_count": 9,
   "id": "a1a75c94",
   "metadata": {},
   "outputs": [
    {
     "name": "stdout",
     "output_type": "stream",
     "text": [
      "srinivas 26\n"
     ]
    }
   ],
   "source": [
    "class Person:\n",
    "    def __init__(self,name,age):\n",
    "        self.name = name\n",
    "        self.age = age\n",
    "    def display(self):\n",
    "        print(self.name,self.age)\n",
    "        \n",
    "person_obj = Person(\"srinivas\",26)\n",
    "person_obj.display()"
   ]
  },
  {
   "cell_type": "code",
   "execution_count": 10,
   "id": "73c4e5ce",
   "metadata": {},
   "outputs": [],
   "source": [
    "# 6. How can you call a constructor explicitly in Python? Give an example."
   ]
  },
  {
   "cell_type": "code",
   "execution_count": 11,
   "id": "d5bdd690",
   "metadata": {},
   "outputs": [],
   "source": [
    "class Person:\n",
    "    def __init__(self,name,age):\n",
    "        self.name = name\n",
    "        self.age = age\n",
    "    def display(self):\n",
    "        print(self.name,self.age)\n",
    "person_obj1 = Person.__new__(Person)        \n",
    "person_obj1.__init__(\"srinivas\",26)"
   ]
  },
  {
   "cell_type": "code",
   "execution_count": 12,
   "id": "86968b93",
   "metadata": {},
   "outputs": [],
   "source": [
    "# 7. What is the significance of the `self` parameter in Python constructors? Explain with an example."
   ]
  },
  {
   "cell_type": "raw",
   "id": "e3c55b50",
   "metadata": {},
   "source": [
    "self parameter in constructors (and other instance methods) is a convention that represents the instance of the class. It is the first parameter in the method signature, and it refers to the instance of the class on which the method is being invoked. \n",
    "The use of self allows you to access and modify the attributes and methods of the instance within the class."
   ]
  },
  {
   "cell_type": "code",
   "execution_count": 13,
   "id": "8ad1e575",
   "metadata": {},
   "outputs": [],
   "source": [
    "# 8. Discuss the concept of default constructors in Python. When are they used?"
   ]
  },
  {
   "cell_type": "raw",
   "id": "70efabd8",
   "metadata": {},
   "source": [
    "a default constructor is a constructor that is automatically provided by the python when a class is defined without an explicit constructor. The default constructor takes no arguments (other than the mandatory self), and it does not perform any special initialization."
   ]
  },
  {
   "cell_type": "code",
   "execution_count": 14,
   "id": "66481231",
   "metadata": {},
   "outputs": [
    {
     "name": "stdout",
     "output_type": "stream",
     "text": [
      "This is a method in MyClass.\n"
     ]
    }
   ],
   "source": [
    "class MyClass:\n",
    "    # No explicit constructor defined\n",
    "    \n",
    "    def display_info(self):\n",
    "        print(\"This is a method in MyClass.\")\n",
    "\n",
    "# Creating an object of MyClass\n",
    "obj = MyClass()\n",
    "\n",
    "# Calling a method on the object\n",
    "obj.display_info()\n"
   ]
  },
  {
   "cell_type": "code",
   "execution_count": 15,
   "id": "3e72e05b",
   "metadata": {},
   "outputs": [],
   "source": [
    "# 9. Create a Python class called `Rectangle` with a constructor that initializes the `width` and `height` attributes. \n",
    "# Provide a method to calculate the area of the rectangle."
   ]
  },
  {
   "cell_type": "code",
   "execution_count": 16,
   "id": "1a01ad1e",
   "metadata": {},
   "outputs": [
    {
     "name": "stdout",
     "output_type": "stream",
     "text": [
      "area =  2400\n"
     ]
    },
    {
     "data": {
      "text/plain": [
       "40"
      ]
     },
     "execution_count": 16,
     "metadata": {},
     "output_type": "execute_result"
    }
   ],
   "source": [
    "class Rectangle:\n",
    "    def __init__(self,width,height):\n",
    "        self.width = width\n",
    "        self.height = height\n",
    "    def area(self):\n",
    "        area = self.width * self.height\n",
    "        print(\"area = \",area)\n",
    "rec_obj = Rectangle(40,60)\n",
    "rec_obj.area()\n",
    "rec_obj.width"
   ]
  },
  {
   "cell_type": "code",
   "execution_count": 17,
   "id": "16f6a85b",
   "metadata": {},
   "outputs": [],
   "source": [
    "# 10. How can you have multiple constructors in a Python class? Explain with an example."
   ]
  },
  {
   "cell_type": "code",
   "execution_count": 18,
   "id": "f6a2d2d4",
   "metadata": {},
   "outputs": [
    {
     "name": "stdout",
     "output_type": "stream",
     "text": [
      "Person 1 Name: Srinivas , Age: 26\n",
      "Person 2 Name: Srinivas Padhy , Age: 1996\n"
     ]
    },
    {
     "data": {
      "text/plain": [
       "<__main__.MyClass at 0x10a362490>"
      ]
     },
     "execution_count": 18,
     "metadata": {},
     "output_type": "execute_result"
    }
   ],
   "source": [
    "class MyClass:\n",
    "    def __init__(self, name, age):\n",
    "        self.name = name\n",
    "        self.age = age\n",
    "\n",
    "    @classmethod\n",
    "    def create_from_birth_year(cls, name, birth_year):\n",
    "        \n",
    "        cls.name = name\n",
    "        cls.birth_year = birth_year\n",
    "        age = cls.calculate_age(cls.birth_year)\n",
    "        return cls(name,birth_year)\n",
    "\n",
    "    @staticmethod\n",
    "    def calculate_age(birth_year):\n",
    "        current_year = 2023  \n",
    "        return current_year - birth_year\n",
    "\n",
    "person1 = MyClass(name=\"Srinivas\", age=26)\n",
    "print(\"Person 1 Name:\", person1.name, \", Age:\", person1.age)\n",
    "\n",
    "person2 = MyClass.create_from_birth_year(name=\"Srinivas Padhy\", birth_year=1996)\n",
    "print(\"Person 2 Name:\", person2.name, \", Age:\", person2.age)\n",
    "person2\n"
   ]
  },
  {
   "cell_type": "code",
   "execution_count": 19,
   "id": "7548c06f",
   "metadata": {},
   "outputs": [],
   "source": [
    "# 11. What is method overloading, and how is it related to constructors in Python?"
   ]
  },
  {
   "cell_type": "raw",
   "id": "0ceda534",
   "metadata": {},
   "source": [
    "Method overloading refers to the ability to define multiple methods in a class with the same name but with different parameters or different numbers of parameters. Python does not support method overloading in the traditional sense, where you can have multiple methods with the same name and different parameter lists. However, Python provides a form of method overloading through default parameter values and variable-length argument lists."
   ]
  },
  {
   "cell_type": "raw",
   "id": "3556a0c2",
   "metadata": {},
   "source": [
    "When it comes to constructors in Python, we can use default parameter values and alternative ways of instantiation to achieve a form of constructor overloading. Instead of defining multiple constructors with different parameter lists, you can define a single constructor with default values or use class methods to provide alternative ways of creating objects."
   ]
  },
  {
   "cell_type": "code",
   "execution_count": 20,
   "id": "7d028b56",
   "metadata": {},
   "outputs": [],
   "source": [
    "# 12. Explain the use of the `super()` function in Python constructors. Provide an example."
   ]
  },
  {
   "cell_type": "raw",
   "id": "da075c03",
   "metadata": {},
   "source": [
    "super() function is used to call a method from a parent class. It's commonly used in the context of class inheritance, especially in the constructor (__init__ method), to invoke the constructor of the parent class. This allows you to initialize the attributes and behavior of the parent class before adding or modifying functionality in the child class."
   ]
  },
  {
   "cell_type": "code",
   "execution_count": 21,
   "id": "754514f4",
   "metadata": {},
   "outputs": [
    {
     "name": "stdout",
     "output_type": "stream",
     "text": [
      "suv hybrid mid\n",
      "safari suv hybrid mid\n",
      "innova_hycross suv hybrid mid\n"
     ]
    }
   ],
   "source": [
    "class Car:\n",
    "    def __init__(self,car_type,power_mode,segment):\n",
    "        self.car_type = car_type\n",
    "        self.power_mode = power_mode\n",
    "        self.segment = segment\n",
    "        \n",
    "    def car_display(self):\n",
    "        print(self.car_type,self.power_mode,self.segment)\n",
    "        \n",
    "class Tata(Car):\n",
    "    def __init__(self,name,car_type,power_mode,segment):\n",
    "        super().__init__(car_type,power_mode,segment)\n",
    "        self.name = name\n",
    "#         self.car_type = car_type\n",
    "#         self.power_mode = power_mode\n",
    "#         self.segment = segment\n",
    "        \n",
    "    def tata_display(self):\n",
    "        super().car_display()\n",
    "        print(self.name,self.car_type,self.power_mode,self.segment)\n",
    "\n",
    "class Toyota(Car):\n",
    "    def __init__(self,name,car_type,power_mode,segment):\n",
    "        super().__init__(car_type,power_mode,segment)\n",
    "        self.name = name\n",
    "    def toyota_display(self):\n",
    "        print(self.name,self.car_type,self.power_mode,self.segment)\n",
    "        \n",
    "        \n",
    "tata_obj = Tata(\"safari\",\"suv\",\"hybrid\",\"mid\")\n",
    "toyota_obj = Toyota(\"innova_hycross\",\"suv\",\"hybrid\",\"mid\")\n",
    "tata_obj.tata_display()\n",
    "# tata_obj.car_display()\n",
    "toyota_obj.toyota_display()\n"
   ]
  },
  {
   "cell_type": "code",
   "execution_count": 22,
   "id": "602dbe10",
   "metadata": {},
   "outputs": [],
   "source": [
    "# 13. Create a class called `Book` with a constructor that initializes the `title`, `author`, and \n",
    "# `published_year` attributes. Provide a method to display book details."
   ]
  },
  {
   "cell_type": "code",
   "execution_count": 23,
   "id": "4964c14b",
   "metadata": {},
   "outputs": [
    {
     "name": "stdout",
     "output_type": "stream",
     "text": [
      "datascience srinivas_padhy 2023\n"
     ]
    }
   ],
   "source": [
    "class Book:\n",
    "    def __init__(self,title,author,publish_year):\n",
    "        self.title = title\n",
    "        self.author = author\n",
    "        self.publish_year = publish_year\n",
    "        \n",
    "    def display_book(self):\n",
    "        print(self.title,self.author,self.publish_year)\n",
    "        \n",
    "book_obj = Book(\"datascience\",\"srinivas_padhy\",\"2023\")\n",
    "book_obj.display_book()"
   ]
  },
  {
   "cell_type": "code",
   "execution_count": 24,
   "id": "d3916314",
   "metadata": {},
   "outputs": [],
   "source": [
    "# 14. Discuss the differences between constructors and regular methods in Python classes."
   ]
  },
  {
   "cell_type": "raw",
   "id": "aeb9591f",
   "metadata": {},
   "source": [
    "Constructor: Primarily used for initializing the attributes of an object when an instance of the class is created.\n",
    "Called automatically when an object is instantiated. It initializes the object's attributes.\n",
    "Does not explicitly return a value. Its primary role is to set up the initial state of the object."
   ]
  },
  {
   "cell_type": "raw",
   "id": "30a452ff",
   "metadata": {},
   "source": [
    "Regular Methods: Perform various operations on the object's attributes or provide specific functionality associated with the class.\n",
    "Need to be explicitly called on an instance of the class. They operate on the instance using the provided parameters.\n",
    "Can return values. Their return type depends on the specific functionality of the method."
   ]
  },
  {
   "cell_type": "code",
   "execution_count": 25,
   "id": "2fddc103",
   "metadata": {},
   "outputs": [],
   "source": [
    "# 15. Explain the role of the `self` parameter in instance variable initialization within a constructor. "
   ]
  },
  {
   "cell_type": "raw",
   "id": "1012143e",
   "metadata": {},
   "source": [
    "It is a convention, not a keyword, and we can name it differently, but it's highly recommended to use self for clarity and consistency.\n",
    "self represents the instance of the class. When a constructor is called during the creation of an object, the self parameter refers to that specific instance."
   ]
  },
  {
   "cell_type": "code",
   "execution_count": 26,
   "id": "e302fc2c",
   "metadata": {},
   "outputs": [],
   "source": [
    "# 16. How do you prevent a class from having multiple instances by using constructors in Python? \n",
    "# Provide an example."
   ]
  },
  {
   "cell_type": "code",
   "execution_count": 27,
   "id": "033b502c",
   "metadata": {},
   "outputs": [
    {
     "name": "stdout",
     "output_type": "stream",
     "text": [
      "True\n",
      "Instance 1\n",
      "Instance 1\n"
     ]
    }
   ],
   "source": [
    "\"\"\"To prevent a class from having multiple instances \n",
    "(i.e., enforce a singleton pattern), we can implement the singleton pattern in the class constructor. \n",
    "The singleton pattern ensures that a class has only one instance, \n",
    "and it provides a global point of access to that instance.\"\"\"\n",
    "\n",
    "\n",
    "class SingletonClass:\n",
    "    # Class variable to store the single instance\n",
    "    _instance = None\n",
    "\n",
    "    def __new__(cls, *args, **kwargs):\n",
    "        # Check if an instance already exists\n",
    "        if not cls._instance:\n",
    "            # Create a new instance if one doesn't exist\n",
    "            cls._instance = super(SingletonClass, cls).__new__(cls)\n",
    "        return cls._instance\n",
    "\n",
    "    def __init__(self, value):\n",
    "        # Initialize the instance only if it hasn't been initialized before\n",
    "        if not hasattr(self, 'initialized'):\n",
    "            self.value = value\n",
    "            self.initialized = True\n",
    "\n",
    "    def get_value(self):\n",
    "        return self.value\n",
    "\n",
    "\n",
    "# Creating instances of the SingletonClass\n",
    "singleton_instance_1 = SingletonClass(value=\"Instance 1\")\n",
    "singleton_instance_2 = SingletonClass(value=\"Instance 2\")\n",
    "\n",
    "# Checking if both instances are the same\n",
    "print(singleton_instance_1 is singleton_instance_2)\n",
    "\n",
    "# Accessing the value of the single instance\n",
    "print(singleton_instance_1.get_value())  # Output: Instance 1\n",
    "print(singleton_instance_2.get_value())  # Output: Instance 1\n"
   ]
  },
  {
   "cell_type": "code",
   "execution_count": 28,
   "id": "6def849d",
   "metadata": {},
   "outputs": [],
   "source": [
    "# 17. Create a Python class called `Student` with a constructor that takes a list of subjects as a \n",
    "# parameter and initializes the `subjects` attribute."
   ]
  },
  {
   "cell_type": "code",
   "execution_count": 29,
   "id": "d5179789",
   "metadata": {},
   "outputs": [],
   "source": [
    "class Student:\n",
    "    def __init__(self,subjects):\n",
    "        self.subjects = subjects"
   ]
  },
  {
   "cell_type": "code",
   "execution_count": 30,
   "id": "a3d33f9b",
   "metadata": {},
   "outputs": [],
   "source": [
    "# 18. What is the purpose of the `__del__` method in Python classes, and how does it relate to constructors?"
   ]
  },
  {
   "cell_type": "code",
   "execution_count": 31,
   "id": "5ffe83da",
   "metadata": {},
   "outputs": [
    {
     "name": "stdout",
     "output_type": "stream",
     "text": [
      "srinivas created\n",
      "srinivas will be destroyed\n"
     ]
    },
    {
     "ename": "NameError",
     "evalue": "name 'obj1' is not defined",
     "output_type": "error",
     "traceback": [
      "\u001b[0;31m---------------------------------------------------------------------------\u001b[0m",
      "\u001b[0;31mNameError\u001b[0m                                 Traceback (most recent call last)",
      "Cell \u001b[0;32mIn[31], line 12\u001b[0m\n\u001b[1;32m     10\u001b[0m obj1\n\u001b[1;32m     11\u001b[0m \u001b[38;5;28;01mdel\u001b[39;00m obj1\n\u001b[0;32m---> 12\u001b[0m obj1\n",
      "\u001b[0;31mNameError\u001b[0m: name 'obj1' is not defined"
     ]
    }
   ],
   "source": [
    "class MyClass:\n",
    "    def __init__(self, name):\n",
    "        self.name = name\n",
    "        print(f\"{self.name} created\")\n",
    "\n",
    "    def __del__(self):\n",
    "        print(f\"{self.name} will be destroyed\")\n",
    "        \n",
    "obj1 = MyClass(\"srinivas\")\n",
    "obj1\n",
    "del obj1\n",
    "obj1"
   ]
  },
  {
   "cell_type": "code",
   "execution_count": null,
   "id": "95b66f05",
   "metadata": {},
   "outputs": [],
   "source": [
    "# 19. Explain the use of constructor chaining in Python. Provide a practical example."
   ]
  },
  {
   "cell_type": "raw",
   "id": "9ee1543a",
   "metadata": {},
   "source": [
    "Constructor chaining in Python refers to the ability of a constructor in a subclass to call the constructor of its superclass. This allows you to reuse the initialization code defined in the superclass's constructor while adding or modifying functionality in the subclass's constructor.\n",
    "\n"
   ]
  },
  {
   "cell_type": "code",
   "execution_count": null,
   "id": "f32e6612",
   "metadata": {},
   "outputs": [],
   "source": [
    "class Car:\n",
    "    def __init__(self,car_type,power_mode,segment):\n",
    "        self.car_type = car_type\n",
    "        self.power_mode = power_mode\n",
    "        self.segment = segment\n",
    "        \n",
    "    def car_display(self):\n",
    "        print(self.car_type,self.power_mode,self.segment)\n",
    "        \n",
    "class Tata(Car):\n",
    "    def __init__(self,name,car_type,power_mode,segment):\n",
    "        super().__init__(car_type,power_mode,segment)\n",
    "        self.name = name\n",
    "        \n",
    "    def tata_display(self):\n",
    "        super().car_display()\n",
    "        print(self.name,self.car_type,self.power_mode,self.segment)\n",
    "tata_obj = Tata(\"safari\",\"suv\",\"hybrid\",\"mid\")\n",
    "tata_obj.car_display()\n",
    "tata_obj.tata_display()"
   ]
  },
  {
   "cell_type": "code",
   "execution_count": null,
   "id": "ce5ceba2",
   "metadata": {},
   "outputs": [],
   "source": [
    "# 20. Create a Python class called `Car` with a default constructor that initializes the `make` and `model` \n",
    "# attributes. Provide a method to display car information."
   ]
  },
  {
   "cell_type": "code",
   "execution_count": null,
   "id": "2883898a",
   "metadata": {},
   "outputs": [],
   "source": [
    "class Car:\n",
    "    def __init__(self,make,model):\n",
    "        self.make = make\n",
    "        self.model = model\n",
    "    def display(self):\n",
    "        print(self.make,self.model)\n",
    "        \n",
    "car_obj = Car(\"Ford\",\"Mustang\")\n",
    "car_obj.display()"
   ]
  },
  {
   "cell_type": "markdown",
   "id": "511b8f7d",
   "metadata": {},
   "source": [
    "# Inheritance"
   ]
  },
  {
   "cell_type": "code",
   "execution_count": null,
   "id": "a32f043b",
   "metadata": {},
   "outputs": [],
   "source": [
    "# 1. What is inheritance in Python? Explain its significance in object-oriented programming."
   ]
  },
  {
   "cell_type": "raw",
   "id": "57eff5af",
   "metadata": {},
   "source": [
    "Inheritance in Python is a fundamental concept in object-oriented programming (OOP) that allows a new class, called the subclass or derived class, to inherit attributes and methods from an existing class, known as the superclass or base class. The subclass can then extend or modify the inherited attributes and methods and can also have its own additional attributes and methods.\n",
    "\n",
    "Significance:-\n",
    "\n",
    "1.Code Reusability\n",
    "2.Hierarchy and Organization\n",
    "3.Maintenance and Updates\n",
    "4.Polymorphism\n",
    "5.Code Extensibility"
   ]
  },
  {
   "cell_type": "code",
   "execution_count": null,
   "id": "78497a96",
   "metadata": {},
   "outputs": [],
   "source": [
    "# 2. Differentiate between single inheritance and multiple inheritance in Python. Provide examples for each."
   ]
  },
  {
   "cell_type": "code",
   "execution_count": null,
   "id": "5099c6bd",
   "metadata": {},
   "outputs": [],
   "source": [
    "Single inheritance refers to the scenario where a class inherits from only one base class.\n",
    "Multiple inheritance occurs when a class inherits from more than one base class. This allows the derived class to inherit attributes and methods from multiple classes.\n",
    "\n",
    "\n",
    "# Single Ingeritance\n",
    "class Animal:\n",
    "    def speak(self):\n",
    "        return \"Animal speaks\"\n",
    "\n",
    "class Bird:\n",
    "    def chirp(self):\n",
    "        return \"Bird chirps\"\n",
    "\n",
    "class Parrot(Animal, Bird):\n",
    "    def fly(self):\n",
    "        return \"Parrot flies\"\n",
    "    \n",
    "# Multiple Inheritance\n",
    "\n",
    "class Animal:\n",
    "    def speak(self):\n",
    "        return \"Animal speaks\"\n",
    "\n",
    "class Bird:\n",
    "    def chirp(self):\n",
    "        return \"Bird chirps\"\n",
    "\n",
    "class Parrot(Animal, Bird):\n",
    "    def fly(self):\n",
    "        return \"Parrot flies\""
   ]
  },
  {
   "cell_type": "code",
   "execution_count": null,
   "id": "b2491725",
   "metadata": {},
   "outputs": [],
   "source": [
    "# 3. Create a Python class called `Vehicle` with attributes `color` and `speed`. \n",
    "# Then, create a child class called `Car` that inherits from `Vehicle` and adds a `brand` attribute. \n",
    "# Provide an example of creating a `Car` object."
   ]
  },
  {
   "cell_type": "code",
   "execution_count": null,
   "id": "75eed57f",
   "metadata": {},
   "outputs": [],
   "source": [
    "class Vehicle:\n",
    "    def __init__(self,color,speed):\n",
    "        self.color = color\n",
    "        self.speed = speed\n",
    "        \n",
    "    def display(self):\n",
    "        print(self.color,self.speed)\n",
    "        \n",
    "class Car(Vehicle):\n",
    "    def __init__(self,color,speed,brand):\n",
    "        super().__init__(color,speed)\n",
    "        self.brand = brand\n",
    "            \n",
    "    def car_display(self):\n",
    "        print(self.brand,self.color)\n",
    "        \n",
    "car_obj = Car(\"black\",\"230kmph\",\"tata\")\n",
    "car_obj.display()\n",
    "car_obj.car_display()"
   ]
  },
  {
   "cell_type": "code",
   "execution_count": null,
   "id": "3e64f060",
   "metadata": {},
   "outputs": [],
   "source": [
    "# 4. Explain the concept of method overriding in inheritance. Provide a practical example."
   ]
  },
  {
   "cell_type": "raw",
   "id": "23b51a7c",
   "metadata": {},
   "source": [
    "Method overriding in inheritance is a concept where a subclass provides a specific implementation for a method that is already defined in its superclass. When a method in the subclass has the same name, same parameters, and same return type as a method in its superclass, it is said to override the method in the superclass.\n",
    "\n"
   ]
  },
  {
   "cell_type": "code",
   "execution_count": null,
   "id": "f90cb154",
   "metadata": {},
   "outputs": [],
   "source": [
    "class Vehicle:\n",
    "    def __init__(self,color,speed):\n",
    "        self.color = color\n",
    "        self.speed = speed\n",
    "        \n",
    "    def display(self):\n",
    "        print(self.color,self.speed)\n",
    "        \n",
    "class Car(Vehicle):\n",
    "    def __init__(self,color,speed,brand):\n",
    "        super().__init__(color,speed)\n",
    "        self.brand = brand\n",
    "            \n",
    "    def display(self): # Overrides the parent class display method\n",
    "        print(self.brand,self.color)\n",
    "        \n",
    "car_obj_overriding = Car(\"black\",\"250kmph\",\"bmw\")\n",
    "car_obj_overriding.display()"
   ]
  },
  {
   "cell_type": "code",
   "execution_count": null,
   "id": "58f95a33",
   "metadata": {},
   "outputs": [],
   "source": [
    "# 5. How can you access the methods and attributes of a parent class from a child class in Python? Give an example."
   ]
  },
  {
   "cell_type": "code",
   "execution_count": null,
   "id": "d89acc3b",
   "metadata": {},
   "outputs": [],
   "source": [
    "class Car:\n",
    "    price = \"25-30Lakhs\"\n",
    "    def __init__(self,car_type,power_mode,segment):\n",
    "        self.car_type = car_type\n",
    "        self.power_mode = power_mode\n",
    "        self.segment = segment\n",
    "        \n",
    "    def car_display(self):\n",
    "        print(self.car_type,self.power_mode,self.segment)\n",
    "        \n",
    "class Tata(Car):\n",
    "    def __init__(self,name,car_type,power_mode,segment):\n",
    "        super().__init__(car_type,power_mode,segment)\n",
    "        self.name = name\n",
    "        \n",
    "    def tata_display(self):\n",
    "        super().car_display()\n",
    "        print(self.name,self.car_type,self.power_mode,self.segment,super().price)\n",
    "tata_obj = Tata(\"safari\",\"suv\",\"hybrid\",\"mid\")\n",
    "car_obj = Car(\"suv\",\"petrol\",\"high\")\n",
    "tata_obj.tata_display()\n",
    "car_obj.car_display()"
   ]
  },
  {
   "cell_type": "code",
   "execution_count": null,
   "id": "3133de72",
   "metadata": {},
   "outputs": [],
   "source": [
    "# 6. Discuss the use of the `super()` function in Python inheritance. When and why is it used? Provide an example."
   ]
  },
  {
   "cell_type": "raw",
   "id": "99a7f25b",
   "metadata": {},
   "source": [
    "The super() function in Python is used in the context of inheritance to access and call methods from the superclass (parent class). It provides a way for a subclass to invoke methods of its superclass, allowing for cooperative multiple inheritance.\n",
    "super() returns a temporary object of the superclass, which can be used to call its methods.\n",
    "super() is often used to ensure that the method being called belongs to the next class in the method resolution order (MRO). It helps avoid ambiguities in multiple inheritance scenarios.\n",
    "\n"
   ]
  },
  {
   "cell_type": "code",
   "execution_count": null,
   "id": "b2f0dda5",
   "metadata": {},
   "outputs": [],
   "source": [
    "class Animal:\n",
    "    def __init__(self, name):\n",
    "        self.name = name\n",
    "\n",
    "    def speak(self):\n",
    "        return f\"{self.name} says something\"\n",
    "\n",
    "class Dog(Animal):\n",
    "    def __init__(self, name, breed):\n",
    "        super().__init__(name)\n",
    "        self.breed = breed\n",
    "\n",
    "    def speak(self):\n",
    "        parent_speak = super().speak()\n",
    "        return f\"{parent_speak} and barks\"\n",
    "\n",
    "dog = Dog(name=\"Buddy\", breed=\"Golden Retriever\")\n",
    "print(dog.speak())"
   ]
  },
  {
   "cell_type": "code",
   "execution_count": null,
   "id": "b1f3e4d8",
   "metadata": {},
   "outputs": [],
   "source": [
    "# 7. Create a Python class called `Animal` with a method `speak()`. \n",
    "# Then, create child classes `Dog` and `Cat` that inherit from `Animal` and override the `speak()` method. \n",
    "# Provide an example of using these classes."
   ]
  },
  {
   "cell_type": "code",
   "execution_count": null,
   "id": "58eb643b",
   "metadata": {},
   "outputs": [],
   "source": [
    "class Animal:\n",
    "    def __init__(self,name):\n",
    "        self.name = name\n",
    "        \n",
    "    def speak(self):\n",
    "        print(\"Animal Speaks\")\n",
    "        \n",
    "class Dog(Animal):\n",
    "    def __init__(self,name,breed):\n",
    "        super().__init__(name)\n",
    "        self.breed = breed\n",
    "        \n",
    "    def speak(self):\n",
    "        print(\"Dog Barks\")\n",
    "        \n",
    "class Cat(Animal):\n",
    "    def __init__(self,name,breed):\n",
    "        super().__init__(name)\n",
    "        self.breed = breed\n",
    "        \n",
    "    def speak(self):\n",
    "        print(\"Cat Meows\")\n",
    "        \n",
    "cat_obj = Cat(\"Lucie\",\"Siamese\")\n",
    "dog_obj = Dog(\"Bruno\",\"German Sheperd\")\n",
    "cat_obj.speak()\n",
    "dog_obj.speak()"
   ]
  },
  {
   "cell_type": "code",
   "execution_count": null,
   "id": "8bcf5735",
   "metadata": {},
   "outputs": [],
   "source": [
    "# 8. Explain the role of the `isinstance()` function in Python and how it relates to inheritance."
   ]
  },
  {
   "cell_type": "raw",
   "id": "ff1aa49b",
   "metadata": {},
   "source": [
    "The isinstance() function is particularly useful in the context of inheritance because it allows you to check if an object is an instance of a specific class or any of its subclasses. This is important when dealing with polymorphism, where objects of different classes (but related through inheritance) can be used interchangeably."
   ]
  },
  {
   "cell_type": "code",
   "execution_count": null,
   "id": "7a181b8f",
   "metadata": {},
   "outputs": [],
   "source": [
    "class Animal:\n",
    "    pass\n",
    "\n",
    "class Dog(Animal):\n",
    "    pass\n",
    "\n",
    "class Cat(Animal):\n",
    "    pass\n",
    "\n",
    "animal_obj = Animal()\n",
    "dog_obj = Dog()\n",
    "cat_obj = Cat()\n",
    "\n",
    "print(isinstance(animal_obj,Animal))\n",
    "print(isinstance(dog_obj,Cat))"
   ]
  },
  {
   "cell_type": "code",
   "execution_count": null,
   "id": "392f9ead",
   "metadata": {},
   "outputs": [],
   "source": [
    "# 9. What is the purpose of the `issubclass()` function in Python? Provide an example."
   ]
  },
  {
   "cell_type": "raw",
   "id": "ea915de3",
   "metadata": {},
   "source": [
    "The issubclass() function in Python is used to check if a class is a subclass of another class. It helps determine whether a given class is derived from another class, meaning that it inherits from that class"
   ]
  },
  {
   "cell_type": "code",
   "execution_count": null,
   "id": "ff6e7490",
   "metadata": {},
   "outputs": [],
   "source": [
    "class Animal:\n",
    "    pass\n",
    "\n",
    "class Dog(Animal):\n",
    "    pass\n",
    "\n",
    "class Cat(Animal):\n",
    "    pass\n",
    "\n",
    "issubclass(Dog,Animal)"
   ]
  },
  {
   "cell_type": "code",
   "execution_count": null,
   "id": "a352b410",
   "metadata": {},
   "outputs": [],
   "source": [
    "# 10. Discuss the concept of constructor inheritance in Python. How are constructors inherited in child classes?"
   ]
  },
  {
   "cell_type": "raw",
   "id": "ce483f29",
   "metadata": {},
   "source": [
    "constructor inheritance refers to the way in which constructors are inherited by child classes from their parent classes. The constructor of a class is a special method named __init__ that gets called when an object is created. When a child class is created, it can inherit the constructor from its parent class, allowing the child class to initialize its own attributes and also the attributes defined in the parent class."
   ]
  },
  {
   "cell_type": "code",
   "execution_count": null,
   "id": "7c35f5a1",
   "metadata": {},
   "outputs": [],
   "source": [
    "class Animal:\n",
    "    def __init__(self,name):\n",
    "        self.name = name\n",
    "        \n",
    "    def speak(self):\n",
    "        print(\"Animal Speaks\")\n",
    "        \n",
    "class Dog(Animal):\n",
    "    def __init__(self,name,breed):\n",
    "        super().__init__(name) # Inheriting the Constructor of the super / parent class\n",
    "        self.breed = breed\n",
    "        \n",
    "    def speak(self):\n",
    "        print(\"Dog Barks\")\n",
    "        \n",
    "class Cat(Animal):\n",
    "    def __init__(self,name,breed):\n",
    "        super().__init__(name) # Inheriting the Constructor of the super / parent class\n",
    "        self.breed = breed\n",
    "        \n",
    "    def speak(self):\n",
    "        print(\"Cat Meows\")\n",
    "        \n",
    "dog_obj = Dog(\"Rocky\",\"Golden Retriever\")\n",
    "print(dog_obj.name)\n",
    "print(dog_obj.breed)\n",
    "dog_obj.speak()"
   ]
  },
  {
   "cell_type": "code",
   "execution_count": null,
   "id": "8d960978",
   "metadata": {},
   "outputs": [],
   "source": [
    "# 11. Create a Python class called `Shape` with a method `area()` that calculates the area of a shape. \n",
    "# Then, create child classes `Circle` and `Rectangle` that inherit from `Shape` and implement the `area()` \n",
    "# method accordingly. Provide an example."
   ]
  },
  {
   "cell_type": "code",
   "execution_count": null,
   "id": "684d7054",
   "metadata": {},
   "outputs": [],
   "source": [
    "import math\n",
    "class Shape:        \n",
    "    def area():\n",
    "        pass\n",
    "class Circle(Shape):\n",
    "    def __init__(self,radius):\n",
    "        self.radius = radius\n",
    "        \n",
    "    def area(self):\n",
    "        return math.pi * self.radius**2\n",
    "class Rectangle(Shape):\n",
    "    def __init__(self,length,breadth):\n",
    "        self.length = length\n",
    "        self.breadth = breadth\n",
    "    def area(self):\n",
    "        return self.length*self.breadth\n",
    "    \n",
    "rectangle_obj = Rectangle(5,10)\n",
    "rectangle_obj.area()"
   ]
  },
  {
   "cell_type": "code",
   "execution_count": null,
   "id": "a35759ad",
   "metadata": {},
   "outputs": [],
   "source": [
    "# 12. Explain the use of abstract base classes (ABCs) in Python and how they relate to inheritance. \n",
    "# Provide an example using the `abc` module."
   ]
  },
  {
   "cell_type": "raw",
   "id": "b933f9b2",
   "metadata": {},
   "source": [
    "Abstract Base Classes (ABCs) in Python provide a way to define abstract classes and abstract methods. An abstract class is a class that cannot be instantiated, and it may contain abstract methods that must be implemented by its subclasses. ABCs help in enforcing a certain structure in the classes that inherit from them.\n",
    "\n",
    "The abc module in Python is used to create abstract base classes. It provides the ABC class, which can be used as a metaclass for defining abstract classes and abstract methods using the @abstractmethod decorator.\n",
    "\n"
   ]
  },
  {
   "cell_type": "code",
   "execution_count": null,
   "id": "dfc1abec",
   "metadata": {},
   "outputs": [],
   "source": [
    "from abc import ABC,abstractmethod\n",
    "\n",
    "class Shape(ABC):\n",
    "    @abstractmethod\n",
    "    def perimeter(self):\n",
    "        pass\n",
    "    @abstractmethod\n",
    "    def area(self):\n",
    "        pass\n",
    "    \n",
    "class Rectangle(Shape):\n",
    "    def __init__(self,length,breadth):\n",
    "        self.length = length\n",
    "        self.breadth = breadth\n",
    "        \n",
    "    def area(self):\n",
    "        return self.length * self.breadth\n",
    "    \n",
    "    def perimeter(self):\n",
    "        return 2*self.length + 2*self.breadth\n",
    "    \n",
    "rectangle_obj = Rectangle(5,10)\n",
    "rectangle_obj.perimeter()"
   ]
  },
  {
   "cell_type": "code",
   "execution_count": null,
   "id": "8574f037",
   "metadata": {},
   "outputs": [],
   "source": [
    "# 13. How can you prevent a child class from modifying certain attributes or methods inherited from a parent class in Python?"
   ]
  },
  {
   "cell_type": "raw",
   "id": "ce20dfc4",
   "metadata": {},
   "source": [
    "we can prevent a child class from modifying certain attributes or methods inherited from a parent class by using encapsulation and access control mechanisms. Here are some ways to achieve this.\n",
    "\n",
    "\n",
    "Using a double underscore as a prefix for an attribute name invokes name mangling, making it more challenging to access or modify from outside the class.\n",
    "\n",
    "Double underscores make the attributes or methods private to that particular class and cannot be even accessed by the child class too."
   ]
  },
  {
   "cell_type": "code",
   "execution_count": null,
   "id": "c93531d0",
   "metadata": {},
   "outputs": [],
   "source": [
    "class Test:\n",
    "    def __init__(self):\n",
    "        self.__x = \"sudh\"\n",
    "        self._y = \"kumar\"\n",
    "        self.z = \"pwskills\"\n",
    "        \n",
    "    def __test_meth(self):\n",
    "        return \"This is just a test\"\n",
    "    \n",
    "    def access_var(self):\n",
    "        return self.__x\n",
    "    \n",
    "    def update_var(self,data):\n",
    "        self.__x = data\n",
    "        \n",
    "class Result(Test):\n",
    "    def __init__(self):\n",
    "        super().__init__()\n",
    "#         self._y = \"padhy\"\n",
    "#         self.__x = \"srinivas\"\n",
    "    def display_result(self):\n",
    "        print(self._y,self.__x)\n",
    "        \n",
    "result = Result()\n",
    "result.display_result()"
   ]
  },
  {
   "cell_type": "code",
   "execution_count": null,
   "id": "ab5b0918",
   "metadata": {},
   "outputs": [],
   "source": [
    "class Test:\n",
    "    def __init__(self,fname,lname):\n",
    "        self._fname = fname\n",
    "        self.__lname = lname\n",
    "\n",
    "    def getter(self):\n",
    "        return self.__fname\n",
    "    \n",
    "class Result(Test):\n",
    "    def __init__(self,fname,lname):\n",
    "        super().__init__(fname,lname)\n",
    "        \n",
    "    def setter(self):\n",
    "        self.__lname = \"sharma\"\n",
    "        self._fname = \"rohit\"\n",
    "    def display(self):\n",
    "        print(self._fname,self.__lname)\n",
    "        \n",
    "result = Result(\"Srinivas\",\"Padhy\")\n",
    "result.display()"
   ]
  },
  {
   "cell_type": "code",
   "execution_count": null,
   "id": "f014503a",
   "metadata": {},
   "outputs": [],
   "source": [
    "# 14. Create a Python class called `Employee` with attributes `name` and `salary`. \n",
    "# Then, create a child class `Manager` that inherits from `Employee` and adds an attribute `department`. \n",
    "# Provide an example."
   ]
  },
  {
   "cell_type": "code",
   "execution_count": null,
   "id": "01b29be7",
   "metadata": {},
   "outputs": [],
   "source": [
    "class Employee:\n",
    "    def __init__(self,name,salary):\n",
    "        self.name = name\n",
    "        self.salary = salary\n",
    "        \n",
    "    \n",
    "class Manager(Employee):\n",
    "    def __init__(self,name,salary,department):\n",
    "        super().__init__(name,salary)\n",
    "        self.department = department\n",
    "        \n",
    "manager = Manager(\"dinesh\",\"2500000\",\"delivery\")\n"
   ]
  },
  {
   "cell_type": "code",
   "execution_count": null,
   "id": "e77a4f17",
   "metadata": {},
   "outputs": [],
   "source": [
    "# 15. Discuss the concept of method overloading in Python inheritance. \n",
    "# How does it differ from method overriding?"
   ]
  },
  {
   "cell_type": "raw",
   "id": "6fafec81",
   "metadata": {},
   "source": [
    "Method overloading in Python refers to the ability to define multiple methods in a class with the same name but with different signatures (different parameters). Unlike some other languages, Python does not support true method overloading in the traditional sense (where you can have multiple methods with the same name and different parameter types). Instead, Python allows a form of method overloading using default values for function parameters.\n",
    "\n",
    "While Method overriding occurs when a subclass provides a specific implementation for a method that is already defined in its superclass. The overriding method in the subclass must have the same name, same parameters, and same return type as the method in its superclass.\n",
    "\n"
   ]
  },
  {
   "cell_type": "code",
   "execution_count": null,
   "id": "223848af",
   "metadata": {},
   "outputs": [],
   "source": [
    "class MathOperations:\n",
    "    def add(self, a, b=0, c=0):\n",
    "        return a + b + c\n",
    "\n",
    "\n",
    "math_obj = MathOperations()\n",
    "result1 = math_obj.add(2)\n",
    "result2 = math_obj.add(2, 3)\n",
    "result3 = math_obj.add(2, 3, 4)\n",
    "\n",
    "print(result1) \n",
    "print(result2) \n",
    "print(result3)  \n"
   ]
  },
  {
   "cell_type": "code",
   "execution_count": null,
   "id": "a457e786",
   "metadata": {},
   "outputs": [],
   "source": [
    "# 16. Explain the purpose of the `__init__()` method in Python inheritance and how it is utilized in child classes."
   ]
  },
  {
   "cell_type": "raw",
   "id": "6a19b4c6",
   "metadata": {},
   "source": [
    "The __init__() method in Python is a special method, often referred to as the constructor, that is automatically called when an object is created from a class. It initializes the attributes of the object and can be utilized to perform any setup or configuration needed when creating an instance of the class.\n",
    "\n",
    "In the context of inheritance, the __init__() method in a child class often calls the __init__() method of its parent class using super().__init__(...). This ensures that the initialization logic of the parent class is executed before the child class adds its own specific initialization."
   ]
  },
  {
   "cell_type": "code",
   "execution_count": null,
   "id": "582c3c82",
   "metadata": {},
   "outputs": [],
   "source": [
    "# 17. Create a Python class called `Bird` with a method `fly()`. \n",
    "# Then, create child classes `Eagle` and `Sparrow` that inherit from `Bird` and implement the `fly()` \n",
    "# method differently. Provide an example of using these classes."
   ]
  },
  {
   "cell_type": "code",
   "execution_count": null,
   "id": "60300e4c",
   "metadata": {},
   "outputs": [],
   "source": [
    "from abc import ABC,abstractmethod\n",
    "\n",
    "class Bird:\n",
    "    @abstractmethod\n",
    "    def fly(self):\n",
    "        pass\n",
    "    \n",
    "class Eagle(Bird):\n",
    "    def __init__(self,name):\n",
    "        self.name = name\n",
    "        \n",
    "    def fly(self):\n",
    "        print(f\"{self.name}flies\")\n",
    "        \n",
    "class Sparrow(Bird):\n",
    "    def __init__(self,name):\n",
    "        self.name = name\n",
    "        \n",
    "    def fly(self):\n",
    "        print(f\"{self.name}flies\")\n",
    "        \n",
    "sparrow = Sparrow(\"black_sparrow\")\n",
    "sparrow.fly()\n",
    "eagle = Eagle(\"big_eagle\")\n",
    "eagle.fly()"
   ]
  },
  {
   "cell_type": "code",
   "execution_count": null,
   "id": "960eff82",
   "metadata": {},
   "outputs": [],
   "source": [
    "# 18. What is the \"diamond problem\" in multiple inheritance, and how does Python address it? \n"
   ]
  },
  {
   "cell_type": "raw",
   "id": "56ef66e0",
   "metadata": {},
   "source": [
    "The \"diamond problem\" is a term used in the context of multiple inheritance in object-oriented programming, referring to a particular issue that arises when a class inherits from two classes that have a common ancestor. This can lead to ambiguity and challenges in determining which version of a method or attribute should be used.\n",
    "\n",
    "The diamond problem is addressed through the method resolution order (MRO) and the use of the C3 linearization algorithm. The C3 linearization algorithm ensures a consistent and predictable order in which base classes are considered during method resolution.\n",
    "\n"
   ]
  },
  {
   "cell_type": "code",
   "execution_count": null,
   "id": "976ffea0",
   "metadata": {},
   "outputs": [],
   "source": [
    "class A:\n",
    "    def method(self):\n",
    "        print(\"A method\")\n",
    "\n",
    "class B(A):\n",
    "    def method(self):\n",
    "        print(\"B method\")\n",
    "\n",
    "class C(A):\n",
    "    def method(self):\n",
    "        print(\"C method\")\n",
    "\n",
    "class D(B, C):\n",
    "    pass\n",
    "\n",
    "obj = D()\n",
    "obj.method()  \n",
    "print(D.mro())  "
   ]
  },
  {
   "cell_type": "code",
   "execution_count": null,
   "id": "9c041060",
   "metadata": {},
   "outputs": [],
   "source": [
    "\n",
    "class Vehicle:\n",
    "    def __init__(self, vehicle):\n",
    "        print(vehicle, 'is a type of Vehicle.')\n",
    "\n",
    "class Car(Vehicle):\n",
    "    def __init__(self, cartype):\n",
    "        print(cartype, 'is a Car')\n",
    "        super().__init__(cartype)\n",
    "\n",
    "class CityRide(Car):\n",
    "    def __init__(self, cityride):\n",
    "        print(cityride, 'is a City ride Car')\n",
    "        super().__init__(cityride)\n",
    "\n",
    "class OffRoad(Vehicle):\n",
    "    def __init__(self, offroading):\n",
    "        print(offroading, 'is an Off-roading Car')\n",
    "        super().__init__(offroading)\n",
    "\n",
    "class SUV(CityRide, OffRoad):\n",
    "    def __init__(self):\n",
    "        print('Range Rover is a SUV')\n",
    "        super().__init__('Range Rover')\n",
    "\n",
    "c = SUV()\n",
    "print('')\n",
    "d = CityRide('Volkswagen Polo')\n"
   ]
  },
  {
   "cell_type": "code",
   "execution_count": null,
   "id": "6e9ed45e",
   "metadata": {},
   "outputs": [],
   "source": [
    "# 19. Discuss the concept of \"is-a\" and \"has-a\" relationships in inheritance, and provide examples of each."
   ]
  },
  {
   "cell_type": "raw",
   "id": "90d65bbd",
   "metadata": {},
   "source": [
    "The \"is-a\" relationship represents inheritance or specialization. It implies that one class is a type of another class. In other words, a subclass \"is a\" specialized version of its superclass. This relationship is typically expressed using inheritance.\n",
    "\n",
    "The \"has-a\" relationship represents composition or aggregation. It implies that one class has another class as a component or part. This relationship is typically expressed by including an instance of another class as an attribute.\n",
    "\n"
   ]
  },
  {
   "cell_type": "code",
   "execution_count": null,
   "id": "bf548a0a",
   "metadata": {},
   "outputs": [],
   "source": [
    "# \"Is-a\" relationship\n",
    "class Animal:\n",
    "    def speak(self):\n",
    "        print(\"Animal speaks\")\n",
    "\n",
    "class Dog(Animal):\n",
    "    def bark(self):\n",
    "        print(\"Dog barks\")"
   ]
  },
  {
   "cell_type": "code",
   "execution_count": null,
   "id": "39837302",
   "metadata": {},
   "outputs": [],
   "source": [
    "# \"Has-a\" relationship\n",
    "class Engine:\n",
    "    def start(self):\n",
    "        print(\"Engine starts\")\n",
    "\n",
    "class Car:\n",
    "    def __init__(self):\n",
    "        self.engine = Engine()  # Car \"has a\" Engine\n",
    "\n",
    "    def drive(self):\n",
    "        print(\"Car is driving\")"
   ]
  },
  {
   "cell_type": "code",
   "execution_count": null,
   "id": "792ada25",
   "metadata": {},
   "outputs": [],
   "source": [
    "# 20. Create a Python class hierarchy for a university system. \n",
    "# Start with a base class `Person` and create child classes `Student` and `Professor`, \n",
    "# each with their own attributes and methods. \n",
    "# Provide an example of using these classes in a university context."
   ]
  },
  {
   "cell_type": "code",
   "execution_count": null,
   "id": "bb2201e1",
   "metadata": {},
   "outputs": [],
   "source": [
    "class Person:\n",
    "    def __init__(self, name, age):\n",
    "        self.name = name\n",
    "        self.age = age\n",
    "\n",
    "    def display_info(self):\n",
    "        print(f\"Name: {self.name}, Age: {self.age}\")\n",
    "\n",
    "class Student(Person):\n",
    "    def __init__(self, name, age, student_id):\n",
    "        super().__init__(name, age)\n",
    "        self.student_id = student_id\n",
    "        self.courses = []\n",
    "\n",
    "    def enroll(self, course):\n",
    "        self.courses.append(course)\n",
    "        print(f\"{self.name} has enrolled in {course}\")\n",
    "\n",
    "    def display_info(self):\n",
    "        super().display_info()\n",
    "        print(f\"Student ID: {self.student_id}, Courses: {', '.join(self.courses)}\")\n",
    "\n",
    "class Professor(Person):\n",
    "    def __init__(self, name, age, employee_id):\n",
    "        super().__init__(name, age)\n",
    "        self.employee_id = employee_id\n",
    "        self.courses_taught = []\n",
    "\n",
    "    def assign_course(self, course):\n",
    "        self.courses_taught.append(course)\n",
    "        print(f\"{self.name} is assigned to teach {course}\")\n",
    "\n",
    "    def display_info(self):\n",
    "        super().display_info()\n",
    "        print(f\"Employee ID: {self.employee_id}, Courses Taught: {', '.join(self.courses_taught)}\")\n",
    "\n",
    "student1 = Student(name=\"Srinivas Padhy\", age=20, student_id=\"S12345\")\n",
    "professor1 = Professor(name=\"Sheetal Bisth\", age=45, employee_id=\"P98765\")\n",
    "\n",
    "student1.enroll(\"Math 101\")\n",
    "professor1.assign_course(\"Computer Science 301\")\n",
    "\n",
    "student1.display_info()\n",
    "\n",
    "professor1.display_info()\n"
   ]
  },
  {
   "cell_type": "code",
   "execution_count": null,
   "id": "df96c9b7",
   "metadata": {},
   "outputs": [],
   "source": [
    "# Encapsulation"
   ]
  },
  {
   "cell_type": "code",
   "execution_count": null,
   "id": "8b1e59e6",
   "metadata": {},
   "outputs": [],
   "source": [
    "# 1. Explain the concept of encapsulation in Python. What is its role in object-oriented programming?"
   ]
  },
  {
   "cell_type": "raw",
   "id": "dcb5f4fb",
   "metadata": {},
   "source": [
    "Encapsulation is one of the fundamental principles of object-oriented programming (OOP). It refers to the bundling of data (attributes) and the methods (functions) that operate on the data into a single unit known as a class. Encapsulation helps in hiding the internal details of an object and restricting direct access to some of its components. The key elements of encapsulation include data hiding, abstraction, and access control.\n",
    "\n",
    "Role of Encapsulation in OOPs:\n",
    "\n",
    "Modularity:\n",
    "\n",
    "Encapsulation promotes modularity by organizing the code into self-contained and independent units (classes). Each class encapsulates its own data and behavior, making it easier to understand, maintain, and update.\n",
    "\n",
    "Security:\n",
    "\n",
    "Encapsulation enhances security by restricting access to the internal details of an object. Data hiding prevents unintended modifications, ensuring that the object's state is manipulated only through well-defined methods.\n",
    "\n",
    "Code Flexibility and Maintenance:\n",
    "\n",
    "Encapsulation allows the internal representation of an object to be changed without affecting the code that uses the object. This improves code flexibility and reduces the impact of changes on the rest of the program."
   ]
  },
  {
   "cell_type": "code",
   "execution_count": null,
   "id": "1d74681f",
   "metadata": {},
   "outputs": [],
   "source": [
    "# 2. Describe the key principles of encapsulation, including access control and data hiding."
   ]
  },
  {
   "cell_type": "raw",
   "id": "55f08645",
   "metadata": {},
   "source": [
    "Data Hiding:\n",
    "\n",
    "Encapsulation hides the implementation details of a class and exposes only what is necessary. This is achieved by making the internal data members of a class private or protected.\n",
    "Abstraction:\n",
    "\n",
    "Abstraction:\n",
    "\n",
    "Abstraction is the process of simplifying complex systems by modeling classes based on the essential properties and behaviors they possess. Encapsulation facilitates abstraction by allowing the creation of high-level interfaces while hiding the underlying complexities.\n",
    "Access Control:\n",
    "\n",
    "Access Control:\n",
    "\n",
    "Access control mechanisms, such as public, private, and protected modifiers, define the level of visibility of class members (attributes and methods). This helps in controlling how the internal state of an object can be accessed and modified."
   ]
  },
  {
   "cell_type": "code",
   "execution_count": null,
   "id": "987de31e",
   "metadata": {},
   "outputs": [],
   "source": [
    "# 3. How can you achieve encapsulation in Python classes? Provide an example."
   ]
  },
  {
   "cell_type": "code",
   "execution_count": null,
   "id": "a68222ad",
   "metadata": {},
   "outputs": [],
   "source": [
    "class BankAccount:\n",
    "    def __init__(self, account_holder, balance):\n",
    "        self._account_holder = account_holder  # Protected attribute\n",
    "        self._balance = balance  # Protected attribute\n",
    "\n",
    "    def deposit(self, amount):\n",
    "        self._balance += amount\n",
    "\n",
    "    def withdraw(self, amount):\n",
    "        if amount <= self._balance:\n",
    "            self._balance -= amount\n",
    "        else:\n",
    "            print(\"Insufficient funds\")\n",
    "\n",
    "    def get_balance(self):\n",
    "        return self._balance\n",
    "\n",
    "account1 = BankAccount(account_holder=\"Srinivas Padhy\", balance=1000)\n",
    "account1.deposit(500)\n",
    "account1.withdraw(200)\n",
    "print(f\"{account1._account_holder}'s Balance: {account1.get_balance()}\")\n"
   ]
  },
  {
   "cell_type": "code",
   "execution_count": null,
   "id": "b17e5475",
   "metadata": {},
   "outputs": [],
   "source": [
    "# 4. Discuss the difference between public, private, and protected access modifiers in Python."
   ]
  },
  {
   "cell_type": "raw",
   "id": "6572372d",
   "metadata": {},
   "source": [
    "Public (No Modifier):\n",
    "\n",
    "Accessible from anywhere.\n",
    "No special syntax is required.\n",
    "\n",
    "Private (__):\n",
    "\n",
    "Not accessible from outside the class.\n",
    "Name-mangled to make access more challenging.\n",
    "\n",
    "Protected (_):\n",
    "\n",
    "Accessible from within the class and its subclasses.\n",
    "Conventionally considered protected, but no strict enforcement."
   ]
  },
  {
   "cell_type": "code",
   "execution_count": null,
   "id": "6baf9f3b",
   "metadata": {},
   "outputs": [],
   "source": [
    "# 5. Create a Python class called `Person` with a private attribute `__name`. \n",
    "# Provide methods to get and set the name attribute."
   ]
  },
  {
   "cell_type": "code",
   "execution_count": null,
   "id": "b8cf6996",
   "metadata": {},
   "outputs": [],
   "source": [
    "class Person:\n",
    "    def __init__(self,name=None):\n",
    "        self.__name = name\n",
    "    \n",
    "    def setter(self,name):\n",
    "        self.__name = name\n",
    "        \n",
    "    def getter(self):\n",
    "        if self.__name:\n",
    "            return self.__name\n",
    "        else:\n",
    "            return \"Name is not set\"\n",
    "        \n",
    "person_obj = Person()\n",
    "person_obj.setter(\"srinivas\")\n",
    "person_obj.getter()"
   ]
  },
  {
   "cell_type": "code",
   "execution_count": null,
   "id": "1cba2e3e",
   "metadata": {},
   "outputs": [],
   "source": [
    "# 6. Explain the purpose of getter and setter methods in encapsulation. \n",
    "# Provide examples. "
   ]
  },
  {
   "cell_type": "raw",
   "id": "fa6ed2d6",
   "metadata": {},
   "source": [
    "Purpose of Setter Methods:\n",
    "\n",
    "Setter methods (also known as mutator methods) are used to modify the values of private or protected attributes.\n",
    "\n",
    "They provide controlled modification of attributes, allowing validation or additional logic to be applied before the change.\n",
    "\n",
    "Getter and setter methods encapsulate the access and modification of attributes, providing a clear interface to interact with the class."
   ]
  },
  {
   "cell_type": "code",
   "execution_count": null,
   "id": "38ff90a5",
   "metadata": {},
   "outputs": [],
   "source": [
    "class Person:\n",
    "    def __init__(self, name, age):\n",
    "        self._name = name  # Protected attribute\n",
    "        self._age = age    # Protected attribute\n",
    "\n",
    "    # Getter methods\n",
    "    def get_name(self):\n",
    "        return self._name\n",
    "\n",
    "    def get_age(self):\n",
    "        return self._age\n",
    "\n",
    "    # Setter methods\n",
    "    def set_name(self, new_name):\n",
    "        if len(new_name)>4:\n",
    "            self._name = new_name\n",
    "        else:\n",
    "            self._name = None\n",
    "    def set_age(self, new_age):\n",
    "        self._age = new_age\n",
    "\n",
    "person = Person(name=\"Srinivas\", age=26)\n",
    "person.set_name(\"Padhy\")  \n",
    "person.set_age(28)      \n",
    "\n",
    "print(person.get_name())  \n",
    "print(person.get_age())   "
   ]
  },
  {
   "cell_type": "code",
   "execution_count": null,
   "id": "2271be52",
   "metadata": {},
   "outputs": [],
   "source": [
    "# 7. What is name mangling in Python, and how does it affect encapsulation?"
   ]
  },
  {
   "cell_type": "raw",
   "id": "c3a93008",
   "metadata": {},
   "source": [
    "Name mangling is a mechanism that modifies the name of an attribute in a class to make it less accessible from outside the class. It involves adding a prefix to the name of the attribute, which is typically a double underscore (__). This process is applied to attribute names with a leading double underscore but no trailing double underscore.\n",
    "\n",
    "The primary purpose of name mangling is to make it harder to accidentally override attributes in a subclass and to avoid naming conflicts between classes in a large codebase. "
   ]
  },
  {
   "cell_type": "code",
   "execution_count": null,
   "id": "6090d420",
   "metadata": {},
   "outputs": [],
   "source": [
    "# 8. Create a Python class called `BankAccount` with private attributes for the account balance (`__balance`) \n",
    "# and account number (`__account_number`). Provide methods for depositing and withdrawing money."
   ]
  },
  {
   "cell_type": "code",
   "execution_count": null,
   "id": "483c8bf8",
   "metadata": {},
   "outputs": [],
   "source": [
    "class BankAccount:\n",
    "    def __init__(self,balance,account_number):\n",
    "        self.__balance = balance\n",
    "        self.__account_number = account_number\n",
    "    def deposit(self,amount):\n",
    "        self.__balance+=amount\n",
    "        \n",
    "    def withdraw(self):\n",
    "        if self.__balance > 0:\n",
    "            print(f\"{self.__balance} in account {self.__account_number}\")\n",
    "        else:\n",
    "            print(f\"Zero Balance in account {self.__account_number}\")\n",
    "\n",
    "bank_acc = BankAccount(0,238947100023)\n",
    "# bank_acc.deposit(10000000)\n",
    "bank_acc.withdraw()"
   ]
  },
  {
   "cell_type": "code",
   "execution_count": null,
   "id": "1b0881a4",
   "metadata": {},
   "outputs": [],
   "source": [
    "# 9. Discuss the advantages of encapsulation in terms of code maintainability and security."
   ]
  },
  {
   "cell_type": "raw",
   "id": "89c0a5bd",
   "metadata": {},
   "source": [
    "Advantages:\n",
    "\n",
    "1. Code Organization and Modularity:\n",
    "Encapsulation helps organize code by grouping related attributes and methods into a single class. This modular organization makes it easier to understand, maintain, and update code.\n",
    "\n",
    "2. Abstraction:\n",
    "Encapsulation allows the creation of abstract data types by exposing only essential attributes and behaviors and hiding the internal details. This abstraction simplifies complex systems, making them more manageable.\n",
    "\n",
    "3. Access Control:\n",
    "By using access modifiers (public, private, protected), encapsulation controls the visibility of class members. This ensures that certain attributes and methods are not directly accessible from outside the class, promoting a controlled and secure interface.\n",
    "\n",
    "4. Security and Data Integrity:\n",
    "Encapsulation enhances security by preventing unauthorized access to internal details of a class. Private attributes and methods cannot be accessed directly from outside the class, reducing the risk of unintended modifications and ensuring data integrity."
   ]
  },
  {
   "cell_type": "code",
   "execution_count": null,
   "id": "57ae45f4",
   "metadata": {},
   "outputs": [],
   "source": [
    "# 10. How can you access private attributes in Python? \n",
    "# Provide an example demonstrating the use of name mangling."
   ]
  },
  {
   "cell_type": "code",
   "execution_count": null,
   "id": "9ed23eb3",
   "metadata": {},
   "outputs": [],
   "source": [
    "\"\"\"private attributes are conventionally marked with a double underscore (__) prefix. \n",
    "While these attributes are intended to be private and not directly accessible from outside the class, \n",
    "it's important to note that Python does not enforce strict access control, \n",
    "and there are ways to access private attributes. \n",
    "One common approach is using name mangling.\"\"\"\n",
    "\n",
    "class Python:\n",
    "    def __init__(self,name):\n",
    "        self.__name = name\n",
    "        \n",
    "python = Python(\"srinivas\")\n",
    "python._Python__name"
   ]
  },
  {
   "cell_type": "code",
   "execution_count": null,
   "id": "6a790c5a",
   "metadata": {},
   "outputs": [],
   "source": [
    "# 11. Create a Python class hierarchy for a school system, including classes for students, \n",
    "# teachers, and courses, and implement encapsulation principles to protect sensitive information"
   ]
  },
  {
   "cell_type": "code",
   "execution_count": null,
   "id": "f0cf0146",
   "metadata": {},
   "outputs": [],
   "source": [
    "class School:\n",
    "    def __init__(self,school_name,board_affiliation):\n",
    "        self._school_name = school_name\n",
    "        self._board_affiliation = board_affiliation\n",
    "        print(f\"{self._school_name} is affiliated to {self._board_affiliation}\")\n",
    "\n",
    "class Teacher(School):\n",
    "    def __init__(self,school_name,board_affiliation,teacher_name):\n",
    "        super().__init__(school_name,board_affiliation)\n",
    "        self.__teacher_name = teacher_name\n",
    "        print(f\"{self.__teacher_name} teaches at {self._school_name}\")\n",
    "        \n",
    "class Courses(School):\n",
    "    def __init__(self,school_name,board_affiliation,course_name):\n",
    "        super().__init__(school_name,board_affiliation)\n",
    "        self._course_name = course_name        \n",
    "        print(f\"{self._course_name} is taught at {self._school_name}\")\n",
    "        \n",
    "class Students(Courses):\n",
    "    def __init__(self,school_name,board_affiliation,student_name,course_name,elective_course):\n",
    "        School.__init__(self,school_name,board_affiliation)\n",
    "        Courses.__init__(self,school_name,board_affiliation,course_name)\n",
    "        self.__student_name = student_name\n",
    "        self.__elective_course = elective_course\n",
    "        print(f\"{self.__student_name} studies {self._course_name} at {self._school_name}\")\n",
    "        \n",
    "students_obj = Students(\"UPES\",\"UGC\",\"Srinivas Padhy\",\"Computer Science\",\"Mainframe\")\n",
    "teachers_obbj = Teacher(\"UPES\",\"UGC\",\"Sheetal Bisht\")\n",
    "\n",
    "\n",
    "        \n",
    "\n",
    "        \n",
    "   "
   ]
  },
  {
   "cell_type": "code",
   "execution_count": null,
   "id": "584daf53",
   "metadata": {},
   "outputs": [],
   "source": [
    "# 12. Explain the concept of property decorators in Python and how they relate to encapsulation."
   ]
  },
  {
   "cell_type": "raw",
   "id": "5a0e7277",
   "metadata": {},
   "source": [
    "Property decorators provide a way to implement getter, setter, and deleter methods for class attributes. They allow you to define special methods to control the access, modification, and deletion of attributes in a more elegant and Pythonic way"
   ]
  },
  {
   "cell_type": "code",
   "execution_count": null,
   "id": "1ea48341",
   "metadata": {},
   "outputs": [],
   "source": [
    "class Test:\n",
    "    def __init__(self,value):\n",
    "        self._value = value\n",
    "        \n",
    "    @property\n",
    "    def value(self):\n",
    "        return self._value\n",
    "    \n",
    "    @value.setter\n",
    "    def value_setter(self,new_value):\n",
    "        if new_value is not None:\n",
    "            self._value = new_value\n",
    "            \n",
    "        else:\n",
    "            print(\"New value is None\")\n",
    "            \n",
    "    @value.getter\n",
    "    def value_getter(self):\n",
    "        return self._value\n",
    "    \n",
    "    @value.deleter\n",
    "    def value_deleter(self):\n",
    "        del self._value\n",
    "        \n",
    "        \n",
    "test_obj = Test(10)\n",
    "print(test_obj.value)\n",
    "test_obj.value_setter = 20\n",
    "print(test_obj.value_getter)\n",
    "del test_obj.value_deleter"
   ]
  },
  {
   "cell_type": "code",
   "execution_count": null,
   "id": "85faaad8",
   "metadata": {},
   "outputs": [],
   "source": [
    "# 13. What is data hiding, and why is it important in encapsulation? Provide examples."
   ]
  },
  {
   "cell_type": "raw",
   "id": "c4083aaf",
   "metadata": {},
   "source": [
    "Data hiding is the practice of restricting access to certain details of an object and only exposing what is necessary for the object's intended use. It is a key aspect of encapsulation, one of the four fundamental principles of object-oriented programming (OOP). The primary goal of data hiding is to protect the internal state of an object from direct external access, modification, or interference."
   ]
  },
  {
   "cell_type": "code",
   "execution_count": null,
   "id": "0e659403",
   "metadata": {},
   "outputs": [],
   "source": [
    "from abc import ABC,abstractmethod\n",
    "\n",
    "class Bird:\n",
    "    @abstractmethod\n",
    "    def fly(self):\n",
    "        pass\n",
    "    \n",
    "class Eagle(Bird):\n",
    "    def __init__(self,name):\n",
    "        self.name = name\n",
    "        \n",
    "    def fly(self):\n",
    "        print(f\"{self.name}flies\")\n",
    "        \n",
    "class Sparrow(Bird):\n",
    "    def __init__(self,name):\n",
    "        self.name = name\n",
    "        \n",
    "    def fly(self):\n",
    "        print(f\"{self.name}flies\")\n",
    "        \n",
    "sparrow = Sparrow(\"black_sparrow\")\n",
    "sparrow.fly()\n",
    "eagle = Eagle(\"big_eagle\")\n",
    "eagle.fly()"
   ]
  },
  {
   "cell_type": "code",
   "execution_count": null,
   "id": "0575c77f",
   "metadata": {},
   "outputs": [],
   "source": []
  },
  {
   "cell_type": "code",
   "execution_count": null,
   "id": "8d7f4a04",
   "metadata": {},
   "outputs": [],
   "source": [
    "# 14. Create a Python class called `Employee` with private attributes for salary (`__salary`) and \n",
    "# employee ID (`__employee_id`). Provide a method to calculate yearly bonuses."
   ]
  },
  {
   "cell_type": "code",
   "execution_count": null,
   "id": "9f5de1a7",
   "metadata": {},
   "outputs": [],
   "source": [
    "class Employee:\n",
    "    def __init__(self, employee_id, salary):\n",
    "        self.__employee_id = employee_id  \n",
    "        self.__salary = salary  \n",
    "\n",
    "    def calculate_yearly_bonus(self, bonus_percentage):\n",
    "        if 0 <= bonus_percentage <= 100:\n",
    "            bonus_amount = (bonus_percentage / 100) * self.__salary\n",
    "            return bonus_amount\n",
    "        else:\n",
    "            print(\"Bonus percentage must be between 0 and 100.\")\n",
    "\n",
    "employee1 = Employee(employee_id=101, salary=50000)\n",
    "\n",
    "print(f\"Employee ID: {employee1._Employee__employee_id}\")\n",
    "print(f\"Salary: {employee1._Employee__salary}\")\n",
    "\n",
    "bonus_percentage = 10\n",
    "yearly_bonus = employee1.calculate_yearly_bonus(bonus_percentage)\n",
    "print(f\"Yearly Bonus: ${yearly_bonus}\")\n"
   ]
  },
  {
   "cell_type": "code",
   "execution_count": null,
   "id": "58937fbf",
   "metadata": {},
   "outputs": [],
   "source": [
    "# 15. Discuss the use of accessors and mutators in encapsulation. \n",
    "# How do they help maintain control over attribute access?"
   ]
  },
  {
   "cell_type": "raw",
   "id": "16faf8e8",
   "metadata": {},
   "source": [
    "Accessors and mutators are methods used in encapsulation to control access to the attributes of a class. They play a crucial role in maintaining control over attribute access, enforcing validation rules, and promoting the principles of encapsulation.\n",
    "\n",
    "Accesors are generally getter methods to fetch the values of private or protected attributes. \n",
    "Mutators are generally setter methods to set the values of private or protected attributes.\n",
    "\n",
    "Controlled Access:\n",
    "\n",
    "Accessors and mutators provide a controlled interface for accessing and modifying attribute values. External code interacts with the class through these methods rather than directly accessing or modifying attributes.\n",
    "\n",
    "Validation Rules:\n",
    "\n",
    "Mutators allow the implementation of validation logic before setting a new value. This ensures that attribute values meet certain criteria, contributing to the integrity of the data."
   ]
  },
  {
   "cell_type": "code",
   "execution_count": null,
   "id": "e0735cca",
   "metadata": {},
   "outputs": [],
   "source": [
    "# 16. What are the potential drawbacks or disadvantages of using encapsulation in Python?"
   ]
  },
  {
   "cell_type": "raw",
   "id": "37275032",
   "metadata": {},
   "source": [
    "Increased Code Complexity:\n",
    "\n",
    "Encapsulation can lead to increased code complexity, especially when classes have many attributes and methods. The need to define getter and setter methods for each attribute can make the code longer and harder to read.\n",
    "\n",
    "Boilerplate Code:\n",
    "\n",
    "The implementation of getter and setter methods can introduce boilerplate code, making the class definition longer and potentially leading to code redundancy.\n",
    "\n",
    "Limited Direct Access:\n",
    "\n",
    "Encapsulation limits direct access to attributes, which may be a disadvantage in certain scenarios where direct attribute access is desirable. While this restriction is intended to promote controlled access, it might be seen as an overhead in certain cases.\n",
    "\n",
    "Performance Overhead:\n",
    "\n",
    "Using accessor and mutator methods may introduce a slight performance overhead compared to direct attribute access. In performance-critical applications, this overhead could be a concern.\n",
    "\n",
    "Not a Security Feature:\n",
    "\n",
    "Encapsulation is not a security feature in Python. While it helps control access to attributes, it is not designed to provide strict security, and attributes can still be accessed if developers choose to do so."
   ]
  },
  {
   "cell_type": "code",
   "execution_count": null,
   "id": "c0bcb071",
   "metadata": {},
   "outputs": [],
   "source": [
    "# 17. Create a Python class for a library system that encapsulates book information, \n",
    "# including titles, authors, and availability status."
   ]
  },
  {
   "cell_type": "code",
   "execution_count": null,
   "id": "f611a43b",
   "metadata": {},
   "outputs": [],
   "source": [
    "class Library:\n",
    "    def __init__(self,titles,authors, status):\n",
    "        self.__titles = titles\n",
    "        self.__authors = authors\n",
    "        self.__status = status\n",
    "    \n",
    "    def display(self):\n",
    "        return self.__titles,self.__authors,self.__status\n",
    "    \n",
    "library = Library(\"The Intelligent Investor\",\"Benjamin Graham\",\"Available\")\n",
    "library.display()"
   ]
  },
  {
   "cell_type": "code",
   "execution_count": null,
   "id": "4bc18114",
   "metadata": {},
   "outputs": [],
   "source": [
    "# 18. Explain how encapsulation enhances code reusability and modularity in Python programs."
   ]
  },
  {
   "cell_type": "raw",
   "id": "816da2f8",
   "metadata": {},
   "source": [
    "1. Code Organization:\n",
    "\n",
    "Encapsulation Principle:\n",
    "Encapsulation encourages grouping related attributes and methods into a single class.\n",
    "\n",
    "Benefit:\n",
    "This organization helps developers create modular and self-contained units of code, making it easier to understand and navigate.\n",
    "\n",
    "2. Abstraction:\n",
    "\n",
    "Encapsulation Principle:\n",
    "Encapsulation allows the creation of abstract data types, exposing only essential attributes and behaviors while hiding implementation details.\n",
    "\n",
    "Benefit:\n",
    "Abstraction simplifies complex systems by providing a high-level view, making code more modular and easier to reuse.\n",
    "\n",
    "3. Controlled Access:\n",
    "\n",
    "Encapsulation Principle:\n",
    "Access to attributes is controlled through access modifiers and methods.\n",
    "\n",
    "Benefit:\n",
    "Controlled access ensures that attributes are accessed and modified through well-defined interfaces, promoting modularity and reducing dependencies between different parts of the code.\n",
    "\n",
    "\n",
    "4. Isolation of Changes:\n",
    "\n",
    "Encapsulation Principle:\n",
    "Implementation details are hidden from external code.\n",
    "\n",
    "Benefit:\n",
    "Changes to the internal implementation of a class have minimal impact on external code. This isolation of changes contributes to modularity and makes it easier to update or extend the system."
   ]
  },
  {
   "cell_type": "code",
   "execution_count": null,
   "id": "2c31c4ea",
   "metadata": {},
   "outputs": [],
   "source": [
    "# 19. Describe the concept of information hiding in encapsulation. Why is it essential in software development?"
   ]
  },
  {
   "cell_type": "raw",
   "id": "fb4305b0",
   "metadata": {},
   "source": [
    "Information hiding is a concept within encapsulation that involves concealing the implementation details of a class and exposing only what is necessary for the class's intended use. It is a crucial aspect of designing robust and maintainable software. The primary goal of information hiding is to protect the internal state of an object and prevent direct access to its implementation details, promoting a clear and controlled interface.\n",
    "\n",
    "Use in Software Development:\n",
    "\n",
    "1. Provides Security through access specifiers ( private and protected )and Abstraction( hiding the real implementation of the code/function )\n",
    "2. Modularity is enhanced as information hiding promotes the organization of code into modular units.Each unit (class) provides a well-defined interface, allowing for independent development, testing, and maintenance."
   ]
  },
  {
   "cell_type": "code",
   "execution_count": null,
   "id": "34d59aa1",
   "metadata": {},
   "outputs": [],
   "source": [
    "# 20. Create a Python class called `Customer` with private attributes for customer details like name, \n",
    "# address, and contact information. Implement encapsulation to ensure data integrity and security."
   ]
  },
  {
   "cell_type": "code",
   "execution_count": null,
   "id": "8527349e",
   "metadata": {},
   "outputs": [],
   "source": [
    "class Customer:\n",
    "    def __init__(self,name,address,contact):\n",
    "        self.__name = name\n",
    "        self.__address = address\n",
    "        self.__contact = contact\n",
    "        \n",
    "    def set_name(self,new_name):\n",
    "        self.__name = new_name\n",
    "    \n",
    "    def set_address(self,new_address):\n",
    "        self.__address = new_address\n",
    "    \n",
    "    def set_contact(self,new_contact):\n",
    "        self.__contact = new_contact\n",
    "    \n",
    "    def get_name(self):\n",
    "        return self.__name\n",
    "    \n",
    "    def get_address(self):\n",
    "        return self.__address\n",
    "    \n",
    "    def get_contact(self):\n",
    "        return self.__contact\n",
    "    \n",
    "customer = Customer(\"srinivas padhy\",\"Berhampur\",\"srinivaspadhybm@gmail.com\")\n",
    "\n",
    "customer.set_name(\"Srinivas\")\n",
    "customer.set_address(\"Bhubaneshwar\")\n",
    "customer.set_contact(\"srinivasprs1@gmail.com\")\n",
    "\n",
    "print(customer.get_name())\n",
    "print(customer.get_address())\n",
    "print(customer.get_contact())"
   ]
  },
  {
   "cell_type": "markdown",
   "id": "e2464b75",
   "metadata": {},
   "source": [
    "# Polymorphism:-"
   ]
  },
  {
   "cell_type": "code",
   "execution_count": null,
   "id": "b739147c",
   "metadata": {},
   "outputs": [],
   "source": []
  },
  {
   "cell_type": "code",
   "execution_count": null,
   "id": "942e5633",
   "metadata": {},
   "outputs": [],
   "source": [
    "# 1. What is polymorphism in Python? Explain how it is related to object-oriented\n",
    "# programming."
   ]
  },
  {
   "cell_type": "raw",
   "id": "36c5a805",
   "metadata": {},
   "source": [
    "\n",
    "Polymorphism is a fundamental concept in object-oriented programming (OOP) that allows objects of different types to be treated as objects of a common type. In Python, polymorphism is closely related to the principles of OOP, specifically inheritance and interfaces."
   ]
  },
  {
   "cell_type": "code",
   "execution_count": null,
   "id": "e52bce86",
   "metadata": {},
   "outputs": [],
   "source": [
    "# 2. Describe the difference between compile-time polymorphism and runtime\n",
    "# polymorphism in Python."
   ]
  },
  {
   "cell_type": "raw",
   "id": "fc7db80d",
   "metadata": {},
   "source": [
    "Compile-time polymorphism refers to a type of polymorphism that is resolved during the compile-time (before the program is executed).\n",
    "It is achieved through method overloading and operator overloading.\n",
    "\n",
    "Runtime polymorphism refers to a type of polymorphism that is resolved during runtime (when the program is executed).\n",
    "It is achieved through method overriding, which involves providing a specific implementation of a method in a subclass that is already defined in its superclass."
   ]
  },
  {
   "cell_type": "code",
   "execution_count": null,
   "id": "66ba052d",
   "metadata": {},
   "outputs": [],
   "source": [
    "# 3. Create a Python class hierarchy for shapes (e.g., circle, square, triangle) and\n",
    "# demonstrate polymorphism through a common method, such as `calculate_area()`."
   ]
  },
  {
   "cell_type": "code",
   "execution_count": null,
   "id": "81fad567",
   "metadata": {},
   "outputs": [],
   "source": [
    "import math\n",
    "\n",
    "class Shape:\n",
    "    def calculate_area(self):\n",
    "        pass\n",
    "    \n",
    "class Circle(Shape):\n",
    "    def __init__(self,radius):\n",
    "        self.radius = radius\n",
    "        \n",
    "    def calculate_area(self): # Overrides parent class calculate_area method\n",
    "        return math.pi*self.radius**2\n",
    "    \n",
    "class Square(Shape):\n",
    "    def __init__(self,side):\n",
    "        self.side = side\n",
    "        \n",
    "    def calculate_area(self): # Overrides parent class calculate_area method\n",
    "        return self.side**2\n",
    "    \n",
    "class Triangle(Shape):\n",
    "    def __init__(self,length,breadth):\n",
    "        self.length = length\n",
    "        self.breadth = breadth\n",
    "        \n",
    "    def calculate_area(self): # Overrides parent class calculate_area method\n",
    "        return 0.5*self.length*self.breadth\n",
    "    \n",
    "shape = Shape()\n",
    "circle = Circle(5)\n",
    "square = Square(10)\n",
    "triangle = Triangle(5,10)\n",
    "circle.calculate_area()"
   ]
  },
  {
   "cell_type": "code",
   "execution_count": null,
   "id": "9586793f",
   "metadata": {},
   "outputs": [],
   "source": [
    "# 4. Explain the concept of method overriding in polymorphism. Provide an example."
   ]
  },
  {
   "cell_type": "raw",
   "id": "dd4246ff",
   "metadata": {},
   "source": [
    "Method overriding is a concept in object-oriented programming (OOP) where a subclass provides a specific implementation for a method that is already defined in its superclass. The overridden method in the subclass should have the same signature (name and parameters) as the method in the superclass. Method overriding allows a subclass to provide its own behavior while still maintaining a common interface with its superclass."
   ]
  },
  {
   "cell_type": "code",
   "execution_count": 32,
   "id": "12bf5b50",
   "metadata": {},
   "outputs": [
    {
     "name": "stdout",
     "output_type": "stream",
     "text": [
      "Dog barks\n",
      "Cat meows\n"
     ]
    }
   ],
   "source": [
    "class Animal:\n",
    "    def speak(self):\n",
    "        print(\"Animal speaks\")\n",
    "\n",
    "class Dog(Animal):\n",
    "    def speak(self):\n",
    "        print(\"Dog barks\")\n",
    "\n",
    "class Cat(Animal):\n",
    "    def speak(self):\n",
    "        print(\"Cat meows\")\n",
    "\n",
    "dog = Dog()\n",
    "cat = Cat()\n",
    "\n",
    "dog.speak()  \n",
    "cat.speak()  \n"
   ]
  },
  {
   "cell_type": "code",
   "execution_count": 33,
   "id": "1d889185",
   "metadata": {},
   "outputs": [],
   "source": [
    "# 5. How is polymorphism different from method overloading in Python? Provide\n",
    "# examples for both."
   ]
  },
  {
   "cell_type": "raw",
   "id": "c1c38b5b",
   "metadata": {},
   "source": [
    "Polymorphism:\n",
    "Polymorphism and method overloading are related concepts in Python, but they have some differences in their implementation and usage.\n",
    "Polymorphism is a concept that allows objects of different types to be treated as objects of a common type. It can be achieved through method overriding in Python.\n",
    "Polymorphism in Python is mainly associated with runtime polymorphism, where the actual method to be executed is determined at runtime.\n",
    "\n",
    "Method Overloading:\n",
    "Method overloading refers to the ability to define multiple methods with the same name but different parameter lists within the same class. Python supports a limited form of method overloading using default parameter values and variable-length argument lists."
   ]
  },
  {
   "cell_type": "code",
   "execution_count": 34,
   "id": "50172918",
   "metadata": {},
   "outputs": [
    {
     "name": "stdout",
     "output_type": "stream",
     "text": [
      "Dog barks\n",
      "Cat meows\n"
     ]
    }
   ],
   "source": [
    "# Method Overriding/Run Time Polymorphism\n",
    "class Animal:\n",
    "    def speak(self):\n",
    "        print(\"Animal speaks\")\n",
    "\n",
    "class Dog(Animal):\n",
    "    def speak(self):\n",
    "        print(\"Dog barks\")\n",
    "\n",
    "class Cat(Animal):\n",
    "    def speak(self):\n",
    "        print(\"Cat meows\")\n",
    "\n",
    "def animal_sound(animal_obj):\n",
    "    animal_obj.speak()\n",
    "\n",
    "dog = Dog()\n",
    "cat = Cat()\n",
    "\n",
    "animal_sound(dog)  \n",
    "animal_sound(cat)  \n",
    "\n"
   ]
  },
  {
   "cell_type": "code",
   "execution_count": 35,
   "id": "557f4ac7",
   "metadata": {},
   "outputs": [],
   "source": [
    "# Method Overloading\n",
    "\n",
    "class MathOperations:\n",
    "    def add(self, a, b, c=0):\n",
    "        return a + b + c\n",
    "\n",
    "math_ops = MathOperations()\n",
    "\n",
    "result1 = math_ops.add(1, 2)       \n",
    "result2 = math_ops.add(1, 2, 3)    "
   ]
  },
  {
   "cell_type": "code",
   "execution_count": 36,
   "id": "9b03856b",
   "metadata": {},
   "outputs": [],
   "source": [
    "# 6. Create a Python class called `Animal` with a method `speak()`. Then, create child\n",
    "# classes like `Dog`, `Cat`, and `Bird`, each with their own `speak()` method. Demonstrate\n",
    "# polymorphism by calling the `speak()` method on objects of different subclasses."
   ]
  },
  {
   "cell_type": "code",
   "execution_count": 37,
   "id": "d2abc02d",
   "metadata": {},
   "outputs": [
    {
     "name": "stdout",
     "output_type": "stream",
     "text": [
      "Dog barks\n",
      "Cat meows\n",
      "Bird Chirps\n"
     ]
    }
   ],
   "source": [
    "# Method Overriding/Run Time Polymorphism\n",
    "class Animal:\n",
    "    def speak(self):\n",
    "        print(\"Animal speaks\")\n",
    "\n",
    "class Dog(Animal):\n",
    "    def speak(self):\n",
    "        print(\"Dog barks\")\n",
    "\n",
    "class Cat(Animal):\n",
    "    def speak(self):\n",
    "        print(\"Cat meows\")\n",
    "\n",
    "class Bird(Animal):\n",
    "    def speak(self):\n",
    "        print(\"Bird Chirps\")\n",
    "def animal_sound(animal_obj):\n",
    "    animal_obj.speak()\n",
    "\n",
    "dog = Dog()\n",
    "cat = Cat()\n",
    "bird = Bird()\n",
    "\n",
    "animal_sound(dog)  \n",
    "animal_sound(cat) \n",
    "animal_sound(bird)"
   ]
  },
  {
   "cell_type": "code",
   "execution_count": 38,
   "id": "635fe9c7",
   "metadata": {},
   "outputs": [],
   "source": [
    "# 7. Discuss the use of abstract methods and classes in achieving polymorphism in\n",
    "# Python. Provide an example using the `abc` module.\n"
   ]
  },
  {
   "cell_type": "code",
   "execution_count": 39,
   "id": "410f2736",
   "metadata": {},
   "outputs": [
    {
     "name": "stdout",
     "output_type": "stream",
     "text": [
      "2025\n",
      "200\n"
     ]
    }
   ],
   "source": [
    "from abc import ABC,abstractmethod\n",
    "\n",
    "class Interface(ABC):\n",
    "    @abstractmethod\n",
    "    def calculate_area(self):\n",
    "        pass\n",
    "class Square(Interface):\n",
    "    def __init__(self,side):\n",
    "        self.side = side\n",
    "        \n",
    "    def calculate_area(self):\n",
    "        return self.side**2\n",
    "    \n",
    "class Rectangle(Interface):\n",
    "    def __init__(self,length,breadth):\n",
    "        self.length = length\n",
    "        self.breadth = breadth\n",
    "        \n",
    "    def calculate_area(self):\n",
    "        return self.length*self.breadth\n",
    "    \n",
    "square = Square(45)\n",
    "rectangle=Rectangle(20,10)\n",
    "print(square.calculate_area())\n",
    "print(rectangle.calculate_area())"
   ]
  },
  {
   "cell_type": "code",
   "execution_count": 40,
   "id": "96f1231a",
   "metadata": {},
   "outputs": [],
   "source": [
    "# 8. Create a Python class hierarchy for a vehicle system (e.g., car, bicycle, boat) and\n",
    "# implement a polymorphic `start()` method that prints a message specific to each\n",
    "# vehicle type.\n"
   ]
  },
  {
   "cell_type": "code",
   "execution_count": 41,
   "id": "25d19f2c",
   "metadata": {},
   "outputs": [
    {
     "name": "stdout",
     "output_type": "stream",
     "text": [
      "Boat starts with pulling generator wire\n",
      "Car starts with push button\n",
      "Bicycle starts with peddling\n"
     ]
    }
   ],
   "source": [
    "class Vehicle:\n",
    "    def start(self):\n",
    "        pass\n",
    "    \n",
    "class Car(Vehicle):\n",
    "    def __init__(self):\n",
    "        pass\n",
    "        \n",
    "    def start(self):\n",
    "        print(\"Car starts with push button\")\n",
    "        \n",
    "class Bicycle(Vehicle):\n",
    "    def __init__(self):\n",
    "        pass\n",
    "        \n",
    "    def start(self):\n",
    "        print(\"Bicycle starts with peddling\")\n",
    "        \n",
    "class Boat(Vehicle):\n",
    "    def __init__(self):\n",
    "        pass\n",
    "    def start(self):\n",
    "        print(\"Boat starts with pulling generator wire\")\n",
    "    \n",
    "boat = Boat()\n",
    "bicycle = Bicycle()\n",
    "car = Car()\n",
    "boat.start()\n",
    "car.start()\n",
    "bicycle.start()"
   ]
  },
  {
   "cell_type": "code",
   "execution_count": 42,
   "id": "aa398e19",
   "metadata": {},
   "outputs": [],
   "source": [
    "# 9. Explain the significance of the `isinstance()` and `issubclass()` functions in Python\n",
    "# polymorphism.\n"
   ]
  },
  {
   "cell_type": "raw",
   "id": "00bb9973",
   "metadata": {},
   "source": [
    "In Python, isinstance() and issubclass() are two built-in functions that play a significant role in supporting polymorphism, a key concept in object-oriented programming. Polymorphism allows objects of different types to be treated as objects of a common base type, providing a way to write code that can work with objects of various classes in a uniform manner.\n",
    "\n",
    "The isinstance() function is used to check if an object belongs to a particular class or a tuple of classes. It takes two arguments: an object and a class or a tuple of classes. The function returns True if the object is an instance of the specified class or any of the classes in the tuple; otherwise, it returns False.\n",
    "\n",
    "The issubclass() function is used to check if a class is a subclass of another class. It takes two arguments: a class and a class or a tuple of classes. It returns True if the first class is a subclass of the specified class or any of the classes in the tuple; otherwise, it returns False."
   ]
  },
  {
   "cell_type": "code",
   "execution_count": 43,
   "id": "363ef391",
   "metadata": {},
   "outputs": [],
   "source": [
    "# 10. What is the role of the `@abstractmethod` decorator in achieving polymorphism in\n",
    "# Python? Provide an example."
   ]
  },
  {
   "cell_type": "raw",
   "id": "803d1182",
   "metadata": {},
   "source": [
    "In Python, the @abstractmethod decorator is part of the abc (Abstract Base Classes) module and is used to define abstract methods within abstract classes. Abstract methods are methods that are declared in the base class but have no implementation. Subclasses are then required to provide concrete implementations for these abstract methods. This mechanism plays a crucial role in achieving polymorphism."
   ]
  },
  {
   "cell_type": "code",
   "execution_count": 44,
   "id": "17091854",
   "metadata": {},
   "outputs": [
    {
     "name": "stdout",
     "output_type": "stream",
     "text": [
      "2025\n",
      "200\n"
     ]
    }
   ],
   "source": [
    "from abc import ABC,abstractmethod\n",
    "class Interface(ABC):\n",
    "    @abstractmethod\n",
    "    def calculate_area(self):\n",
    "        pass\n",
    "class Square(Interface):\n",
    "    def __init__(self,side):\n",
    "        self.side = side\n",
    "        \n",
    "    def calculate_area(self):\n",
    "        return self.side**2\n",
    "    \n",
    "class Rectangle(Interface):\n",
    "    def __init__(self,length,breadth):\n",
    "        self.length = length\n",
    "        self.breadth = breadth\n",
    "        \n",
    "    def calculate_area(self):\n",
    "        return self.length*self.breadth\n",
    "    \n",
    "square = Square(45)\n",
    "rectangle=Rectangle(20,10)\n",
    "print(square.calculate_area())\n",
    "print(rectangle.calculate_area())"
   ]
  },
  {
   "cell_type": "code",
   "execution_count": 45,
   "id": "fcd4d4b7",
   "metadata": {},
   "outputs": [],
   "source": [
    "# 11. Create a Python class called `Shape` with a polymorphic method `area()` that\n",
    "# calculates the area of different shapes (e.g., circle, rectangle, triangle)."
   ]
  },
  {
   "cell_type": "code",
   "execution_count": 46,
   "id": "49f22ab5",
   "metadata": {},
   "outputs": [
    {
     "ename": "NameError",
     "evalue": "name 'math' is not defined",
     "output_type": "error",
     "traceback": [
      "\u001b[0;31m---------------------------------------------------------------------------\u001b[0m",
      "\u001b[0;31mNameError\u001b[0m                                 Traceback (most recent call last)",
      "Cell \u001b[0;32mIn[46], line 11\u001b[0m\n\u001b[1;32m      8\u001b[0m             \u001b[38;5;28;01mreturn\u001b[39;00m \u001b[38;5;241m0.5\u001b[39m\u001b[38;5;241m*\u001b[39mheigth\u001b[38;5;241m*\u001b[39mbase\n\u001b[1;32m     10\u001b[0m shape \u001b[38;5;241m=\u001b[39m Shape()\n\u001b[0;32m---> 11\u001b[0m circle_area \u001b[38;5;241m=\u001b[39m shape\u001b[38;5;241m.\u001b[39marea(radius\u001b[38;5;241m=\u001b[39m\u001b[38;5;241m5\u001b[39m)\n\u001b[1;32m     12\u001b[0m rectangle_area \u001b[38;5;241m=\u001b[39m shape\u001b[38;5;241m.\u001b[39marea(length \u001b[38;5;241m=\u001b[39m \u001b[38;5;241m2\u001b[39m,breadth \u001b[38;5;241m=\u001b[39m \u001b[38;5;241m3\u001b[39m)\n\u001b[1;32m     13\u001b[0m triangle_area \u001b[38;5;241m=\u001b[39m shape\u001b[38;5;241m.\u001b[39marea(heigth\u001b[38;5;241m=\u001b[39m\u001b[38;5;241m10\u001b[39m,base\u001b[38;5;241m=\u001b[39m\u001b[38;5;241m3\u001b[39m)\n",
      "Cell \u001b[0;32mIn[46], line 4\u001b[0m, in \u001b[0;36mShape.area\u001b[0;34m(self, radius, length, breadth, heigth, base)\u001b[0m\n\u001b[1;32m      2\u001b[0m \u001b[38;5;28;01mdef\u001b[39;00m \u001b[38;5;21marea\u001b[39m(\u001b[38;5;28mself\u001b[39m,radius\u001b[38;5;241m=\u001b[39m\u001b[38;5;28;01mNone\u001b[39;00m,length\u001b[38;5;241m=\u001b[39m\u001b[38;5;28;01mNone\u001b[39;00m,breadth\u001b[38;5;241m=\u001b[39m\u001b[38;5;28;01mNone\u001b[39;00m,heigth\u001b[38;5;241m=\u001b[39m\u001b[38;5;28;01mNone\u001b[39;00m,base\u001b[38;5;241m=\u001b[39m\u001b[38;5;28;01mNone\u001b[39;00m):\n\u001b[1;32m      3\u001b[0m     \u001b[38;5;28;01mif\u001b[39;00m radius:\n\u001b[0;32m----> 4\u001b[0m         \u001b[38;5;28;01mreturn\u001b[39;00m math\u001b[38;5;241m.\u001b[39mpi\u001b[38;5;241m*\u001b[39m radius\u001b[38;5;241m*\u001b[39m\u001b[38;5;241m*\u001b[39m\u001b[38;5;241m2\u001b[39m\n\u001b[1;32m      5\u001b[0m     \u001b[38;5;28;01mif\u001b[39;00m length \u001b[38;5;129;01mand\u001b[39;00m breadth:\n\u001b[1;32m      6\u001b[0m         \u001b[38;5;28;01mreturn\u001b[39;00m length\u001b[38;5;241m*\u001b[39mbreadth\n",
      "\u001b[0;31mNameError\u001b[0m: name 'math' is not defined"
     ]
    }
   ],
   "source": [
    "class Shape:\n",
    "    def area(self,radius=None,length=None,breadth=None,heigth=None,base=None):\n",
    "        if radius:\n",
    "            return math.pi* radius**2\n",
    "        if length and breadth:\n",
    "            return length*breadth\n",
    "        if heigth and base:\n",
    "            return 0.5*heigth*base\n",
    "        \n",
    "shape = Shape()\n",
    "circle_area = shape.area(radius=5)\n",
    "rectangle_area = shape.area(length = 2,breadth = 3)\n",
    "triangle_area = shape.area(heigth=10,base=3)\n",
    "print(circle_area)\n",
    "print(rectangle_area)\n",
    "print(triangle_area)"
   ]
  },
  {
   "cell_type": "code",
   "execution_count": null,
   "id": "0a0fd248",
   "metadata": {},
   "outputs": [],
   "source": [
    "# 12. Discuss the benefits of polymorphism in terms of code reusability and flexibility in\n",
    "# Python programs."
   ]
  },
  {
   "cell_type": "raw",
   "id": "88094f64",
   "metadata": {},
   "source": [
    "\n",
    "1. Code Reusability:\n",
    "\n",
    "a. Interface Consistency:\n",
    "\n",
    "Polymorphism allows different classes to implement the same interface (methods with the same name and signature) without knowing the actual types involved.\n",
    "This consistency in interface design promotes code reusability as functions or methods can be written to work with objects of a common base type.\n",
    "\n",
    "b. Shared Interface, Diverse Implementations:\n",
    "\n",
    "Classes can share a common base class or interface and provide their own unique implementations for methods.\n",
    "Developers can reuse code that relies on the common interface, and the implementation details can vary across different classes.\n",
    "\n",
    "\n",
    "2.Code Flexibility:\n",
    "\n",
    "a. Dynamic Binding:\n",
    "\n",
    "Polymorphism enables dynamic binding during runtime, allowing Python to determine the appropriate method or operation to execute based on the actual type of an object.\n",
    "This dynamic nature enhances flexibility, making it easier to adapt to changes and additions in the class hierarchy.\n",
    "\n",
    "b. Extensibility:\n",
    "\n",
    "New classes can be added to the system without modifying existing code that relies on polymorphism. As long as the new classes adhere to the common interface, they can seamlessly integrate into the existing codebase.\n",
    "\n",
    "c. Loose Coupling:\n",
    "\n",
    "Polymorphism promotes loose coupling between components. Code that uses polymorphism depends on the interface rather than specific implementations.\n",
    "Changes in one part of the codebase (e.g., adding new classes) do not necessarily affect other parts, as long as the new classes conform to the common interface.\n"
   ]
  },
  {
   "cell_type": "code",
   "execution_count": null,
   "id": "fc68632b",
   "metadata": {},
   "outputs": [],
   "source": [
    "# 13. Explain the use of the `super()` function in Python polymorphism. How does it help\n",
    "# call methods of parent classes?"
   ]
  },
  {
   "cell_type": "raw",
   "id": "68e53402",
   "metadata": {},
   "source": [
    "The super() function plays a crucial role in supporting polymorphism by facilitating the calling of methods from parent classes. It is commonly used inside derived class methods to invoke the corresponding method in the parent class. This ensures that both the behavior defined in the parent class and the additional behavior in the child class are executed.\n",
    "\n",
    "Use of super() in Python Polymorphism:\n",
    "\n",
    "Calling Parent Class Methods:\n",
    "\n",
    "In the context of polymorphism, a derived class often extends or overrides methods from its parent class. When you override a method in a child class, you may want to invoke the version of the method defined in the parent class to ensure that both functionalities are executed.\n",
    "\n",
    "Passing Arguments:\n",
    "\n",
    "super() is particularly useful when passing arguments to the parent class method. It automatically takes care of providing the correct reference to the instance, allowing the parent class method to operate on the current instance of the child class.\n",
    "\n",
    "Method Resolution Order (MRO):\n",
    "\n",
    "super() is aware of the Method Resolution Order (MRO) in Python, which is the order in which base classes are searched when looking for a method or attribute.\n",
    "It ensures that the method is called from the next class in the MRO, which is typically the parent class.\n"
   ]
  },
  {
   "cell_type": "code",
   "execution_count": null,
   "id": "a47c95ed",
   "metadata": {},
   "outputs": [],
   "source": [
    "# 14. Create a Python class hierarchy for a banking system with various account types\n",
    "# (e.g., savings, checking, credit card) and demonstrate polymorphism by implementing a\n",
    "# common `withdraw()` method."
   ]
  },
  {
   "cell_type": "code",
   "execution_count": null,
   "id": "8e171121",
   "metadata": {},
   "outputs": [],
   "source": [
    "class BankAccount:\n",
    "    def __init__(self, account_number, balance=0):\n",
    "        self.account_number = account_number\n",
    "        self.balance = balance\n",
    "\n",
    "    def deposit(self, amount):\n",
    "        self.balance += amount\n",
    "\n",
    "    def display_balance(self):\n",
    "        print(f\"Account {self.account_number} Balance: Rs{self.balance:.2f}\")\n",
    "\n",
    "    def withdraw(self, amount):\n",
    "        if amount <= self.balance:\n",
    "            self.balance -= amount\n",
    "            print(f\"Withdrawal of Rs{amount:.2f} from Account {self.account_number} successful.\")\n",
    "        else:\n",
    "            print(f\"Insufficient funds in Account {self.account_number}.\")\n",
    "\n",
    "class SavingsAccount(BankAccount):\n",
    "    def __init__(self, account_number, balance=0, interest_rate=0.02):\n",
    "        super().__init__(account_number, balance)\n",
    "        self.interest_rate = interest_rate\n",
    "\n",
    "    def apply_interest(self):\n",
    "        interest_amount = self.balance * self.interest_rate\n",
    "        self.deposit(interest_amount)\n",
    "        print(f\"Interest of Rs{interest_amount:.2f} applied to Account {self.account_number}.\")\n",
    "\n",
    "class CheckingAccount(BankAccount):\n",
    "    def __init__(self, account_number, balance=0, overdraft_limit=100):\n",
    "        super().__init__(account_number, balance)\n",
    "        self.overdraft_limit = overdraft_limit\n",
    "\n",
    "    def withdraw(self, amount):\n",
    "        total_balance = self.balance + self.overdraft_limit\n",
    "        if amount <= total_balance:\n",
    "            self.balance -= amount\n",
    "            print(f\"Withdrawal of Rs{amount:.2f} from Account {self.account_number} successful.\")\n",
    "        else:\n",
    "            print(f\"Insufficient funds (including overdraft) in Account {self.account_number}.\")\n",
    "\n",
    "class CreditCardAccount(BankAccount):\n",
    "    def __init__(self, account_number, credit_limit=1000, balance=0):\n",
    "        super().__init__(account_number, balance)\n",
    "        self.credit_limit = credit_limit\n",
    "\n",
    "    def withdraw(self, amount):\n",
    "        total_credit_available = self.balance + self.credit_limit\n",
    "        if amount <= total_credit_available:\n",
    "            self.balance -= amount\n",
    "            print(f\"Credit card withdrawal of ${amount:.2f} from Account {self.account_number} successful.\")\n",
    "        else:\n",
    "            print(f\"Insufficient credit limit in Account {self.account_number}.\")\n",
    "\n",
    "savings_account = SavingsAccount(account_number=\"SA123\", balance=1000)\n",
    "checking_account = CheckingAccount(account_number=\"CA456\", balance=500, overdraft_limit=200)\n",
    "credit_card_account = CreditCardAccount(account_number=\"CC789\", credit_limit=2000, balance=100)\n",
    "\n",
    "accounts = [savings_account, checking_account, credit_card_account]\n",
    "\n",
    "for account in accounts:\n",
    "    account.display_balance()\n",
    "    account.withdraw(200)\n",
    "    account.display_balance()\n",
    "    print(\"-\" * 30)\n"
   ]
  },
  {
   "cell_type": "code",
   "execution_count": null,
   "id": "eb80c0a1",
   "metadata": {},
   "outputs": [],
   "source": [
    "# 15. Describe the concept of operator overloading in Python and how it relates to\n",
    "# polymorphism. Provide examples using operators like `+` and `*`."
   ]
  },
  {
   "cell_type": "code",
   "execution_count": null,
   "id": "ca7a7a2b",
   "metadata": {},
   "outputs": [],
   "source": [
    "class Number:\n",
    "    def __init__(self,x,y):\n",
    "        self.x = x\n",
    "        self.y = y\n",
    "        \n",
    "    def __add__(self,other):\n",
    "        return Number(self.x+other.x,self.y+other.y)\n",
    "    \n",
    "    def __mul__(self,other):\n",
    "        return Number(self.x*other.x,self.y*other.y)\n",
    "    \n",
    "n1 = Number(5,10)\n",
    "n2 = Number(2,3)\n",
    "n3 = Number(7,5)\n",
    "\n",
    "add_obj = n1+n2+n3\n",
    "mul_obj = n1*n2*n3\n",
    "\n",
    "print(add_obj.x,add_obj.y)\n",
    "print(mul_obj.y,mul_obj.y)\n"
   ]
  },
  {
   "cell_type": "code",
   "execution_count": null,
   "id": "ff49b102",
   "metadata": {},
   "outputs": [],
   "source": []
  },
  {
   "cell_type": "code",
   "execution_count": null,
   "id": "16385a7c",
   "metadata": {},
   "outputs": [],
   "source": [
    "# 16. What is dynamic polymorphism, and how is it achieved in Python?\n"
   ]
  },
  {
   "cell_type": "raw",
   "id": "eb1663a3",
   "metadata": {},
   "source": [
    "Dynamic polymorphism, also known as runtime polymorphism or late binding, refers to the ability of a program to execute different methods or functions based on the actual type of an object during runtime. It allows you to write more flexible and extensible code where the method to be called is determined at runtime rather than at compile time.\n",
    "\n",
    "In Python, dynamic polymorphism is achieved through method overriding and the use of abstract base classes. Here are the key components that contribute to dynamic polymorphism in Python:"
   ]
  },
  {
   "cell_type": "code",
   "execution_count": null,
   "id": "ed2c0f4b",
   "metadata": {},
   "outputs": [],
   "source": [
    "# 17. Create a Python class hierarchy for employees in a company (e.g., manager,\n",
    "#  developer, designer) and implement polymorphism through a common\n",
    "#  `calculate_salary()` method.\n"
   ]
  },
  {
   "cell_type": "code",
   "execution_count": null,
   "id": "9aaafa3e",
   "metadata": {},
   "outputs": [],
   "source": [
    "class Employee:\n",
    "    def __init__(self, name, employee_id):\n",
    "        self.name = name\n",
    "        self.employee_id = employee_id\n",
    "\n",
    "    def calculate_salary(self):\n",
    "        return 0\n",
    "\n",
    "class Manager(Employee):\n",
    "    def __init__(self, name, employee_id, base_salary, bonus):\n",
    "        super().__init__(name, employee_id)\n",
    "        self.base_salary = base_salary\n",
    "        self.bonus = bonus\n",
    "\n",
    "    def calculate_salary(self):\n",
    "        return self.base_salary + self.bonus\n",
    "\n",
    "class Developer(Employee):\n",
    "    def __init__(self, name, employee_id, hourly_rate, hours_worked):\n",
    "        super().__init__(name, employee_id)\n",
    "        self.hourly_rate = hourly_rate\n",
    "        self.hours_worked = hours_worked\n",
    "\n",
    "    def calculate_salary(self):\n",
    "        return self.hourly_rate * self.hours_worked\n",
    "\n",
    "class Designer(Employee):\n",
    "    def __init__(self, name, employee_id, monthly_salary):\n",
    "        super().__init__(name, employee_id)\n",
    "        self.monthly_salary = monthly_salary\n",
    "\n",
    "    def calculate_salary(self):\n",
    "        return self.monthly_salary\n",
    "\n",
    "employees = [\n",
    "    Manager(name=\"Alice\", employee_id=\"M001\", base_salary=60000, bonus=10000),\n",
    "    Developer(name=\"Bob\", employee_id=\"D001\", hourly_rate=30, hours_worked=160),\n",
    "    Designer(name=\"Charlie\", employee_id=\"DS001\", monthly_salary=5000)\n",
    "]\n",
    "\n",
    "for employee in employees:\n",
    "    print(f\"{employee.name}'s Salary: Rs{employee.calculate_salary():,.2f}\")\n"
   ]
  },
  {
   "cell_type": "code",
   "execution_count": null,
   "id": "1e02f5e2",
   "metadata": {},
   "outputs": [],
   "source": [
    "# 18. Discuss the concept of function pointers and how they can be used to achieve\n",
    "#  polymorphism in Python.\n"
   ]
  },
  {
   "cell_type": "code",
   "execution_count": null,
   "id": "bef6e0a3",
   "metadata": {},
   "outputs": [],
   "source": [
    "import math\n",
    "class Circle:\n",
    "    def __init__(self,radius):\n",
    "        self.radius = radius\n",
    "        \n",
    "class Rectangle:\n",
    "    def __init__(self,length,breadth):\n",
    "        self.length = length\n",
    "        self.breadth = breadth\n",
    "        \n",
    "def calculate_area(shape,area_function):\n",
    "    return area_function(shape)\n",
    "\n",
    "def circle_area(circle):\n",
    "    return math.pi*circle.radius*circle.radius\n",
    "\n",
    "def rectangle_area(ractangle):\n",
    "    return rectangle.length*rectangle.breadth\n",
    "\n",
    "circle = Circle(radius=3)\n",
    "rectangle = Rectangle(length=5,breadth=2)\n",
    "calculate_area(circle,circle_area)"
   ]
  },
  {
   "cell_type": "code",
   "execution_count": null,
   "id": "e89ed449",
   "metadata": {},
   "outputs": [],
   "source": [
    "# 19. Explain the role of interfaces and abstract classes in polymorphism, drawing\n",
    "#  comparisons between them.\n"
   ]
  },
  {
   "cell_type": "raw",
   "id": "fdd6e732",
   "metadata": {},
   "source": [
    "Abstract Class:\n",
    "\n",
    "An abstract class is a class that cannot be instantiated on its own and may contain abstract methods.\n",
    "Abstract methods are methods declared in the abstract class but have no implementation. Subclasses are required to provide concrete implementations for these methods.\n",
    "\n",
    "Abstract classes support the concept of inheritance, allowing concrete subclasses to inherit attributes and methods from the abstract class.\n",
    "Abstract classes can have both abstract and non-abstract (concrete) methods.\n",
    "\n",
    "Interface:\n",
    "\n",
    "Interfaces:\n",
    "\n",
    "An interface is a collection of method signatures that a class must implement. Unlike abstract classes, interfaces do not have any implementation.\n",
    "In Python, interfaces are not explicitly defined as a language feature, but the concept can be emulated using abstract base classes with all abstract methods.\n",
    "\n",
    "Inheritance:\n",
    "\n",
    "Interfaces emphasize multiple inheritance, allowing a class to implement multiple interfaces.\n",
    "A class can conform to multiple interfaces by providing concrete implementations for all methods specified in those interfaces."
   ]
  },
  {
   "cell_type": "code",
   "execution_count": null,
   "id": "2a0fdf49",
   "metadata": {},
   "outputs": [],
   "source": [
    "# 20. Create a Python class for a zoo simulation, demonstrating polymorphism with\n",
    "#  different animal types (e.g., mammals, birds, reptiles) and their behavior (e.g., eating,\n",
    "#  sleeping, making sounds).\n"
   ]
  },
  {
   "cell_type": "code",
   "execution_count": null,
   "id": "7c89ca2c",
   "metadata": {},
   "outputs": [],
   "source": [
    "class Animal:\n",
    "    def __init__(self, name):\n",
    "        self.name = name\n",
    "\n",
    "    def eat(self):\n",
    "        pass\n",
    "\n",
    "    def sleep(self):\n",
    "        pass\n",
    "\n",
    "    def make_sound(self):\n",
    "        pass\n",
    "\n",
    "class Mammal(Animal):\n",
    "    def __init__(self, name, fur_color):\n",
    "        super().__init__(name)\n",
    "        self.fur_color = fur_color\n",
    "\n",
    "    def eat(self):\n",
    "        return f\"{self.name} the mammal is eating.\"\n",
    "\n",
    "    def sleep(self):\n",
    "        return f\"{self.name} the mammal is sleeping.\"\n",
    "\n",
    "    def make_sound(self):\n",
    "        return f\"{self.name} the mammal makes a mammal sound.\"\n",
    "\n",
    "class Bird(Animal):\n",
    "    def __init__(self, name, feather_color):\n",
    "        super().__init__(name)\n",
    "        self.feather_color = feather_color\n",
    "\n",
    "    def eat(self):\n",
    "        return f\"{self.name} the bird is eating.\"\n",
    "\n",
    "    def sleep(self):\n",
    "        return f\"{self.name} the bird is sleeping.\"\n",
    "\n",
    "    def make_sound(self):\n",
    "        return f\"{self.name} the bird makes a bird sound.\"\n",
    "\n",
    "class Reptile(Animal):\n",
    "    def __init__(self, name, scale_type):\n",
    "        super().__init__(name)\n",
    "        self.scale_type = scale_type\n",
    "\n",
    "    def eat(self):\n",
    "        return f\"{self.name} the reptile is eating.\"\n",
    "\n",
    "    def sleep(self):\n",
    "        return f\"{self.name} the reptile is sleeping.\"\n",
    "\n",
    "    def make_sound(self):\n",
    "        return f\"{self.name} the reptile makes a reptile sound.\"\n",
    "\n",
    "mammal1 = Mammal(name=\"Lion\", fur_color=\"golden\")\n",
    "bird1 = Bird(name=\"Eagle\", feather_color=\"brown\")\n",
    "reptile1 = Reptile(name=\"Snake\", scale_type=\"smooth\")\n",
    "\n",
    "print(mammal1.eat())\n",
    "print(bird1.sleep())\n",
    "print(reptile1.make_sound())\n"
   ]
  },
  {
   "cell_type": "markdown",
   "id": "07c2e142",
   "metadata": {},
   "source": [
    "# Abstraction:"
   ]
  },
  {
   "cell_type": "code",
   "execution_count": null,
   "id": "4f4833b7",
   "metadata": {},
   "outputs": [],
   "source": [
    "# 1. What is abstraction in Python, and how does it relate to object-oriented\n",
    "#  programming?"
   ]
  },
  {
   "cell_type": "raw",
   "id": "f03f6932",
   "metadata": {},
   "source": [
    "Abstraction in Python, within the context of object-oriented programming (OOP), is a fundamental principle that involves simplifying complex systems by modeling classes based on essential properties and behaviors. It allows developers to create a simplified representation of real-world entities, focusing only on the relevant details while hiding unnecessary complexities.\n",
    "\n",
    "Relation to OOPs:\n",
    "\n",
    "Data Hiding:\n",
    "\n",
    "Abstraction often involves the concept of data hiding or encapsulation. Attributes of a class are often marked as private or protected, and access is controlled through getter and setter methods.\n",
    "This helps in hiding the internal details of the class and allows users to interact with the class through a well-defined interface.\n",
    "\n",
    "Method Signature:\n",
    "\n",
    "Abstraction emphasizes defining method signatures (names, parameters, return types) in a class without necessarily providing the implementation details.\n",
    "This allows for the creation of abstract classes or interfaces, which declare methods that must be implemented by concrete subclasses."
   ]
  },
  {
   "cell_type": "code",
   "execution_count": null,
   "id": "513024d1",
   "metadata": {},
   "outputs": [],
   "source": [
    "# 2. Describe the benefits of abstraction in terms of code organization and complexity\n",
    "#  reduction."
   ]
  },
  {
   "cell_type": "raw",
   "id": "5ff3262f",
   "metadata": {},
   "source": [
    "1. Encapsulation:\n",
    "\n",
    "Benefit: Abstraction allows for encapsulation, where the internal details of a class (attributes and methods) are hidden from the outside world. This promotes information hiding and protects the integrity of the class.\n",
    "Result: Developers can interact with the class through a well-defined interface, reducing the chances of unintended misuse or modification.\n",
    "\n",
    "2. Modularity:\n",
    "\n",
    "Benefit: Abstraction promotes modularity by breaking down a complex system into smaller, more manageable units (classes and objects).\n",
    "Result: Each module (class) can be developed and tested independently, making the codebase easier to understand, maintain, and extend.\n",
    "\n",
    "3. Code Reusability:\n",
    "\n",
    "Benefit: Abstraction encourages the creation of reusable components (classes) with well-defined interfaces.\n",
    "Result: Developers can reuse existing classes in different parts of the program or in entirely different projects, saving time and effort.\n",
    "\n",
    "4. Polymorphism:\n",
    "\n",
    "Benefit: Abstraction facilitates polymorphism, allowing objects of different classes to be treated as instances of a common interface.\n",
    "Result: This enables more flexible and generic code, as methods can be written to work with objects that adhere to a shared interface without knowing their specific types.\n",
    "\n",
    "5. Simplification of Complex Systems:\n",
    "\n",
    "Benefit: Abstraction simplifies complex systems by modeling only the essential features and behaviors of real-world entities.\n",
    "Result: Irrelevant details are abstracted away, providing a high-level view that makes the codebase more understandable and maintainable.\n",
    "\n",
    "6. Ease of Maintenance:\n",
    "\n",
    "Benefit: Abstraction helps in isolating changes to specific classes, reducing the impact of modifications on other parts of the codebase.\n",
    "Result: Maintenance becomes easier, as updates and improvements can be made to individual classes without affecting the entire system."
   ]
  },
  {
   "cell_type": "code",
   "execution_count": 47,
   "id": "2df6ac6d",
   "metadata": {},
   "outputs": [],
   "source": [
    "# 3. Create a Python class called `Shape` with an abstract method `calculate_area()`.\n",
    "#  Then, create child classes (e.g., `Circle`, `Rectangle`) that implement the\n",
    "#  `calculate_area()` method. Provide an example of using these classes.\n"
   ]
  },
  {
   "cell_type": "code",
   "execution_count": 48,
   "id": "a5fea65e",
   "metadata": {},
   "outputs": [
    {
     "name": "stdout",
     "output_type": "stream",
     "text": [
      "50.26548245743669\n",
      "12\n"
     ]
    }
   ],
   "source": [
    "import math\n",
    "from abc import ABC,abstractmethod\n",
    "\n",
    "class Shape(ABC):\n",
    "    \n",
    "    @abstractmethod\n",
    "    def calculate_area(self):\n",
    "        pass\n",
    "    \n",
    "class Circle(Shape):\n",
    "    def __init__(self,radius):\n",
    "        self.radius = radius\n",
    "        \n",
    "    def calculate_area(self):\n",
    "        print(math.pi*self.radius**2)\n",
    "    \n",
    "class Rectangle(Shape):\n",
    "    def __init__(self,length,breadth):\n",
    "        self.length = length\n",
    "        self.breadth = breadth\n",
    "        \n",
    "    def calculate_area(self):\n",
    "        print(self.length*self.breadth)\n",
    "    \n",
    "circle = Circle(4)\n",
    "circle.calculate_area()\n",
    "rectangle = Rectangle(2,6)\n",
    "rectangle.calculate_area()"
   ]
  },
  {
   "cell_type": "code",
   "execution_count": 49,
   "id": "f37256ce",
   "metadata": {},
   "outputs": [],
   "source": [
    "# 4. Explain the concept of abstract classes in Python and how they are defined using the\n",
    "#  `abc` module. Provide an example.\n"
   ]
  },
  {
   "cell_type": "raw",
   "id": "89c61c7d",
   "metadata": {},
   "source": [
    "an abstract class is a class that cannot be instantiated and may contain one or more abstract methods. Abstract methods are methods declared in the abstract class but have no implementation. Subclasses of the abstract class must provide concrete implementations for these abstract methods. Abstract classes provide a way to define a common interface for a group of related classes.\n",
    "\n",
    "The abc module (Abstract Base Classes) in Python provides tools for creating abstract classes and abstract methods. Abstract classes are created by inheriting from the ABC (Abstract Base Class) class and using the @abstractmethod decorator to declare abstract methods."
   ]
  },
  {
   "cell_type": "code",
   "execution_count": 50,
   "id": "af2996aa",
   "metadata": {},
   "outputs": [
    {
     "name": "stdout",
     "output_type": "stream",
     "text": [
      "Circle Area: 78.5\n",
      "Circle Perimeter: 31.400000000000002\n",
      "Rectangle Perimeter: 20\n"
     ]
    }
   ],
   "source": [
    "from abc import ABC, abstractmethod\n",
    "\n",
    "class Shape(ABC):\n",
    "    @abstractmethod\n",
    "    def area(self):\n",
    "        pass\n",
    "\n",
    "    @abstractmethod\n",
    "    def perimeter(self):\n",
    "        pass\n",
    "\n",
    "class Circle(Shape):\n",
    "    def __init__(self, radius):\n",
    "        self.radius = radius\n",
    "\n",
    "    def area(self):\n",
    "        return 3.14 * self.radius * self.radius\n",
    "\n",
    "    def perimeter(self):\n",
    "        return 2 * 3.14 * self.radius\n",
    "\n",
    "class Rectangle(Shape):\n",
    "    def __init__(self, length, width):\n",
    "        self.length = length\n",
    "        self.width = width\n",
    "\n",
    "    def area(self):\n",
    "        return self.length * self.width\n",
    "\n",
    "    def perimeter(self):\n",
    "        return 2 * (self.length + self.width)\n",
    "\n",
    "circle = Circle(radius=5)\n",
    "rectangle = Rectangle(length=4, width=6)\n",
    "\n",
    "print(f\"Circle Area: {circle.area()}\")\n",
    "print(f\"Circle Perimeter: {circle.perimeter()}\")\n",
    "print(f\"Rectangle Perimeter: {rectangle.perimeter()}\")\n"
   ]
  },
  {
   "cell_type": "code",
   "execution_count": 51,
   "id": "1a0953bc",
   "metadata": {},
   "outputs": [],
   "source": [
    "# 5. How do abstract classes differ from regular classes in Python? Discuss their use\n",
    "#  cases.\n"
   ]
  },
  {
   "cell_type": "raw",
   "id": "e8c8d535",
   "metadata": {},
   "source": [
    "Abstract classes in Python differ from regular classes in that they cannot be instantiated directly, and they may contain abstract methods—methods without implementations. Abstract classes serve as a blueprint for other classes and are typically used to define a common interface for a group of related classes. Regular classes, on the other hand, can be instantiated, and all their methods must have implementations.\n",
    "\n",
    "\n",
    "Use Cases:\n",
    "\n",
    "Framework Design:\n",
    "\n",
    "Abstract classes are often used in framework design where a common interface needs to be defined, and subclasses provide specific implementations.\n",
    "\n",
    "Plugin Architecture:\n",
    "\n",
    "Abstract classes can be used to define a set of methods that plugins or extensions must implement to integrate with a system.\n",
    "\n",
    "Code Organization:\n",
    "\n",
    "Abstract classes help in organizing code by grouping related methods together in a base class while leaving the specific implementation to subclasses.\n"
   ]
  },
  {
   "cell_type": "code",
   "execution_count": 52,
   "id": "2287300a",
   "metadata": {},
   "outputs": [],
   "source": [
    "# 6. Create a Python class for a bank account and demonstrate abstraction by hiding the\n",
    "#  account balance and providing methods to deposit and withdraw funds.\n"
   ]
  },
  {
   "cell_type": "code",
   "execution_count": 53,
   "id": "ea0c912e",
   "metadata": {},
   "outputs": [
    {
     "name": "stdout",
     "output_type": "stream",
     "text": [
      "Account holder: Srinivas\n",
      "Initial balance: Rs1000.00\n",
      "Deposit of Rs500.00 successful. New balance: Rs1500.00\n",
      "Withdrawal of Rs200.00 successful. New balance: Rs1300.00\n",
      "Final balance: Rs1300.00\n"
     ]
    }
   ],
   "source": [
    "from abc import ABC,abstractmethod\n",
    "class Account(ABC):\n",
    "    def deposit(self):\n",
    "        pass\n",
    "    def withdraw(self):\n",
    "        pass\n",
    "\n",
    "class BankAccount:\n",
    "    def __init__(self, account_holder, initial_balance=0):\n",
    "        self.account_holder = account_holder\n",
    "        self.__balance = initial_balance  \n",
    "    def deposit(self, amount):\n",
    "        \"\"\"Deposit funds into the account.\"\"\"\n",
    "        if amount > 0:\n",
    "            self.__balance += amount\n",
    "            print(f\"Deposit of Rs{amount:.2f} successful. New balance: Rs{self.__balance:.2f}\")\n",
    "        else:\n",
    "            print(\"Invalid deposit amount. Please enter a positive value.\")\n",
    "\n",
    "    def withdraw(self, amount):\n",
    "        \"\"\"Withdraw funds from the account.\"\"\"\n",
    "        if 0 < amount <= self.__balance:\n",
    "            self.__balance -= amount\n",
    "            print(f\"Withdrawal of Rs{amount:.2f} successful. New balance: Rs{self.__balance:.2f}\")\n",
    "        elif amount <= 0:\n",
    "            print(\"Invalid withdrawal amount. Please enter a positive value.\")\n",
    "        else:\n",
    "            print(\"Insufficient funds for withdrawal.\")\n",
    "\n",
    "    def get_balance(self):\n",
    "        \"\"\"Get the current account balance.\"\"\"\n",
    "        return self.__balance\n",
    "\n",
    "    def get_account_holder(self):\n",
    "        \"\"\"Get the account holder's name.\"\"\"\n",
    "        return self.account_holder\n",
    "\n",
    "account1 = BankAccount(account_holder=\"Srinivas\", initial_balance=1000)\n",
    "\n",
    "print(f\"Account holder: {account1.get_account_holder()}\")\n",
    "print(f\"Initial balance: Rs{account1.get_balance():.2f}\")\n",
    "\n",
    "account1.deposit(500)\n",
    "account1.withdraw(200)\n",
    "\n",
    "print(f\"Final balance: Rs{account1.get_balance():.2f}\")\n"
   ]
  },
  {
   "cell_type": "code",
   "execution_count": 54,
   "id": "cf76984b",
   "metadata": {},
   "outputs": [],
   "source": [
    "# 7. Discuss the concept of interface classes in Python and their role in achieving\n",
    "#  abstraction.\n"
   ]
  },
  {
   "cell_type": "raw",
   "id": "3ba0af00",
   "metadata": {},
   "source": [
    "In Python, interface classes are not a distinct language feature as they are in some other object-oriented programming languages. However, the concept of interface-like behavior can be achieved using abstract classes with abstract methods and multiple inheritance.\n",
    "\n",
    "By using abstract classes and abstract methods, you can achieve a form of interface-like behavior in Python. While Python doesn't have a specific interface keyword, the combination of abstract classes and abstract methods serves a similar purpose and promote abstraction in your code."
   ]
  },
  {
   "cell_type": "code",
   "execution_count": null,
   "id": "a9232967",
   "metadata": {},
   "outputs": [],
   "source": []
  },
  {
   "cell_type": "code",
   "execution_count": 55,
   "id": "d02bb909",
   "metadata": {},
   "outputs": [],
   "source": [
    "# 8. Create a Python class hierarchy for animals and implement abstraction by defining\n",
    "#  common methods (e.g., `eat()`, `sleep()`) in an abstract base class.\n"
   ]
  },
  {
   "cell_type": "code",
   "execution_count": 56,
   "id": "30c7b98a",
   "metadata": {},
   "outputs": [
    {
     "name": "stdout",
     "output_type": "stream",
     "text": [
      "Lion the mammal is eating.\n",
      "Eagle the bird is sleeping.\n",
      "Snake the reptile is eating.\n"
     ]
    }
   ],
   "source": [
    "from abc import ABC, abstractmethod\n",
    "\n",
    "class Animal(ABC):\n",
    "    def __init__(self, name):\n",
    "        self.name = name\n",
    "\n",
    "    @abstractmethod\n",
    "    def eat(self):\n",
    "        pass\n",
    "\n",
    "    @abstractmethod\n",
    "    def sleep(self):\n",
    "        pass\n",
    "\n",
    "class Mammal(Animal):\n",
    "    def __init__(self, name, fur_color):\n",
    "        super().__init__(name)\n",
    "        self.fur_color = fur_color\n",
    "\n",
    "    def eat(self):\n",
    "        return f\"{self.name} the mammal is eating.\"\n",
    "\n",
    "    def sleep(self):\n",
    "        return f\"{self.name} the mammal is sleeping.\"\n",
    "\n",
    "class Bird(Animal):\n",
    "    def __init__(self, name, feather_color):\n",
    "        super().__init__(name)\n",
    "        self.feather_color = feather_color\n",
    "\n",
    "    def eat(self):\n",
    "        return f\"{self.name} the bird is eating.\"\n",
    "\n",
    "    def sleep(self):\n",
    "        return f\"{self.name} the bird is sleeping.\"\n",
    "\n",
    "class Reptile(Animal):\n",
    "    def __init__(self, name, scale_type):\n",
    "        super().__init__(name)\n",
    "        self.scale_type = scale_type\n",
    "\n",
    "    def eat(self):\n",
    "        return f\"{self.name} the reptile is eating.\"\n",
    "\n",
    "    def sleep(self):\n",
    "        return f\"{self.name} the reptile is sleeping.\"\n",
    "\n",
    "mammal = Mammal(name=\"Lion\", fur_color=\"golden\")\n",
    "bird = Bird(name=\"Eagle\", feather_color=\"brown\")\n",
    "reptile = Reptile(name=\"Snake\", scale_type=\"smooth\")\n",
    "\n",
    "print(mammal.eat())\n",
    "print(bird.sleep())\n",
    "print(reptile.eat())\n"
   ]
  },
  {
   "cell_type": "code",
   "execution_count": 57,
   "id": "be78aad1",
   "metadata": {},
   "outputs": [],
   "source": [
    "# 9. Explain the significance of encapsulation in achieving abstraction. Provide examples.\n"
   ]
  },
  {
   "cell_type": "raw",
   "id": "d30a3b08",
   "metadata": {},
   "source": [
    "Encapsulation is a fundamental concept in object-oriented programming that involves bundling the data (attributes) and methods (functions) that operate on the data into a single unit known as a class. The significance of encapsulation lies in its ability to hide the internal details of an object and expose only what is necessary, promoting abstraction and enhancing the security and maintainability of code.\n",
    "\n",
    "Encapsuation Provides:\n",
    "Data Hiding\n",
    "Access Control\n",
    "Security\n",
    "Abstraction"
   ]
  },
  {
   "cell_type": "code",
   "execution_count": 58,
   "id": "47787a19",
   "metadata": {},
   "outputs": [],
   "source": [
    "# 10. What is the purpose of abstract methods, and how do they enforce abstraction in\n",
    "#  Python classes?\n"
   ]
  },
  {
   "cell_type": "code",
   "execution_count": 59,
   "id": "78fef2e9",
   "metadata": {},
   "outputs": [
    {
     "name": "stdout",
     "output_type": "stream",
     "text": [
      "Make: Toyota\n",
      "Model: Camry\n"
     ]
    }
   ],
   "source": [
    "class Car:\n",
    "    def __init__(self, make, model):\n",
    "        self.__make = make  \n",
    "        self.__model = model\n",
    "\n",
    "    def get_make(self):\n",
    "        return self.__make\n",
    "\n",
    "    def get_model(self):\n",
    "        return self.__model\n",
    "\n",
    "my_car = Car(make=\"Toyota\", model=\"Camry\")\n",
    "print(f\"Make: {my_car.get_make()}\")\n",
    "print(f\"Model: {my_car.get_model()}\")\n"
   ]
  },
  {
   "cell_type": "code",
   "execution_count": 60,
   "id": "100c82ec",
   "metadata": {},
   "outputs": [],
   "source": [
    "# 11. Create a Python class for a vehicle system and demonstrate abstraction by defining\n",
    "#  common methods (e.g., `start()`, `stop()`) in an abstract base class.\n"
   ]
  },
  {
   "cell_type": "code",
   "execution_count": 61,
   "id": "e4efdb29",
   "metadata": {},
   "outputs": [
    {
     "name": "stdout",
     "output_type": "stream",
     "text": [
      "The Toyota Camry (Car) has started.\n",
      "The Harley-Davidson Sportster (Motorcycle) has started.\n",
      "The Toyota Camry (Car) has stopped.\n",
      "The Harley-Davidson Sportster (Motorcycle) has stopped.\n"
     ]
    }
   ],
   "source": [
    "from abc import ABC, abstractmethod\n",
    "\n",
    "class Vehicle(ABC):\n",
    "    @abstractmethod\n",
    "    def start(self):\n",
    "        pass\n",
    "\n",
    "    @abstractmethod\n",
    "    def stop(self):\n",
    "        pass\n",
    "\n",
    "class Car(Vehicle):\n",
    "    def __init__(self, brand, model, fuel_type):\n",
    "        self.brand = brand\n",
    "        self.model = model\n",
    "        self.fuel_type = fuel_type\n",
    "        self.is_running = False\n",
    "\n",
    "    def start(self):\n",
    "        if not self.is_running:\n",
    "            self.is_running = True\n",
    "            print(f\"The {self.brand} {self.model} (Car) has started.\")\n",
    "        else:\n",
    "            print(\"The car is already running.\")\n",
    "\n",
    "    def stop(self):\n",
    "        if self.is_running:\n",
    "            self.is_running = False\n",
    "            print(f\"The {self.brand} {self.model} (Car) has stopped.\")\n",
    "        else:\n",
    "            print(\"The car is already stopped.\")\n",
    "\n",
    "class Motorcycle(Vehicle):\n",
    "    def __init__(self, brand, model, num_wheels):\n",
    "        self.brand = brand\n",
    "        self.model = model\n",
    "        self.is_running = False\n",
    "        self.num_wheels = num_wheels\n",
    "\n",
    "    def start(self):\n",
    "        if not self.is_running:\n",
    "            self.is_running = True\n",
    "            print(f\"The {self.brand} {self.model} (Motorcycle) has started.\")\n",
    "        else:\n",
    "            print(\"The motorcycle is already running.\")\n",
    "\n",
    "    def stop(self):\n",
    "        if self.is_running:\n",
    "            self.is_running = False\n",
    "            print(f\"The {self.brand} {self.model} (Motorcycle) has stopped.\")\n",
    "        else:\n",
    "            print(\"The motorcycle is already stopped.\")\n",
    "\n",
    "car = Car(brand=\"Toyota\", model=\"Camry\", fuel_type=\"Gasoline\")\n",
    "motorcycle = Motorcycle(brand=\"Harley-Davidson\", model=\"Sportster\", num_wheels=2)\n",
    "\n",
    "car.start()\n",
    "motorcycle.start()\n",
    "\n",
    "car.stop()\n",
    "motorcycle.stop()\n"
   ]
  },
  {
   "cell_type": "code",
   "execution_count": 62,
   "id": "337ee212",
   "metadata": {},
   "outputs": [],
   "source": [
    "# 12. Describe the use of abstract properties in Python and how they can be employed in\n",
    "#  abstract classes.\n"
   ]
  },
  {
   "cell_type": "raw",
   "id": "c869e53c",
   "metadata": {},
   "source": [
    "Abstract properties are a way to define abstract attributes in abstract base classes. Abstract properties allow you to declare a property in an abstract class without providing its implementation. Subclasses are then required to provide concrete implementations for these abstract properties. Abstract properties are created using the @property decorator in conjunction with the @abstractmethod decorator."
   ]
  },
  {
   "cell_type": "code",
   "execution_count": 63,
   "id": "29440142",
   "metadata": {},
   "outputs": [
    {
     "name": "stdout",
     "output_type": "stream",
     "text": [
      "Circle Area: 78.5\n",
      "Rectangle Area: 24\n"
     ]
    }
   ],
   "source": [
    "from abc import ABC, abstractmethod, abstractproperty\n",
    "\n",
    "class Shape(ABC):\n",
    "    @abstractproperty\n",
    "    def area(self):\n",
    "        pass\n",
    "\n",
    "class Circle(Shape):\n",
    "    def __init__(self, radius):\n",
    "        self.radius = radius\n",
    "\n",
    "    @property\n",
    "    def area(self):\n",
    "        return 3.14 * self.radius * self.radius\n",
    "\n",
    "class Rectangle(Shape):\n",
    "    def __init__(self, length, width):\n",
    "        self.length = length\n",
    "        self.width = width\n",
    "\n",
    "    @property\n",
    "    def area(self):\n",
    "        return self.length * self.width\n",
    "\n",
    "circle = Circle(radius=5)\n",
    "rectangle = Rectangle(length=4, width=6)\n",
    "\n",
    "print(f\"Circle Area: {circle.area}\")\n",
    "print(f\"Rectangle Area: {rectangle.area}\")\n"
   ]
  },
  {
   "cell_type": "code",
   "execution_count": 64,
   "id": "c1767fa4",
   "metadata": {},
   "outputs": [],
   "source": [
    "# 13. Create a Python class hierarchy for employees in a company (e.g., manager,\n",
    "#  developer, designer) and implement abstraction by defining a common `get_salary()`\n",
    "#  method.\n"
   ]
  },
  {
   "cell_type": "code",
   "execution_count": 65,
   "id": "aac06a21",
   "metadata": {},
   "outputs": [
    {
     "name": "stdout",
     "output_type": "stream",
     "text": [
      "Sudhanshu Kumar's salary as a Manager: Rs80000\n",
      "Srinivas Padhy's salary as a Developer: Rs4800\n",
      "Krish Naik's salary as a Designer: Rs6600.0\n"
     ]
    }
   ],
   "source": [
    "from abc import ABC, abstractmethod\n",
    "\n",
    "class Employee(ABC):\n",
    "\n",
    "    @abstractmethod\n",
    "    def get_salary(self):\n",
    "        pass\n",
    "\n",
    "class Manager(Employee):\n",
    "    def __init__(self, name, employee_id, salary):\n",
    "        self.name = name\n",
    "        self.employee_id = employee_id\n",
    "        self.salary = salary\n",
    "\n",
    "    def get_salary(self):\n",
    "        return f\"{self.name}'s salary as a Manager: Rs{self.salary}\"\n",
    "\n",
    "class Developer(Employee):\n",
    "    def __init__(self, name, employee_id, hourly_rate, hours_worked):\n",
    "        self.name = name\n",
    "        self.employee_id = employee_id\n",
    "        self.hourly_rate = hourly_rate\n",
    "        self.hours_worked = hours_worked\n",
    "\n",
    "    def get_salary(self):\n",
    "        return f\"{self.name}'s salary as a Developer: Rs{self.hourly_rate * self.hours_worked}\"\n",
    "\n",
    "class Designer(Employee):\n",
    "    def __init__(self, name, employee_id, monthly_salary, bonus_percentage):\n",
    "        self.name = name\n",
    "        self.employee_id = employee_id\n",
    "        self.monthly_salary = monthly_salary\n",
    "        self.bonus_percentage = bonus_percentage\n",
    "\n",
    "    def get_salary(self):\n",
    "        bonus_amount = (self.bonus_percentage / 100) * self.monthly_salary\n",
    "        return f\"{self.name}'s salary as a Designer: Rs{self.monthly_salary + bonus_amount}\"\n",
    "\n",
    "manager = Manager(name=\"Sudhanshu Kumar\", employee_id=\"M123\", salary=80000)\n",
    "developer = Developer(name=\"Srinivas Padhy\", employee_id=\"D456\", hourly_rate=30, hours_worked=160)\n",
    "designer = Designer(name=\"Krish Naik\", employee_id=\"DE789\", monthly_salary=6000, bonus_percentage=10)\n",
    "\n",
    "print(manager.get_salary())\n",
    "print(developer.get_salary())\n",
    "print(designer.get_salary())\n"
   ]
  },
  {
   "cell_type": "code",
   "execution_count": 66,
   "id": "18794f78",
   "metadata": {},
   "outputs": [],
   "source": [
    "# 14. Discuss the differences between abstract classes and concrete classes in Python,\n",
    "#  including their instantiation.\n"
   ]
  },
  {
   "cell_type": "raw",
   "id": "a41af7c6",
   "metadata": {},
   "source": [
    "\n",
    "Abstract Classes:\n",
    "\n",
    "Cannot be instantiated directly.\n",
    "May contain abstract methods.\n",
    "Designed to serve as a base class with a common interface.\n",
    "Subclasses provide concrete implementations for abstract methods.\n",
    "\n",
    "Concrete Classes:\n",
    "\n",
    "Can be instantiated directly.\n",
    "Contains concrete methods and may have attributes.\n",
    "Used to create objects with specific attributes and behaviors.\n",
    "May or may not have subclasses.\n",
    "\n",
    "\n"
   ]
  },
  {
   "cell_type": "code",
   "execution_count": 67,
   "id": "ddcad3f3",
   "metadata": {},
   "outputs": [],
   "source": [
    "# 15. Explain the concept of abstract data types (ADTs) and their role in achieving\n",
    "#  abstraction in Python.\n"
   ]
  },
  {
   "cell_type": "raw",
   "id": "3b0b6fc2",
   "metadata": {},
   "source": [
    "Abstract Data Types (ADTs) are a concept represents a logical description of how data is viewed and the operations that can be performed on that data. ADTs provide a high-level description of data structures and their associated operations without specifying the internal details of the implementation. The goal is to abstract away the implementation details, focusing on what the data structure does rather than how it does it.\n",
    "\n",
    "Abstract Data Types (ADTs) play a crucial role in achieving abstraction in Python by providing clear, logical descriptions of data structures and their operations. They allow users to interact with data structures based on their behavior, promoting encapsulation, code reusability, and reduced complexity. ADTs separate the concerns of what a data structure does from how it achieves those functionalities, fostering a modular and maintainable design."
   ]
  },
  {
   "cell_type": "code",
   "execution_count": 68,
   "id": "3d6a2943",
   "metadata": {},
   "outputs": [],
   "source": [
    "# 16. Create a Python class for a computer system, demonstrating abstraction by defining\n",
    "#  common methods (e.g., `power_on()`, `shutdown()`) in an abstract base class.\n"
   ]
  },
  {
   "cell_type": "code",
   "execution_count": 69,
   "id": "0fe22a22",
   "metadata": {},
   "outputs": [
    {
     "name": "stdout",
     "output_type": "stream",
     "text": [
      "Dell OptiPlex Desktop is powered on.\n",
      "HP Pavilion Laptop is powered on.\n",
      "Dell OptiPlex Desktop is shutting down.\n",
      "HP Pavilion Laptop is shutting down.\n"
     ]
    }
   ],
   "source": [
    "from abc import ABC, abstractmethod\n",
    "\n",
    "class ComputerSystem(ABC):\n",
    "    def __init__(self, brand, model):\n",
    "        self.brand = brand\n",
    "        self.model = model\n",
    "        self.is_powered_on = False\n",
    "\n",
    "    @abstractmethod\n",
    "    def power_on(self):\n",
    "        pass\n",
    "\n",
    "    @abstractmethod\n",
    "    def shutdown(self):\n",
    "        pass\n",
    "\n",
    "class DesktopComputer(ComputerSystem):\n",
    "    def __init__(self, brand, model, tower_color):\n",
    "        super().__init__(brand, model)\n",
    "        self.tower_color = tower_color\n",
    "\n",
    "    def power_on(self):\n",
    "        if not self.is_powered_on:\n",
    "            self.is_powered_on = True\n",
    "            print(f\"{self.brand} {self.model} Desktop is powered on.\")\n",
    "        else:\n",
    "            print(\"The desktop is already powered on.\")\n",
    "\n",
    "    def shutdown(self):\n",
    "        if self.is_powered_on:\n",
    "            self.is_powered_on = False\n",
    "            print(f\"{self.brand} {self.model} Desktop is shutting down.\")\n",
    "        else:\n",
    "            print(\"The desktop is already powered off.\")\n",
    "\n",
    "class Laptop(ComputerSystem):\n",
    "    def __init__(self, brand, model, screen_size):\n",
    "        super().__init__(brand, model)\n",
    "        self.screen_size = screen_size\n",
    "\n",
    "    def power_on(self):\n",
    "        if not self.is_powered_on:\n",
    "            self.is_powered_on = True\n",
    "            print(f\"{self.brand} {self.model} Laptop is powered on.\")\n",
    "        else:\n",
    "            print(\"The laptop is already powered on.\")\n",
    "\n",
    "    def shutdown(self):\n",
    "        if self.is_powered_on:\n",
    "            self.is_powered_on = False\n",
    "            print(f\"{self.brand} {self.model} Laptop is shutting down.\")\n",
    "        else:\n",
    "            print(\"The laptop is already powered off.\")\n",
    "\n",
    "desktop = DesktopComputer(brand=\"Dell\", model=\"OptiPlex\", tower_color=\"Black\")\n",
    "laptop = Laptop(brand=\"HP\", model=\"Pavilion\", screen_size=\"15 inches\")\n",
    "\n",
    "desktop.power_on()\n",
    "laptop.power_on()\n",
    "\n",
    "desktop.shutdown()\n",
    "laptop.shutdown()\n"
   ]
  },
  {
   "cell_type": "code",
   "execution_count": 70,
   "id": "f83ef07e",
   "metadata": {},
   "outputs": [],
   "source": [
    "# 17. Discuss the benefits of using abstraction in large-scale software development\n",
    "#  projects.\n"
   ]
  },
  {
   "cell_type": "raw",
   "id": "285c4b78",
   "metadata": {},
   "source": [
    "Abstraction is a fundamental concept in software development that involves hiding the complex implementation details of a system and exposing only what is necessary for interaction. In large-scale software development projects, abstraction offers a range of benefits that contribute to code quality, maintainability, and overall project success. Here are several advantages of using abstraction in large-scale software development\n",
    "\n",
    "Benefits:\n",
    "\n",
    "Modularity\n",
    "Code Reusability\n",
    "Encapsulation\n",
    "Reduced Complexity\n",
    "Ease of Maintenance\n",
    "Scalability\n",
    "Adaptability to Change"
   ]
  },
  {
   "cell_type": "code",
   "execution_count": 71,
   "id": "ef288271",
   "metadata": {},
   "outputs": [],
   "source": [
    "# 18. Explain how abstraction enhances code reusability and modularity in Python\n",
    "#  programs.\n"
   ]
  },
  {
   "cell_type": "raw",
   "id": "79e5a0d5",
   "metadata": {},
   "source": [
    "Modularity:\n",
    "\n",
    "Abstraction allows developers to break down a complex system into smaller, manageable modules.\n",
    "Each module encapsulates its own functionality, promoting modularity and making it easier to understand, develop, and maintain.\n",
    "\n",
    "Code Reusability:\n",
    "\n",
    "Abstraction enables the creation of reusable components and libraries with well-defined interfaces.\n",
    "Code that is abstracted and modular can be easily reused across different parts of the system or even in other projects."
   ]
  },
  {
   "cell_type": "code",
   "execution_count": 72,
   "id": "ad3b0f65",
   "metadata": {},
   "outputs": [],
   "source": [
    "# 19. Create a Python class for a library system, implementing abstraction by defining\n",
    "#  common methods (e.g., `add_book()`, `borrow_book()`) in an abstract base class.\n"
   ]
  },
  {
   "cell_type": "code",
   "execution_count": 73,
   "id": "e0e3d0c6",
   "metadata": {},
   "outputs": [
    {
     "name": "stdout",
     "output_type": "stream",
     "text": [
      "Added 'The Great Gatsby' by F. Scott Fitzgerald to the library catalog.\n",
      "Added 'The Intelligent Investor' by Benjamin Graham to the library catalog.\n",
      "Added 'Inception' directed by Christopher Nolan to the library catalog.\n",
      "Added 'The Shawshank Redemption' directed by Frank Darabont to the library catalog.\n",
      "Borrowed 'The Great Gatsby' by F. Scott Fitzgerald.\n",
      "Borrowed 'Inception' directed by Christopher Nolan.\n",
      "Borrowed 'The Intelligent Investor' by Benjamin Graham.\n",
      "Borrowed 'The Shawshank Redemption' directed by Frank Darabont.\n"
     ]
    }
   ],
   "source": [
    "from abc import ABC, abstractmethod\n",
    "\n",
    "class LibrarySystem(ABC):\n",
    "    def __init__(self, name):\n",
    "        self.name = name\n",
    "        self.catalog = {}\n",
    "\n",
    "    @abstractmethod\n",
    "    def add_item(self, item):\n",
    "        pass\n",
    "\n",
    "    @abstractmethod\n",
    "    def borrow_item(self, item):\n",
    "        pass\n",
    "\n",
    "class Book(LibrarySystem):\n",
    "    def __init__(self, title, author):\n",
    "        super().__init__(name=\"Book Library\")\n",
    "        self.title = title\n",
    "        self.author = author\n",
    "        self.available = True\n",
    "\n",
    "    def add_item(self):\n",
    "        self.catalog[self.title] = self\n",
    "        print(f\"Added '{self.title}' by {self.author} to the library catalog.\")\n",
    "\n",
    "    def borrow_item(self):\n",
    "        if self.available:\n",
    "            self.available = False\n",
    "            print(f\"Borrowed '{self.title}' by {self.author}.\")\n",
    "        else:\n",
    "            print(f\"'{self.title}' is currently unavailable.\")\n",
    "\n",
    "class DVD(LibrarySystem):\n",
    "    def __init__(self, title, director):\n",
    "        super().__init__(name=\"DVD Library\")\n",
    "        self.title = title\n",
    "        self.director = director\n",
    "        self.available = True\n",
    "\n",
    "    def add_item(self):\n",
    "        self.catalog[self.title] = self\n",
    "        print(f\"Added '{self.title}' directed by {self.director} to the library catalog.\")\n",
    "\n",
    "    def borrow_item(self):\n",
    "        if self.available:\n",
    "            self.available = False\n",
    "            print(f\"Borrowed '{self.title}' directed by {self.director}.\")\n",
    "        else:\n",
    "            print(f\"'{self.title}' is currently unavailable.\")\n",
    "\n",
    "book1 = Book(title=\"The Great Gatsby\", author=\"F. Scott Fitzgerald\")\n",
    "book2 = Book(title=\"The Intelligent Investor\", author=\"Benjamin Graham\")\n",
    "\n",
    "dvd1 = DVD(title=\"Inception\", director=\"Christopher Nolan\")\n",
    "dvd2 = DVD(title=\"The Shawshank Redemption\", director=\"Frank Darabont\")\n",
    "\n",
    "book1.add_item()\n",
    "book2.add_item()\n",
    "dvd1.add_item()\n",
    "dvd2.add_item()\n",
    "\n",
    "book1.borrow_item()\n",
    "dvd1.borrow_item()\n",
    "book2.borrow_item()\n",
    "dvd2.borrow_item()\n"
   ]
  },
  {
   "cell_type": "code",
   "execution_count": 74,
   "id": "1b643650",
   "metadata": {},
   "outputs": [],
   "source": [
    "# 20. Describe the concept of method abstraction in Python and how it relates to\n",
    "#  polymorphism.\n"
   ]
  },
  {
   "cell_type": "raw",
   "id": "a2788487",
   "metadata": {},
   "source": [
    "method abstraction refers to the practice of defining methods in a way that emphasizes what the method does (its purpose or behavior) rather than how it achieves that functionality (its implementation details). This concept is closely related to polymorphism, which allows objects of different types to be treated as objects of a common type."
   ]
  },
  {
   "cell_type": "markdown",
   "id": "371f8a90",
   "metadata": {},
   "source": [
    "# Composition "
   ]
  },
  {
   "cell_type": "code",
   "execution_count": 75,
   "id": "d00687fd",
   "metadata": {},
   "outputs": [],
   "source": [
    "# 1. Explain the concept of composition in Python and how it is used to build complex\n",
    "#  objects from simpler ones. "
   ]
  },
  {
   "cell_type": "raw",
   "id": "566a1788",
   "metadata": {},
   "source": [
    "In Python, composition is a design principle that allows you to build complex objects by combining simpler ones. It is a way to create relationships between classes without the need for those classes to inherit directly from each other. Composition promotes code reuse, flexibility, and maintainability by emphasizing the assembly of objects rather than relying on class inheritance."
   ]
  },
  {
   "cell_type": "code",
   "execution_count": 76,
   "id": "6552d667",
   "metadata": {},
   "outputs": [],
   "source": [
    "# 2. Describe the difference between composition and inheritance in object-oriented\n",
    "#  programming."
   ]
  },
  {
   "cell_type": "raw",
   "id": "7762d2fb",
   "metadata": {},
   "source": [
    "In inheritance the subclass inherits the properties of its parent class, while in composition any class can have a relationship from another class by just creating its instance as attributes inside it and then use the other class attributes and methods.\n",
    "\n",
    "Composition:\n",
    "\n",
    "\"Has-A\" Relationship:\n",
    "\n",
    "Definition: Composition creates a \"has-a\" relationship between classes.\n",
    "Usage: It involves combining instances of existing classes as attributes within a new class.\n",
    "Example: A Car class having instances of Engine and Wheels as attributes.\n",
    "\n",
    "Flexibility:\n",
    "\n",
    "Advantage: Offers greater flexibility. Components can be easily replaced or added without modifying the existing code.\n",
    "Consideration: Code tends to be more modular and adaptable to change.\n",
    "\n",
    "Code Reusability:\n",
    "\n",
    "Advantage: Promotes code reusability as individual components can be reused in different contexts.\n",
    "Consideration: Components are encapsulated, reducing dependencies between classes.\n",
    "\n",
    "Avoiding Deep Hierarchies:\n",
    "\n",
    "Advantage: Helps avoid deep class hierarchies, which can be challenging to manage and understand.\n",
    "Consideration: Classes are related by how they are composed, not by a shared hierarchy.\n",
    "\n",
    "\n",
    "Inheritance:\n",
    "\n",
    "\"Is-A\" Relationship:\n",
    "\n",
    "Definition: Inheritance creates an \"is-a\" relationship between classes.\n",
    "Usage: It involves deriving a new class from an existing class, inheriting its attributes and behaviors.\n",
    "Example: A Bird class inheriting from an Animal class.\n",
    "\n",
    "Code Reusability:\n",
    "\n",
    "Advantage: Promotes code reusability by inheriting attributes and behaviors from a base class.\n",
    "Consideration: Changes in the base class can affect all derived classes.\n",
    "\n",
    "Polymorphism:\n",
    "\n",
    "Advantage: Supports polymorphism, where objects of derived classes can be treated as objects of the base class.\n",
    "Consideration: Requires careful design to avoid issues such as the diamond problem in multiple inheritance scenarios.\n",
    "\n",
    "Hierarchical Structure:\n",
    "\n",
    "Advantage: Establishes a hierarchical structure, providing a clear organization of classes.\n",
    "Consideration: Deep hierarchies can lead to a lack of flexibility and maintenance challenges.\n",
    "\n",
    "\n",
    "Composition:\n",
    "\n",
    "Use composition when you want flexibility and modularity.\n",
    "Prefer composition over inheritance to avoid issues like the diamond problem.\n",
    "Suitable for scenarios where objects have a \"has-a\" relationship rather than an \"is-a\" relationship.\n",
    "\n",
    "Inheritance:\n",
    "\n",
    "Use inheritance when there is a clear \"is-a\" relationship between classes.\n",
    "Suitable for scenarios where code reuse is essential and a shared interface or behavior is meaningful.\n",
    "Be cautious with deep class hierarchies to prevent complexity and maintenance challenges."
   ]
  },
  {
   "cell_type": "code",
   "execution_count": 77,
   "id": "72106a94",
   "metadata": {},
   "outputs": [],
   "source": [
    "# 3. Create a Python class called `Author` with attributes for name and birthdate. Then,\n",
    "#  create a `Book` class that contains an instance of `Author` as a composition. Provide an\n",
    "#  example of creating a `Book` object.\n"
   ]
  },
  {
   "cell_type": "code",
   "execution_count": 78,
   "id": "3f9ae5a9",
   "metadata": {},
   "outputs": [
    {
     "name": "stdout",
     "output_type": "stream",
     "text": [
      "Author name is Benjamin Graham and his birth date is 1992\n"
     ]
    }
   ],
   "source": [
    "class Author:\n",
    "    def __init__(self,name,birth_date):\n",
    "        self.name = name\n",
    "        self.birth_date = birth_date\n",
    "        \n",
    "    def display_author(self):\n",
    "        print(f\"Author name is {self.name} and his birth date is {self.birth_date}\")\n",
    "        \n",
    "class Book:\n",
    "    def __init__(self,name,birth_date):\n",
    "        self.author = Author(name,birth_date)\n",
    "        \n",
    "    def display_book(self):\n",
    "        return self.author.display_author()\n",
    "    \n",
    "book = Book(\"Benjamin Graham\",\"1992\")\n",
    "book.display_book()"
   ]
  },
  {
   "cell_type": "code",
   "execution_count": 79,
   "id": "d8733a7f",
   "metadata": {},
   "outputs": [],
   "source": [
    "# 4. Discuss the benefits of using composition over inheritance in Python, especially in\n",
    "#  terms of code flexibility and reusability.\n"
   ]
  },
  {
   "cell_type": "raw",
   "id": "1aaaed10",
   "metadata": {},
   "source": [
    "Benefits of Composition\n",
    "\n",
    "Flexibility:\n",
    "\n",
    "Advantage: Offers greater flexibility. Components can be easily replaced or added without modifying the existing code.\n",
    "Code tends to be more modular and adaptable to change.\n",
    "\n",
    "Benefits of Inheritance:\n",
    "Code Reusability\n",
    "Advantage: Promotes code reusability by inheriting attributes and behaviors from a base class.\n",
    "Changes in the base class can affect all derived classes."
   ]
  },
  {
   "cell_type": "code",
   "execution_count": 80,
   "id": "c58f084b",
   "metadata": {},
   "outputs": [],
   "source": [
    "# 5. How can you implement composition in Python classes? Provide examples of using\n",
    "#  composition to create complex objects.\n"
   ]
  },
  {
   "cell_type": "raw",
   "id": "70777411",
   "metadata": {},
   "source": [
    "We can implement compisition in python by instantiating the other class in the new class."
   ]
  },
  {
   "cell_type": "code",
   "execution_count": 81,
   "id": "11522183",
   "metadata": {},
   "outputs": [
    {
     "name": "stdout",
     "output_type": "stream",
     "text": [
      "Engine has started\n",
      "Wheels started to roll\n"
     ]
    }
   ],
   "source": [
    "class Engine:\n",
    "    def start(self):\n",
    "        print(\"Engine has started\")\n",
    "        \n",
    "class Wheels:\n",
    "    def roll(self):\n",
    "        print(\"Wheels started to roll\")\n",
    "        \n",
    "class Car:\n",
    "    def __init__(self):\n",
    "        self.engine = Engine()\n",
    "        self.wheels = Wheels()\n",
    "        \n",
    "    def display(self):\n",
    "        self.engine.start()\n",
    "        self.wheels.roll()\n",
    "        \n",
    "car = Car()\n",
    "car.display()\n",
    "    "
   ]
  },
  {
   "cell_type": "code",
   "execution_count": 82,
   "id": "88a0fc27",
   "metadata": {},
   "outputs": [],
   "source": [
    "# 6. Create a Python class hierarchy for a music player system, using composition to\n",
    "#  represent playlists and songs."
   ]
  },
  {
   "cell_type": "code",
   "execution_count": 83,
   "id": "1f2eaff7",
   "metadata": {},
   "outputs": [
    {
     "name": "stdout",
     "output_type": "stream",
     "text": [
      "My Favourite Playlist is owned by Srinivas\n",
      "What a woderful world is composed by Louis Armstrong\n"
     ]
    }
   ],
   "source": [
    "class Playlists:\n",
    "    def __init__(self,playlist_name,playlist_owner):\n",
    "        self.playlist_name = playlist_name\n",
    "        self.playlist_owner = playlist_owner\n",
    "        \n",
    "    def display_playlists(self):\n",
    "        print(f\"{self.playlist_name} is owned by {self.playlist_owner}\")\n",
    "        \n",
    "class Songs:\n",
    "    def __init__(self,song_name,song_composer):\n",
    "        self.song_name = song_name\n",
    "        self.song_composer = song_composer\n",
    "        \n",
    "    def display_song(self):\n",
    "        print(f\"{self.song_name} is composed by {self.song_composer}\")\n",
    "        \n",
    "class MusicPlayer:\n",
    "    def __init__(self,playlist_name,playlist_owner,song_name,song_composer):\n",
    "        self.playlists = Playlists(playlist_name,playlist_owner)\n",
    "        self.songs = Songs(song_name,song_composer)\n",
    "        \n",
    "    def display_music_player(self):\n",
    "        self.playlists.display_playlists()\n",
    "        self.songs.display_song()\n",
    "        \n",
    "        \n",
    "music_player = MusicPlayer(\"My Favourite Playlist\",\"Srinivas\",\"What a woderful world\",\"Louis Armstrong\")\n",
    "\n",
    "music_player.display_music_player()"
   ]
  },
  {
   "cell_type": "code",
   "execution_count": 84,
   "id": "de7f9bea",
   "metadata": {},
   "outputs": [],
   "source": [
    "# 7. Explain the concept of \"has-a\" relationships in composition and how it helps design\n",
    "#  software systems."
   ]
  },
  {
   "cell_type": "raw",
   "id": "03784fe3",
   "metadata": {},
   "source": [
    "A \"has-a\" relationship is a type of association between classes that is established through composition. It indicates that one class contains an instance of another class as a part of its internal structure.\n",
    "\n",
    "Advantages in Software Design:\n",
    "\n",
    "Composition as \"Has-A\" Relationship:\n",
    "\n",
    "In composition, a class is said to have another class as a component or part of its structure.\n",
    "It is a way of combining simple classes to create more complex classes, emphasizing the assembly of objects rather than inheritance.\n",
    "\n",
    "Flexibility and Modularity:\n",
    "\n",
    "\"Has-A\" relationships provide flexibility in designing software systems.\n",
    "Components can be easily replaced, added, or modified without affecting the overall structure of the system.\n",
    "\n",
    "Code Reusability:\n",
    "\n",
    "Encapsulated components can be reused in different contexts, promoting code reusability.\n",
    "This makes it easier to maintain and update individual components without impacting the entire system.\n",
    "\n",
    "Clear Separation of Concerns:\n",
    "\n",
    "Each class in a composition is responsible for a specific aspect or functionality.\n",
    "This clear separation of concerns makes the codebase more modular and understandable.\n",
    "\n",
    "Avoidance of Deep Hierarchies:\n",
    "\n",
    "Unlike inheritance, which establishes an \"is-a\" relationship and can lead to deep class hierarchies, composition avoids this issue.\n",
    "Components are related by how they are composed, and the hierarchy is typically flatter and more straightforward.\n",
    "\n",
    "Support for Design Patterns:\n",
    "\n",
    "\"Has-A\" relationships are fundamental to various design patterns, such as the Composite Pattern, where objects are composed into tree structures to represent part-whole hierarchies."
   ]
  },
  {
   "cell_type": "code",
   "execution_count": 85,
   "id": "74c0918a",
   "metadata": {},
   "outputs": [],
   "source": [
    "# 8. Create a Python class for a computer system, using composition to represent\n",
    "# components like CPU, RAM, and storage devices."
   ]
  },
  {
   "cell_type": "code",
   "execution_count": 86,
   "id": "9d9e14a7",
   "metadata": {},
   "outputs": [
    {
     "name": "stdout",
     "output_type": "stream",
     "text": [
      "RAM has a memory size of 31 GB\n",
      "CPU has a intel i9 processor\n",
      "SSD has a storage capacity of 1TB\n"
     ]
    }
   ],
   "source": [
    "class CPU:\n",
    "    def processor(self):\n",
    "        print(\"CPU has a intel i9 processor\")\n",
    "    \n",
    "class RAM:\n",
    "    def memory(self):\n",
    "        print(\"RAM has a memory size of 31 GB\")\n",
    "    \n",
    "    \n",
    "class Storage:\n",
    "    def size(self):\n",
    "        print(\"SSD has a storage capacity of 1TB\")\n",
    "        \n",
    "        \n",
    "class Computer:\n",
    "    def __init__(self):\n",
    "        self.ram = RAM()\n",
    "        self.cpu = CPU()\n",
    "        self.storage = Storage()\n",
    "        \n",
    "    def display(self):\n",
    "        self.ram.memory()\n",
    "        self.cpu.processor()\n",
    "        self.storage.size()\n",
    "        \n",
    "        \n",
    "computer = Computer()\n",
    "computer.display()"
   ]
  },
  {
   "cell_type": "code",
   "execution_count": 87,
   "id": "4f526f4a",
   "metadata": {},
   "outputs": [],
   "source": [
    "# 9. Describe the concept of \"delegation\" in composition and how it simplifies the design\n",
    "# of complex systems."
   ]
  },
  {
   "cell_type": "raw",
   "id": "32fedf4e",
   "metadata": {},
   "source": [
    "Delegation in composition is a design concept where one class passes the responsibility for a certain behavior or operation to another class. It is a form of object composition that allows objects to work together by forwarding or delegating tasks to other objects. Delegation is a powerful mechanism for achieving code reuse, modularity, and maintaining a clear separation of concerns in complex systems.\n",
    "\n",
    "It simplifies the design of complex systems by:\n",
    "\n",
    "Clear Separation of Concerns:\n",
    "\n",
    "Delegation helps in achieving a clear separation of concerns by assigning specific responsibilities to different classes.\n",
    "Each class is focused on a particular aspect of functionality, making the code more modular and easier to understand.\n",
    "\n",
    "Flexibility and Extensibility:\n",
    "\n",
    "Delegation enhances flexibility, as the behavior of an object can be easily modified by changing the delegate object.\n",
    "It facilitates extensibility, allowing new functionality to be added without modifying the existing code.\n",
    "\n",
    "Code Reusability:\n",
    "\n",
    "Delegation promotes code reusability by enabling the reuse of existing classes in different contexts.\n",
    "The delegating class can be reused with different delegate classes, providing a way to adapt and extend functionality.\n",
    "\n",
    "Dynamic Behavior:\n",
    "\n",
    "Delegation allows for dynamic behavior, as the delegate can be changed or replaced at runtime.\n",
    "This dynamic nature is particularly beneficial in scenarios where the behavior of an object needs to be altered based on runtime conditions."
   ]
  },
  {
   "cell_type": "code",
   "execution_count": 88,
   "id": "63dd014b",
   "metadata": {},
   "outputs": [],
   "source": [
    "# 10. Create a Python class for a car, using composition to represent components like the\n",
    "# engine, wheels, and transmission."
   ]
  },
  {
   "cell_type": "code",
   "execution_count": 89,
   "id": "b6749280",
   "metadata": {},
   "outputs": [
    {
     "name": "stdout",
     "output_type": "stream",
     "text": [
      "Engine has started\n",
      "Wheels started to roll\n",
      "It has a Automatic Transmission with peddle shifters\n"
     ]
    }
   ],
   "source": [
    "# Using Delegation\n",
    "\n",
    "class Engine:\n",
    "    def start(self):\n",
    "        print(\"Engine has started\")\n",
    "        \n",
    "class Wheels:\n",
    "    def roll(self):\n",
    "        print(\"Wheels started to roll\")\n",
    "        \n",
    "class Transmission:\n",
    "    def transmission_type(self,mode_type):\n",
    "        print(f\"It has a {mode_type} Transmission with peddle shifters\")\n",
    "        \n",
    "class Car:\n",
    "    def __init__(self,engine,wheels,transmission):\n",
    "        self.engine = engine\n",
    "        self.wheels = wheels\n",
    "        self.transmission = transmission\n",
    "        \n",
    "    def display(self,mode):\n",
    "        self.engine.start()\n",
    "        self.wheels.roll()\n",
    "        self.transmission.transmission_type(mode)\n",
    "\n",
    "        \n",
    "engine_obj = Engine()\n",
    "wheels_obj = Wheels()\n",
    "transmission_obj = Transmission()\n",
    "car = Car(engine_obj,wheels_obj,transmission_obj)\n",
    "car.display(\"Automatic\")\n",
    "    \n"
   ]
  },
  {
   "cell_type": "code",
   "execution_count": 90,
   "id": "465319b7",
   "metadata": {},
   "outputs": [],
   "source": [
    "# 11. How can you encapsulate and hide the details of composed objects in Python\n",
    "# classes to maintain abstraction?"
   ]
  },
  {
   "cell_type": "raw",
   "id": "cfbc2443",
   "metadata": {},
   "source": [
    "Techniques to maintain abstraction of coposed objects in class:\n",
    "1. Private Attributes and Methods\n",
    "2. Properties and Getters/Setters\n",
    "3. Methods as Abstraction.\n"
   ]
  },
  {
   "cell_type": "code",
   "execution_count": 91,
   "id": "c8ddce81",
   "metadata": {},
   "outputs": [],
   "source": [
    "# 12. Create a Python class for a university course, using composition to represent\n",
    "# students, instructors, and course materials."
   ]
  },
  {
   "cell_type": "code",
   "execution_count": 92,
   "id": "c8c9ca63",
   "metadata": {},
   "outputs": [
    {
     "name": "stdout",
     "output_type": "stream",
     "text": [
      "Course Code: CS103\n",
      "Course Name: Computer Networks\n",
      "Instructor: Instructor 101: Sheetal Bisth\n",
      "Students:\n",
      "  - Student 1: Srinivas\n",
      "  - Student 2: Padhy\n",
      "Course Material: Course Material: Network Design\n"
     ]
    }
   ],
   "source": [
    "class Student:\n",
    "    def __init__(self, student_id, name):\n",
    "        self.student_id = student_id\n",
    "        self.name = name\n",
    "\n",
    "    def __str__(self):\n",
    "        return f\"Student {self.student_id}: {self.name}\"\n",
    "\n",
    "class Instructor:\n",
    "    def __init__(self, instructor_id, name):\n",
    "        self.instructor_id = instructor_id\n",
    "        self.name = name\n",
    "\n",
    "    def __str__(self):\n",
    "        return f\"Instructor {self.instructor_id}: {self.name}\"\n",
    "\n",
    "class CourseMaterial:\n",
    "    def __init__(self, title, content):\n",
    "        self.title = title\n",
    "        self.content = content\n",
    "\n",
    "    def __str__(self):\n",
    "        return f\"Course Material: {self.title}\"\n",
    "\n",
    "class UniversityCourse:\n",
    "    def __init__(self, course_code, course_name, instructor, course_material):\n",
    "        self.course_code = course_code\n",
    "        self.course_name = course_name\n",
    "        self.instructor = instructor\n",
    "        self.course_material = course_material\n",
    "        self.students = []\n",
    "\n",
    "    def add_student(self, student):\n",
    "        self.students.append(student)\n",
    "\n",
    "    def display_course_info(self):\n",
    "        print(f\"Course Code: {self.course_code}\")\n",
    "        print(f\"Course Name: {self.course_name}\")\n",
    "        print(f\"Instructor: {self.instructor}\")\n",
    "        print(\"Students:\")\n",
    "        for student in self.students:\n",
    "            print(f\"  - {student}\")\n",
    "        print(f\"Course Material: {self.course_material}\")\n",
    "\n",
    "\n",
    "student1 = Student(1, \"Srinivas\")\n",
    "student2 = Student(2, \"Padhy\")\n",
    "\n",
    "instructor = Instructor(101, \"Sheetal Bisth\")\n",
    "\n",
    "material = CourseMaterial(\"Network Design\", \"Networking\")\n",
    "\n",
    "python_course = UniversityCourse(\"CS103\", \"Computer Networks\", instructor, material)\n",
    "python_course.add_student(student1)\n",
    "python_course.add_student(student2)\n",
    "\n",
    "python_course.display_course_info()\n"
   ]
  },
  {
   "cell_type": "code",
   "execution_count": 93,
   "id": "8071b2b6",
   "metadata": {},
   "outputs": [],
   "source": [
    "# 13. Discuss the challenges and drawbacks of composition, such as increased\n",
    "# complexity and potential for tight coupling between objects."
   ]
  },
  {
   "cell_type": "raw",
   "id": "c037c96e",
   "metadata": {},
   "source": [
    "Increased Complexity:\n",
    "\n",
    "As the number of composed objects increases, the complexity of managing relationships and interactions between them may grow.\n",
    "Understanding the overall structure of a system with many composed objects can become challenging, especially for large codebases.\n",
    "\n",
    "Potential for Tight Coupling:\n",
    "\n",
    "If not carefully managed, composition can lead to tight coupling between classes, meaning that changes in one class may impact others.\n",
    "Changes to the internal structure of a composed class might require corresponding changes in the classes that use it."
   ]
  },
  {
   "cell_type": "code",
   "execution_count": 94,
   "id": "7ff1735f",
   "metadata": {},
   "outputs": [],
   "source": [
    "# 14. Create a Python class hierarchy for a restaurant system, using composition to\n",
    "# represent menus, dishes, and ingredients."
   ]
  },
  {
   "cell_type": "code",
   "execution_count": 95,
   "id": "dcb7edea",
   "metadata": {},
   "outputs": [
    {
     "name": "stdout",
     "output_type": "stream",
     "text": [
      "Welcome to Italian Delight!\n",
      "Available Menus:\n",
      "Menu: Lunch Menu\n",
      "Dishes:\n",
      "Margarita Pizza - Classic pizza with tomato and cheese\n",
      "Ingredients:\n",
      "2 pieces of Tomato, 150 grams of Cheese, Spaghetti Pomodoro - Spaghetti with fresh tomato sauce\n",
      "Ingredients:\n",
      "200 grams of Pasta, 2 pieces of Tomato\n"
     ]
    }
   ],
   "source": [
    "class Ingredient:\n",
    "    def __init__(self, name, quantity, unit):\n",
    "        self.name = name\n",
    "        self.quantity = quantity\n",
    "        self.unit = unit\n",
    "\n",
    "    def __str__(self):\n",
    "        return f\"{self.quantity} {self.unit} of {self.name}\"\n",
    "\n",
    "class Dish:\n",
    "    def __init__(self, name, description, ingredients):\n",
    "        self.name = name\n",
    "        self.description = description\n",
    "        self.ingredients = ingredients\n",
    "\n",
    "    def __str__(self):\n",
    "        return f\"{self.name} - {self.description}\\nIngredients:\\n{', '.join(str(ingredient) for ingredient in self.ingredients)}\"\n",
    "\n",
    "class Menu:\n",
    "    def __init__(self, name, dishes):\n",
    "        self.name = name\n",
    "        self.dishes = dishes\n",
    "\n",
    "    def __str__(self):\n",
    "        return f\"Menu: {self.name}\\nDishes:\\n{', '.join(str(dish) for dish in self.dishes)}\"\n",
    "\n",
    "class Restaurant:\n",
    "    def __init__(self, name, menus):\n",
    "        self.name = name\n",
    "        self.menus = menus\n",
    "\n",
    "    def display_menu(self):\n",
    "        print(f\"Welcome to {self.name}!\")\n",
    "        print(\"Available Menus:\")\n",
    "        for menu in self.menus:\n",
    "            print(menu)\n",
    "\n",
    "\n",
    "tomato = Ingredient(\"Tomato\", 2, \"pieces\")\n",
    "cheese = Ingredient(\"Cheese\", 150, \"grams\")\n",
    "pasta = Ingredient(\"Pasta\", 200, \"grams\")\n",
    "\n",
    "margarita_pizza = Dish(\"Margarita Pizza\", \"Classic pizza with tomato and cheese\", [tomato, cheese])\n",
    "spaghetti_pomodoro = Dish(\"Spaghetti Pomodoro\", \"Spaghetti with fresh tomato sauce\", [pasta, tomato])\n",
    "\n",
    "lunch_menu = Menu(\"Lunch Menu\", [margarita_pizza, spaghetti_pomodoro])\n",
    "\n",
    "my_restaurant = Restaurant(\"Italian Delight\", [lunch_menu])\n",
    "\n",
    "my_restaurant.display_menu()\n"
   ]
  },
  {
   "cell_type": "code",
   "execution_count": null,
   "id": "ffc7df27",
   "metadata": {},
   "outputs": [],
   "source": []
  },
  {
   "cell_type": "code",
   "execution_count": 96,
   "id": "cb3c829a",
   "metadata": {},
   "outputs": [],
   "source": [
    "# 15. Explain how composition enhances code maintainability and modularity in Python\n",
    "# programs."
   ]
  },
  {
   "cell_type": "raw",
   "id": "63e20d10",
   "metadata": {},
   "source": [
    "1. Modularity:\n",
    "\n",
    "Component Reusability: Composition allows for the creation of modular and reusable components. Each class represents a single, well-defined responsibility or functionality.\n",
    "\n",
    "Clear Separation of Concerns: Each class focuses on a specific aspect of the system, leading to a clear separation of concerns. This makes it easier to understand, maintain, and extend the codebase.\n",
    "\n",
    "Independent Development: Components can be developed and tested independently. This isolation allows developers to work on different parts of the system without affecting other components.\n",
    "\n",
    "Easier Collaboration: In team environments, modularity facilitates collaboration. Different team members can work on different components, and changes in one component are less likely to impact others.\n",
    "\n",
    "2. Maintainability:\n",
    "\n",
    "Code Isolation: Composition isolates the implementation details of each component. Changes within one component do not require changes in other components, as long as the interfaces remain consistent.\n",
    "\n",
    "Flexibility to Change: Since components are loosely coupled, modifications or updates to one component can be made without affecting the entire system. This flexibility is crucial when adapting to changing requirements.\n",
    "\n",
    "Enhanced Debugging and Testing: With well-defined and isolated components, debugging becomes more straightforward. Unit testing can be performed on individual components, ensuring that modifications do not introduce unexpected issues.\n",
    "\n",
    "Encapsulation of Complexity: Components encapsulate their complexity, exposing only the necessary interfaces to the rest of the system. This encapsulation makes the overall system more manageable."
   ]
  },
  {
   "cell_type": "code",
   "execution_count": 97,
   "id": "efe75b07",
   "metadata": {},
   "outputs": [],
   "source": [
    "# 16. Create a Python class for a computer game character, using composition to\n",
    "# represent attributes like weapons, armor, and inventory."
   ]
  },
  {
   "cell_type": "code",
   "execution_count": 98,
   "id": "f3de66ce",
   "metadata": {},
   "outputs": [
    {
     "name": "stdout",
     "output_type": "stream",
     "text": [
      "Hero's Info:\n",
      "Health: 100\n",
      "Weapon: Weapon: Machine Gun (Damage: 20)\n",
      "Armor: Armor: Steel Shield (Defense: 10)\n",
      "Inventory:\n",
      "  - 5x Health Potion\n"
     ]
    }
   ],
   "source": [
    "class Weapon:\n",
    "    def __init__(self, name, damage):\n",
    "        self.name = name\n",
    "        self.damage = damage\n",
    "\n",
    "    def __str__(self):\n",
    "        return f\"Weapon: {self.name} (Damage: {self.damage})\"\n",
    "\n",
    "class Armor:\n",
    "    def __init__(self, name, defense):\n",
    "        self.name = name\n",
    "        self.defense = defense\n",
    "\n",
    "    def __str__(self):\n",
    "        return f\"Armor: {self.name} (Defense: {self.defense})\"\n",
    "\n",
    "class InventoryItem:\n",
    "    def __init__(self, name, quantity):\n",
    "        self.name = name\n",
    "        self.quantity = quantity\n",
    "\n",
    "    def __str__(self):\n",
    "        return f\"{self.quantity}x {self.name}\"\n",
    "\n",
    "class GameCharacter:\n",
    "    def __init__(self, name, health, weapon=None, armor=None):\n",
    "        self.name = name\n",
    "        self.health = health\n",
    "        self.weapon = weapon\n",
    "        self.armor = armor\n",
    "        self.inventory = []\n",
    "\n",
    "    def equip_weapon(self, weapon):\n",
    "        self.weapon = weapon\n",
    "\n",
    "    def equip_armor(self, armor):\n",
    "        self.armor = armor\n",
    "\n",
    "    def add_to_inventory(self, item):\n",
    "        self.inventory.append(item)\n",
    "\n",
    "    def display_character_info(self):\n",
    "        print(f\"{self.name}'s Info:\")\n",
    "        print(f\"Health: {self.health}\")\n",
    "        print(f\"Weapon: {self.weapon}\")\n",
    "        print(f\"Armor: {self.armor}\")\n",
    "        print(\"Inventory:\")\n",
    "        for item in self.inventory:\n",
    "            print(f\"  - {item}\")\n",
    "\n",
    "\n",
    "sword = Weapon(\"Machine Gun\", 20)\n",
    "shield = Armor(\"Steel Shield\", 10)\n",
    "health_potion = InventoryItem(\"Health Potion\", 5)\n",
    "\n",
    "hero = GameCharacter(\"Hero\", 100)\n",
    "\n",
    "hero.equip_weapon(sword)\n",
    "hero.equip_armor(shield)\n",
    "\n",
    "hero.add_to_inventory(health_potion)\n",
    "\n",
    "hero.display_character_info()\n"
   ]
  },
  {
   "cell_type": "code",
   "execution_count": 99,
   "id": "76591e49",
   "metadata": {},
   "outputs": [],
   "source": [
    "# 17. Describe the concept of \"aggregation\" in composition and how it differs from simple\n",
    "# composition."
   ]
  },
  {
   "cell_type": "raw",
   "id": "e187461a",
   "metadata": {},
   "source": [
    "Aggregation in composition refers to a relationship between two objects where one object contains another object, but the contained object can exist independently. It's a form of \"whole-part\" relationship, where the parts (contained objects) can have their own lifecycle and can be shared among multiple \"wholes\" (containing objects). In aggregation, the contained object is not exclusive to the containing object, and it can be part of multiple aggregates.\n",
    "\n",
    "Independence of Lifecycle:\n",
    "\n",
    "Objects involved in aggregation have independent lifecycles. The contained object can exist outside the scope of the containing object.\n",
    "\n",
    "Multiplicity:\n",
    "\n",
    "Aggregation allows for a one-to-many relationship, meaning one containing object can be associated with multiple contained objects.\n",
    "\n",
    "Shared Resources:\n",
    "\n",
    "The contained object can be shared among multiple instances of the containing object or even exist independently.\n",
    "\n",
    "Weaker Relationship:\n",
    "\n",
    "Aggregation represents a weaker form of association compared to simple composition. The contained object is not fully owned by the containing object."
   ]
  },
  {
   "cell_type": "code",
   "execution_count": 100,
   "id": "02481816",
   "metadata": {},
   "outputs": [],
   "source": [
    "# 18. Create a Python class for a house, using composition to represent rooms, furniture,\n",
    "# and appliances."
   ]
  },
  {
   "cell_type": "code",
   "execution_count": 101,
   "id": "06f0346b",
   "metadata": {},
   "outputs": [
    {
     "name": "stdout",
     "output_type": "stream",
     "text": [
      "Cottage House\n",
      "Living Room:\n",
      "  Furniture: Sofa, Table\n",
      "  Appliances: Fridge\n",
      "Kitchen:\n",
      "  Furniture: \n",
      "  Appliances: Oven\n"
     ]
    }
   ],
   "source": [
    "class Furniture:\n",
    "    def __init__(self, name):\n",
    "        self.name = name\n",
    "\n",
    "    def __str__(self):\n",
    "        return f\"{self.name}\"\n",
    "\n",
    "class Appliance:\n",
    "    def __init__(self, name):\n",
    "        self.name = name\n",
    "\n",
    "    def __str__(self):\n",
    "        return f\"{self.name}\"\n",
    "\n",
    "class Room:\n",
    "    def __init__(self, name):\n",
    "        self.name = name\n",
    "        self.furniture = []\n",
    "        self.appliances = []\n",
    "\n",
    "    def add_furniture(self, furniture):\n",
    "        self.furniture.append(furniture)\n",
    "\n",
    "    def add_appliance(self, appliance):\n",
    "        self.appliances.append(appliance)\n",
    "\n",
    "    def __str__(self):\n",
    "        furniture_str = \", \".join(str(item) for item in self.furniture)\n",
    "        appliance_str = \", \".join(str(item) for item in self.appliances)\n",
    "        return f\"{self.name}:\\n  Furniture: {furniture_str}\\n  Appliances: {appliance_str}\"\n",
    "\n",
    "class House:\n",
    "    def __init__(self, name):\n",
    "        self.name = name\n",
    "        self.rooms = []\n",
    "\n",
    "    def add_room(self, room):\n",
    "        self.rooms.append(room)\n",
    "\n",
    "    def __str__(self):\n",
    "        room_str = \"\\n\".join(str(room) for room in self.rooms)\n",
    "        return f\"{self.name} House\\n{room_str}\"\n",
    "\n",
    "\n",
    "sofa = Furniture(\"Sofa\")\n",
    "table = Furniture(\"Table\")\n",
    "fridge = Appliance(\"Fridge\")\n",
    "oven = Appliance(\"Oven\")\n",
    "\n",
    "living_room = Room(\"Living Room\")\n",
    "living_room.add_furniture(sofa)\n",
    "living_room.add_furniture(table)\n",
    "living_room.add_appliance(fridge)\n",
    "\n",
    "kitchen = Room(\"Kitchen\")\n",
    "kitchen.add_appliance(oven)\n",
    "\n",
    "my_house = House(\"Cottage\")\n",
    "my_house.add_room(living_room)\n",
    "my_house.add_room(kitchen)\n",
    "\n",
    "print(my_house)\n"
   ]
  },
  {
   "cell_type": "code",
   "execution_count": null,
   "id": "f2a26f4d",
   "metadata": {},
   "outputs": [],
   "source": []
  },
  {
   "cell_type": "code",
   "execution_count": 102,
   "id": "e2c4d1db",
   "metadata": {},
   "outputs": [],
   "source": [
    "# 19. How can you achieve flexibility in composed objects by allowing them to be\n",
    "# replaced or modified dynamically at runtime?"
   ]
  },
  {
   "cell_type": "raw",
   "id": "325420aa",
   "metadata": {},
   "source": [
    "Achieving flexibility in composed objects by allowing them to be replaced or modified dynamically at runtime involves implementing a design that supports dynamic changes to the components of an object. This flexibility is valuable when you want to adapt the behavior or structure of an object without modifying its class definition. \n",
    "\n",
    "\n",
    "Strategies to achieve the same.\n",
    "\n",
    "1. Using Interfaces or Abstract Classes\n",
    "2.Using Composition with Interface\n",
    "3.Using Function Injection\n",
    "4.Using Decorators\n",
    "5. "
   ]
  },
  {
   "cell_type": "code",
   "execution_count": 103,
   "id": "27f6ac9c",
   "metadata": {},
   "outputs": [],
   "source": [
    "# 20. Create a Python class for a social media application, using composition to represent\n",
    "# users, posts, and comments."
   ]
  },
  {
   "cell_type": "code",
   "execution_count": 104,
   "id": "f6335736",
   "metadata": {},
   "outputs": [
    {
     "name": "stdout",
     "output_type": "stream",
     "text": [
      "All Posts:\n",
      "Srinivas's Posts:\n",
      "Srinivas posted:\n",
      "Hello, everyone!\n",
      "Comments:\n",
      "  - Padhy: Hi, Srinivas! Nice post.\n",
      "Padhy's Posts:\n",
      "Padhy posted:\n",
      "Python is amazing!\n",
      "Comments:\n",
      "  - Srinivas: Totally agree, Bob!\n"
     ]
    }
   ],
   "source": [
    "class Comment:\n",
    "    def __init__(self, user, content):\n",
    "        self.user = user\n",
    "        self.content = content\n",
    "\n",
    "    def __str__(self):\n",
    "        return f\"{self.user}: {self.content}\"\n",
    "\n",
    "class Post:\n",
    "    def __init__(self, user, content):\n",
    "        self.user = user\n",
    "        self.content = content\n",
    "        self.comments = []\n",
    "\n",
    "    def add_comment(self, comment):\n",
    "        self.comments.append(comment)\n",
    "\n",
    "    def display_post(self):\n",
    "        print(f\"{self.user} posted:\\n{self.content}\")\n",
    "        print(\"Comments:\")\n",
    "        for comment in self.comments:\n",
    "            print(f\"  - {comment}\")\n",
    "\n",
    "class User:\n",
    "    def __init__(self, username):\n",
    "        self.username = username\n",
    "        self.posts = []\n",
    "\n",
    "    def create_post(self, content):\n",
    "        post = Post(self.username, content)\n",
    "        self.posts.append(post)\n",
    "        return post\n",
    "\n",
    "    def comment_on_post(self, post, content):\n",
    "        comment = Comment(self.username, content)\n",
    "        post.add_comment(comment)\n",
    "\n",
    "    def display_user_posts(self):\n",
    "        print(f\"{self.username}'s Posts:\")\n",
    "        for post in self.posts:\n",
    "            post.display_post()\n",
    "\n",
    "class SocialMediaApp:\n",
    "    def __init__(self):\n",
    "        self.users = []\n",
    "\n",
    "    def create_user(self, username):\n",
    "        user = User(username)\n",
    "        self.users.append(user)\n",
    "        return user\n",
    "\n",
    "    def display_all_posts(self):\n",
    "        print(\"All Posts:\")\n",
    "        for user in self.users:\n",
    "            user.display_user_posts()\n",
    "\n",
    "app = SocialMediaApp()\n",
    "\n",
    "user1 = app.create_user(\"Srinivas\")\n",
    "user2 = app.create_user(\"Padhy\")\n",
    "\n",
    "post1 = user1.create_post(\"Hello, everyone!\")\n",
    "user2.comment_on_post(post1, \"Hi, Srinivas! Nice post.\")\n",
    "\n",
    "post2 = user2.create_post(\"Python is amazing!\")\n",
    "user1.comment_on_post(post2, \"Totally agree, Bob!\")\n",
    "\n",
    "app.display_all_posts()"
   ]
  }
 ],
 "metadata": {
  "kernelspec": {
   "display_name": "Python 3 (ipykernel)",
   "language": "python",
   "name": "python3"
  },
  "language_info": {
   "codemirror_mode": {
    "name": "ipython",
    "version": 3
   },
   "file_extension": ".py",
   "mimetype": "text/x-python",
   "name": "python",
   "nbconvert_exporter": "python",
   "pygments_lexer": "ipython3",
   "version": "3.11.3"
  }
 },
 "nbformat": 4,
 "nbformat_minor": 5
}
